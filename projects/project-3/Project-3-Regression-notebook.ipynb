{
 "cells": [
  {
   "cell_type": "markdown",
   "metadata": {
    "deletable": true,
    "editable": true
   },
   "source": [
    "<img src=\"http://imgur.com/1ZcRyrc.png\" style=\"float: left; margin: 15px; height: 80px\">\n",
    "\n",
    "# Project 3\n",
    "\n",
    "## San Francisco Data\n",
    "\n",
    "---\n",
    "\n",
    "[San Francisco provides a wealth of data on the city to the public.](https://data.sfgov.org/) \n",
    "\n",
    "Project 3 is all about modelling exploring this data and modeling interesting relationships with regression. \n",
    "\n",
    "\n",
    "---\n",
    "\n",
    "## Notes on the data\n",
    "\n",
    "We have gone through the above website and pulled out a variety of different datasets that we think are particularly interesting. Some of the datasets are from external sources as well, but all are related to San Francisco. A high level overview of data folders is provided after the project requirements section.\n",
    "\n",
    "** Feel free to include any other datasets from the San Francisco data if you think there is relevance or if it could be useful for your analysis.**\n",
    "\n",
    "\n",
    "**The uncompressed data is a large filesize.** Even the compressed data is pretty large. The data is compressed into a .7z format which has one of the smallest filesizes available. You will likely need a 3rd party app to extract it. \n",
    "\n",
    "### Recommended Utilities for .7z\n",
    "- For OSX [Keka](http://www.kekaosx.com/en/) or [The Unarchiver](http://wakaba.c3.cx/s/apps/unarchiver.html). \n",
    "- For Windows [7-zip](http://www.7-zip.org/) is the standard. \n",
    "- For Linux try the `p7zip` utility.  `sudo apt-get install p7zip`.\n",
    "\n",
    "---\n",
    "\n",
    "## Project requirements\n",
    "\n",
    "**You will be performing 4 different sections of analysis on the San Francisco data.**\n",
    "\n",
    "**Models must be regression. This means that your target variable needs to be numeric/continuous**\n",
    "\n",
    "Do not perform classification models – this will be the topic of week 4.\n"
   ]
  },
  {
   "cell_type": "markdown",
   "metadata": {
    "deletable": true,
    "editable": true
   },
   "source": [
    "<img src=\"http://imgur.com/l5NasQj.png\" style=\"float: left; margin: 25px 15px 0px 0px; height: 25px\">\n",
    "\n",
    "### 1. Use the San Francisco assessor dataset and perform EDA\n",
    "\n",
    "---\n",
    "\n",
    "1. Explain what the data is. This may include multiple csv files. Some of this data has hard to understand codes representing the variables. Nearly all data is pulled from https://data.sfgov.org/ so this is a very good resource for determining what the data is.\n",
    "- Clean the data.\n",
    "- Develop and state clearly a hypothesis about the data that you would want to test.(This is totally upto you)\n",
    "- Create some initial visualizations on the portions of the data relevant to your hypothesis."
   ]
  },
  {
   "cell_type": "code",
   "execution_count": 1,
   "metadata": {
    "collapsed": true,
    "deletable": true,
    "editable": true
   },
   "outputs": [],
   "source": [
    "import pandas as pd\n",
    "import numpy as np\n",
    "import matplotlib.pyplot as plt\n",
    "import seaborn as sns\n",
    "%matplotlib inline\n",
    "\n"
   ]
  },
  {
   "cell_type": "code",
   "execution_count": 2,
   "metadata": {
    "collapsed": true,
    "deletable": true,
    "editable": true
   },
   "outputs": [],
   "source": [
    "dfa = pd.read_csv('/Users/Naekid/Desktop/DSI-SF-5-fork/DSI-SF-5/datasets/sf_assessor_value/assessor_value_cleaned.csv')"
   ]
  },
  {
   "cell_type": "code",
   "execution_count": 3,
   "metadata": {
    "collapsed": false,
    "deletable": true,
    "editable": true
   },
   "outputs": [
    {
     "data": {
      "text/html": [
       "<div>\n",
       "<table border=\"1\" class=\"dataframe\">\n",
       "  <thead>\n",
       "    <tr style=\"text-align: right;\">\n",
       "      <th></th>\n",
       "      <th>baths</th>\n",
       "      <th>beds</th>\n",
       "      <th>lot_depth</th>\n",
       "      <th>basement_area</th>\n",
       "      <th>front_ft</th>\n",
       "      <th>owner_pct</th>\n",
       "      <th>rooms</th>\n",
       "      <th>property_class</th>\n",
       "      <th>neighborhood</th>\n",
       "      <th>tax_rate</th>\n",
       "      <th>volume</th>\n",
       "      <th>sqft</th>\n",
       "      <th>stories</th>\n",
       "      <th>year_recorded</th>\n",
       "      <th>year_built</th>\n",
       "      <th>zone</th>\n",
       "      <th>value</th>\n",
       "    </tr>\n",
       "  </thead>\n",
       "  <tbody>\n",
       "    <tr>\n",
       "      <th>0</th>\n",
       "      <td>2</td>\n",
       "      <td>2</td>\n",
       "      <td>0.0</td>\n",
       "      <td>0.0</td>\n",
       "      <td>0.0</td>\n",
       "      <td>1.00000</td>\n",
       "      <td>5</td>\n",
       "      <td>Z</td>\n",
       "      <td>08E</td>\n",
       "      <td>1000.0</td>\n",
       "      <td>1</td>\n",
       "      <td>1419</td>\n",
       "      <td>0</td>\n",
       "      <td>2007</td>\n",
       "      <td>1907</td>\n",
       "      <td>RH3</td>\n",
       "      <td>1002840.0</td>\n",
       "    </tr>\n",
       "    <tr>\n",
       "      <th>1</th>\n",
       "      <td>2</td>\n",
       "      <td>2</td>\n",
       "      <td>0.0</td>\n",
       "      <td>0.0</td>\n",
       "      <td>0.0</td>\n",
       "      <td>1.00000</td>\n",
       "      <td>7</td>\n",
       "      <td>Z</td>\n",
       "      <td>08E</td>\n",
       "      <td>1000.0</td>\n",
       "      <td>1</td>\n",
       "      <td>1773</td>\n",
       "      <td>0</td>\n",
       "      <td>2007</td>\n",
       "      <td>1907</td>\n",
       "      <td>RH3</td>\n",
       "      <td>1433430.0</td>\n",
       "    </tr>\n",
       "    <tr>\n",
       "      <th>2</th>\n",
       "      <td>2</td>\n",
       "      <td>2</td>\n",
       "      <td>0.0</td>\n",
       "      <td>0.0</td>\n",
       "      <td>0.0</td>\n",
       "      <td>1.00000</td>\n",
       "      <td>5</td>\n",
       "      <td>Z</td>\n",
       "      <td>08E</td>\n",
       "      <td>1000.0</td>\n",
       "      <td>1</td>\n",
       "      <td>1242</td>\n",
       "      <td>0</td>\n",
       "      <td>2007</td>\n",
       "      <td>1995</td>\n",
       "      <td>C2</td>\n",
       "      <td>485599.0</td>\n",
       "    </tr>\n",
       "    <tr>\n",
       "      <th>3</th>\n",
       "      <td>1</td>\n",
       "      <td>0</td>\n",
       "      <td>0.0</td>\n",
       "      <td>0.0</td>\n",
       "      <td>0.0</td>\n",
       "      <td>0.33333</td>\n",
       "      <td>6</td>\n",
       "      <td>D</td>\n",
       "      <td>08E</td>\n",
       "      <td>1000.0</td>\n",
       "      <td>1</td>\n",
       "      <td>1820</td>\n",
       "      <td>1</td>\n",
       "      <td>2007</td>\n",
       "      <td>1927</td>\n",
       "      <td>RH3</td>\n",
       "      <td>120826.0</td>\n",
       "    </tr>\n",
       "    <tr>\n",
       "      <th>4</th>\n",
       "      <td>1</td>\n",
       "      <td>0</td>\n",
       "      <td>0.0</td>\n",
       "      <td>0.0</td>\n",
       "      <td>0.0</td>\n",
       "      <td>1.00000</td>\n",
       "      <td>4</td>\n",
       "      <td>D</td>\n",
       "      <td>08E</td>\n",
       "      <td>1000.0</td>\n",
       "      <td>1</td>\n",
       "      <td>1020</td>\n",
       "      <td>1</td>\n",
       "      <td>2007</td>\n",
       "      <td>1926</td>\n",
       "      <td>RH3</td>\n",
       "      <td>988380.0</td>\n",
       "    </tr>\n",
       "  </tbody>\n",
       "</table>\n",
       "</div>"
      ],
      "text/plain": [
       "   baths  beds  lot_depth  basement_area  front_ft  owner_pct  rooms  \\\n",
       "0      2     2        0.0            0.0       0.0    1.00000      5   \n",
       "1      2     2        0.0            0.0       0.0    1.00000      7   \n",
       "2      2     2        0.0            0.0       0.0    1.00000      5   \n",
       "3      1     0        0.0            0.0       0.0    0.33333      6   \n",
       "4      1     0        0.0            0.0       0.0    1.00000      4   \n",
       "\n",
       "  property_class neighborhood  tax_rate  volume  sqft  stories  year_recorded  \\\n",
       "0              Z          08E    1000.0       1  1419        0           2007   \n",
       "1              Z          08E    1000.0       1  1773        0           2007   \n",
       "2              Z          08E    1000.0       1  1242        0           2007   \n",
       "3              D          08E    1000.0       1  1820        1           2007   \n",
       "4              D          08E    1000.0       1  1020        1           2007   \n",
       "\n",
       "   year_built zone      value  \n",
       "0        1907  RH3  1002840.0  \n",
       "1        1907  RH3  1433430.0  \n",
       "2        1995   C2   485599.0  \n",
       "3        1927  RH3   120826.0  \n",
       "4        1926  RH3   988380.0  "
      ]
     },
     "execution_count": 3,
     "metadata": {},
     "output_type": "execute_result"
    }
   ],
   "source": [
    "dfa.head(5)"
   ]
  },
  {
   "cell_type": "code",
   "execution_count": 4,
   "metadata": {
    "collapsed": false,
    "deletable": true,
    "editable": true
   },
   "outputs": [
    {
     "data": {
      "text/plain": [
       "(754147, 17)"
      ]
     },
     "execution_count": 4,
     "metadata": {},
     "output_type": "execute_result"
    }
   ],
   "source": [
    "dfa.shape"
   ]
  },
  {
   "cell_type": "code",
   "execution_count": 5,
   "metadata": {
    "collapsed": false,
    "deletable": true,
    "editable": true,
    "scrolled": true
   },
   "outputs": [
    {
     "data": {
      "text/plain": [
       "D      627017\n",
       "Z      120853\n",
       "LZ       3402\n",
       "ZBM      1479\n",
       "TH        929\n",
       "DBM       467\n",
       "Name: property_class, dtype: int64"
      ]
     },
     "execution_count": 5,
     "metadata": {},
     "output_type": "execute_result"
    }
   ],
   "source": [
    "dfa.property_class.value_counts()"
   ]
  },
  {
   "cell_type": "code",
   "execution_count": 6,
   "metadata": {
    "collapsed": false,
    "deletable": true,
    "editable": true
   },
   "outputs": [
    {
     "data": {
      "text/plain": [
       "0.00     753807\n",
       "25.00       232\n",
       "50.00        32\n",
       "27.00        14\n",
       "28.00         8\n",
       "26.00         8\n",
       "15.99         8\n",
       "43.00         8\n",
       "31.73         8\n",
       "40.00         8\n",
       "34.00         8\n",
       "33.33         5\n",
       "25.13         1\n",
       "Name: front_ft, dtype: int64"
      ]
     },
     "execution_count": 6,
     "metadata": {},
     "output_type": "execute_result"
    }
   ],
   "source": [
    "dfa.front_ft.value_counts()"
   ]
  },
  {
   "cell_type": "code",
   "execution_count": 7,
   "metadata": {
    "collapsed": false,
    "deletable": true,
    "editable": true
   },
   "outputs": [
    {
     "data": {
      "text/plain": [
       "44    25375\n",
       "43    14375\n",
       "42    29373\n",
       "41    20623\n",
       "40    20686\n",
       "39    11146\n",
       "38    30449\n",
       "37    22109\n",
       "36    23426\n",
       "35    26861\n",
       "34    15258\n",
       "33    14250\n",
       "32    20278\n",
       "31     5971\n",
       "30     9152\n",
       "29     8537\n",
       "28     2982\n",
       "27     9272\n",
       "26     3483\n",
       "25     9498\n",
       "24     6288\n",
       "23     6163\n",
       "22    27844\n",
       "21    24745\n",
       "20    20773\n",
       "19    25166\n",
       "18    26931\n",
       "17    31453\n",
       "16    32122\n",
       "15    31714\n",
       "14    29999\n",
       "13    20061\n",
       "12    25689\n",
       "11    18179\n",
       "10    10140\n",
       "9      8137\n",
       "8      9379\n",
       "7      9623\n",
       "6      7832\n",
       "5     22016\n",
       "4     11133\n",
       "3      6336\n",
       "2      9184\n",
       "1     10136\n",
       "Name: volume, dtype: int64"
      ]
     },
     "execution_count": 7,
     "metadata": {},
     "output_type": "execute_result"
    }
   ],
   "source": [
    "dfa['volume'].value_counts().sort_index(ascending=False)"
   ]
  },
  {
   "cell_type": "code",
   "execution_count": 8,
   "metadata": {
    "collapsed": false,
    "deletable": true,
    "editable": true
   },
   "outputs": [
    {
     "data": {
      "text/html": [
       "<div>\n",
       "<table border=\"1\" class=\"dataframe\">\n",
       "  <thead>\n",
       "    <tr style=\"text-align: right;\">\n",
       "      <th></th>\n",
       "      <th>baths</th>\n",
       "      <th>beds</th>\n",
       "      <th>lot_depth</th>\n",
       "      <th>basement_area</th>\n",
       "      <th>front_ft</th>\n",
       "      <th>owner_pct</th>\n",
       "      <th>rooms</th>\n",
       "      <th>tax_rate</th>\n",
       "      <th>volume</th>\n",
       "      <th>sqft</th>\n",
       "      <th>stories</th>\n",
       "      <th>year_recorded</th>\n",
       "      <th>year_built</th>\n",
       "      <th>value</th>\n",
       "    </tr>\n",
       "  </thead>\n",
       "  <tbody>\n",
       "    <tr>\n",
       "      <th>count</th>\n",
       "      <td>754147.000000</td>\n",
       "      <td>754147.000000</td>\n",
       "      <td>754147.000000</td>\n",
       "      <td>754147.000000</td>\n",
       "      <td>754147.000000</td>\n",
       "      <td>754147.000000</td>\n",
       "      <td>754147.000000</td>\n",
       "      <td>754147.000000</td>\n",
       "      <td>754147.000000</td>\n",
       "      <td>754147.000000</td>\n",
       "      <td>754147.000000</td>\n",
       "      <td>754147.000000</td>\n",
       "      <td>754147.000000</td>\n",
       "      <td>7.541470e+05</td>\n",
       "    </tr>\n",
       "    <tr>\n",
       "      <th>mean</th>\n",
       "      <td>1.454369</td>\n",
       "      <td>0.754092</td>\n",
       "      <td>7.865771</td>\n",
       "      <td>49.159869</td>\n",
       "      <td>0.012888</td>\n",
       "      <td>0.897754</td>\n",
       "      <td>5.582982</td>\n",
       "      <td>1000.389953</td>\n",
       "      <td>23.767649</td>\n",
       "      <td>1399.682332</td>\n",
       "      <td>1.149569</td>\n",
       "      <td>2010.479978</td>\n",
       "      <td>1941.020598</td>\n",
       "      <td>4.055065e+05</td>\n",
       "    </tr>\n",
       "    <tr>\n",
       "      <th>std</th>\n",
       "      <td>0.632256</td>\n",
       "      <td>1.241474</td>\n",
       "      <td>20.137087</td>\n",
       "      <td>144.199184</td>\n",
       "      <td>0.630595</td>\n",
       "      <td>0.214527</td>\n",
       "      <td>1.405920</td>\n",
       "      <td>2.345064</td>\n",
       "      <td>12.458320</td>\n",
       "      <td>461.872881</td>\n",
       "      <td>0.558494</td>\n",
       "      <td>2.299106</td>\n",
       "      <td>23.594388</td>\n",
       "      <td>3.678854e+05</td>\n",
       "    </tr>\n",
       "    <tr>\n",
       "      <th>min</th>\n",
       "      <td>0.000000</td>\n",
       "      <td>0.000000</td>\n",
       "      <td>0.000000</td>\n",
       "      <td>0.000000</td>\n",
       "      <td>0.000000</td>\n",
       "      <td>0.000000</td>\n",
       "      <td>1.000000</td>\n",
       "      <td>1000.000000</td>\n",
       "      <td>1.000000</td>\n",
       "      <td>495.000000</td>\n",
       "      <td>0.000000</td>\n",
       "      <td>2007.000000</td>\n",
       "      <td>1901.000000</td>\n",
       "      <td>3.002400e+04</td>\n",
       "    </tr>\n",
       "    <tr>\n",
       "      <th>25%</th>\n",
       "      <td>1.000000</td>\n",
       "      <td>0.000000</td>\n",
       "      <td>0.000000</td>\n",
       "      <td>0.000000</td>\n",
       "      <td>0.000000</td>\n",
       "      <td>1.000000</td>\n",
       "      <td>5.000000</td>\n",
       "      <td>1000.000000</td>\n",
       "      <td>14.000000</td>\n",
       "      <td>1075.000000</td>\n",
       "      <td>1.000000</td>\n",
       "      <td>2008.000000</td>\n",
       "      <td>1924.000000</td>\n",
       "      <td>1.287180e+05</td>\n",
       "    </tr>\n",
       "    <tr>\n",
       "      <th>50%</th>\n",
       "      <td>1.000000</td>\n",
       "      <td>0.000000</td>\n",
       "      <td>0.000000</td>\n",
       "      <td>0.000000</td>\n",
       "      <td>0.000000</td>\n",
       "      <td>1.000000</td>\n",
       "      <td>5.000000</td>\n",
       "      <td>1000.000000</td>\n",
       "      <td>21.000000</td>\n",
       "      <td>1320.000000</td>\n",
       "      <td>1.000000</td>\n",
       "      <td>2010.000000</td>\n",
       "      <td>1939.000000</td>\n",
       "      <td>3.217570e+05</td>\n",
       "    </tr>\n",
       "    <tr>\n",
       "      <th>75%</th>\n",
       "      <td>2.000000</td>\n",
       "      <td>2.000000</td>\n",
       "      <td>0.000000</td>\n",
       "      <td>0.000000</td>\n",
       "      <td>0.000000</td>\n",
       "      <td>1.000000</td>\n",
       "      <td>6.000000</td>\n",
       "      <td>1000.000000</td>\n",
       "      <td>36.000000</td>\n",
       "      <td>1656.000000</td>\n",
       "      <td>1.000000</td>\n",
       "      <td>2012.000000</td>\n",
       "      <td>1953.000000</td>\n",
       "      <td>5.660385e+05</td>\n",
       "    </tr>\n",
       "    <tr>\n",
       "      <th>max</th>\n",
       "      <td>3.000000</td>\n",
       "      <td>4.000000</td>\n",
       "      <td>93.300000</td>\n",
       "      <td>799.000000</td>\n",
       "      <td>50.000000</td>\n",
       "      <td>1.000000</td>\n",
       "      <td>9.000000</td>\n",
       "      <td>1019.000000</td>\n",
       "      <td>44.000000</td>\n",
       "      <td>3050.000000</td>\n",
       "      <td>4.000000</td>\n",
       "      <td>2014.000000</td>\n",
       "      <td>2013.000000</td>\n",
       "      <td>8.755610e+06</td>\n",
       "    </tr>\n",
       "  </tbody>\n",
       "</table>\n",
       "</div>"
      ],
      "text/plain": [
       "               baths           beds      lot_depth  basement_area  \\\n",
       "count  754147.000000  754147.000000  754147.000000  754147.000000   \n",
       "mean        1.454369       0.754092       7.865771      49.159869   \n",
       "std         0.632256       1.241474      20.137087     144.199184   \n",
       "min         0.000000       0.000000       0.000000       0.000000   \n",
       "25%         1.000000       0.000000       0.000000       0.000000   \n",
       "50%         1.000000       0.000000       0.000000       0.000000   \n",
       "75%         2.000000       2.000000       0.000000       0.000000   \n",
       "max         3.000000       4.000000      93.300000     799.000000   \n",
       "\n",
       "            front_ft      owner_pct          rooms       tax_rate  \\\n",
       "count  754147.000000  754147.000000  754147.000000  754147.000000   \n",
       "mean        0.012888       0.897754       5.582982    1000.389953   \n",
       "std         0.630595       0.214527       1.405920       2.345064   \n",
       "min         0.000000       0.000000       1.000000    1000.000000   \n",
       "25%         0.000000       1.000000       5.000000    1000.000000   \n",
       "50%         0.000000       1.000000       5.000000    1000.000000   \n",
       "75%         0.000000       1.000000       6.000000    1000.000000   \n",
       "max        50.000000       1.000000       9.000000    1019.000000   \n",
       "\n",
       "              volume           sqft        stories  year_recorded  \\\n",
       "count  754147.000000  754147.000000  754147.000000  754147.000000   \n",
       "mean       23.767649    1399.682332       1.149569    2010.479978   \n",
       "std        12.458320     461.872881       0.558494       2.299106   \n",
       "min         1.000000     495.000000       0.000000    2007.000000   \n",
       "25%        14.000000    1075.000000       1.000000    2008.000000   \n",
       "50%        21.000000    1320.000000       1.000000    2010.000000   \n",
       "75%        36.000000    1656.000000       1.000000    2012.000000   \n",
       "max        44.000000    3050.000000       4.000000    2014.000000   \n",
       "\n",
       "          year_built         value  \n",
       "count  754147.000000  7.541470e+05  \n",
       "mean     1941.020598  4.055065e+05  \n",
       "std        23.594388  3.678854e+05  \n",
       "min      1901.000000  3.002400e+04  \n",
       "25%      1924.000000  1.287180e+05  \n",
       "50%      1939.000000  3.217570e+05  \n",
       "75%      1953.000000  5.660385e+05  \n",
       "max      2013.000000  8.755610e+06  "
      ]
     },
     "execution_count": 8,
     "metadata": {},
     "output_type": "execute_result"
    }
   ],
   "source": [
    "dfa.describe()"
   ]
  },
  {
   "cell_type": "code",
   "execution_count": 9,
   "metadata": {
    "collapsed": false,
    "deletable": true,
    "editable": true
   },
   "outputs": [
    {
     "data": {
      "text/plain": [
       "baths               int64\n",
       "beds                int64\n",
       "lot_depth         float64\n",
       "basement_area     float64\n",
       "front_ft          float64\n",
       "owner_pct         float64\n",
       "rooms               int64\n",
       "property_class     object\n",
       "neighborhood       object\n",
       "tax_rate          float64\n",
       "volume              int64\n",
       "sqft                int64\n",
       "stories             int64\n",
       "year_recorded       int64\n",
       "year_built          int64\n",
       "zone               object\n",
       "value             float64\n",
       "dtype: object"
      ]
     },
     "execution_count": 9,
     "metadata": {},
     "output_type": "execute_result"
    }
   ],
   "source": [
    "dfa.dtypes"
   ]
  },
  {
   "cell_type": "markdown",
   "metadata": {
    "deletable": true,
    "editable": true
   },
   "source": [
    "My prediction is that Value is correlated most strongly with baths, beds, rooms, sqft.\n",
    "<br>Property class and neighborhood might be strong predictors as well but they are categorical and must be converted into numerical values. \n",
    "<br>Then I would think year_built, stories, volume would be correlated with value. \n",
    "<br>Lastly, I would check lot_depth, basement_area, front_ft. \n",
    "\n"
   ]
  },
  {
   "cell_type": "code",
   "execution_count": null,
   "metadata": {
    "collapsed": false,
    "deletable": true,
    "editable": true
   },
   "outputs": [
    {
     "data": {
      "text/plain": [
       "<seaborn.axisgrid.PairGrid at 0x11244ed50>"
      ]
     },
     "execution_count": 10,
     "metadata": {},
     "output_type": "execute_result"
    }
   ],
   "source": [
    "sns.pairplot(data=dfa[['baths','beds','rooms','sqft','value']])"
   ]
  },
  {
   "cell_type": "markdown",
   "metadata": {
    "deletable": true,
    "editable": true
   },
   "source": [
    "Looks like baths, rooms, and sqft are highly correlated with value, but beds is not. "
   ]
  },
  {
   "cell_type": "code",
   "execution_count": null,
   "metadata": {
    "collapsed": false,
    "deletable": true,
    "editable": true
   },
   "outputs": [],
   "source": [
    "sns.pairplot(data=dfa[['year_built','stories','volume','value']])"
   ]
  },
  {
   "cell_type": "markdown",
   "metadata": {
    "deletable": true,
    "editable": true
   },
   "source": [
    "OK im sticking with baths, rooms, and sqft. "
   ]
  },
  {
   "cell_type": "code",
   "execution_count": null,
   "metadata": {
    "collapsed": false,
    "deletable": true,
    "editable": true
   },
   "outputs": [],
   "source": [
    "sns.pairplot(data=dfa[['lot_depth', 'basement_area', 'front_ft','value']])"
   ]
  },
  {
   "cell_type": "code",
   "execution_count": null,
   "metadata": {
    "collapsed": true,
    "deletable": true,
    "editable": true
   },
   "outputs": [],
   "source": [
    "sns.stripplot(x='rooms', y='value', data=dfa)"
   ]
  },
  {
   "cell_type": "code",
   "execution_count": null,
   "metadata": {
    "collapsed": false,
    "deletable": true,
    "editable": true
   },
   "outputs": [],
   "source": [
    "sns.stripplot(x='sqft', y='value', data=dfa)"
   ]
  },
  {
   "cell_type": "code",
   "execution_count": null,
   "metadata": {
    "collapsed": true,
    "deletable": true,
    "editable": true
   },
   "outputs": [],
   "source": [
    "sns.stripplot(x='baths', y='value', data=dfa)"
   ]
  },
  {
   "cell_type": "markdown",
   "metadata": {
    "deletable": true,
    "editable": true
   },
   "source": [
    "**Answer** Hypothesis: Baths, Rooms, and Sqft are correlated with value, and so we can build a linear regression model to successfully (>95% R^2) predict the value of a home from just these columns. And if not, "
   ]
  },
  {
   "cell_type": "markdown",
   "metadata": {
    "deletable": true,
    "editable": true
   },
   "source": [
    "<img src=\"http://imgur.com/l5NasQj.png\" style=\"float: left; margin: 25px 15px 0px 0px; height: 25px\">\n",
    "\n",
    "### 2. Construct and evaluate a linear regression model on the data\n",
    "\n",
    "---\n",
    "\n",
    "1. State the variables that are predictors in your linear regression and the target variable.\n",
    "- Investigate and remove any outliers or other problems in your data. _This is a subjective process._\n",
    "- Construct a linear regression model.\n",
    "- Evaluate the model. How does the $R^2$ of the overall model compare to cross-validated $R^2$. What do the differences in $R^2$ mean?\n",
    "  - Use test / train split\n",
    "  - Use K-Folds\n",
    "  - Compare and explain your results with both\n",
    "- Visualize the evaluation metrics of your analysis in clear charts.\n",
    "- Summarize your results in the context of your hypothesis. Frame this as if you are presenting to non-technical readers.\n"
   ]
  },
  {
   "cell_type": "code",
   "execution_count": 10,
   "metadata": {
    "collapsed": true,
    "deletable": true,
    "editable": true
   },
   "outputs": [],
   "source": [
    "predictor_cols = ['baths','rooms','sqft']"
   ]
  },
  {
   "cell_type": "code",
   "execution_count": 11,
   "metadata": {
    "collapsed": true,
    "deletable": true,
    "editable": true
   },
   "outputs": [],
   "source": [
    "target_col = ['value']"
   ]
  },
  {
   "cell_type": "code",
   "execution_count": 12,
   "metadata": {
    "collapsed": false,
    "deletable": true,
    "editable": true
   },
   "outputs": [],
   "source": [
    "from sklearn.model_selection import train_test_split\n",
    "X = dfa[predictor_cols].values\n",
    "y = np.ravel(dfa[target_col].values)\n",
    "\n",
    "X_train, X_test, y_train, y_test = train_test_split(X, y, test_size=0.3, random_state=1) "
   ]
  },
  {
   "cell_type": "code",
   "execution_count": 13,
   "metadata": {
    "collapsed": false,
    "deletable": true,
    "editable": true
   },
   "outputs": [
    {
     "data": {
      "text/plain": [
       "0.11580065899914348"
      ]
     },
     "execution_count": 13,
     "metadata": {},
     "output_type": "execute_result"
    }
   ],
   "source": [
    "# Plain old regular regression\n",
    "from sklearn.linear_model import LinearRegression\n",
    "lr = LinearRegression()\n",
    "lr.fit(X=X_train, y=y_train)\n",
    "lr.score(X=X_test, y=y_test)"
   ]
  },
  {
   "cell_type": "markdown",
   "metadata": {
    "deletable": true,
    "editable": true
   },
   "source": [
    "That R value isn't great. "
   ]
  },
  {
   "cell_type": "code",
   "execution_count": 14,
   "metadata": {
    "collapsed": false,
    "deletable": true,
    "editable": true
   },
   "outputs": [
    {
     "data": {
      "text/plain": [
       "array([ 0.09371506,  0.11842097,  0.11561162])"
      ]
     },
     "execution_count": 14,
     "metadata": {},
     "output_type": "execute_result"
    }
   ],
   "source": [
    "from sklearn.model_selection import cross_val_score\n",
    "cross_val_score(estimator=lr, X=X, y=y, cv=3)"
   ]
  },
  {
   "cell_type": "markdown",
   "metadata": {
    "deletable": true,
    "editable": true
   },
   "source": [
    "**ANSWER**:\n",
    "<br>\n",
    "Those are also bad R^2 values, and similar to the error values we got through just a single train_test_split.\n",
    "<br><br>Not sure what there is to visualize here. \n",
    "<br><br>What these results mean is that my simple linear regression model based on 3 predictors is not a good model. We need to either increase the complexity of my model, or include more factors. \n",
    "\n"
   ]
  },
  {
   "cell_type": "markdown",
   "metadata": {
    "deletable": true,
    "editable": true
   },
   "source": [
    "<img src=\"http://imgur.com/xDpSobf.png\" style=\"float: left; margin: 25px 15px 0px 0px; height: 25px\">\n",
    "\n",
    "### 2.2 Explain $R^2$ vs. mean squared error (MSE)\n",
    "\n",
    "---\n",
    "\n",
    "1. If you have negative $R^2$ values in cross-validation, what does this mean? \n",
    "2. Why can $R^2$ only be negative when the model is tested on new data?"
   ]
  },
  {
   "cell_type": "markdown",
   "metadata": {
    "collapsed": true,
    "deletable": true,
    "editable": true
   },
   "source": [
    "1. R^2 is a measure of the proportion of variability in the response due to the model to the inherent variability in the response. If the measure is 1, that means the variation in the predicted response is explained entirely due to the variability in the true response. NEgative R^2 means that the model is worse at predicting values than a horizontal line is. "
   ]
  },
  {
   "cell_type": "markdown",
   "metadata": {
    "deletable": true,
    "editable": true
   },
   "source": [
    "2. "
   ]
  },
  {
   "cell_type": "markdown",
   "metadata": {
    "deletable": true,
    "editable": true
   },
   "source": [
    "<img src=\"http://imgur.com/l5NasQj.png\" style=\"float: left; margin: 25px 15px 0px 0px; height: 25px\">\n",
    "\n",
    "### 3. Combine Crime and Fire incidents datasets from the  San Francisco data. Build a Linear regression model to predict number of fire incidents. What are the most significant predictors?\n",
    "\n",
    "### Evaluate the model with regularized regression.\n",
    "\n",
    "---\n",
    "\n",
    "**I recommend having many predictors to see benefits from regularization methods, but it's up to you.**\n",
    "\n",
    "\n",
    "- Like in part 1, you should state a hypothesis and perform data cleaning and EDA _only_ on the relevant portions of your data. Don't waste time!\n",
    "- Construct and evaluate different models with cross-validated $R^2$. Compare LinearRegression, Lasso, Ridge, and ElasticNet. \n",
    "- Report on which model is best after performing regularization, and why that might be the case (hint: does your data have multicollinearity? Irrelevant variables? Both?)\n",
    "- Plot visuals that compare the performance of the four models.\n"
   ]
  },
  {
   "cell_type": "code",
   "execution_count": 2,
   "metadata": {
    "collapsed": false,
    "deletable": true,
    "editable": true
   },
   "outputs": [],
   "source": [
    "pd.set_option('display.max_columns', 100)\n",
    "pd.set_option('display.max_rows', 100)"
   ]
  },
  {
   "cell_type": "code",
   "execution_count": 3,
   "metadata": {
    "collapsed": false,
    "deletable": true,
    "editable": true
   },
   "outputs": [],
   "source": [
    "dff = pd.read_csv('/Users/Naekid/Desktop/DSI-SF-5-fork/DSI-SF-5/datasets/san_francisco/san_francisco/san_francisco/fire_data/fire_incidents.csv', dtype=str)"
   ]
  },
  {
   "cell_type": "code",
   "execution_count": 4,
   "metadata": {
    "collapsed": false,
    "deletable": true,
    "editable": true
   },
   "outputs": [],
   "source": [
    "dfc = pd.read_csv('/Users/Naekid/Desktop/DSI-SF-5-fork/DSI-SF-5/datasets/san_francisco/san_francisco/san_francisco/sf_crime/sfpd_incidents_from2003.csv')"
   ]
  },
  {
   "cell_type": "code",
   "execution_count": 5,
   "metadata": {
    "collapsed": false,
    "deletable": true,
    "editable": true
   },
   "outputs": [
    {
     "data": {
      "text/plain": [
       "(406736, 63)"
      ]
     },
     "execution_count": 5,
     "metadata": {},
     "output_type": "execute_result"
    }
   ],
   "source": [
    "dff.shape"
   ]
  },
  {
   "cell_type": "code",
   "execution_count": 19,
   "metadata": {
    "collapsed": false,
    "deletable": true,
    "editable": true
   },
   "outputs": [
    {
     "data": {
      "text/plain": [
       "['Incident Number',\n",
       " 'Exposure Number',\n",
       " 'Address',\n",
       " 'Incident Date',\n",
       " 'Call Number',\n",
       " 'Alarm DtTm',\n",
       " 'Arrival DtTm',\n",
       " 'Close DtTm',\n",
       " 'City',\n",
       " 'Zipcode',\n",
       " 'Battalion',\n",
       " 'Station Area',\n",
       " 'Box',\n",
       " 'Suppression Units',\n",
       " 'Suppression Personnel',\n",
       " 'EMS Units',\n",
       " 'EMS Personnel',\n",
       " 'Other Units',\n",
       " 'Other Personnel',\n",
       " 'First Unit On Scene',\n",
       " 'Estimated Property Loss',\n",
       " 'Estimated Contents Loss',\n",
       " 'Fire Fatalities',\n",
       " 'Fire Injuries',\n",
       " 'Civilian Fatalities',\n",
       " 'Civilian Injuries',\n",
       " 'Number of Alarms',\n",
       " 'Primary Situation',\n",
       " 'Mutual Aid',\n",
       " 'Action Taken Primary',\n",
       " 'Action Taken Secondary',\n",
       " 'Action Taken Other',\n",
       " 'Detector Alerted Occupants',\n",
       " 'Property Use',\n",
       " 'Area of Fire Origin',\n",
       " 'Ignition Cause',\n",
       " 'Ignition Factor Primary',\n",
       " 'Ignition Factor Secondary',\n",
       " 'Heat Source',\n",
       " 'Item First Ignited',\n",
       " 'Human Factors Associated with Ignition',\n",
       " 'Structure Type',\n",
       " 'Structure Status',\n",
       " 'Floor of Fire Origin',\n",
       " 'Fire Spread',\n",
       " 'No Flame Spead',\n",
       " 'Number of floors with minimum damage',\n",
       " 'Number of floors with significant damage',\n",
       " 'Number of floors with heavy damage',\n",
       " 'Number of floors with extreme damage',\n",
       " 'Detectors Present',\n",
       " 'Detector Type',\n",
       " 'Detector Operation',\n",
       " 'Detector Effectiveness',\n",
       " 'Detector Failure Reason',\n",
       " 'Automatic Extinguishing System Present',\n",
       " 'Automatic Extinguishing Sytem Type',\n",
       " 'Automatic Extinguishing Sytem Perfomance',\n",
       " 'Automatic Extinguishing Sytem Failure Reason',\n",
       " 'Number of Sprinkler Heads Operating',\n",
       " 'Supervisor District',\n",
       " 'Neighborhood  District',\n",
       " 'Location']"
      ]
     },
     "execution_count": 19,
     "metadata": {},
     "output_type": "execute_result"
    }
   ],
   "source": [
    "dff.columns.tolist()"
   ]
  },
  {
   "cell_type": "code",
   "execution_count": 20,
   "metadata": {
    "collapsed": false,
    "deletable": true,
    "editable": true
   },
   "outputs": [
    {
     "data": {
      "text/html": [
       "<div>\n",
       "<table border=\"1\" class=\"dataframe\">\n",
       "  <thead>\n",
       "    <tr style=\"text-align: right;\">\n",
       "      <th></th>\n",
       "      <th>Incident Number</th>\n",
       "      <th>Exposure Number</th>\n",
       "      <th>Address</th>\n",
       "      <th>Incident Date</th>\n",
       "      <th>Call Number</th>\n",
       "      <th>Alarm DtTm</th>\n",
       "      <th>Arrival DtTm</th>\n",
       "      <th>Close DtTm</th>\n",
       "      <th>City</th>\n",
       "      <th>Zipcode</th>\n",
       "      <th>Battalion</th>\n",
       "      <th>Station Area</th>\n",
       "      <th>Box</th>\n",
       "      <th>Suppression Units</th>\n",
       "      <th>Suppression Personnel</th>\n",
       "      <th>EMS Units</th>\n",
       "      <th>EMS Personnel</th>\n",
       "      <th>Other Units</th>\n",
       "      <th>Other Personnel</th>\n",
       "      <th>First Unit On Scene</th>\n",
       "      <th>Estimated Property Loss</th>\n",
       "      <th>Estimated Contents Loss</th>\n",
       "      <th>Fire Fatalities</th>\n",
       "      <th>Fire Injuries</th>\n",
       "      <th>Civilian Fatalities</th>\n",
       "      <th>Civilian Injuries</th>\n",
       "      <th>Number of Alarms</th>\n",
       "      <th>Primary Situation</th>\n",
       "      <th>Mutual Aid</th>\n",
       "      <th>Action Taken Primary</th>\n",
       "      <th>Action Taken Secondary</th>\n",
       "      <th>Action Taken Other</th>\n",
       "      <th>Detector Alerted Occupants</th>\n",
       "      <th>Property Use</th>\n",
       "      <th>Area of Fire Origin</th>\n",
       "      <th>Ignition Cause</th>\n",
       "      <th>Ignition Factor Primary</th>\n",
       "      <th>Ignition Factor Secondary</th>\n",
       "      <th>Heat Source</th>\n",
       "      <th>Item First Ignited</th>\n",
       "      <th>Human Factors Associated with Ignition</th>\n",
       "      <th>Structure Type</th>\n",
       "      <th>Structure Status</th>\n",
       "      <th>Floor of Fire Origin</th>\n",
       "      <th>Fire Spread</th>\n",
       "      <th>No Flame Spead</th>\n",
       "      <th>Number of floors with minimum damage</th>\n",
       "      <th>Number of floors with significant damage</th>\n",
       "      <th>Number of floors with heavy damage</th>\n",
       "      <th>Number of floors with extreme damage</th>\n",
       "      <th>Detectors Present</th>\n",
       "      <th>Detector Type</th>\n",
       "      <th>Detector Operation</th>\n",
       "      <th>Detector Effectiveness</th>\n",
       "      <th>Detector Failure Reason</th>\n",
       "      <th>Automatic Extinguishing System Present</th>\n",
       "      <th>Automatic Extinguishing Sytem Type</th>\n",
       "      <th>Automatic Extinguishing Sytem Perfomance</th>\n",
       "      <th>Automatic Extinguishing Sytem Failure Reason</th>\n",
       "      <th>Number of Sprinkler Heads Operating</th>\n",
       "      <th>Supervisor District</th>\n",
       "      <th>Neighborhood  District</th>\n",
       "      <th>Location</th>\n",
       "    </tr>\n",
       "  </thead>\n",
       "  <tbody>\n",
       "    <tr>\n",
       "      <th>0</th>\n",
       "      <td>09030109</td>\n",
       "      <td>0</td>\n",
       "      <td>310 Colon Av.</td>\n",
       "      <td>04/12/2009</td>\n",
       "      <td>091020273</td>\n",
       "      <td>04/12/2009 06:09:13 PM</td>\n",
       "      <td>04/12/2009 06:13:45 PM</td>\n",
       "      <td>04/12/2009 07:23:13 PM</td>\n",
       "      <td>SF</td>\n",
       "      <td>NaN</td>\n",
       "      <td>B09</td>\n",
       "      <td>15</td>\n",
       "      <td>NaN</td>\n",
       "      <td>1</td>\n",
       "      <td>5</td>\n",
       "      <td>0</td>\n",
       "      <td>0</td>\n",
       "      <td>0</td>\n",
       "      <td>0</td>\n",
       "      <td>T15</td>\n",
       "      <td>NaN</td>\n",
       "      <td>NaN</td>\n",
       "      <td>0</td>\n",
       "      <td>0</td>\n",
       "      <td>0</td>\n",
       "      <td>0</td>\n",
       "      <td>NaN</td>\n",
       "      <td>551 - assist pd or other govern. agency</td>\n",
       "      <td>none</td>\n",
       "      <td>52 - forcible entry</td>\n",
       "      <td>-</td>\n",
       "      <td>-</td>\n",
       "      <td>-</td>\n",
       "      <td>000 - property use, other</td>\n",
       "      <td>NaN</td>\n",
       "      <td>NaN</td>\n",
       "      <td>NaN</td>\n",
       "      <td>NaN</td>\n",
       "      <td>NaN</td>\n",
       "      <td>NaN</td>\n",
       "      <td>NaN</td>\n",
       "      <td>NaN</td>\n",
       "      <td>NaN</td>\n",
       "      <td>NaN</td>\n",
       "      <td>NaN</td>\n",
       "      <td>NaN</td>\n",
       "      <td>NaN</td>\n",
       "      <td>NaN</td>\n",
       "      <td>NaN</td>\n",
       "      <td>NaN</td>\n",
       "      <td>NaN</td>\n",
       "      <td>NaN</td>\n",
       "      <td>NaN</td>\n",
       "      <td>NaN</td>\n",
       "      <td>NaN</td>\n",
       "      <td>NaN</td>\n",
       "      <td>NaN</td>\n",
       "      <td>NaN</td>\n",
       "      <td>NaN</td>\n",
       "      <td>NaN</td>\n",
       "      <td>NaN</td>\n",
       "      <td>NaN</td>\n",
       "      <td>NaN</td>\n",
       "    </tr>\n",
       "    <tr>\n",
       "      <th>1</th>\n",
       "      <td>13067402</td>\n",
       "      <td>0</td>\n",
       "      <td>20 Lansdale Av</td>\n",
       "      <td>07/18/2013</td>\n",
       "      <td>131990117</td>\n",
       "      <td>07/18/2013 10:32:03 AM</td>\n",
       "      <td>07/18/2013 10:37:15 AM</td>\n",
       "      <td>07/18/2013 10:39:55 AM</td>\n",
       "      <td>SF</td>\n",
       "      <td>NaN</td>\n",
       "      <td>B09</td>\n",
       "      <td>39</td>\n",
       "      <td>8571</td>\n",
       "      <td>3</td>\n",
       "      <td>11</td>\n",
       "      <td>0</td>\n",
       "      <td>0</td>\n",
       "      <td>0</td>\n",
       "      <td>0</td>\n",
       "      <td>E39</td>\n",
       "      <td>NaN</td>\n",
       "      <td>NaN</td>\n",
       "      <td>0</td>\n",
       "      <td>0</td>\n",
       "      <td>0</td>\n",
       "      <td>0</td>\n",
       "      <td>NaN</td>\n",
       "      <td>745 - alarm system sounded/no fire-accidental</td>\n",
       "      <td>none</td>\n",
       "      <td>86 - investigate</td>\n",
       "      <td>-</td>\n",
       "      <td>-</td>\n",
       "      <td>-</td>\n",
       "      <td>429 - multifamily dwellings</td>\n",
       "      <td>NaN</td>\n",
       "      <td>NaN</td>\n",
       "      <td>NaN</td>\n",
       "      <td>NaN</td>\n",
       "      <td>NaN</td>\n",
       "      <td>NaN</td>\n",
       "      <td>NaN</td>\n",
       "      <td>NaN</td>\n",
       "      <td>NaN</td>\n",
       "      <td>NaN</td>\n",
       "      <td>NaN</td>\n",
       "      <td>NaN</td>\n",
       "      <td>NaN</td>\n",
       "      <td>NaN</td>\n",
       "      <td>NaN</td>\n",
       "      <td>NaN</td>\n",
       "      <td>NaN</td>\n",
       "      <td>NaN</td>\n",
       "      <td>NaN</td>\n",
       "      <td>NaN</td>\n",
       "      <td>NaN</td>\n",
       "      <td>NaN</td>\n",
       "      <td>NaN</td>\n",
       "      <td>NaN</td>\n",
       "      <td>NaN</td>\n",
       "      <td>NaN</td>\n",
       "      <td>NaN</td>\n",
       "      <td>NaN</td>\n",
       "      <td>NaN</td>\n",
       "    </tr>\n",
       "  </tbody>\n",
       "</table>\n",
       "</div>"
      ],
      "text/plain": [
       "  Incident Number Exposure Number         Address Incident Date Call Number  \\\n",
       "0        09030109               0   310 Colon Av.    04/12/2009   091020273   \n",
       "1        13067402               0  20 Lansdale Av    07/18/2013   131990117   \n",
       "\n",
       "               Alarm DtTm            Arrival DtTm              Close DtTm  \\\n",
       "0  04/12/2009 06:09:13 PM  04/12/2009 06:13:45 PM  04/12/2009 07:23:13 PM   \n",
       "1  07/18/2013 10:32:03 AM  07/18/2013 10:37:15 AM  07/18/2013 10:39:55 AM   \n",
       "\n",
       "  City Zipcode Battalion Station Area   Box Suppression Units  \\\n",
       "0   SF     NaN       B09           15   NaN                 1   \n",
       "1   SF     NaN       B09           39  8571                 3   \n",
       "\n",
       "  Suppression Personnel EMS Units EMS Personnel Other Units Other Personnel  \\\n",
       "0                     5         0             0           0               0   \n",
       "1                    11         0             0           0               0   \n",
       "\n",
       "  First Unit On Scene Estimated Property Loss Estimated Contents Loss  \\\n",
       "0                 T15                     NaN                     NaN   \n",
       "1                 E39                     NaN                     NaN   \n",
       "\n",
       "  Fire Fatalities Fire Injuries Civilian Fatalities Civilian Injuries  \\\n",
       "0               0             0                   0                 0   \n",
       "1               0             0                   0                 0   \n",
       "\n",
       "  Number of Alarms                              Primary Situation Mutual Aid  \\\n",
       "0              NaN        551 - assist pd or other govern. agency       none   \n",
       "1              NaN  745 - alarm system sounded/no fire-accidental       none   \n",
       "\n",
       "  Action Taken Primary Action Taken Secondary Action Taken Other  \\\n",
       "0  52 - forcible entry                      -                  -   \n",
       "1     86 - investigate                      -                  -   \n",
       "\n",
       "  Detector Alerted Occupants                 Property Use Area of Fire Origin  \\\n",
       "0                          -    000 - property use, other                 NaN   \n",
       "1                          -  429 - multifamily dwellings                 NaN   \n",
       "\n",
       "  Ignition Cause Ignition Factor Primary Ignition Factor Secondary  \\\n",
       "0            NaN                     NaN                       NaN   \n",
       "1            NaN                     NaN                       NaN   \n",
       "\n",
       "  Heat Source Item First Ignited Human Factors Associated with Ignition  \\\n",
       "0         NaN                NaN                                    NaN   \n",
       "1         NaN                NaN                                    NaN   \n",
       "\n",
       "  Structure Type Structure Status Floor of Fire Origin Fire Spread  \\\n",
       "0            NaN              NaN                  NaN         NaN   \n",
       "1            NaN              NaN                  NaN         NaN   \n",
       "\n",
       "  No Flame Spead Number of floors with minimum damage  \\\n",
       "0            NaN                                  NaN   \n",
       "1            NaN                                  NaN   \n",
       "\n",
       "  Number of floors with significant damage Number of floors with heavy damage  \\\n",
       "0                                      NaN                                NaN   \n",
       "1                                      NaN                                NaN   \n",
       "\n",
       "  Number of floors with extreme damage Detectors Present Detector Type  \\\n",
       "0                                  NaN               NaN           NaN   \n",
       "1                                  NaN               NaN           NaN   \n",
       "\n",
       "  Detector Operation Detector Effectiveness Detector Failure Reason  \\\n",
       "0                NaN                    NaN                     NaN   \n",
       "1                NaN                    NaN                     NaN   \n",
       "\n",
       "  Automatic Extinguishing System Present Automatic Extinguishing Sytem Type  \\\n",
       "0                                    NaN                                NaN   \n",
       "1                                    NaN                                NaN   \n",
       "\n",
       "  Automatic Extinguishing Sytem Perfomance  \\\n",
       "0                                      NaN   \n",
       "1                                      NaN   \n",
       "\n",
       "  Automatic Extinguishing Sytem Failure Reason  \\\n",
       "0                                          NaN   \n",
       "1                                          NaN   \n",
       "\n",
       "  Number of Sprinkler Heads Operating Supervisor District  \\\n",
       "0                                 NaN                 NaN   \n",
       "1                                 NaN                 NaN   \n",
       "\n",
       "  Neighborhood  District Location  \n",
       "0                    NaN      NaN  \n",
       "1                    NaN      NaN  "
      ]
     },
     "execution_count": 20,
     "metadata": {},
     "output_type": "execute_result"
    }
   ],
   "source": [
    "dff.head(2)"
   ]
  },
  {
   "cell_type": "markdown",
   "metadata": {
    "deletable": true,
    "editable": true
   },
   "source": [
    "The question is asking about predicting the count of fire incidents. \n",
    "<br><br>\n",
    "Since this data set does not, in it's original form, give us count values, we need to get those. I'm going to get them by grouping by day, and then counting the fire instances in each day. THe Incident Number column has no missing values so we can count those values to see how many fire incidents we had each day. \n",
    "<br><br>\n",
    "Then we can have the sum() of the suppression units and suppression personnel, and the Fire Fatalities, Fire Injuries, Civilian Injuries. But the problem is that the fire causes the emergency personnel count, not the other way around. So it’s not very useful to predict number of fires from the number of emergy personnel on the scene. "
   ]
  },
  {
   "cell_type": "code",
   "execution_count": 6,
   "metadata": {
    "collapsed": false,
    "deletable": true,
    "editable": true
   },
   "outputs": [],
   "source": [
    "gf = dff.groupby(by=['Incident Date']).count()\n",
    "# gf.sort_index(axis=0, level=None, ascending=True, inplace=False, kind='quicksort', na_position='last')\n",
    "gf.reset_index(inplace=True)"
   ]
  },
  {
   "cell_type": "code",
   "execution_count": 7,
   "metadata": {
    "collapsed": false,
    "deletable": true,
    "editable": true
   },
   "outputs": [
    {
     "data": {
      "text/html": [
       "<div>\n",
       "<table border=\"1\" class=\"dataframe\">\n",
       "  <thead>\n",
       "    <tr style=\"text-align: right;\">\n",
       "      <th></th>\n",
       "      <th>Incident Date</th>\n",
       "      <th>Incident Number</th>\n",
       "      <th>Exposure Number</th>\n",
       "      <th>Address</th>\n",
       "      <th>Call Number</th>\n",
       "      <th>Alarm DtTm</th>\n",
       "      <th>Arrival DtTm</th>\n",
       "      <th>Close DtTm</th>\n",
       "      <th>City</th>\n",
       "      <th>Zipcode</th>\n",
       "      <th>Battalion</th>\n",
       "      <th>Station Area</th>\n",
       "      <th>Box</th>\n",
       "      <th>Suppression Units</th>\n",
       "      <th>Suppression Personnel</th>\n",
       "      <th>EMS Units</th>\n",
       "      <th>EMS Personnel</th>\n",
       "      <th>Other Units</th>\n",
       "      <th>Other Personnel</th>\n",
       "      <th>First Unit On Scene</th>\n",
       "      <th>Estimated Property Loss</th>\n",
       "      <th>Estimated Contents Loss</th>\n",
       "      <th>Fire Fatalities</th>\n",
       "      <th>Fire Injuries</th>\n",
       "      <th>Civilian Fatalities</th>\n",
       "      <th>Civilian Injuries</th>\n",
       "      <th>Number of Alarms</th>\n",
       "      <th>Primary Situation</th>\n",
       "      <th>Mutual Aid</th>\n",
       "      <th>Action Taken Primary</th>\n",
       "      <th>Action Taken Secondary</th>\n",
       "      <th>Action Taken Other</th>\n",
       "      <th>Detector Alerted Occupants</th>\n",
       "      <th>Property Use</th>\n",
       "      <th>Area of Fire Origin</th>\n",
       "      <th>Ignition Cause</th>\n",
       "      <th>Ignition Factor Primary</th>\n",
       "      <th>Ignition Factor Secondary</th>\n",
       "      <th>Heat Source</th>\n",
       "      <th>Item First Ignited</th>\n",
       "      <th>Human Factors Associated with Ignition</th>\n",
       "      <th>Structure Type</th>\n",
       "      <th>Structure Status</th>\n",
       "      <th>Floor of Fire Origin</th>\n",
       "      <th>Fire Spread</th>\n",
       "      <th>No Flame Spead</th>\n",
       "      <th>Number of floors with minimum damage</th>\n",
       "      <th>Number of floors with significant damage</th>\n",
       "      <th>Number of floors with heavy damage</th>\n",
       "      <th>Number of floors with extreme damage</th>\n",
       "      <th>Detectors Present</th>\n",
       "      <th>Detector Type</th>\n",
       "      <th>Detector Operation</th>\n",
       "      <th>Detector Effectiveness</th>\n",
       "      <th>Detector Failure Reason</th>\n",
       "      <th>Automatic Extinguishing System Present</th>\n",
       "      <th>Automatic Extinguishing Sytem Type</th>\n",
       "      <th>Automatic Extinguishing Sytem Perfomance</th>\n",
       "      <th>Automatic Extinguishing Sytem Failure Reason</th>\n",
       "      <th>Number of Sprinkler Heads Operating</th>\n",
       "      <th>Supervisor District</th>\n",
       "      <th>Neighborhood  District</th>\n",
       "      <th>Location</th>\n",
       "    </tr>\n",
       "  </thead>\n",
       "  <tbody>\n",
       "    <tr>\n",
       "      <th>0</th>\n",
       "      <td>01/01/2003</td>\n",
       "      <td>143</td>\n",
       "      <td>143</td>\n",
       "      <td>143</td>\n",
       "      <td>143</td>\n",
       "      <td>143</td>\n",
       "      <td>143</td>\n",
       "      <td>143</td>\n",
       "      <td>143</td>\n",
       "      <td>118</td>\n",
       "      <td>143</td>\n",
       "      <td>143</td>\n",
       "      <td>12</td>\n",
       "      <td>143</td>\n",
       "      <td>143</td>\n",
       "      <td>143</td>\n",
       "      <td>143</td>\n",
       "      <td>143</td>\n",
       "      <td>143</td>\n",
       "      <td>118</td>\n",
       "      <td>143</td>\n",
       "      <td>143</td>\n",
       "      <td>143</td>\n",
       "      <td>143</td>\n",
       "      <td>143</td>\n",
       "      <td>143</td>\n",
       "      <td>0</td>\n",
       "      <td>143</td>\n",
       "      <td>143</td>\n",
       "      <td>143</td>\n",
       "      <td>143</td>\n",
       "      <td>143</td>\n",
       "      <td>143</td>\n",
       "      <td>143</td>\n",
       "      <td>21</td>\n",
       "      <td>21</td>\n",
       "      <td>21</td>\n",
       "      <td>21</td>\n",
       "      <td>21</td>\n",
       "      <td>21</td>\n",
       "      <td>21</td>\n",
       "      <td>14</td>\n",
       "      <td>14</td>\n",
       "      <td>2</td>\n",
       "      <td>14</td>\n",
       "      <td>2</td>\n",
       "      <td>2</td>\n",
       "      <td>2</td>\n",
       "      <td>2</td>\n",
       "      <td>2</td>\n",
       "      <td>14</td>\n",
       "      <td>14</td>\n",
       "      <td>14</td>\n",
       "      <td>14</td>\n",
       "      <td>14</td>\n",
       "      <td>14</td>\n",
       "      <td>14</td>\n",
       "      <td>14</td>\n",
       "      <td>14</td>\n",
       "      <td>2</td>\n",
       "      <td>118</td>\n",
       "      <td>118</td>\n",
       "      <td>118</td>\n",
       "    </tr>\n",
       "    <tr>\n",
       "      <th>1</th>\n",
       "      <td>01/01/2004</td>\n",
       "      <td>149</td>\n",
       "      <td>149</td>\n",
       "      <td>149</td>\n",
       "      <td>149</td>\n",
       "      <td>149</td>\n",
       "      <td>149</td>\n",
       "      <td>149</td>\n",
       "      <td>149</td>\n",
       "      <td>116</td>\n",
       "      <td>149</td>\n",
       "      <td>149</td>\n",
       "      <td>1</td>\n",
       "      <td>149</td>\n",
       "      <td>149</td>\n",
       "      <td>149</td>\n",
       "      <td>149</td>\n",
       "      <td>149</td>\n",
       "      <td>149</td>\n",
       "      <td>148</td>\n",
       "      <td>149</td>\n",
       "      <td>149</td>\n",
       "      <td>149</td>\n",
       "      <td>149</td>\n",
       "      <td>149</td>\n",
       "      <td>149</td>\n",
       "      <td>0</td>\n",
       "      <td>149</td>\n",
       "      <td>149</td>\n",
       "      <td>149</td>\n",
       "      <td>149</td>\n",
       "      <td>149</td>\n",
       "      <td>149</td>\n",
       "      <td>149</td>\n",
       "      <td>8</td>\n",
       "      <td>8</td>\n",
       "      <td>8</td>\n",
       "      <td>8</td>\n",
       "      <td>8</td>\n",
       "      <td>8</td>\n",
       "      <td>8</td>\n",
       "      <td>5</td>\n",
       "      <td>5</td>\n",
       "      <td>4</td>\n",
       "      <td>5</td>\n",
       "      <td>4</td>\n",
       "      <td>4</td>\n",
       "      <td>4</td>\n",
       "      <td>4</td>\n",
       "      <td>4</td>\n",
       "      <td>5</td>\n",
       "      <td>5</td>\n",
       "      <td>5</td>\n",
       "      <td>5</td>\n",
       "      <td>5</td>\n",
       "      <td>5</td>\n",
       "      <td>5</td>\n",
       "      <td>5</td>\n",
       "      <td>5</td>\n",
       "      <td>4</td>\n",
       "      <td>116</td>\n",
       "      <td>116</td>\n",
       "      <td>116</td>\n",
       "    </tr>\n",
       "    <tr>\n",
       "      <th>2</th>\n",
       "      <td>01/01/2005</td>\n",
       "      <td>95</td>\n",
       "      <td>95</td>\n",
       "      <td>95</td>\n",
       "      <td>95</td>\n",
       "      <td>95</td>\n",
       "      <td>95</td>\n",
       "      <td>95</td>\n",
       "      <td>95</td>\n",
       "      <td>79</td>\n",
       "      <td>95</td>\n",
       "      <td>95</td>\n",
       "      <td>0</td>\n",
       "      <td>95</td>\n",
       "      <td>95</td>\n",
       "      <td>95</td>\n",
       "      <td>95</td>\n",
       "      <td>95</td>\n",
       "      <td>95</td>\n",
       "      <td>95</td>\n",
       "      <td>95</td>\n",
       "      <td>95</td>\n",
       "      <td>95</td>\n",
       "      <td>95</td>\n",
       "      <td>95</td>\n",
       "      <td>95</td>\n",
       "      <td>0</td>\n",
       "      <td>95</td>\n",
       "      <td>95</td>\n",
       "      <td>95</td>\n",
       "      <td>95</td>\n",
       "      <td>95</td>\n",
       "      <td>95</td>\n",
       "      <td>95</td>\n",
       "      <td>4</td>\n",
       "      <td>4</td>\n",
       "      <td>4</td>\n",
       "      <td>4</td>\n",
       "      <td>4</td>\n",
       "      <td>4</td>\n",
       "      <td>4</td>\n",
       "      <td>2</td>\n",
       "      <td>2</td>\n",
       "      <td>2</td>\n",
       "      <td>2</td>\n",
       "      <td>1</td>\n",
       "      <td>2</td>\n",
       "      <td>2</td>\n",
       "      <td>2</td>\n",
       "      <td>2</td>\n",
       "      <td>2</td>\n",
       "      <td>2</td>\n",
       "      <td>2</td>\n",
       "      <td>2</td>\n",
       "      <td>2</td>\n",
       "      <td>2</td>\n",
       "      <td>2</td>\n",
       "      <td>2</td>\n",
       "      <td>2</td>\n",
       "      <td>2</td>\n",
       "      <td>79</td>\n",
       "      <td>79</td>\n",
       "      <td>79</td>\n",
       "    </tr>\n",
       "    <tr>\n",
       "      <th>3</th>\n",
       "      <td>01/01/2006</td>\n",
       "      <td>96</td>\n",
       "      <td>96</td>\n",
       "      <td>96</td>\n",
       "      <td>96</td>\n",
       "      <td>96</td>\n",
       "      <td>96</td>\n",
       "      <td>96</td>\n",
       "      <td>96</td>\n",
       "      <td>74</td>\n",
       "      <td>96</td>\n",
       "      <td>96</td>\n",
       "      <td>0</td>\n",
       "      <td>96</td>\n",
       "      <td>96</td>\n",
       "      <td>96</td>\n",
       "      <td>96</td>\n",
       "      <td>96</td>\n",
       "      <td>96</td>\n",
       "      <td>96</td>\n",
       "      <td>96</td>\n",
       "      <td>96</td>\n",
       "      <td>96</td>\n",
       "      <td>96</td>\n",
       "      <td>96</td>\n",
       "      <td>96</td>\n",
       "      <td>0</td>\n",
       "      <td>96</td>\n",
       "      <td>96</td>\n",
       "      <td>96</td>\n",
       "      <td>96</td>\n",
       "      <td>96</td>\n",
       "      <td>96</td>\n",
       "      <td>96</td>\n",
       "      <td>6</td>\n",
       "      <td>6</td>\n",
       "      <td>6</td>\n",
       "      <td>6</td>\n",
       "      <td>6</td>\n",
       "      <td>6</td>\n",
       "      <td>6</td>\n",
       "      <td>4</td>\n",
       "      <td>4</td>\n",
       "      <td>4</td>\n",
       "      <td>4</td>\n",
       "      <td>4</td>\n",
       "      <td>4</td>\n",
       "      <td>4</td>\n",
       "      <td>4</td>\n",
       "      <td>4</td>\n",
       "      <td>4</td>\n",
       "      <td>4</td>\n",
       "      <td>4</td>\n",
       "      <td>4</td>\n",
       "      <td>4</td>\n",
       "      <td>4</td>\n",
       "      <td>4</td>\n",
       "      <td>4</td>\n",
       "      <td>4</td>\n",
       "      <td>4</td>\n",
       "      <td>74</td>\n",
       "      <td>74</td>\n",
       "      <td>74</td>\n",
       "    </tr>\n",
       "    <tr>\n",
       "      <th>4</th>\n",
       "      <td>01/01/2007</td>\n",
       "      <td>131</td>\n",
       "      <td>131</td>\n",
       "      <td>131</td>\n",
       "      <td>131</td>\n",
       "      <td>131</td>\n",
       "      <td>131</td>\n",
       "      <td>131</td>\n",
       "      <td>131</td>\n",
       "      <td>98</td>\n",
       "      <td>131</td>\n",
       "      <td>131</td>\n",
       "      <td>0</td>\n",
       "      <td>131</td>\n",
       "      <td>131</td>\n",
       "      <td>131</td>\n",
       "      <td>131</td>\n",
       "      <td>131</td>\n",
       "      <td>131</td>\n",
       "      <td>127</td>\n",
       "      <td>8</td>\n",
       "      <td>12</td>\n",
       "      <td>131</td>\n",
       "      <td>131</td>\n",
       "      <td>131</td>\n",
       "      <td>131</td>\n",
       "      <td>0</td>\n",
       "      <td>131</td>\n",
       "      <td>131</td>\n",
       "      <td>131</td>\n",
       "      <td>131</td>\n",
       "      <td>131</td>\n",
       "      <td>131</td>\n",
       "      <td>131</td>\n",
       "      <td>12</td>\n",
       "      <td>12</td>\n",
       "      <td>12</td>\n",
       "      <td>12</td>\n",
       "      <td>12</td>\n",
       "      <td>12</td>\n",
       "      <td>12</td>\n",
       "      <td>3</td>\n",
       "      <td>3</td>\n",
       "      <td>3</td>\n",
       "      <td>3</td>\n",
       "      <td>3</td>\n",
       "      <td>3</td>\n",
       "      <td>3</td>\n",
       "      <td>3</td>\n",
       "      <td>3</td>\n",
       "      <td>3</td>\n",
       "      <td>3</td>\n",
       "      <td>3</td>\n",
       "      <td>3</td>\n",
       "      <td>3</td>\n",
       "      <td>3</td>\n",
       "      <td>3</td>\n",
       "      <td>3</td>\n",
       "      <td>3</td>\n",
       "      <td>3</td>\n",
       "      <td>98</td>\n",
       "      <td>98</td>\n",
       "      <td>103</td>\n",
       "    </tr>\n",
       "  </tbody>\n",
       "</table>\n",
       "</div>"
      ],
      "text/plain": [
       "  Incident Date  Incident Number  Exposure Number  Address  Call Number  \\\n",
       "0    01/01/2003              143              143      143          143   \n",
       "1    01/01/2004              149              149      149          149   \n",
       "2    01/01/2005               95               95       95           95   \n",
       "3    01/01/2006               96               96       96           96   \n",
       "4    01/01/2007              131              131      131          131   \n",
       "\n",
       "   Alarm DtTm  Arrival DtTm  Close DtTm  City  Zipcode  Battalion  \\\n",
       "0         143           143         143   143      118        143   \n",
       "1         149           149         149   149      116        149   \n",
       "2          95            95          95    95       79         95   \n",
       "3          96            96          96    96       74         96   \n",
       "4         131           131         131   131       98        131   \n",
       "\n",
       "   Station Area  Box  Suppression Units  Suppression Personnel  EMS Units  \\\n",
       "0           143   12                143                    143        143   \n",
       "1           149    1                149                    149        149   \n",
       "2            95    0                 95                     95         95   \n",
       "3            96    0                 96                     96         96   \n",
       "4           131    0                131                    131        131   \n",
       "\n",
       "   EMS Personnel  Other Units  Other Personnel  First Unit On Scene  \\\n",
       "0            143          143              143                  118   \n",
       "1            149          149              149                  148   \n",
       "2             95           95               95                   95   \n",
       "3             96           96               96                   96   \n",
       "4            131          131              131                  127   \n",
       "\n",
       "   Estimated Property Loss  Estimated Contents Loss  Fire Fatalities  \\\n",
       "0                      143                      143              143   \n",
       "1                      149                      149              149   \n",
       "2                       95                       95               95   \n",
       "3                       96                       96               96   \n",
       "4                        8                       12              131   \n",
       "\n",
       "   Fire Injuries  Civilian Fatalities  Civilian Injuries  Number of Alarms  \\\n",
       "0            143                  143                143                 0   \n",
       "1            149                  149                149                 0   \n",
       "2             95                   95                 95                 0   \n",
       "3             96                   96                 96                 0   \n",
       "4            131                  131                131                 0   \n",
       "\n",
       "   Primary Situation  Mutual Aid  Action Taken Primary  \\\n",
       "0                143         143                   143   \n",
       "1                149         149                   149   \n",
       "2                 95          95                    95   \n",
       "3                 96          96                    96   \n",
       "4                131         131                   131   \n",
       "\n",
       "   Action Taken Secondary  Action Taken Other  Detector Alerted Occupants  \\\n",
       "0                     143                 143                         143   \n",
       "1                     149                 149                         149   \n",
       "2                      95                  95                          95   \n",
       "3                      96                  96                          96   \n",
       "4                     131                 131                         131   \n",
       "\n",
       "   Property Use  Area of Fire Origin  Ignition Cause  Ignition Factor Primary  \\\n",
       "0           143                   21              21                       21   \n",
       "1           149                    8               8                        8   \n",
       "2            95                    4               4                        4   \n",
       "3            96                    6               6                        6   \n",
       "4           131                   12              12                       12   \n",
       "\n",
       "   Ignition Factor Secondary  Heat Source  Item First Ignited  \\\n",
       "0                         21           21                  21   \n",
       "1                          8            8                   8   \n",
       "2                          4            4                   4   \n",
       "3                          6            6                   6   \n",
       "4                         12           12                  12   \n",
       "\n",
       "   Human Factors Associated with Ignition  Structure Type  Structure Status  \\\n",
       "0                                      21              14                14   \n",
       "1                                       8               5                 5   \n",
       "2                                       4               2                 2   \n",
       "3                                       6               4                 4   \n",
       "4                                      12               3                 3   \n",
       "\n",
       "   Floor of Fire Origin  Fire Spread  No Flame Spead  \\\n",
       "0                     2           14               2   \n",
       "1                     4            5               4   \n",
       "2                     2            2               1   \n",
       "3                     4            4               4   \n",
       "4                     3            3               3   \n",
       "\n",
       "   Number of floors with minimum damage  \\\n",
       "0                                     2   \n",
       "1                                     4   \n",
       "2                                     2   \n",
       "3                                     4   \n",
       "4                                     3   \n",
       "\n",
       "   Number of floors with significant damage  \\\n",
       "0                                         2   \n",
       "1                                         4   \n",
       "2                                         2   \n",
       "3                                         4   \n",
       "4                                         3   \n",
       "\n",
       "   Number of floors with heavy damage  Number of floors with extreme damage  \\\n",
       "0                                   2                                     2   \n",
       "1                                   4                                     4   \n",
       "2                                   2                                     2   \n",
       "3                                   4                                     4   \n",
       "4                                   3                                     3   \n",
       "\n",
       "   Detectors Present  Detector Type  Detector Operation  \\\n",
       "0                 14             14                  14   \n",
       "1                  5              5                   5   \n",
       "2                  2              2                   2   \n",
       "3                  4              4                   4   \n",
       "4                  3              3                   3   \n",
       "\n",
       "   Detector Effectiveness  Detector Failure Reason  \\\n",
       "0                      14                       14   \n",
       "1                       5                        5   \n",
       "2                       2                        2   \n",
       "3                       4                        4   \n",
       "4                       3                        3   \n",
       "\n",
       "   Automatic Extinguishing System Present  Automatic Extinguishing Sytem Type  \\\n",
       "0                                      14                                  14   \n",
       "1                                       5                                   5   \n",
       "2                                       2                                   2   \n",
       "3                                       4                                   4   \n",
       "4                                       3                                   3   \n",
       "\n",
       "   Automatic Extinguishing Sytem Perfomance  \\\n",
       "0                                        14   \n",
       "1                                         5   \n",
       "2                                         2   \n",
       "3                                         4   \n",
       "4                                         3   \n",
       "\n",
       "   Automatic Extinguishing Sytem Failure Reason  \\\n",
       "0                                            14   \n",
       "1                                             5   \n",
       "2                                             2   \n",
       "3                                             4   \n",
       "4                                             3   \n",
       "\n",
       "   Number of Sprinkler Heads Operating  Supervisor District  \\\n",
       "0                                    2                  118   \n",
       "1                                    4                  116   \n",
       "2                                    2                   79   \n",
       "3                                    4                   74   \n",
       "4                                    3                   98   \n",
       "\n",
       "   Neighborhood  District  Location  \n",
       "0                     118       118  \n",
       "1                     116       116  \n",
       "2                      79        79  \n",
       "3                      74        74  \n",
       "4                      98       103  "
      ]
     },
     "execution_count": 7,
     "metadata": {},
     "output_type": "execute_result"
    }
   ],
   "source": [
    "gf.head()"
   ]
  },
  {
   "cell_type": "code",
   "execution_count": 8,
   "metadata": {
    "collapsed": false,
    "deletable": true,
    "editable": true
   },
   "outputs": [],
   "source": [
    "import datetime\n",
    "gf['Incident Date'] = pd.to_datetime(gf['Incident Date'], format='%m/%d/%Y')"
   ]
  },
  {
   "cell_type": "code",
   "execution_count": 9,
   "metadata": {
    "collapsed": false,
    "deletable": true,
    "editable": true
   },
   "outputs": [],
   "source": [
    "gf.sort_values(by='Incident Date', ascending=True, inplace=True)"
   ]
  },
  {
   "cell_type": "code",
   "execution_count": 10,
   "metadata": {
    "collapsed": false,
    "deletable": true,
    "editable": true
   },
   "outputs": [
    {
     "data": {
      "text/html": [
       "<div>\n",
       "<table border=\"1\" class=\"dataframe\">\n",
       "  <thead>\n",
       "    <tr style=\"text-align: right;\">\n",
       "      <th></th>\n",
       "      <th>Incident Date</th>\n",
       "      <th>Incident Number</th>\n",
       "      <th>Exposure Number</th>\n",
       "      <th>Address</th>\n",
       "      <th>Call Number</th>\n",
       "      <th>Alarm DtTm</th>\n",
       "      <th>Arrival DtTm</th>\n",
       "      <th>Close DtTm</th>\n",
       "      <th>City</th>\n",
       "      <th>Zipcode</th>\n",
       "      <th>Battalion</th>\n",
       "      <th>Station Area</th>\n",
       "      <th>Box</th>\n",
       "      <th>Suppression Units</th>\n",
       "      <th>Suppression Personnel</th>\n",
       "      <th>EMS Units</th>\n",
       "      <th>EMS Personnel</th>\n",
       "      <th>Other Units</th>\n",
       "      <th>Other Personnel</th>\n",
       "      <th>First Unit On Scene</th>\n",
       "      <th>Estimated Property Loss</th>\n",
       "      <th>Estimated Contents Loss</th>\n",
       "      <th>Fire Fatalities</th>\n",
       "      <th>Fire Injuries</th>\n",
       "      <th>Civilian Fatalities</th>\n",
       "      <th>Civilian Injuries</th>\n",
       "      <th>Number of Alarms</th>\n",
       "      <th>Primary Situation</th>\n",
       "      <th>Mutual Aid</th>\n",
       "      <th>Action Taken Primary</th>\n",
       "      <th>Action Taken Secondary</th>\n",
       "      <th>Action Taken Other</th>\n",
       "      <th>Detector Alerted Occupants</th>\n",
       "      <th>Property Use</th>\n",
       "      <th>Area of Fire Origin</th>\n",
       "      <th>Ignition Cause</th>\n",
       "      <th>Ignition Factor Primary</th>\n",
       "      <th>Ignition Factor Secondary</th>\n",
       "      <th>Heat Source</th>\n",
       "      <th>Item First Ignited</th>\n",
       "      <th>Human Factors Associated with Ignition</th>\n",
       "      <th>Structure Type</th>\n",
       "      <th>Structure Status</th>\n",
       "      <th>Floor of Fire Origin</th>\n",
       "      <th>Fire Spread</th>\n",
       "      <th>No Flame Spead</th>\n",
       "      <th>Number of floors with minimum damage</th>\n",
       "      <th>Number of floors with significant damage</th>\n",
       "      <th>Number of floors with heavy damage</th>\n",
       "      <th>Number of floors with extreme damage</th>\n",
       "      <th>Detectors Present</th>\n",
       "      <th>Detector Type</th>\n",
       "      <th>Detector Operation</th>\n",
       "      <th>Detector Effectiveness</th>\n",
       "      <th>Detector Failure Reason</th>\n",
       "      <th>Automatic Extinguishing System Present</th>\n",
       "      <th>Automatic Extinguishing Sytem Type</th>\n",
       "      <th>Automatic Extinguishing Sytem Perfomance</th>\n",
       "      <th>Automatic Extinguishing Sytem Failure Reason</th>\n",
       "      <th>Number of Sprinkler Heads Operating</th>\n",
       "      <th>Supervisor District</th>\n",
       "      <th>Neighborhood  District</th>\n",
       "      <th>Location</th>\n",
       "    </tr>\n",
       "  </thead>\n",
       "  <tbody>\n",
       "    <tr>\n",
       "      <th>0</th>\n",
       "      <td>2003-01-01</td>\n",
       "      <td>143</td>\n",
       "      <td>143</td>\n",
       "      <td>143</td>\n",
       "      <td>143</td>\n",
       "      <td>143</td>\n",
       "      <td>143</td>\n",
       "      <td>143</td>\n",
       "      <td>143</td>\n",
       "      <td>118</td>\n",
       "      <td>143</td>\n",
       "      <td>143</td>\n",
       "      <td>12</td>\n",
       "      <td>143</td>\n",
       "      <td>143</td>\n",
       "      <td>143</td>\n",
       "      <td>143</td>\n",
       "      <td>143</td>\n",
       "      <td>143</td>\n",
       "      <td>118</td>\n",
       "      <td>143</td>\n",
       "      <td>143</td>\n",
       "      <td>143</td>\n",
       "      <td>143</td>\n",
       "      <td>143</td>\n",
       "      <td>143</td>\n",
       "      <td>0</td>\n",
       "      <td>143</td>\n",
       "      <td>143</td>\n",
       "      <td>143</td>\n",
       "      <td>143</td>\n",
       "      <td>143</td>\n",
       "      <td>143</td>\n",
       "      <td>143</td>\n",
       "      <td>21</td>\n",
       "      <td>21</td>\n",
       "      <td>21</td>\n",
       "      <td>21</td>\n",
       "      <td>21</td>\n",
       "      <td>21</td>\n",
       "      <td>21</td>\n",
       "      <td>14</td>\n",
       "      <td>14</td>\n",
       "      <td>2</td>\n",
       "      <td>14</td>\n",
       "      <td>2</td>\n",
       "      <td>2</td>\n",
       "      <td>2</td>\n",
       "      <td>2</td>\n",
       "      <td>2</td>\n",
       "      <td>14</td>\n",
       "      <td>14</td>\n",
       "      <td>14</td>\n",
       "      <td>14</td>\n",
       "      <td>14</td>\n",
       "      <td>14</td>\n",
       "      <td>14</td>\n",
       "      <td>14</td>\n",
       "      <td>14</td>\n",
       "      <td>2</td>\n",
       "      <td>118</td>\n",
       "      <td>118</td>\n",
       "      <td>118</td>\n",
       "    </tr>\n",
       "    <tr>\n",
       "      <th>14</th>\n",
       "      <td>2003-01-02</td>\n",
       "      <td>84</td>\n",
       "      <td>84</td>\n",
       "      <td>84</td>\n",
       "      <td>84</td>\n",
       "      <td>84</td>\n",
       "      <td>84</td>\n",
       "      <td>84</td>\n",
       "      <td>84</td>\n",
       "      <td>65</td>\n",
       "      <td>84</td>\n",
       "      <td>84</td>\n",
       "      <td>0</td>\n",
       "      <td>84</td>\n",
       "      <td>84</td>\n",
       "      <td>84</td>\n",
       "      <td>84</td>\n",
       "      <td>84</td>\n",
       "      <td>84</td>\n",
       "      <td>74</td>\n",
       "      <td>84</td>\n",
       "      <td>84</td>\n",
       "      <td>84</td>\n",
       "      <td>84</td>\n",
       "      <td>84</td>\n",
       "      <td>84</td>\n",
       "      <td>0</td>\n",
       "      <td>84</td>\n",
       "      <td>84</td>\n",
       "      <td>84</td>\n",
       "      <td>84</td>\n",
       "      <td>84</td>\n",
       "      <td>84</td>\n",
       "      <td>84</td>\n",
       "      <td>3</td>\n",
       "      <td>3</td>\n",
       "      <td>3</td>\n",
       "      <td>3</td>\n",
       "      <td>3</td>\n",
       "      <td>3</td>\n",
       "      <td>3</td>\n",
       "      <td>2</td>\n",
       "      <td>2</td>\n",
       "      <td>2</td>\n",
       "      <td>2</td>\n",
       "      <td>1</td>\n",
       "      <td>2</td>\n",
       "      <td>2</td>\n",
       "      <td>2</td>\n",
       "      <td>2</td>\n",
       "      <td>2</td>\n",
       "      <td>2</td>\n",
       "      <td>2</td>\n",
       "      <td>2</td>\n",
       "      <td>2</td>\n",
       "      <td>2</td>\n",
       "      <td>2</td>\n",
       "      <td>2</td>\n",
       "      <td>2</td>\n",
       "      <td>2</td>\n",
       "      <td>65</td>\n",
       "      <td>65</td>\n",
       "      <td>65</td>\n",
       "    </tr>\n",
       "    <tr>\n",
       "      <th>28</th>\n",
       "      <td>2003-01-03</td>\n",
       "      <td>120</td>\n",
       "      <td>120</td>\n",
       "      <td>120</td>\n",
       "      <td>120</td>\n",
       "      <td>120</td>\n",
       "      <td>120</td>\n",
       "      <td>120</td>\n",
       "      <td>120</td>\n",
       "      <td>90</td>\n",
       "      <td>120</td>\n",
       "      <td>120</td>\n",
       "      <td>1</td>\n",
       "      <td>120</td>\n",
       "      <td>120</td>\n",
       "      <td>120</td>\n",
       "      <td>120</td>\n",
       "      <td>120</td>\n",
       "      <td>120</td>\n",
       "      <td>104</td>\n",
       "      <td>120</td>\n",
       "      <td>120</td>\n",
       "      <td>120</td>\n",
       "      <td>120</td>\n",
       "      <td>120</td>\n",
       "      <td>120</td>\n",
       "      <td>0</td>\n",
       "      <td>120</td>\n",
       "      <td>120</td>\n",
       "      <td>120</td>\n",
       "      <td>120</td>\n",
       "      <td>120</td>\n",
       "      <td>120</td>\n",
       "      <td>120</td>\n",
       "      <td>5</td>\n",
       "      <td>5</td>\n",
       "      <td>5</td>\n",
       "      <td>5</td>\n",
       "      <td>5</td>\n",
       "      <td>5</td>\n",
       "      <td>5</td>\n",
       "      <td>3</td>\n",
       "      <td>3</td>\n",
       "      <td>2</td>\n",
       "      <td>3</td>\n",
       "      <td>2</td>\n",
       "      <td>2</td>\n",
       "      <td>2</td>\n",
       "      <td>2</td>\n",
       "      <td>2</td>\n",
       "      <td>3</td>\n",
       "      <td>3</td>\n",
       "      <td>3</td>\n",
       "      <td>3</td>\n",
       "      <td>3</td>\n",
       "      <td>3</td>\n",
       "      <td>3</td>\n",
       "      <td>3</td>\n",
       "      <td>3</td>\n",
       "      <td>2</td>\n",
       "      <td>90</td>\n",
       "      <td>90</td>\n",
       "      <td>90</td>\n",
       "    </tr>\n",
       "  </tbody>\n",
       "</table>\n",
       "</div>"
      ],
      "text/plain": [
       "   Incident Date  Incident Number  Exposure Number  Address  Call Number  \\\n",
       "0     2003-01-01              143              143      143          143   \n",
       "14    2003-01-02               84               84       84           84   \n",
       "28    2003-01-03              120              120      120          120   \n",
       "\n",
       "    Alarm DtTm  Arrival DtTm  Close DtTm  City  Zipcode  Battalion  \\\n",
       "0          143           143         143   143      118        143   \n",
       "14          84            84          84    84       65         84   \n",
       "28         120           120         120   120       90        120   \n",
       "\n",
       "    Station Area  Box  Suppression Units  Suppression Personnel  EMS Units  \\\n",
       "0            143   12                143                    143        143   \n",
       "14            84    0                 84                     84         84   \n",
       "28           120    1                120                    120        120   \n",
       "\n",
       "    EMS Personnel  Other Units  Other Personnel  First Unit On Scene  \\\n",
       "0             143          143              143                  118   \n",
       "14             84           84               84                   74   \n",
       "28            120          120              120                  104   \n",
       "\n",
       "    Estimated Property Loss  Estimated Contents Loss  Fire Fatalities  \\\n",
       "0                       143                      143              143   \n",
       "14                       84                       84               84   \n",
       "28                      120                      120              120   \n",
       "\n",
       "    Fire Injuries  Civilian Fatalities  Civilian Injuries  Number of Alarms  \\\n",
       "0             143                  143                143                 0   \n",
       "14             84                   84                 84                 0   \n",
       "28            120                  120                120                 0   \n",
       "\n",
       "    Primary Situation  Mutual Aid  Action Taken Primary  \\\n",
       "0                 143         143                   143   \n",
       "14                 84          84                    84   \n",
       "28                120         120                   120   \n",
       "\n",
       "    Action Taken Secondary  Action Taken Other  Detector Alerted Occupants  \\\n",
       "0                      143                 143                         143   \n",
       "14                      84                  84                          84   \n",
       "28                     120                 120                         120   \n",
       "\n",
       "    Property Use  Area of Fire Origin  Ignition Cause  \\\n",
       "0            143                   21              21   \n",
       "14            84                    3               3   \n",
       "28           120                    5               5   \n",
       "\n",
       "    Ignition Factor Primary  Ignition Factor Secondary  Heat Source  \\\n",
       "0                        21                         21           21   \n",
       "14                        3                          3            3   \n",
       "28                        5                          5            5   \n",
       "\n",
       "    Item First Ignited  Human Factors Associated with Ignition  \\\n",
       "0                   21                                      21   \n",
       "14                   3                                       3   \n",
       "28                   5                                       5   \n",
       "\n",
       "    Structure Type  Structure Status  Floor of Fire Origin  Fire Spread  \\\n",
       "0               14                14                     2           14   \n",
       "14               2                 2                     2            2   \n",
       "28               3                 3                     2            3   \n",
       "\n",
       "    No Flame Spead  Number of floors with minimum damage  \\\n",
       "0                2                                     2   \n",
       "14               1                                     2   \n",
       "28               2                                     2   \n",
       "\n",
       "    Number of floors with significant damage  \\\n",
       "0                                          2   \n",
       "14                                         2   \n",
       "28                                         2   \n",
       "\n",
       "    Number of floors with heavy damage  Number of floors with extreme damage  \\\n",
       "0                                    2                                     2   \n",
       "14                                   2                                     2   \n",
       "28                                   2                                     2   \n",
       "\n",
       "    Detectors Present  Detector Type  Detector Operation  \\\n",
       "0                  14             14                  14   \n",
       "14                  2              2                   2   \n",
       "28                  3              3                   3   \n",
       "\n",
       "    Detector Effectiveness  Detector Failure Reason  \\\n",
       "0                       14                       14   \n",
       "14                       2                        2   \n",
       "28                       3                        3   \n",
       "\n",
       "    Automatic Extinguishing System Present  \\\n",
       "0                                       14   \n",
       "14                                       2   \n",
       "28                                       3   \n",
       "\n",
       "    Automatic Extinguishing Sytem Type  \\\n",
       "0                                   14   \n",
       "14                                   2   \n",
       "28                                   3   \n",
       "\n",
       "    Automatic Extinguishing Sytem Perfomance  \\\n",
       "0                                         14   \n",
       "14                                         2   \n",
       "28                                         3   \n",
       "\n",
       "    Automatic Extinguishing Sytem Failure Reason  \\\n",
       "0                                             14   \n",
       "14                                             2   \n",
       "28                                             3   \n",
       "\n",
       "    Number of Sprinkler Heads Operating  Supervisor District  \\\n",
       "0                                     2                  118   \n",
       "14                                    2                   65   \n",
       "28                                    2                   90   \n",
       "\n",
       "    Neighborhood  District  Location  \n",
       "0                      118       118  \n",
       "14                      65        65  \n",
       "28                      90        90  "
      ]
     },
     "execution_count": 10,
     "metadata": {},
     "output_type": "execute_result"
    }
   ],
   "source": [
    "gf.head(3)"
   ]
  },
  {
   "cell_type": "code",
   "execution_count": 11,
   "metadata": {
    "collapsed": false,
    "deletable": true,
    "editable": true
   },
   "outputs": [
    {
     "data": {
      "text/plain": [
       "Number of Alarms                                406736\n",
       "Number of floors with significant damage        400152\n",
       "Number of floors with minimum damage            400150\n",
       "Number of floors with heavy damage              400150\n",
       "Number of floors with extreme damage            400149\n",
       "Number of Sprinkler Heads Operating             400096\n",
       "Floor of Fire Origin                            399412\n",
       "Fire Spread                                     397150\n",
       "Automatic Extinguishing Sytem Failure Reason    397144\n",
       "Detector Failure Reason                         397132\n",
       "Automatic Extinguishing Sytem Type              396960\n",
       "Automatic Extinguishing Sytem Perfomance        396960\n",
       "Detector Effectiveness                          396874\n",
       "Detector Operation                              396745\n",
       "Detector Type                                   396745\n",
       "Structure Status                                396399\n",
       "Automatic Extinguishing System Present          396399\n",
       "Detectors Present                               396398\n",
       "Structure Type                                  396331\n",
       "Ignition Factor Secondary                       382593\n",
       "Human Factors Associated with Ignition          379948\n",
       "Ignition Factor Primary                         379947\n",
       "Ignition Cause                                  379946\n",
       "Item First Ignited                              379945\n",
       "Heat Source                                     379945\n",
       "Area of Fire Origin                             379945\n",
       "No Flame Spead                                  330800\n",
       "Box                                             297821\n",
       "Estimated Property Loss                         280961\n",
       "Estimated Contents Loss                         273883\n",
       "First Unit On Scene                              76927\n",
       "Neighborhood  District                           72506\n",
       "Supervisor District                              72402\n",
       "Zipcode                                          72387\n",
       "Action Taken Other                               70012\n",
       "Detector Alerted Occupants                       68043\n",
       "Action Taken Secondary                           64704\n",
       "Location                                         63690\n",
       "City                                              1227\n",
       "Station Area                                       529\n",
       "Property Use                                       332\n",
       "Address                                            103\n",
       "Arrival DtTm                                        18\n",
       "Civilian Fatalities                                  0\n",
       "Exposure Number                                      0\n",
       "Incident Date                                        0\n",
       "Call Number                                          0\n",
       "Alarm DtTm                                           0\n",
       "Close DtTm                                           0\n",
       "Battalion                                            0\n",
       "Action Taken Primary                                 0\n",
       "Fire Injuries                                        0\n",
       "Suppression Units                                    0\n",
       "Suppression Personnel                                0\n",
       "EMS Units                                            0\n",
       "EMS Personnel                                        0\n",
       "Other Units                                          0\n",
       "Other Personnel                                      0\n",
       "Mutual Aid                                           0\n",
       "Primary Situation                                    0\n",
       "Civilian Injuries                                    0\n",
       "Fire Fatalities                                      0\n",
       "Incident Number                                      0\n",
       "dtype: int64"
      ]
     },
     "execution_count": 11,
     "metadata": {},
     "output_type": "execute_result"
    }
   ],
   "source": [
    "dff.isnull().sum().sort_values(ascending=False)"
   ]
  },
  {
   "cell_type": "code",
   "execution_count": 12,
   "metadata": {
    "collapsed": false,
    "deletable": true,
    "editable": true
   },
   "outputs": [
    {
     "data": {
      "text/plain": [
       "array([nan, '1 -enclosed building', '3 -open structure', '-',\n",
       "       '2 -fixed portable or mobile structure', '1 enclosed building',\n",
       "       '0 -structure type, other', '5 -tent', '6 -open platform',\n",
       "       '7 -underground structure work areas', '8 -connective structure',\n",
       "       '0 structure type, other', '4 -air supported structure',\n",
       "       '3 open structure', '6 open platform', '8 connective structure',\n",
       "       '2 fixed portable or mobile structure',\n",
       "       '7 underground structure work area', '4 air-supported structure'], dtype=object)"
      ]
     },
     "execution_count": 12,
     "metadata": {},
     "output_type": "execute_result"
    }
   ],
   "source": [
    "dff['Structure Type'].unique()"
   ]
  },
  {
   "cell_type": "code",
   "execution_count": 13,
   "metadata": {
    "collapsed": false,
    "deletable": true,
    "editable": true
   },
   "outputs": [
    {
     "data": {
      "text/plain": [
       "array([nan, '2 -in normal use', '-', '3 -idle, not routinely used',\n",
       "       '5 -vacant and secured', '2 in normal use',\n",
       "       '6 -vacant and unsecured', '0 -other', '1 -under construction',\n",
       "       '4 -under major renovation', '1 under construction',\n",
       "       '4 under major renovation', 'u -undetermined',\n",
       "       '7 -being demolished', 'u undetermined', '5 vacant and secured',\n",
       "       '0 building status, other', '6 vacant and unsecured',\n",
       "       '3 idle, not routinely used', '7 being demolished'], dtype=object)"
      ]
     },
     "execution_count": 13,
     "metadata": {},
     "output_type": "execute_result"
    }
   ],
   "source": [
    "dff['Structure Status'].unique()"
   ]
  },
  {
   "cell_type": "code",
   "execution_count": 14,
   "metadata": {
    "collapsed": false,
    "deletable": true,
    "editable": true
   },
   "outputs": [
    {
     "data": {
      "text/plain": [
       "array([nan, '2 - unintentional', '0 - cause, other',\n",
       "       '3 - failure of equipment or heat source', '-', '1 - intentional',\n",
       "       'u - cause undetermined after investigation', '2 unintentional',\n",
       "       '5 - cause under investigation',\n",
       "       'u cause undetermined after investigation', '4 - act of nature',\n",
       "       '3 failure of equipment or heat source', '1 intentional',\n",
       "       '5 cause under investigation', '4 act of nature',\n",
       "       '0 cause, other (only used for additional exposures)'], dtype=object)"
      ]
     },
     "execution_count": 14,
     "metadata": {},
     "output_type": "execute_result"
    }
   ],
   "source": [
    "dff['Ignition Cause'].unique()"
   ]
  },
  {
   "cell_type": "code",
   "execution_count": 15,
   "metadata": {
    "collapsed": false,
    "deletable": true,
    "editable": true
   },
   "outputs": [
    {
     "data": {
      "text/plain": [
       "-                                                            7374\n",
       "1 -alerted occupants, occupants responded                    1875\n",
       "1 detector alerted occupants, occupants responded             232\n",
       "3 -there were no occupants                                    192\n",
       "2 -alerted occupants-occ. failed to resond                     60\n",
       "u -undetermined                                                55\n",
       "3 there were no occupants                                      29\n",
       "4 -failed to alert occupants                                   21\n",
       "u undetermined                                                 12\n",
       "2 detector alerted occupants, occupants failed to respond      11\n",
       "4 detector failed to alert occupants                            1\n",
       "Name: Detector Effectiveness, dtype: int64"
      ]
     },
     "execution_count": 15,
     "metadata": {},
     "output_type": "execute_result"
    }
   ],
   "source": [
    "dff['Detector Effectiveness'].value_counts()"
   ]
  },
  {
   "cell_type": "code",
   "execution_count": 16,
   "metadata": {
    "collapsed": false,
    "deletable": true,
    "editable": true
   },
   "outputs": [
    {
     "data": {
      "text/plain": [
       "array([nan, 'South of Market', 'Nob Hill', 'Marina', 'Visitacion Valley',\n",
       "       'Sunset/Parkside', 'Potrero Hill', 'Presidio Heights',\n",
       "       'Financial District/South Beach', 'Chinatown', 'West of Twin Peaks',\n",
       "       'Mission', 'Russian Hill', 'Pacific Heights', 'Excelsior',\n",
       "       'Tenderloin', 'Bayview Hunters Point', 'Treasure Island',\n",
       "       'Inner Sunset', 'Portola', 'Lone Mountain/USF',\n",
       "       'Castro/Upper Market', 'Golden Gate Park', 'Inner Richmond',\n",
       "       'Hayes Valley', 'North Beach', 'Outer Mission', 'Haight Ashbury',\n",
       "       'Japantown', 'Lakeshore', 'Twin Peaks', 'Seacliff', 'Noe Valley',\n",
       "       'Western Addition', 'Oceanview/Merced/Ingleside', 'Outer Richmond',\n",
       "       'Bernal Heights', 'Mission Bay', 'Lincoln Park', 'Glen Park',\n",
       "       'Presidio', 'McLaren Park'], dtype=object)"
      ]
     },
     "execution_count": 16,
     "metadata": {},
     "output_type": "execute_result"
    }
   ],
   "source": [
    "dff['Neighborhood  District'].unique()"
   ]
  },
  {
   "cell_type": "markdown",
   "metadata": {
    "deletable": true,
    "editable": true
   },
   "source": [
    "Now we have fire instances each day. \n",
    "\n",
    "**PIVOT** Okay so we're not sure how to use this data to make conclusions about the count of fire incidents each day. BUT we've come up with two new hypotheses that might be interesting to explore.\n",
    "<br><br>\n",
    "**HYP 1**: Predict the estimated property damage ($) in each day or week. Could use factors like number of emergy personnel on the scene, which is probably correlated with the scale of the fire which is probably correlated with the value of the building.\n",
    "<br>\n",
    "**HYP 2**: Predict number of emergency personnel needed each day/week, based on the estimated property value, Neighborhood  District. \n",
    "\n",
    "We're going to start with Hyp 2, because we think it would be useful for a fire department to get a call for a fire, and then be able to predict how many suppression personnel it needs to send to the fire. Therefore For predictors we're only going to include columns that have data that that corresponds to data that the fire department would know of before the fire occurred. So we can't, for instnace, use Fire Fatalities, because when the department gets the call, the department doesnt know how many fatalities have occured. \n",
    "\n",
    "<BR>\n",
    "Going to start with the following predictors, and get more complicated if we have time.\n",
    "<br>\n",
    "**Predictors** = Structure Status, Structure Type, Detectors Present, Automatic Extinguishing System Present, Neighborhood District\n",
    "\n",
    "**Target** = Suppression Personnel. "
   ]
  },
  {
   "cell_type": "code",
   "execution_count": 17,
   "metadata": {
    "collapsed": true,
    "deletable": true,
    "editable": true
   },
   "outputs": [],
   "source": [
    "dff = pd.read_csv('/Users/Naekid/Desktop/DSI-SF-5-fork/DSI-SF-5/datasets/san_francisco/san_francisco/san_francisco/fire_data/fire_incidents.csv', dtype=str)"
   ]
  },
  {
   "cell_type": "code",
   "execution_count": 18,
   "metadata": {
    "collapsed": false,
    "deletable": true,
    "editable": true
   },
   "outputs": [],
   "source": [
    "cols = ['Incident Number','Incident Date','Structure Status', 'Structure Type', 'Detectors Present', 'Automatic Extinguishing System Present', 'Neighborhood  District', 'Suppression Personnel']\n",
    "dff = dff[cols]\n"
   ]
  },
  {
   "cell_type": "code",
   "execution_count": 19,
   "metadata": {
    "collapsed": false,
    "deletable": true,
    "editable": true
   },
   "outputs": [
    {
     "data": {
      "text/html": [
       "<div>\n",
       "<table border=\"1\" class=\"dataframe\">\n",
       "  <thead>\n",
       "    <tr style=\"text-align: right;\">\n",
       "      <th></th>\n",
       "      <th>Incident Number</th>\n",
       "      <th>Incident Date</th>\n",
       "      <th>Structure Status</th>\n",
       "      <th>Structure Type</th>\n",
       "      <th>Detectors Present</th>\n",
       "      <th>Automatic Extinguishing System Present</th>\n",
       "      <th>Neighborhood  District</th>\n",
       "      <th>Suppression Personnel</th>\n",
       "    </tr>\n",
       "  </thead>\n",
       "  <tbody>\n",
       "    <tr>\n",
       "      <th>0</th>\n",
       "      <td>09030109</td>\n",
       "      <td>04/12/2009</td>\n",
       "      <td>NaN</td>\n",
       "      <td>NaN</td>\n",
       "      <td>NaN</td>\n",
       "      <td>NaN</td>\n",
       "      <td>NaN</td>\n",
       "      <td>5</td>\n",
       "    </tr>\n",
       "    <tr>\n",
       "      <th>1</th>\n",
       "      <td>13067402</td>\n",
       "      <td>07/18/2013</td>\n",
       "      <td>NaN</td>\n",
       "      <td>NaN</td>\n",
       "      <td>NaN</td>\n",
       "      <td>NaN</td>\n",
       "      <td>NaN</td>\n",
       "      <td>11</td>\n",
       "    </tr>\n",
       "    <tr>\n",
       "      <th>2</th>\n",
       "      <td>12044490</td>\n",
       "      <td>05/13/2012</td>\n",
       "      <td>NaN</td>\n",
       "      <td>NaN</td>\n",
       "      <td>NaN</td>\n",
       "      <td>NaN</td>\n",
       "      <td>South of Market</td>\n",
       "      <td>10</td>\n",
       "    </tr>\n",
       "  </tbody>\n",
       "</table>\n",
       "</div>"
      ],
      "text/plain": [
       "  Incident Number Incident Date Structure Status Structure Type  \\\n",
       "0        09030109    04/12/2009              NaN            NaN   \n",
       "1        13067402    07/18/2013              NaN            NaN   \n",
       "2        12044490    05/13/2012              NaN            NaN   \n",
       "\n",
       "  Detectors Present Automatic Extinguishing System Present  \\\n",
       "0               NaN                                    NaN   \n",
       "1               NaN                                    NaN   \n",
       "2               NaN                                    NaN   \n",
       "\n",
       "  Neighborhood  District Suppression Personnel  \n",
       "0                    NaN                     5  \n",
       "1                    NaN                    11  \n",
       "2        South of Market                    10  "
      ]
     },
     "execution_count": 19,
     "metadata": {},
     "output_type": "execute_result"
    }
   ],
   "source": [
    "dff.head(3)"
   ]
  },
  {
   "cell_type": "markdown",
   "metadata": {
    "deletable": true,
    "editable": true
   },
   "source": [
    "### Data Cleaning"
   ]
  },
  {
   "cell_type": "markdown",
   "metadata": {
    "deletable": true,
    "editable": true
   },
   "source": [
    "Let's just drop all the rows with nan."
   ]
  },
  {
   "cell_type": "code",
   "execution_count": 20,
   "metadata": {
    "collapsed": false,
    "deletable": true,
    "editable": true
   },
   "outputs": [],
   "source": [
    "dff.dropna(axis=0, inplace=True)"
   ]
  },
  {
   "cell_type": "code",
   "execution_count": 21,
   "metadata": {
    "collapsed": true,
    "deletable": true,
    "editable": true
   },
   "outputs": [],
   "source": [
    "dff['Suppression Personnel'] = dff['Suppression Personnel'].astype(dtype=int)"
   ]
  },
  {
   "cell_type": "code",
   "execution_count": 22,
   "metadata": {
    "collapsed": false,
    "deletable": true,
    "editable": true
   },
   "outputs": [],
   "source": [
    "dff.replace(to_replace='-', value='unknown', inplace=True)"
   ]
  },
  {
   "cell_type": "code",
   "execution_count": null,
   "metadata": {
    "collapsed": true
   },
   "outputs": [],
   "source": []
  },
  {
   "cell_type": "code",
   "execution_count": 23,
   "metadata": {
    "collapsed": false,
    "deletable": true,
    "editable": true
   },
   "outputs": [],
   "source": [
    "structure_status_dict = {'0 -other':'0 other',\n",
    "                        '2 -in normal use':'2 in normal use', \n",
    "                         '3 -idle, not routinely used':'3 idle, not routinely used',\n",
    "                         '5 -vacant and secured':'5 vacant and secured',\n",
    "                         '2 -in normal use':'2 in normal use',\n",
    "                         '1 -under construction':'1 under construction',\n",
    "                         '4 -under major renovation':'4 under major renovation',\n",
    "                         'u -undetermined':'u undetermined',\n",
    "                         '7 -being demolished':'7 being demolished',\n",
    "                         'u -undetermined':'u undetermined',\n",
    "                         '6 -vacant and unsecured':'6 vacant and unsecured',\n",
    "                         '3 -idle':'3 idle'\n",
    "                        }\n",
    "\n",
    "dff.replace(structure_status_dict, inplace=True)\n",
    "\n",
    "\n",
    "structure_type_dict = {\n",
    "    '0 -structure type, other':'0 structure type, other',\n",
    "    '1 -enclosed building':'1 enclosed building',\n",
    "    '2 -fixed portable or mobile structure':'2 fixed portable or mobile structure',\n",
    "    '3 -open structure':'3 open structure',\n",
    "    '4 -air supported structure':'4 air supported structure',\n",
    "    '5 -tent':'5 tent',\n",
    "     '6 -open platform': '6 open platform',\n",
    "    '7 -underground structure work areas':'7 underground structure work areas',\n",
    "     '8 -connective structure': '8 connective structure',\n",
    "    \n",
    "}\n",
    "dff.replace(structure_type_dict, inplace=True)"
   ]
  },
  {
   "cell_type": "code",
   "execution_count": 24,
   "metadata": {
    "collapsed": true,
    "deletable": true,
    "editable": true
   },
   "outputs": [],
   "source": [
    "dff.replace({'1 -present': '1 present', 'u -undetermined': 'u undetermined', 'n -not present': 'n none present'}, inplace = True)\n",
    "dff.replace({'1 -present': '1 present', '2 -partial system present': '2 partial system present', 'u -undetermined': 'u undetermined', 'n -none present': 'n none present'}, inplace = True)"
   ]
  },
  {
   "cell_type": "code",
   "execution_count": 25,
   "metadata": {
    "collapsed": false,
    "deletable": true,
    "editable": true
   },
   "outputs": [
    {
     "data": {
      "text/html": [
       "<div>\n",
       "<table border=\"1\" class=\"dataframe\">\n",
       "  <thead>\n",
       "    <tr style=\"text-align: right;\">\n",
       "      <th></th>\n",
       "      <th>Incident Number</th>\n",
       "      <th>Incident Date</th>\n",
       "      <th>Structure Status</th>\n",
       "      <th>Structure Type</th>\n",
       "      <th>Detectors Present</th>\n",
       "      <th>Automatic Extinguishing System Present</th>\n",
       "      <th>Neighborhood  District</th>\n",
       "      <th>Suppression Personnel</th>\n",
       "    </tr>\n",
       "  </thead>\n",
       "  <tbody>\n",
       "    <tr>\n",
       "      <th>20</th>\n",
       "      <td>06060988</td>\n",
       "      <td>08/05/2006</td>\n",
       "      <td>2 in normal use</td>\n",
       "      <td>1 enclosed building</td>\n",
       "      <td>1 present</td>\n",
       "      <td>n none present</td>\n",
       "      <td>South of Market</td>\n",
       "      <td>33</td>\n",
       "    </tr>\n",
       "    <tr>\n",
       "      <th>38</th>\n",
       "      <td>05040114</td>\n",
       "      <td>05/30/2005</td>\n",
       "      <td>unknown</td>\n",
       "      <td>3 open structure</td>\n",
       "      <td>unknown</td>\n",
       "      <td>unknown</td>\n",
       "      <td>Bayview Hunters Point</td>\n",
       "      <td>4</td>\n",
       "    </tr>\n",
       "    <tr>\n",
       "      <th>80</th>\n",
       "      <td>06038931</td>\n",
       "      <td>05/20/2006</td>\n",
       "      <td>2 in normal use</td>\n",
       "      <td>1 enclosed building</td>\n",
       "      <td>u undetermined</td>\n",
       "      <td>n none present</td>\n",
       "      <td>North Beach</td>\n",
       "      <td>42</td>\n",
       "    </tr>\n",
       "  </tbody>\n",
       "</table>\n",
       "</div>"
      ],
      "text/plain": [
       "   Incident Number Incident Date Structure Status       Structure Type  \\\n",
       "20        06060988    08/05/2006  2 in normal use  1 enclosed building   \n",
       "38        05040114    05/30/2005          unknown     3 open structure   \n",
       "80        06038931    05/20/2006  2 in normal use  1 enclosed building   \n",
       "\n",
       "   Detectors Present Automatic Extinguishing System Present  \\\n",
       "20         1 present                         n none present   \n",
       "38           unknown                                unknown   \n",
       "80    u undetermined                         n none present   \n",
       "\n",
       "   Neighborhood  District  Suppression Personnel  \n",
       "20        South of Market                     33  \n",
       "38  Bayview Hunters Point                      4  \n",
       "80            North Beach                     42  "
      ]
     },
     "execution_count": 25,
     "metadata": {},
     "output_type": "execute_result"
    }
   ],
   "source": [
    "dff.head(3)"
   ]
  },
  {
   "cell_type": "code",
   "execution_count": 26,
   "metadata": {
    "collapsed": false,
    "deletable": true,
    "editable": true
   },
   "outputs": [
    {
     "data": {
      "text/plain": [
       "array(['2 in normal use', 'unknown', '3 idle, not routinely used',\n",
       "       '5 vacant and secured', '1 under construction',\n",
       "       '4 under major renovation', '0 other', '6 vacant and unsecured',\n",
       "       'u undetermined', '7 being demolished', '0 building status, other'], dtype=object)"
      ]
     },
     "execution_count": 26,
     "metadata": {},
     "output_type": "execute_result"
    }
   ],
   "source": [
    "dff['Structure Status'].unique()"
   ]
  },
  {
   "cell_type": "code",
   "execution_count": 27,
   "metadata": {
    "collapsed": false,
    "deletable": true,
    "editable": true
   },
   "outputs": [],
   "source": [
    "# Get dummies\n",
    "status_dummies = pd.get_dummies(data=dff['Structure Status'], prefix='Structure Status', prefix_sep='_', drop_first=True)\n",
    "type_dummies = pd.get_dummies(data=dff['Structure Type'], prefix='Structure Type', prefix_sep='_', drop_first=True)\n",
    "detector_dummies = pd.get_dummies(data=dff['Structure Status'], prefix='Detectors Present', prefix_sep='_', drop_first=True)\n",
    "automatic_dummies = pd.get_dummies(data=dff['Structure Status'], prefix='Extinguishing System Present', prefix_sep='_', drop_first=True)\n",
    "neighborhood_dummies = pd.get_dummies(data=dff['Neighborhood  District'], prefix='Neighborhood', prefix_sep='_', drop_first=True)\n",
    "\n",
    "dff_new = dff.ix[:, ['Incident Number','Incident Date','Suppression Personnel']]\n",
    "dff_new = pd.concat(objs=[status_dummies, type_dummies, detector_dummies, automatic_dummies, neighborhood_dummies, dff_new], axis=1)\n",
    "\n"
   ]
  },
  {
   "cell_type": "code",
   "execution_count": 28,
   "metadata": {
    "collapsed": false,
    "deletable": true,
    "editable": true
   },
   "outputs": [
    {
     "data": {
      "text/html": [
       "<div>\n",
       "<table border=\"1\" class=\"dataframe\">\n",
       "  <thead>\n",
       "    <tr style=\"text-align: right;\">\n",
       "      <th></th>\n",
       "      <th>Structure Status_0 other</th>\n",
       "      <th>Structure Status_1 under construction</th>\n",
       "      <th>Structure Status_2 in normal use</th>\n",
       "      <th>Structure Status_3 idle, not routinely used</th>\n",
       "      <th>Structure Status_4 under major renovation</th>\n",
       "      <th>Structure Status_5 vacant and secured</th>\n",
       "      <th>Structure Status_6 vacant and unsecured</th>\n",
       "      <th>Structure Status_7 being demolished</th>\n",
       "      <th>Structure Status_u undetermined</th>\n",
       "      <th>Structure Status_unknown</th>\n",
       "      <th>Structure Type_1 enclosed building</th>\n",
       "      <th>Structure Type_2 fixed portable or mobile structure</th>\n",
       "      <th>Structure Type_3 open structure</th>\n",
       "      <th>Structure Type_4 air supported structure</th>\n",
       "      <th>Structure Type_5 tent</th>\n",
       "      <th>Structure Type_6 open platform</th>\n",
       "      <th>Structure Type_7 underground structure work areas</th>\n",
       "      <th>Structure Type_8 connective structure</th>\n",
       "      <th>Structure Type_unknown</th>\n",
       "      <th>Detectors Present_0 other</th>\n",
       "      <th>Detectors Present_1 under construction</th>\n",
       "      <th>Detectors Present_2 in normal use</th>\n",
       "      <th>Detectors Present_3 idle, not routinely used</th>\n",
       "      <th>Detectors Present_4 under major renovation</th>\n",
       "      <th>Detectors Present_5 vacant and secured</th>\n",
       "      <th>Detectors Present_6 vacant and unsecured</th>\n",
       "      <th>Detectors Present_7 being demolished</th>\n",
       "      <th>Detectors Present_u undetermined</th>\n",
       "      <th>Detectors Present_unknown</th>\n",
       "      <th>Extinguishing System Present_0 other</th>\n",
       "      <th>Extinguishing System Present_1 under construction</th>\n",
       "      <th>Extinguishing System Present_2 in normal use</th>\n",
       "      <th>Extinguishing System Present_3 idle, not routinely used</th>\n",
       "      <th>Extinguishing System Present_4 under major renovation</th>\n",
       "      <th>Extinguishing System Present_5 vacant and secured</th>\n",
       "      <th>Extinguishing System Present_6 vacant and unsecured</th>\n",
       "      <th>Extinguishing System Present_7 being demolished</th>\n",
       "      <th>Extinguishing System Present_u undetermined</th>\n",
       "      <th>Extinguishing System Present_unknown</th>\n",
       "      <th>Neighborhood_Bernal Heights</th>\n",
       "      <th>Neighborhood_Castro/Upper Market</th>\n",
       "      <th>Neighborhood_Chinatown</th>\n",
       "      <th>Neighborhood_Excelsior</th>\n",
       "      <th>Neighborhood_Financial District/South Beach</th>\n",
       "      <th>Neighborhood_Glen Park</th>\n",
       "      <th>Neighborhood_Golden Gate Park</th>\n",
       "      <th>Neighborhood_Haight Ashbury</th>\n",
       "      <th>Neighborhood_Hayes Valley</th>\n",
       "      <th>Neighborhood_Inner Richmond</th>\n",
       "      <th>Neighborhood_Inner Sunset</th>\n",
       "      <th>Neighborhood_Japantown</th>\n",
       "      <th>Neighborhood_Lakeshore</th>\n",
       "      <th>Neighborhood_Lincoln Park</th>\n",
       "      <th>Neighborhood_Lone Mountain/USF</th>\n",
       "      <th>Neighborhood_Marina</th>\n",
       "      <th>Neighborhood_McLaren Park</th>\n",
       "      <th>Neighborhood_Mission</th>\n",
       "      <th>Neighborhood_Mission Bay</th>\n",
       "      <th>Neighborhood_Nob Hill</th>\n",
       "      <th>Neighborhood_Noe Valley</th>\n",
       "      <th>Neighborhood_North Beach</th>\n",
       "      <th>Neighborhood_Oceanview/Merced/Ingleside</th>\n",
       "      <th>Neighborhood_Outer Mission</th>\n",
       "      <th>Neighborhood_Outer Richmond</th>\n",
       "      <th>Neighborhood_Pacific Heights</th>\n",
       "      <th>Neighborhood_Portola</th>\n",
       "      <th>Neighborhood_Potrero Hill</th>\n",
       "      <th>Neighborhood_Presidio</th>\n",
       "      <th>Neighborhood_Presidio Heights</th>\n",
       "      <th>Neighborhood_Russian Hill</th>\n",
       "      <th>Neighborhood_Seacliff</th>\n",
       "      <th>Neighborhood_South of Market</th>\n",
       "      <th>Neighborhood_Sunset/Parkside</th>\n",
       "      <th>Neighborhood_Tenderloin</th>\n",
       "      <th>Neighborhood_Treasure Island</th>\n",
       "      <th>Neighborhood_Twin Peaks</th>\n",
       "      <th>Neighborhood_Visitacion Valley</th>\n",
       "      <th>Neighborhood_West of Twin Peaks</th>\n",
       "      <th>Neighborhood_Western Addition</th>\n",
       "      <th>Incident Number</th>\n",
       "      <th>Incident Date</th>\n",
       "      <th>Suppression Personnel</th>\n",
       "    </tr>\n",
       "  </thead>\n",
       "  <tbody>\n",
       "    <tr>\n",
       "      <th>20</th>\n",
       "      <td>0</td>\n",
       "      <td>0</td>\n",
       "      <td>1</td>\n",
       "      <td>0</td>\n",
       "      <td>0</td>\n",
       "      <td>0</td>\n",
       "      <td>0</td>\n",
       "      <td>0</td>\n",
       "      <td>0</td>\n",
       "      <td>0</td>\n",
       "      <td>1</td>\n",
       "      <td>0</td>\n",
       "      <td>0</td>\n",
       "      <td>0</td>\n",
       "      <td>0</td>\n",
       "      <td>0</td>\n",
       "      <td>0</td>\n",
       "      <td>0</td>\n",
       "      <td>0</td>\n",
       "      <td>0</td>\n",
       "      <td>0</td>\n",
       "      <td>1</td>\n",
       "      <td>0</td>\n",
       "      <td>0</td>\n",
       "      <td>0</td>\n",
       "      <td>0</td>\n",
       "      <td>0</td>\n",
       "      <td>0</td>\n",
       "      <td>0</td>\n",
       "      <td>0</td>\n",
       "      <td>0</td>\n",
       "      <td>1</td>\n",
       "      <td>0</td>\n",
       "      <td>0</td>\n",
       "      <td>0</td>\n",
       "      <td>0</td>\n",
       "      <td>0</td>\n",
       "      <td>0</td>\n",
       "      <td>0</td>\n",
       "      <td>0</td>\n",
       "      <td>0</td>\n",
       "      <td>0</td>\n",
       "      <td>0</td>\n",
       "      <td>0</td>\n",
       "      <td>0</td>\n",
       "      <td>0</td>\n",
       "      <td>0</td>\n",
       "      <td>0</td>\n",
       "      <td>0</td>\n",
       "      <td>0</td>\n",
       "      <td>0</td>\n",
       "      <td>0</td>\n",
       "      <td>0</td>\n",
       "      <td>0</td>\n",
       "      <td>0</td>\n",
       "      <td>0</td>\n",
       "      <td>0</td>\n",
       "      <td>0</td>\n",
       "      <td>0</td>\n",
       "      <td>0</td>\n",
       "      <td>0</td>\n",
       "      <td>0</td>\n",
       "      <td>0</td>\n",
       "      <td>0</td>\n",
       "      <td>0</td>\n",
       "      <td>0</td>\n",
       "      <td>0</td>\n",
       "      <td>0</td>\n",
       "      <td>0</td>\n",
       "      <td>0</td>\n",
       "      <td>0</td>\n",
       "      <td>1</td>\n",
       "      <td>0</td>\n",
       "      <td>0</td>\n",
       "      <td>0</td>\n",
       "      <td>0</td>\n",
       "      <td>0</td>\n",
       "      <td>0</td>\n",
       "      <td>0</td>\n",
       "      <td>06060988</td>\n",
       "      <td>08/05/2006</td>\n",
       "      <td>33</td>\n",
       "    </tr>\n",
       "    <tr>\n",
       "      <th>38</th>\n",
       "      <td>0</td>\n",
       "      <td>0</td>\n",
       "      <td>0</td>\n",
       "      <td>0</td>\n",
       "      <td>0</td>\n",
       "      <td>0</td>\n",
       "      <td>0</td>\n",
       "      <td>0</td>\n",
       "      <td>0</td>\n",
       "      <td>1</td>\n",
       "      <td>0</td>\n",
       "      <td>0</td>\n",
       "      <td>1</td>\n",
       "      <td>0</td>\n",
       "      <td>0</td>\n",
       "      <td>0</td>\n",
       "      <td>0</td>\n",
       "      <td>0</td>\n",
       "      <td>0</td>\n",
       "      <td>0</td>\n",
       "      <td>0</td>\n",
       "      <td>0</td>\n",
       "      <td>0</td>\n",
       "      <td>0</td>\n",
       "      <td>0</td>\n",
       "      <td>0</td>\n",
       "      <td>0</td>\n",
       "      <td>0</td>\n",
       "      <td>1</td>\n",
       "      <td>0</td>\n",
       "      <td>0</td>\n",
       "      <td>0</td>\n",
       "      <td>0</td>\n",
       "      <td>0</td>\n",
       "      <td>0</td>\n",
       "      <td>0</td>\n",
       "      <td>0</td>\n",
       "      <td>0</td>\n",
       "      <td>1</td>\n",
       "      <td>0</td>\n",
       "      <td>0</td>\n",
       "      <td>0</td>\n",
       "      <td>0</td>\n",
       "      <td>0</td>\n",
       "      <td>0</td>\n",
       "      <td>0</td>\n",
       "      <td>0</td>\n",
       "      <td>0</td>\n",
       "      <td>0</td>\n",
       "      <td>0</td>\n",
       "      <td>0</td>\n",
       "      <td>0</td>\n",
       "      <td>0</td>\n",
       "      <td>0</td>\n",
       "      <td>0</td>\n",
       "      <td>0</td>\n",
       "      <td>0</td>\n",
       "      <td>0</td>\n",
       "      <td>0</td>\n",
       "      <td>0</td>\n",
       "      <td>0</td>\n",
       "      <td>0</td>\n",
       "      <td>0</td>\n",
       "      <td>0</td>\n",
       "      <td>0</td>\n",
       "      <td>0</td>\n",
       "      <td>0</td>\n",
       "      <td>0</td>\n",
       "      <td>0</td>\n",
       "      <td>0</td>\n",
       "      <td>0</td>\n",
       "      <td>0</td>\n",
       "      <td>0</td>\n",
       "      <td>0</td>\n",
       "      <td>0</td>\n",
       "      <td>0</td>\n",
       "      <td>0</td>\n",
       "      <td>0</td>\n",
       "      <td>0</td>\n",
       "      <td>05040114</td>\n",
       "      <td>05/30/2005</td>\n",
       "      <td>4</td>\n",
       "    </tr>\n",
       "    <tr>\n",
       "      <th>80</th>\n",
       "      <td>0</td>\n",
       "      <td>0</td>\n",
       "      <td>1</td>\n",
       "      <td>0</td>\n",
       "      <td>0</td>\n",
       "      <td>0</td>\n",
       "      <td>0</td>\n",
       "      <td>0</td>\n",
       "      <td>0</td>\n",
       "      <td>0</td>\n",
       "      <td>1</td>\n",
       "      <td>0</td>\n",
       "      <td>0</td>\n",
       "      <td>0</td>\n",
       "      <td>0</td>\n",
       "      <td>0</td>\n",
       "      <td>0</td>\n",
       "      <td>0</td>\n",
       "      <td>0</td>\n",
       "      <td>0</td>\n",
       "      <td>0</td>\n",
       "      <td>1</td>\n",
       "      <td>0</td>\n",
       "      <td>0</td>\n",
       "      <td>0</td>\n",
       "      <td>0</td>\n",
       "      <td>0</td>\n",
       "      <td>0</td>\n",
       "      <td>0</td>\n",
       "      <td>0</td>\n",
       "      <td>0</td>\n",
       "      <td>1</td>\n",
       "      <td>0</td>\n",
       "      <td>0</td>\n",
       "      <td>0</td>\n",
       "      <td>0</td>\n",
       "      <td>0</td>\n",
       "      <td>0</td>\n",
       "      <td>0</td>\n",
       "      <td>0</td>\n",
       "      <td>0</td>\n",
       "      <td>0</td>\n",
       "      <td>0</td>\n",
       "      <td>0</td>\n",
       "      <td>0</td>\n",
       "      <td>0</td>\n",
       "      <td>0</td>\n",
       "      <td>0</td>\n",
       "      <td>0</td>\n",
       "      <td>0</td>\n",
       "      <td>0</td>\n",
       "      <td>0</td>\n",
       "      <td>0</td>\n",
       "      <td>0</td>\n",
       "      <td>0</td>\n",
       "      <td>0</td>\n",
       "      <td>0</td>\n",
       "      <td>0</td>\n",
       "      <td>0</td>\n",
       "      <td>0</td>\n",
       "      <td>1</td>\n",
       "      <td>0</td>\n",
       "      <td>0</td>\n",
       "      <td>0</td>\n",
       "      <td>0</td>\n",
       "      <td>0</td>\n",
       "      <td>0</td>\n",
       "      <td>0</td>\n",
       "      <td>0</td>\n",
       "      <td>0</td>\n",
       "      <td>0</td>\n",
       "      <td>0</td>\n",
       "      <td>0</td>\n",
       "      <td>0</td>\n",
       "      <td>0</td>\n",
       "      <td>0</td>\n",
       "      <td>0</td>\n",
       "      <td>0</td>\n",
       "      <td>0</td>\n",
       "      <td>06038931</td>\n",
       "      <td>05/20/2006</td>\n",
       "      <td>42</td>\n",
       "    </tr>\n",
       "  </tbody>\n",
       "</table>\n",
       "</div>"
      ],
      "text/plain": [
       "    Structure Status_0 other  Structure Status_1 under construction  \\\n",
       "20                         0                                      0   \n",
       "38                         0                                      0   \n",
       "80                         0                                      0   \n",
       "\n",
       "    Structure Status_2 in normal use  \\\n",
       "20                                 1   \n",
       "38                                 0   \n",
       "80                                 1   \n",
       "\n",
       "    Structure Status_3 idle, not routinely used  \\\n",
       "20                                            0   \n",
       "38                                            0   \n",
       "80                                            0   \n",
       "\n",
       "    Structure Status_4 under major renovation  \\\n",
       "20                                          0   \n",
       "38                                          0   \n",
       "80                                          0   \n",
       "\n",
       "    Structure Status_5 vacant and secured  \\\n",
       "20                                      0   \n",
       "38                                      0   \n",
       "80                                      0   \n",
       "\n",
       "    Structure Status_6 vacant and unsecured  \\\n",
       "20                                        0   \n",
       "38                                        0   \n",
       "80                                        0   \n",
       "\n",
       "    Structure Status_7 being demolished  Structure Status_u undetermined  \\\n",
       "20                                    0                                0   \n",
       "38                                    0                                0   \n",
       "80                                    0                                0   \n",
       "\n",
       "    Structure Status_unknown  Structure Type_1 enclosed building  \\\n",
       "20                         0                                   1   \n",
       "38                         1                                   0   \n",
       "80                         0                                   1   \n",
       "\n",
       "    Structure Type_2 fixed portable or mobile structure  \\\n",
       "20                                                  0     \n",
       "38                                                  0     \n",
       "80                                                  0     \n",
       "\n",
       "    Structure Type_3 open structure  Structure Type_4 air supported structure  \\\n",
       "20                                0                                         0   \n",
       "38                                1                                         0   \n",
       "80                                0                                         0   \n",
       "\n",
       "    Structure Type_5 tent  Structure Type_6 open platform  \\\n",
       "20                      0                               0   \n",
       "38                      0                               0   \n",
       "80                      0                               0   \n",
       "\n",
       "    Structure Type_7 underground structure work areas  \\\n",
       "20                                                  0   \n",
       "38                                                  0   \n",
       "80                                                  0   \n",
       "\n",
       "    Structure Type_8 connective structure  Structure Type_unknown  \\\n",
       "20                                      0                       0   \n",
       "38                                      0                       0   \n",
       "80                                      0                       0   \n",
       "\n",
       "    Detectors Present_0 other  Detectors Present_1 under construction  \\\n",
       "20                          0                                       0   \n",
       "38                          0                                       0   \n",
       "80                          0                                       0   \n",
       "\n",
       "    Detectors Present_2 in normal use  \\\n",
       "20                                  1   \n",
       "38                                  0   \n",
       "80                                  1   \n",
       "\n",
       "    Detectors Present_3 idle, not routinely used  \\\n",
       "20                                             0   \n",
       "38                                             0   \n",
       "80                                             0   \n",
       "\n",
       "    Detectors Present_4 under major renovation  \\\n",
       "20                                           0   \n",
       "38                                           0   \n",
       "80                                           0   \n",
       "\n",
       "    Detectors Present_5 vacant and secured  \\\n",
       "20                                       0   \n",
       "38                                       0   \n",
       "80                                       0   \n",
       "\n",
       "    Detectors Present_6 vacant and unsecured  \\\n",
       "20                                         0   \n",
       "38                                         0   \n",
       "80                                         0   \n",
       "\n",
       "    Detectors Present_7 being demolished  Detectors Present_u undetermined  \\\n",
       "20                                     0                                 0   \n",
       "38                                     0                                 0   \n",
       "80                                     0                                 0   \n",
       "\n",
       "    Detectors Present_unknown  Extinguishing System Present_0 other  \\\n",
       "20                          0                                     0   \n",
       "38                          1                                     0   \n",
       "80                          0                                     0   \n",
       "\n",
       "    Extinguishing System Present_1 under construction  \\\n",
       "20                                                  0   \n",
       "38                                                  0   \n",
       "80                                                  0   \n",
       "\n",
       "    Extinguishing System Present_2 in normal use  \\\n",
       "20                                             1   \n",
       "38                                             0   \n",
       "80                                             1   \n",
       "\n",
       "    Extinguishing System Present_3 idle, not routinely used  \\\n",
       "20                                                  0         \n",
       "38                                                  0         \n",
       "80                                                  0         \n",
       "\n",
       "    Extinguishing System Present_4 under major renovation  \\\n",
       "20                                                  0       \n",
       "38                                                  0       \n",
       "80                                                  0       \n",
       "\n",
       "    Extinguishing System Present_5 vacant and secured  \\\n",
       "20                                                  0   \n",
       "38                                                  0   \n",
       "80                                                  0   \n",
       "\n",
       "    Extinguishing System Present_6 vacant and unsecured  \\\n",
       "20                                                  0     \n",
       "38                                                  0     \n",
       "80                                                  0     \n",
       "\n",
       "    Extinguishing System Present_7 being demolished  \\\n",
       "20                                                0   \n",
       "38                                                0   \n",
       "80                                                0   \n",
       "\n",
       "    Extinguishing System Present_u undetermined  \\\n",
       "20                                            0   \n",
       "38                                            0   \n",
       "80                                            0   \n",
       "\n",
       "    Extinguishing System Present_unknown  Neighborhood_Bernal Heights  \\\n",
       "20                                     0                            0   \n",
       "38                                     1                            0   \n",
       "80                                     0                            0   \n",
       "\n",
       "    Neighborhood_Castro/Upper Market  Neighborhood_Chinatown  \\\n",
       "20                                 0                       0   \n",
       "38                                 0                       0   \n",
       "80                                 0                       0   \n",
       "\n",
       "    Neighborhood_Excelsior  Neighborhood_Financial District/South Beach  \\\n",
       "20                       0                                            0   \n",
       "38                       0                                            0   \n",
       "80                       0                                            0   \n",
       "\n",
       "    Neighborhood_Glen Park  Neighborhood_Golden Gate Park  \\\n",
       "20                       0                              0   \n",
       "38                       0                              0   \n",
       "80                       0                              0   \n",
       "\n",
       "    Neighborhood_Haight Ashbury  Neighborhood_Hayes Valley  \\\n",
       "20                            0                          0   \n",
       "38                            0                          0   \n",
       "80                            0                          0   \n",
       "\n",
       "    Neighborhood_Inner Richmond  Neighborhood_Inner Sunset  \\\n",
       "20                            0                          0   \n",
       "38                            0                          0   \n",
       "80                            0                          0   \n",
       "\n",
       "    Neighborhood_Japantown  Neighborhood_Lakeshore  Neighborhood_Lincoln Park  \\\n",
       "20                       0                       0                          0   \n",
       "38                       0                       0                          0   \n",
       "80                       0                       0                          0   \n",
       "\n",
       "    Neighborhood_Lone Mountain/USF  Neighborhood_Marina  \\\n",
       "20                               0                    0   \n",
       "38                               0                    0   \n",
       "80                               0                    0   \n",
       "\n",
       "    Neighborhood_McLaren Park  Neighborhood_Mission  Neighborhood_Mission Bay  \\\n",
       "20                          0                     0                         0   \n",
       "38                          0                     0                         0   \n",
       "80                          0                     0                         0   \n",
       "\n",
       "    Neighborhood_Nob Hill  Neighborhood_Noe Valley  Neighborhood_North Beach  \\\n",
       "20                      0                        0                         0   \n",
       "38                      0                        0                         0   \n",
       "80                      0                        0                         1   \n",
       "\n",
       "    Neighborhood_Oceanview/Merced/Ingleside  Neighborhood_Outer Mission  \\\n",
       "20                                        0                           0   \n",
       "38                                        0                           0   \n",
       "80                                        0                           0   \n",
       "\n",
       "    Neighborhood_Outer Richmond  Neighborhood_Pacific Heights  \\\n",
       "20                            0                             0   \n",
       "38                            0                             0   \n",
       "80                            0                             0   \n",
       "\n",
       "    Neighborhood_Portola  Neighborhood_Potrero Hill  Neighborhood_Presidio  \\\n",
       "20                     0                          0                      0   \n",
       "38                     0                          0                      0   \n",
       "80                     0                          0                      0   \n",
       "\n",
       "    Neighborhood_Presidio Heights  Neighborhood_Russian Hill  \\\n",
       "20                              0                          0   \n",
       "38                              0                          0   \n",
       "80                              0                          0   \n",
       "\n",
       "    Neighborhood_Seacliff  Neighborhood_South of Market  \\\n",
       "20                      0                             1   \n",
       "38                      0                             0   \n",
       "80                      0                             0   \n",
       "\n",
       "    Neighborhood_Sunset/Parkside  Neighborhood_Tenderloin  \\\n",
       "20                             0                        0   \n",
       "38                             0                        0   \n",
       "80                             0                        0   \n",
       "\n",
       "    Neighborhood_Treasure Island  Neighborhood_Twin Peaks  \\\n",
       "20                             0                        0   \n",
       "38                             0                        0   \n",
       "80                             0                        0   \n",
       "\n",
       "    Neighborhood_Visitacion Valley  Neighborhood_West of Twin Peaks  \\\n",
       "20                               0                                0   \n",
       "38                               0                                0   \n",
       "80                               0                                0   \n",
       "\n",
       "    Neighborhood_Western Addition Incident Number Incident Date  \\\n",
       "20                              0        06060988    08/05/2006   \n",
       "38                              0        05040114    05/30/2005   \n",
       "80                              0        06038931    05/20/2006   \n",
       "\n",
       "    Suppression Personnel  \n",
       "20                     33  \n",
       "38                      4  \n",
       "80                     42  "
      ]
     },
     "execution_count": 28,
     "metadata": {},
     "output_type": "execute_result"
    }
   ],
   "source": [
    "dff_new.head(3)"
   ]
  },
  {
   "cell_type": "code",
   "execution_count": 44,
   "metadata": {
    "collapsed": false,
    "deletable": true,
    "editable": true
   },
   "outputs": [
    {
     "data": {
      "text/plain": [
       "Index([u'Structure Status_0 other', u'Structure Status_1 under construction',\n",
       "       u'Structure Status_2 in normal use',\n",
       "       u'Structure Status_3 idle, not routinely used',\n",
       "       u'Structure Status_4 under major renovation',\n",
       "       u'Structure Status_5 vacant and secured',\n",
       "       u'Structure Status_6 vacant and unsecured',\n",
       "       u'Structure Status_7 being demolished',\n",
       "       u'Structure Status_u undetermined', u'Structure Status_unknown',\n",
       "       u'Structure Type_1 enclosed building',\n",
       "       u'Structure Type_2 fixed portable or mobile structure',\n",
       "       u'Structure Type_3 open structure',\n",
       "       u'Structure Type_4 air supported structure', u'Structure Type_5 tent',\n",
       "       u'Structure Type_6 open platform',\n",
       "       u'Structure Type_7 underground structure work areas',\n",
       "       u'Structure Type_8 connective structure', u'Structure Type_unknown',\n",
       "       u'Detectors Present_0 other', u'Detectors Present_1 under construction',\n",
       "       u'Detectors Present_2 in normal use',\n",
       "       u'Detectors Present_3 idle, not routinely used',\n",
       "       u'Detectors Present_4 under major renovation',\n",
       "       u'Detectors Present_5 vacant and secured',\n",
       "       u'Detectors Present_6 vacant and unsecured',\n",
       "       u'Detectors Present_7 being demolished',\n",
       "       u'Detectors Present_u undetermined', u'Detectors Present_unknown',\n",
       "       u'Extinguishing System Present_0 other',\n",
       "       u'Extinguishing System Present_1 under construction',\n",
       "       u'Extinguishing System Present_2 in normal use',\n",
       "       u'Extinguishing System Present_3 idle, not routinely used',\n",
       "       u'Extinguishing System Present_4 under major renovation',\n",
       "       u'Extinguishing System Present_5 vacant and secured',\n",
       "       u'Extinguishing System Present_6 vacant and unsecured',\n",
       "       u'Extinguishing System Present_7 being demolished',\n",
       "       u'Extinguishing System Present_u undetermined',\n",
       "       u'Extinguishing System Present_unknown', u'Neighborhood_Bernal Heights',\n",
       "       u'Neighborhood_Castro/Upper Market', u'Neighborhood_Chinatown',\n",
       "       u'Neighborhood_Excelsior',\n",
       "       u'Neighborhood_Financial District/South Beach',\n",
       "       u'Neighborhood_Glen Park', u'Neighborhood_Golden Gate Park',\n",
       "       u'Neighborhood_Haight Ashbury', u'Neighborhood_Hayes Valley',\n",
       "       u'Neighborhood_Inner Richmond', u'Neighborhood_Inner Sunset',\n",
       "       u'Neighborhood_Japantown', u'Neighborhood_Lakeshore',\n",
       "       u'Neighborhood_Lincoln Park', u'Neighborhood_Lone Mountain/USF',\n",
       "       u'Neighborhood_Marina', u'Neighborhood_McLaren Park',\n",
       "       u'Neighborhood_Mission', u'Neighborhood_Mission Bay',\n",
       "       u'Neighborhood_Nob Hill', u'Neighborhood_Noe Valley',\n",
       "       u'Neighborhood_North Beach', u'Neighborhood_Oceanview/Merced/Ingleside',\n",
       "       u'Neighborhood_Outer Mission', u'Neighborhood_Outer Richmond',\n",
       "       u'Neighborhood_Pacific Heights', u'Neighborhood_Portola',\n",
       "       u'Neighborhood_Potrero Hill', u'Neighborhood_Presidio',\n",
       "       u'Neighborhood_Presidio Heights', u'Neighborhood_Russian Hill',\n",
       "       u'Neighborhood_Seacliff', u'Neighborhood_South of Market',\n",
       "       u'Neighborhood_Sunset/Parkside', u'Neighborhood_Tenderloin',\n",
       "       u'Neighborhood_Treasure Island', u'Neighborhood_Twin Peaks',\n",
       "       u'Neighborhood_Visitacion Valley', u'Neighborhood_West of Twin Peaks',\n",
       "       u'Neighborhood_Western Addition', u'Incident Number', u'Incident Date',\n",
       "       u'Suppression Personnel'],\n",
       "      dtype='object')"
      ]
     },
     "execution_count": 44,
     "metadata": {},
     "output_type": "execute_result"
    }
   ],
   "source": [
    "dff_new['Suppression Personnel'] = dff_new['Suppression Personnel'].astype(int)\n",
    "dff_new.columns"
   ]
  },
  {
   "cell_type": "markdown",
   "metadata": {
    "deletable": true,
    "editable": true
   },
   "source": [
    "### EDA"
   ]
  },
  {
   "cell_type": "code",
   "execution_count": 30,
   "metadata": {
    "collapsed": false,
    "deletable": true,
    "editable": true
   },
   "outputs": [
    {
     "data": {
      "text/html": [
       "<div>\n",
       "<table border=\"1\" class=\"dataframe\">\n",
       "  <thead>\n",
       "    <tr style=\"text-align: right;\">\n",
       "      <th></th>\n",
       "      <th>Incident Number</th>\n",
       "      <th>Incident Date</th>\n",
       "      <th>Structure Status</th>\n",
       "      <th>Structure Type</th>\n",
       "      <th>Detectors Present</th>\n",
       "      <th>Automatic Extinguishing System Present</th>\n",
       "      <th>Neighborhood  District</th>\n",
       "      <th>Suppression Personnel</th>\n",
       "    </tr>\n",
       "  </thead>\n",
       "  <tbody>\n",
       "    <tr>\n",
       "      <th>20</th>\n",
       "      <td>06060988</td>\n",
       "      <td>08/05/2006</td>\n",
       "      <td>2 in normal use</td>\n",
       "      <td>1 enclosed building</td>\n",
       "      <td>1 present</td>\n",
       "      <td>n none present</td>\n",
       "      <td>South of Market</td>\n",
       "      <td>33</td>\n",
       "    </tr>\n",
       "    <tr>\n",
       "      <th>38</th>\n",
       "      <td>05040114</td>\n",
       "      <td>05/30/2005</td>\n",
       "      <td>unknown</td>\n",
       "      <td>3 open structure</td>\n",
       "      <td>unknown</td>\n",
       "      <td>unknown</td>\n",
       "      <td>Bayview Hunters Point</td>\n",
       "      <td>4</td>\n",
       "    </tr>\n",
       "    <tr>\n",
       "      <th>80</th>\n",
       "      <td>06038931</td>\n",
       "      <td>05/20/2006</td>\n",
       "      <td>2 in normal use</td>\n",
       "      <td>1 enclosed building</td>\n",
       "      <td>u undetermined</td>\n",
       "      <td>n none present</td>\n",
       "      <td>North Beach</td>\n",
       "      <td>42</td>\n",
       "    </tr>\n",
       "    <tr>\n",
       "      <th>81</th>\n",
       "      <td>03016069</td>\n",
       "      <td>02/25/2003</td>\n",
       "      <td>2 in normal use</td>\n",
       "      <td>1 enclosed building</td>\n",
       "      <td>1 present</td>\n",
       "      <td>1 present</td>\n",
       "      <td>Tenderloin</td>\n",
       "      <td>22</td>\n",
       "    </tr>\n",
       "    <tr>\n",
       "      <th>97</th>\n",
       "      <td>05073724</td>\n",
       "      <td>10/02/2005</td>\n",
       "      <td>2 in normal use</td>\n",
       "      <td>3 open structure</td>\n",
       "      <td>unknown</td>\n",
       "      <td>unknown</td>\n",
       "      <td>Lone Mountain/USF</td>\n",
       "      <td>31</td>\n",
       "    </tr>\n",
       "  </tbody>\n",
       "</table>\n",
       "</div>"
      ],
      "text/plain": [
       "   Incident Number Incident Date Structure Status       Structure Type  \\\n",
       "20        06060988    08/05/2006  2 in normal use  1 enclosed building   \n",
       "38        05040114    05/30/2005          unknown     3 open structure   \n",
       "80        06038931    05/20/2006  2 in normal use  1 enclosed building   \n",
       "81        03016069    02/25/2003  2 in normal use  1 enclosed building   \n",
       "97        05073724    10/02/2005  2 in normal use     3 open structure   \n",
       "\n",
       "   Detectors Present Automatic Extinguishing System Present  \\\n",
       "20         1 present                         n none present   \n",
       "38           unknown                                unknown   \n",
       "80    u undetermined                         n none present   \n",
       "81         1 present                              1 present   \n",
       "97           unknown                                unknown   \n",
       "\n",
       "   Neighborhood  District  Suppression Personnel  \n",
       "20        South of Market                     33  \n",
       "38  Bayview Hunters Point                      4  \n",
       "80            North Beach                     42  \n",
       "81             Tenderloin                     22  \n",
       "97      Lone Mountain/USF                     31  "
      ]
     },
     "execution_count": 30,
     "metadata": {},
     "output_type": "execute_result"
    }
   ],
   "source": [
    "dff.head()"
   ]
  },
  {
   "cell_type": "code",
   "execution_count": 31,
   "metadata": {
    "collapsed": false,
    "deletable": true,
    "editable": true
   },
   "outputs": [
    {
     "data": {
      "text/plain": [
       "(array([ 0,  1,  2,  3,  4,  5,  6,  7,  8,  9, 10, 11, 12, 13, 14, 15, 16,\n",
       "        17, 18, 19, 20, 21, 22, 23, 24, 25, 26, 27, 28, 29, 30, 31, 32, 33,\n",
       "        34, 35, 36, 37, 38, 39, 40]), <a list of 41 Text xticklabel objects>)"
      ]
     },
     "execution_count": 31,
     "metadata": {},
     "output_type": "execute_result"
    },
    {
     "data": {
      "image/png": "[encoded data removed]",
      "text/plain": [
       "<matplotlib.figure.Figure at 0x12763e610>"
      ]
     },
     "metadata": {},
     "output_type": "display_data"
    }
   ],
   "source": [
    "import seaborn as sns\n",
    "import matplotlib.pyplot as plt\n",
    "%matplotlib inline\n",
    "# dff['Neighborhood  District'] = dff['Neighborhood  District'].astype(str)\n",
    "# dff.groupby(by='Neighborhood District').count()\n",
    "# dff['Neighborhood District'].value_counts()\n",
    "# dff.columns\n",
    "gn = dff.groupby(by='Neighborhood  District').mean()\n",
    "# gn\n",
    "fig = plt.figure(figsize=(16,6))\n",
    "sns.barplot(x=gn.index, y=gn['Suppression Personnel'])\n",
    "plt.xticks(rotation=90)"
   ]
  },
  {
   "cell_type": "markdown",
   "metadata": {
    "deletable": true,
    "editable": true
   },
   "source": [
    "I honestly don't really know what to look for in EDA, it's something I need to read up on. I think the observation of note is just that the average number of personnel does vary depending on the area in the city, so I think we can conclude that this factor will be a significant predictor. "
   ]
  },
  {
   "cell_type": "code",
   "execution_count": 32,
   "metadata": {
    "collapsed": false,
    "deletable": true,
    "editable": true
   },
   "outputs": [
    {
     "data": {
      "image/png": "[encoded data removed]",
      "text/plain": [
       "<matplotlib.figure.Figure at 0x11e0757d0>"
      ]
     },
     "metadata": {},
     "output_type": "display_data"
    }
   ],
   "source": [
    "sns.distplot(a=dff.loc[:,'Suppression Personnel'], bins=100)\n",
    "plt.xlim((0,100));"
   ]
  },
  {
   "cell_type": "markdown",
   "metadata": {
    "deletable": true,
    "editable": true
   },
   "source": [
    "Interesting, we have a normal distributed with two peaks for the tenderloin. One seems to be at 10, and the other at 30. So on average, either 10 or 30 suppression personnel show up to the scene. "
   ]
  },
  {
   "cell_type": "markdown",
   "metadata": {
    "deletable": true,
    "editable": true
   },
   "source": [
    "### Modeling"
   ]
  },
  {
   "cell_type": "code",
   "execution_count": 33,
   "metadata": {
    "collapsed": false,
    "deletable": true,
    "editable": true
   },
   "outputs": [
    {
     "name": "stdout",
     "output_type": "stream",
     "text": [
      "0.247423715548\n"
     ]
    }
   ],
   "source": [
    "from sklearn.model_selection import train_test_split\n",
    "from sklearn.linear_model import LinearRegression\n",
    "\n",
    "X = dff_new.iloc[:, :-3].values\n",
    "y = np.ravel(dff_new.iloc[:, -1].values)\n",
    "\n",
    "\n",
    "X_train, X_test, y_train, y_test = train_test_split(X, y, test_size=0.25, random_state=1) \n",
    "\n",
    "# Create a linear regression Model \n",
    "lr = LinearRegression()\n",
    "\n",
    "lr.fit(X_train, y_train)\n",
    "\n",
    "# See how well it performs \n",
    "r_2 = lr.score(X_test, y_test)\n",
    "\n",
    "print r_2\n"
   ]
  },
  {
   "cell_type": "markdown",
   "metadata": {
    "deletable": true,
    "editable": true
   },
   "source": [
    "that's a surprisingly good r_2. "
   ]
  },
  {
   "cell_type": "code",
   "execution_count": 34,
   "metadata": {
    "collapsed": false,
    "deletable": true,
    "editable": true
   },
   "outputs": [
    {
     "data": {
      "text/plain": [
       "array([  3.35164205e-01,   2.41189589e-01,   3.34634692e-01,\n",
       "         3.26218851e-01,  -7.68658517e+21])"
      ]
     },
     "execution_count": 34,
     "metadata": {},
     "output_type": "execute_result"
    }
   ],
   "source": [
    "from sklearn.model_selection import cross_val_score\n",
    "from sklearn.utils import shuffle\n",
    "\n",
    "# X_shuff = shuffle(X)\n",
    "lr_2 = LinearRegression()\n",
    "cross_val_score(estimator=lr_2, X=X, y=y, cv=5, scoring='r2')\n",
    "# \n",
    "# lr_2.coef_\n"
   ]
  },
  {
   "cell_type": "markdown",
   "metadata": {
    "deletable": true,
    "editable": true
   },
   "source": [
    "The crazy r2 value suggests that there's some outlier!! If we could find the outlier, we could improve our model. \n",
    "\n",
    "Maybe it's a large supression personnel value. So we'll filter out values over 100 for that column."
   ]
  },
  {
   "cell_type": "code",
   "execution_count": 41,
   "metadata": {
    "collapsed": false
   },
   "outputs": [
    {
     "data": {
      "text/plain": [
       "(8159, 82)"
      ]
     },
     "execution_count": 41,
     "metadata": {},
     "output_type": "execute_result"
    }
   ],
   "source": [
    "dff_new.shape"
   ]
  },
  {
   "cell_type": "code",
   "execution_count": 35,
   "metadata": {
    "collapsed": false,
    "deletable": true,
    "editable": true
   },
   "outputs": [
    {
     "data": {
      "text/html": [
       "<div>\n",
       "<table border=\"1\" class=\"dataframe\">\n",
       "  <thead>\n",
       "    <tr style=\"text-align: right;\">\n",
       "      <th></th>\n",
       "      <th>Structure Status_0 other</th>\n",
       "      <th>Structure Status_1 under construction</th>\n",
       "      <th>Structure Status_2 in normal use</th>\n",
       "      <th>Structure Status_3 idle, not routinely used</th>\n",
       "      <th>Structure Status_4 under major renovation</th>\n",
       "      <th>Structure Status_5 vacant and secured</th>\n",
       "      <th>Structure Status_6 vacant and unsecured</th>\n",
       "      <th>Structure Status_7 being demolished</th>\n",
       "      <th>Structure Status_u undetermined</th>\n",
       "      <th>Structure Status_unknown</th>\n",
       "      <th>Structure Type_1 enclosed building</th>\n",
       "      <th>Structure Type_2 fixed portable or mobile structure</th>\n",
       "      <th>Structure Type_3 open structure</th>\n",
       "      <th>Structure Type_4 air supported structure</th>\n",
       "      <th>Structure Type_5 tent</th>\n",
       "      <th>Structure Type_6 open platform</th>\n",
       "      <th>Structure Type_7 underground structure work areas</th>\n",
       "      <th>Structure Type_8 connective structure</th>\n",
       "      <th>Structure Type_unknown</th>\n",
       "      <th>Detectors Present_0 other</th>\n",
       "      <th>Detectors Present_1 under construction</th>\n",
       "      <th>Detectors Present_2 in normal use</th>\n",
       "      <th>Detectors Present_3 idle, not routinely used</th>\n",
       "      <th>Detectors Present_4 under major renovation</th>\n",
       "      <th>Detectors Present_5 vacant and secured</th>\n",
       "      <th>Detectors Present_6 vacant and unsecured</th>\n",
       "      <th>Detectors Present_7 being demolished</th>\n",
       "      <th>Detectors Present_u undetermined</th>\n",
       "      <th>Detectors Present_unknown</th>\n",
       "      <th>Extinguishing System Present_0 other</th>\n",
       "      <th>Extinguishing System Present_1 under construction</th>\n",
       "      <th>Extinguishing System Present_2 in normal use</th>\n",
       "      <th>Extinguishing System Present_3 idle, not routinely used</th>\n",
       "      <th>Extinguishing System Present_4 under major renovation</th>\n",
       "      <th>Extinguishing System Present_5 vacant and secured</th>\n",
       "      <th>Extinguishing System Present_6 vacant and unsecured</th>\n",
       "      <th>Extinguishing System Present_7 being demolished</th>\n",
       "      <th>Extinguishing System Present_u undetermined</th>\n",
       "      <th>Extinguishing System Present_unknown</th>\n",
       "      <th>Neighborhood_Bernal Heights</th>\n",
       "      <th>Neighborhood_Castro/Upper Market</th>\n",
       "      <th>Neighborhood_Chinatown</th>\n",
       "      <th>Neighborhood_Excelsior</th>\n",
       "      <th>Neighborhood_Financial District/South Beach</th>\n",
       "      <th>Neighborhood_Glen Park</th>\n",
       "      <th>Neighborhood_Golden Gate Park</th>\n",
       "      <th>Neighborhood_Haight Ashbury</th>\n",
       "      <th>Neighborhood_Hayes Valley</th>\n",
       "      <th>Neighborhood_Inner Richmond</th>\n",
       "      <th>Neighborhood_Inner Sunset</th>\n",
       "      <th>Neighborhood_Japantown</th>\n",
       "      <th>Neighborhood_Lakeshore</th>\n",
       "      <th>Neighborhood_Lincoln Park</th>\n",
       "      <th>Neighborhood_Lone Mountain/USF</th>\n",
       "      <th>Neighborhood_Marina</th>\n",
       "      <th>Neighborhood_McLaren Park</th>\n",
       "      <th>Neighborhood_Mission</th>\n",
       "      <th>Neighborhood_Mission Bay</th>\n",
       "      <th>Neighborhood_Nob Hill</th>\n",
       "      <th>Neighborhood_Noe Valley</th>\n",
       "      <th>Neighborhood_North Beach</th>\n",
       "      <th>Neighborhood_Oceanview/Merced/Ingleside</th>\n",
       "      <th>Neighborhood_Outer Mission</th>\n",
       "      <th>Neighborhood_Outer Richmond</th>\n",
       "      <th>Neighborhood_Pacific Heights</th>\n",
       "      <th>Neighborhood_Portola</th>\n",
       "      <th>Neighborhood_Potrero Hill</th>\n",
       "      <th>Neighborhood_Presidio</th>\n",
       "      <th>Neighborhood_Presidio Heights</th>\n",
       "      <th>Neighborhood_Russian Hill</th>\n",
       "      <th>Neighborhood_Seacliff</th>\n",
       "      <th>Neighborhood_South of Market</th>\n",
       "      <th>Neighborhood_Sunset/Parkside</th>\n",
       "      <th>Neighborhood_Tenderloin</th>\n",
       "      <th>Neighborhood_Treasure Island</th>\n",
       "      <th>Neighborhood_Twin Peaks</th>\n",
       "      <th>Neighborhood_Visitacion Valley</th>\n",
       "      <th>Neighborhood_West of Twin Peaks</th>\n",
       "      <th>Neighborhood_Western Addition</th>\n",
       "      <th>Incident Number</th>\n",
       "      <th>Incident Date</th>\n",
       "      <th>Suppression Personnel</th>\n",
       "    </tr>\n",
       "  </thead>\n",
       "  <tbody>\n",
       "    <tr>\n",
       "      <th>20</th>\n",
       "      <td>0</td>\n",
       "      <td>0</td>\n",
       "      <td>1</td>\n",
       "      <td>0</td>\n",
       "      <td>0</td>\n",
       "      <td>0</td>\n",
       "      <td>0</td>\n",
       "      <td>0</td>\n",
       "      <td>0</td>\n",
       "      <td>0</td>\n",
       "      <td>1</td>\n",
       "      <td>0</td>\n",
       "      <td>0</td>\n",
       "      <td>0</td>\n",
       "      <td>0</td>\n",
       "      <td>0</td>\n",
       "      <td>0</td>\n",
       "      <td>0</td>\n",
       "      <td>0</td>\n",
       "      <td>0</td>\n",
       "      <td>0</td>\n",
       "      <td>1</td>\n",
       "      <td>0</td>\n",
       "      <td>0</td>\n",
       "      <td>0</td>\n",
       "      <td>0</td>\n",
       "      <td>0</td>\n",
       "      <td>0</td>\n",
       "      <td>0</td>\n",
       "      <td>0</td>\n",
       "      <td>0</td>\n",
       "      <td>1</td>\n",
       "      <td>0</td>\n",
       "      <td>0</td>\n",
       "      <td>0</td>\n",
       "      <td>0</td>\n",
       "      <td>0</td>\n",
       "      <td>0</td>\n",
       "      <td>0</td>\n",
       "      <td>0</td>\n",
       "      <td>0</td>\n",
       "      <td>0</td>\n",
       "      <td>0</td>\n",
       "      <td>0</td>\n",
       "      <td>0</td>\n",
       "      <td>0</td>\n",
       "      <td>0</td>\n",
       "      <td>0</td>\n",
       "      <td>0</td>\n",
       "      <td>0</td>\n",
       "      <td>0</td>\n",
       "      <td>0</td>\n",
       "      <td>0</td>\n",
       "      <td>0</td>\n",
       "      <td>0</td>\n",
       "      <td>0</td>\n",
       "      <td>0</td>\n",
       "      <td>0</td>\n",
       "      <td>0</td>\n",
       "      <td>0</td>\n",
       "      <td>0</td>\n",
       "      <td>0</td>\n",
       "      <td>0</td>\n",
       "      <td>0</td>\n",
       "      <td>0</td>\n",
       "      <td>0</td>\n",
       "      <td>0</td>\n",
       "      <td>0</td>\n",
       "      <td>0</td>\n",
       "      <td>0</td>\n",
       "      <td>0</td>\n",
       "      <td>1</td>\n",
       "      <td>0</td>\n",
       "      <td>0</td>\n",
       "      <td>0</td>\n",
       "      <td>0</td>\n",
       "      <td>0</td>\n",
       "      <td>0</td>\n",
       "      <td>0</td>\n",
       "      <td>06060988</td>\n",
       "      <td>08/05/2006</td>\n",
       "      <td>33</td>\n",
       "    </tr>\n",
       "    <tr>\n",
       "      <th>38</th>\n",
       "      <td>0</td>\n",
       "      <td>0</td>\n",
       "      <td>0</td>\n",
       "      <td>0</td>\n",
       "      <td>0</td>\n",
       "      <td>0</td>\n",
       "      <td>0</td>\n",
       "      <td>0</td>\n",
       "      <td>0</td>\n",
       "      <td>1</td>\n",
       "      <td>0</td>\n",
       "      <td>0</td>\n",
       "      <td>1</td>\n",
       "      <td>0</td>\n",
       "      <td>0</td>\n",
       "      <td>0</td>\n",
       "      <td>0</td>\n",
       "      <td>0</td>\n",
       "      <td>0</td>\n",
       "      <td>0</td>\n",
       "      <td>0</td>\n",
       "      <td>0</td>\n",
       "      <td>0</td>\n",
       "      <td>0</td>\n",
       "      <td>0</td>\n",
       "      <td>0</td>\n",
       "      <td>0</td>\n",
       "      <td>0</td>\n",
       "      <td>1</td>\n",
       "      <td>0</td>\n",
       "      <td>0</td>\n",
       "      <td>0</td>\n",
       "      <td>0</td>\n",
       "      <td>0</td>\n",
       "      <td>0</td>\n",
       "      <td>0</td>\n",
       "      <td>0</td>\n",
       "      <td>0</td>\n",
       "      <td>1</td>\n",
       "      <td>0</td>\n",
       "      <td>0</td>\n",
       "      <td>0</td>\n",
       "      <td>0</td>\n",
       "      <td>0</td>\n",
       "      <td>0</td>\n",
       "      <td>0</td>\n",
       "      <td>0</td>\n",
       "      <td>0</td>\n",
       "      <td>0</td>\n",
       "      <td>0</td>\n",
       "      <td>0</td>\n",
       "      <td>0</td>\n",
       "      <td>0</td>\n",
       "      <td>0</td>\n",
       "      <td>0</td>\n",
       "      <td>0</td>\n",
       "      <td>0</td>\n",
       "      <td>0</td>\n",
       "      <td>0</td>\n",
       "      <td>0</td>\n",
       "      <td>0</td>\n",
       "      <td>0</td>\n",
       "      <td>0</td>\n",
       "      <td>0</td>\n",
       "      <td>0</td>\n",
       "      <td>0</td>\n",
       "      <td>0</td>\n",
       "      <td>0</td>\n",
       "      <td>0</td>\n",
       "      <td>0</td>\n",
       "      <td>0</td>\n",
       "      <td>0</td>\n",
       "      <td>0</td>\n",
       "      <td>0</td>\n",
       "      <td>0</td>\n",
       "      <td>0</td>\n",
       "      <td>0</td>\n",
       "      <td>0</td>\n",
       "      <td>0</td>\n",
       "      <td>05040114</td>\n",
       "      <td>05/30/2005</td>\n",
       "      <td>4</td>\n",
       "    </tr>\n",
       "    <tr>\n",
       "      <th>80</th>\n",
       "      <td>0</td>\n",
       "      <td>0</td>\n",
       "      <td>1</td>\n",
       "      <td>0</td>\n",
       "      <td>0</td>\n",
       "      <td>0</td>\n",
       "      <td>0</td>\n",
       "      <td>0</td>\n",
       "      <td>0</td>\n",
       "      <td>0</td>\n",
       "      <td>1</td>\n",
       "      <td>0</td>\n",
       "      <td>0</td>\n",
       "      <td>0</td>\n",
       "      <td>0</td>\n",
       "      <td>0</td>\n",
       "      <td>0</td>\n",
       "      <td>0</td>\n",
       "      <td>0</td>\n",
       "      <td>0</td>\n",
       "      <td>0</td>\n",
       "      <td>1</td>\n",
       "      <td>0</td>\n",
       "      <td>0</td>\n",
       "      <td>0</td>\n",
       "      <td>0</td>\n",
       "      <td>0</td>\n",
       "      <td>0</td>\n",
       "      <td>0</td>\n",
       "      <td>0</td>\n",
       "      <td>0</td>\n",
       "      <td>1</td>\n",
       "      <td>0</td>\n",
       "      <td>0</td>\n",
       "      <td>0</td>\n",
       "      <td>0</td>\n",
       "      <td>0</td>\n",
       "      <td>0</td>\n",
       "      <td>0</td>\n",
       "      <td>0</td>\n",
       "      <td>0</td>\n",
       "      <td>0</td>\n",
       "      <td>0</td>\n",
       "      <td>0</td>\n",
       "      <td>0</td>\n",
       "      <td>0</td>\n",
       "      <td>0</td>\n",
       "      <td>0</td>\n",
       "      <td>0</td>\n",
       "      <td>0</td>\n",
       "      <td>0</td>\n",
       "      <td>0</td>\n",
       "      <td>0</td>\n",
       "      <td>0</td>\n",
       "      <td>0</td>\n",
       "      <td>0</td>\n",
       "      <td>0</td>\n",
       "      <td>0</td>\n",
       "      <td>0</td>\n",
       "      <td>0</td>\n",
       "      <td>1</td>\n",
       "      <td>0</td>\n",
       "      <td>0</td>\n",
       "      <td>0</td>\n",
       "      <td>0</td>\n",
       "      <td>0</td>\n",
       "      <td>0</td>\n",
       "      <td>0</td>\n",
       "      <td>0</td>\n",
       "      <td>0</td>\n",
       "      <td>0</td>\n",
       "      <td>0</td>\n",
       "      <td>0</td>\n",
       "      <td>0</td>\n",
       "      <td>0</td>\n",
       "      <td>0</td>\n",
       "      <td>0</td>\n",
       "      <td>0</td>\n",
       "      <td>0</td>\n",
       "      <td>06038931</td>\n",
       "      <td>05/20/2006</td>\n",
       "      <td>42</td>\n",
       "    </tr>\n",
       "  </tbody>\n",
       "</table>\n",
       "</div>"
      ],
      "text/plain": [
       "    Structure Status_0 other  Structure Status_1 under construction  \\\n",
       "20                         0                                      0   \n",
       "38                         0                                      0   \n",
       "80                         0                                      0   \n",
       "\n",
       "    Structure Status_2 in normal use  \\\n",
       "20                                 1   \n",
       "38                                 0   \n",
       "80                                 1   \n",
       "\n",
       "    Structure Status_3 idle, not routinely used  \\\n",
       "20                                            0   \n",
       "38                                            0   \n",
       "80                                            0   \n",
       "\n",
       "    Structure Status_4 under major renovation  \\\n",
       "20                                          0   \n",
       "38                                          0   \n",
       "80                                          0   \n",
       "\n",
       "    Structure Status_5 vacant and secured  \\\n",
       "20                                      0   \n",
       "38                                      0   \n",
       "80                                      0   \n",
       "\n",
       "    Structure Status_6 vacant and unsecured  \\\n",
       "20                                        0   \n",
       "38                                        0   \n",
       "80                                        0   \n",
       "\n",
       "    Structure Status_7 being demolished  Structure Status_u undetermined  \\\n",
       "20                                    0                                0   \n",
       "38                                    0                                0   \n",
       "80                                    0                                0   \n",
       "\n",
       "    Structure Status_unknown  Structure Type_1 enclosed building  \\\n",
       "20                         0                                   1   \n",
       "38                         1                                   0   \n",
       "80                         0                                   1   \n",
       "\n",
       "    Structure Type_2 fixed portable or mobile structure  \\\n",
       "20                                                  0     \n",
       "38                                                  0     \n",
       "80                                                  0     \n",
       "\n",
       "    Structure Type_3 open structure  Structure Type_4 air supported structure  \\\n",
       "20                                0                                         0   \n",
       "38                                1                                         0   \n",
       "80                                0                                         0   \n",
       "\n",
       "    Structure Type_5 tent  Structure Type_6 open platform  \\\n",
       "20                      0                               0   \n",
       "38                      0                               0   \n",
       "80                      0                               0   \n",
       "\n",
       "    Structure Type_7 underground structure work areas  \\\n",
       "20                                                  0   \n",
       "38                                                  0   \n",
       "80                                                  0   \n",
       "\n",
       "    Structure Type_8 connective structure  Structure Type_unknown  \\\n",
       "20                                      0                       0   \n",
       "38                                      0                       0   \n",
       "80                                      0                       0   \n",
       "\n",
       "    Detectors Present_0 other  Detectors Present_1 under construction  \\\n",
       "20                          0                                       0   \n",
       "38                          0                                       0   \n",
       "80                          0                                       0   \n",
       "\n",
       "    Detectors Present_2 in normal use  \\\n",
       "20                                  1   \n",
       "38                                  0   \n",
       "80                                  1   \n",
       "\n",
       "    Detectors Present_3 idle, not routinely used  \\\n",
       "20                                             0   \n",
       "38                                             0   \n",
       "80                                             0   \n",
       "\n",
       "    Detectors Present_4 under major renovation  \\\n",
       "20                                           0   \n",
       "38                                           0   \n",
       "80                                           0   \n",
       "\n",
       "    Detectors Present_5 vacant and secured  \\\n",
       "20                                       0   \n",
       "38                                       0   \n",
       "80                                       0   \n",
       "\n",
       "    Detectors Present_6 vacant and unsecured  \\\n",
       "20                                         0   \n",
       "38                                         0   \n",
       "80                                         0   \n",
       "\n",
       "    Detectors Present_7 being demolished  Detectors Present_u undetermined  \\\n",
       "20                                     0                                 0   \n",
       "38                                     0                                 0   \n",
       "80                                     0                                 0   \n",
       "\n",
       "    Detectors Present_unknown  Extinguishing System Present_0 other  \\\n",
       "20                          0                                     0   \n",
       "38                          1                                     0   \n",
       "80                          0                                     0   \n",
       "\n",
       "    Extinguishing System Present_1 under construction  \\\n",
       "20                                                  0   \n",
       "38                                                  0   \n",
       "80                                                  0   \n",
       "\n",
       "    Extinguishing System Present_2 in normal use  \\\n",
       "20                                             1   \n",
       "38                                             0   \n",
       "80                                             1   \n",
       "\n",
       "    Extinguishing System Present_3 idle, not routinely used  \\\n",
       "20                                                  0         \n",
       "38                                                  0         \n",
       "80                                                  0         \n",
       "\n",
       "    Extinguishing System Present_4 under major renovation  \\\n",
       "20                                                  0       \n",
       "38                                                  0       \n",
       "80                                                  0       \n",
       "\n",
       "    Extinguishing System Present_5 vacant and secured  \\\n",
       "20                                                  0   \n",
       "38                                                  0   \n",
       "80                                                  0   \n",
       "\n",
       "    Extinguishing System Present_6 vacant and unsecured  \\\n",
       "20                                                  0     \n",
       "38                                                  0     \n",
       "80                                                  0     \n",
       "\n",
       "    Extinguishing System Present_7 being demolished  \\\n",
       "20                                                0   \n",
       "38                                                0   \n",
       "80                                                0   \n",
       "\n",
       "    Extinguishing System Present_u undetermined  \\\n",
       "20                                            0   \n",
       "38                                            0   \n",
       "80                                            0   \n",
       "\n",
       "    Extinguishing System Present_unknown  Neighborhood_Bernal Heights  \\\n",
       "20                                     0                            0   \n",
       "38                                     1                            0   \n",
       "80                                     0                            0   \n",
       "\n",
       "    Neighborhood_Castro/Upper Market  Neighborhood_Chinatown  \\\n",
       "20                                 0                       0   \n",
       "38                                 0                       0   \n",
       "80                                 0                       0   \n",
       "\n",
       "    Neighborhood_Excelsior  Neighborhood_Financial District/South Beach  \\\n",
       "20                       0                                            0   \n",
       "38                       0                                            0   \n",
       "80                       0                                            0   \n",
       "\n",
       "    Neighborhood_Glen Park  Neighborhood_Golden Gate Park  \\\n",
       "20                       0                              0   \n",
       "38                       0                              0   \n",
       "80                       0                              0   \n",
       "\n",
       "    Neighborhood_Haight Ashbury  Neighborhood_Hayes Valley  \\\n",
       "20                            0                          0   \n",
       "38                            0                          0   \n",
       "80                            0                          0   \n",
       "\n",
       "    Neighborhood_Inner Richmond  Neighborhood_Inner Sunset  \\\n",
       "20                            0                          0   \n",
       "38                            0                          0   \n",
       "80                            0                          0   \n",
       "\n",
       "    Neighborhood_Japantown  Neighborhood_Lakeshore  Neighborhood_Lincoln Park  \\\n",
       "20                       0                       0                          0   \n",
       "38                       0                       0                          0   \n",
       "80                       0                       0                          0   \n",
       "\n",
       "    Neighborhood_Lone Mountain/USF  Neighborhood_Marina  \\\n",
       "20                               0                    0   \n",
       "38                               0                    0   \n",
       "80                               0                    0   \n",
       "\n",
       "    Neighborhood_McLaren Park  Neighborhood_Mission  Neighborhood_Mission Bay  \\\n",
       "20                          0                     0                         0   \n",
       "38                          0                     0                         0   \n",
       "80                          0                     0                         0   \n",
       "\n",
       "    Neighborhood_Nob Hill  Neighborhood_Noe Valley  Neighborhood_North Beach  \\\n",
       "20                      0                        0                         0   \n",
       "38                      0                        0                         0   \n",
       "80                      0                        0                         1   \n",
       "\n",
       "    Neighborhood_Oceanview/Merced/Ingleside  Neighborhood_Outer Mission  \\\n",
       "20                                        0                           0   \n",
       "38                                        0                           0   \n",
       "80                                        0                           0   \n",
       "\n",
       "    Neighborhood_Outer Richmond  Neighborhood_Pacific Heights  \\\n",
       "20                            0                             0   \n",
       "38                            0                             0   \n",
       "80                            0                             0   \n",
       "\n",
       "    Neighborhood_Portola  Neighborhood_Potrero Hill  Neighborhood_Presidio  \\\n",
       "20                     0                          0                      0   \n",
       "38                     0                          0                      0   \n",
       "80                     0                          0                      0   \n",
       "\n",
       "    Neighborhood_Presidio Heights  Neighborhood_Russian Hill  \\\n",
       "20                              0                          0   \n",
       "38                              0                          0   \n",
       "80                              0                          0   \n",
       "\n",
       "    Neighborhood_Seacliff  Neighborhood_South of Market  \\\n",
       "20                      0                             1   \n",
       "38                      0                             0   \n",
       "80                      0                             0   \n",
       "\n",
       "    Neighborhood_Sunset/Parkside  Neighborhood_Tenderloin  \\\n",
       "20                             0                        0   \n",
       "38                             0                        0   \n",
       "80                             0                        0   \n",
       "\n",
       "    Neighborhood_Treasure Island  Neighborhood_Twin Peaks  \\\n",
       "20                             0                        0   \n",
       "38                             0                        0   \n",
       "80                             0                        0   \n",
       "\n",
       "    Neighborhood_Visitacion Valley  Neighborhood_West of Twin Peaks  \\\n",
       "20                               0                                0   \n",
       "38                               0                                0   \n",
       "80                               0                                0   \n",
       "\n",
       "    Neighborhood_Western Addition Incident Number Incident Date  \\\n",
       "20                              0        06060988    08/05/2006   \n",
       "38                              0        05040114    05/30/2005   \n",
       "80                              0        06038931    05/20/2006   \n",
       "\n",
       "    Suppression Personnel  \n",
       "20                     33  \n",
       "38                      4  \n",
       "80                     42  "
      ]
     },
     "execution_count": 35,
     "metadata": {},
     "output_type": "execute_result"
    }
   ],
   "source": [
    "dff_new.head(3)"
   ]
  },
  {
   "cell_type": "code",
   "execution_count": 36,
   "metadata": {
    "collapsed": false,
    "deletable": true,
    "editable": true
   },
   "outputs": [],
   "source": [
    "# dff_new_filtered = \n",
    "dff_new = dff_new[dff_new['Suppression Personnel'] < 100]"
   ]
  },
  {
   "cell_type": "code",
   "execution_count": 37,
   "metadata": {
    "collapsed": false,
    "deletable": true,
    "editable": true
   },
   "outputs": [
    {
     "data": {
      "text/html": [
       "<div>\n",
       "<table border=\"1\" class=\"dataframe\">\n",
       "  <thead>\n",
       "    <tr style=\"text-align: right;\">\n",
       "      <th></th>\n",
       "      <th>Suppression Personnel</th>\n",
       "    </tr>\n",
       "  </thead>\n",
       "  <tbody>\n",
       "    <tr>\n",
       "      <th>count</th>\n",
       "      <td>8213.000000</td>\n",
       "    </tr>\n",
       "    <tr>\n",
       "      <th>mean</th>\n",
       "      <td>23.451114</td>\n",
       "    </tr>\n",
       "    <tr>\n",
       "      <th>std</th>\n",
       "      <td>17.269227</td>\n",
       "    </tr>\n",
       "    <tr>\n",
       "      <th>min</th>\n",
       "      <td>0.000000</td>\n",
       "    </tr>\n",
       "    <tr>\n",
       "      <th>25%</th>\n",
       "      <td>10.000000</td>\n",
       "    </tr>\n",
       "    <tr>\n",
       "      <th>50%</th>\n",
       "      <td>28.000000</td>\n",
       "    </tr>\n",
       "    <tr>\n",
       "      <th>75%</th>\n",
       "      <td>33.000000</td>\n",
       "    </tr>\n",
       "    <tr>\n",
       "      <th>max</th>\n",
       "      <td>346.000000</td>\n",
       "    </tr>\n",
       "  </tbody>\n",
       "</table>\n",
       "</div>"
      ],
      "text/plain": [
       "       Suppression Personnel\n",
       "count            8213.000000\n",
       "mean               23.451114\n",
       "std                17.269227\n",
       "min                 0.000000\n",
       "25%                10.000000\n",
       "50%                28.000000\n",
       "75%                33.000000\n",
       "max               346.000000"
      ]
     },
     "execution_count": 37,
     "metadata": {},
     "output_type": "execute_result"
    }
   ],
   "source": [
    "dff.describe()"
   ]
  },
  {
   "cell_type": "code",
   "execution_count": 38,
   "metadata": {
    "collapsed": false,
    "deletable": true,
    "editable": true
   },
   "outputs": [
    {
     "name": "stdout",
     "output_type": "stream",
     "text": [
      "0.30702700999\n"
     ]
    }
   ],
   "source": [
    "X = dff_new.iloc[:, :-3].values\n",
    "y = np.ravel(dff_new.iloc[:, -1].values)\n",
    "\n",
    "\n",
    "X_train, X_test, y_train, y_test = train_test_split(X, y, test_size=0.25, random_state=1) \n",
    "\n",
    "# Create a linear regression Model \n",
    "lr = LinearRegression()\n",
    "\n",
    "lr.fit(X_train, y_train)\n",
    "\n",
    "# See how well it performs \n",
    "r_2 = lr.score(X_test, y_test)\n",
    "\n",
    "print r_2\n"
   ]
  },
  {
   "cell_type": "code",
   "execution_count": 39,
   "metadata": {
    "collapsed": false,
    "deletable": true,
    "editable": true
   },
   "outputs": [
    {
     "name": "stdout",
     "output_type": "stream",
     "text": [
      "[ 0.41910433  0.34481412  0.30282984  0.36799224  0.39286412  0.36636771\n",
      "  0.38731937  0.33343467  0.1392187   0.0429818 ]\n",
      "median score 0.355590910686\n"
     ]
    }
   ],
   "source": [
    "lr2 = LinearRegression()\n",
    "scores = cross_val_score(estimator=lr2, X=X, y=y, cv=10, scoring='r2')\n",
    "print scores\n",
    "print 'median score', np.median(scores)"
   ]
  },
  {
   "cell_type": "markdown",
   "metadata": {
    "deletable": true,
    "editable": true
   },
   "source": [
    "I'm very curious as to what's causing that last r2 value to be very large, but I don't know what it is. \n",
    "\n",
    "But our median r2 value is 0.35, which is better than I thought we would get. "
   ]
  },
  {
   "cell_type": "markdown",
   "metadata": {
    "deletable": true,
    "editable": true
   },
   "source": [
    "Some coefficients are really significant and others are not. Maybe \n"
   ]
  },
  {
   "cell_type": "code",
   "execution_count": 40,
   "metadata": {
    "collapsed": false,
    "deletable": true,
    "editable": true
   },
   "outputs": [
    {
     "name": "stdout",
     "output_type": "stream",
     "text": [
      "0.281280026762 {'alpha': 1}\n"
     ]
    },
    {
     "data": {
      "text/plain": [
       "0.28277057354832325"
      ]
     },
     "execution_count": 40,
     "metadata": {},
     "output_type": "execute_result"
    }
   ],
   "source": [
    "from sklearn.model_selection import GridSearchCV\n",
    "from sklearn.linear_model import Lasso\n",
    "\n",
    "ls = Lasso()\n",
    "\n",
    "# Set the parameters of the estimator model to scan over \n",
    "params = {\n",
    "    'alpha':[1,2,3,4,5]\n",
    "}\n",
    "# create grid search CV \n",
    "gcv = GridSearchCV(estimator=ls, param_grid=params)\n",
    "# fit model \n",
    "gcv.fit(X_train, y_train)\n",
    "# gs.cv_results_\n",
    "print gcv.best_score_, gcv.best_params_\n",
    "# score \n",
    "gcv.score(X_test, y_test)"
   ]
  },
  {
   "cell_type": "markdown",
   "metadata": {
    "deletable": true,
    "editable": true
   },
   "source": [
    "Lasso did not improve things. So our conclusion is that we might have a promising model, but some section of our data contains anomilies/outliers that are messing up our error rate. To continue this, I would perform some sort of clustering to see which data points are causing our error rate to sky-rocket. "
   ]
  },
  {
   "cell_type": "markdown",
   "metadata": {
    "deletable": true,
    "editable": true
   },
   "source": [
    "<img src=\"http://imgur.com/l5NasQj.png\" style=\"float: left; margin: 25px 15px 0px 0px; height: 25px\">\n",
    "\n",
    "### 4. Conduct another analysis using the San Francisco Parks data to predict Park scores\n",
    "\n",
    "---\n",
    "\n",
    "1. Combining multiple sources of park data (csv files) is required.\n",
    "- Perform EDA and cleaning on relevant data.\n",
    "- Construct and compare different regression models with cross-validation.\n",
    "- Plot descriptive visuals you think are useful for understanding the data.\n",
    "- Report on your findings.\n"
   ]
  },
  {
   "cell_type": "code",
   "execution_count": 79,
   "metadata": {
    "collapsed": false,
    "deletable": true,
    "editable": true
   },
   "outputs": [],
   "source": [
    "dfp = pd.read_csv('/Users/Naekid/Desktop/DSI-SF-5-fork/DSI-SF-5/datasets/san_francisco/san_francisco/san_francisco/parks/park_scores.csv')\n",
    "dfi = pd.read_csv('/Users/Naekid/Desktop/DSI-SF-5-fork/DSI-SF-5/datasets/san_francisco/san_francisco/san_francisco/parks/park_info.csv')"
   ]
  },
  {
   "cell_type": "code",
   "execution_count": 80,
   "metadata": {
    "collapsed": false,
    "deletable": true,
    "editable": true
   },
   "outputs": [
    {
     "data": {
      "text/html": [
       "<div>\n",
       "<table border=\"1\" class=\"dataframe\">\n",
       "  <thead>\n",
       "    <tr style=\"text-align: right;\">\n",
       "      <th></th>\n",
       "      <th>ParkID</th>\n",
       "      <th>PSA</th>\n",
       "      <th>Park</th>\n",
       "      <th>FQ</th>\n",
       "      <th>Score</th>\n",
       "    </tr>\n",
       "  </thead>\n",
       "  <tbody>\n",
       "    <tr>\n",
       "      <th>0</th>\n",
       "      <td>86</td>\n",
       "      <td>PSA4</td>\n",
       "      <td>Carl Larsen Park</td>\n",
       "      <td>FY05Q3</td>\n",
       "      <td>0.795</td>\n",
       "    </tr>\n",
       "    <tr>\n",
       "      <th>1</th>\n",
       "      <td>13</td>\n",
       "      <td>PSA4</td>\n",
       "      <td>Junipero Serra Playground</td>\n",
       "      <td>FY05Q3</td>\n",
       "      <td>0.957</td>\n",
       "    </tr>\n",
       "    <tr>\n",
       "      <th>2</th>\n",
       "      <td>9</td>\n",
       "      <td>PSA4</td>\n",
       "      <td>Rolph Nicol Playground</td>\n",
       "      <td>FY05Q3</td>\n",
       "      <td>0.864</td>\n",
       "    </tr>\n",
       "    <tr>\n",
       "      <th>3</th>\n",
       "      <td>117</td>\n",
       "      <td>PSA2</td>\n",
       "      <td>Alamo Square</td>\n",
       "      <td>FY05Q4</td>\n",
       "      <td>0.857</td>\n",
       "    </tr>\n",
       "    <tr>\n",
       "      <th>4</th>\n",
       "      <td>60</td>\n",
       "      <td>PSA6</td>\n",
       "      <td>Jose Coronado Playground</td>\n",
       "      <td>FY05Q4</td>\n",
       "      <td>0.859</td>\n",
       "    </tr>\n",
       "  </tbody>\n",
       "</table>\n",
       "</div>"
      ],
      "text/plain": [
       "   ParkID   PSA                       Park      FQ  Score\n",
       "0      86  PSA4           Carl Larsen Park  FY05Q3  0.795\n",
       "1      13  PSA4  Junipero Serra Playground  FY05Q3  0.957\n",
       "2       9  PSA4     Rolph Nicol Playground  FY05Q3  0.864\n",
       "3     117  PSA2               Alamo Square  FY05Q4  0.857\n",
       "4      60  PSA6   Jose Coronado Playground  FY05Q4  0.859"
      ]
     },
     "execution_count": 80,
     "metadata": {},
     "output_type": "execute_result"
    }
   ],
   "source": [
    "dfp.head(5)"
   ]
  },
  {
   "cell_type": "code",
   "execution_count": 81,
   "metadata": {
    "collapsed": false,
    "deletable": true,
    "editable": true
   },
   "outputs": [
    {
     "data": {
      "text/plain": [
       "PSA1    1355\n",
       "PSA2     978\n",
       "PSA3     770\n",
       "PSA4     717\n",
       "PSA5     710\n",
       "PSA6     640\n",
       "GGP      325\n",
       "Name: PSA, dtype: int64"
      ]
     },
     "execution_count": 81,
     "metadata": {},
     "output_type": "execute_result"
    }
   ],
   "source": [
    "dfp.PSA.value_counts()"
   ]
  },
  {
   "cell_type": "code",
   "execution_count": 82,
   "metadata": {
    "collapsed": false,
    "deletable": true,
    "editable": true
   },
   "outputs": [],
   "source": [
    "dfp['PSA'].replace(['PSA1','PSA2','PSA3','PSA4','PSA5','PSA6','GGP'], [1,2,3,4,5,6,7], inplace=True)"
   ]
  },
  {
   "cell_type": "code",
   "execution_count": 83,
   "metadata": {
    "collapsed": false,
    "deletable": true,
    "editable": true
   },
   "outputs": [
    {
     "data": {
      "text/html": [
       "<div>\n",
       "<table border=\"1\" class=\"dataframe\">\n",
       "  <thead>\n",
       "    <tr style=\"text-align: right;\">\n",
       "      <th></th>\n",
       "      <th>ParkID</th>\n",
       "      <th>PSA</th>\n",
       "      <th>Park</th>\n",
       "      <th>FQ</th>\n",
       "      <th>Score</th>\n",
       "    </tr>\n",
       "  </thead>\n",
       "  <tbody>\n",
       "    <tr>\n",
       "      <th>0</th>\n",
       "      <td>86</td>\n",
       "      <td>4</td>\n",
       "      <td>Carl Larsen Park</td>\n",
       "      <td>FY05Q3</td>\n",
       "      <td>0.795</td>\n",
       "    </tr>\n",
       "    <tr>\n",
       "      <th>1</th>\n",
       "      <td>13</td>\n",
       "      <td>4</td>\n",
       "      <td>Junipero Serra Playground</td>\n",
       "      <td>FY05Q3</td>\n",
       "      <td>0.957</td>\n",
       "    </tr>\n",
       "    <tr>\n",
       "      <th>2</th>\n",
       "      <td>9</td>\n",
       "      <td>4</td>\n",
       "      <td>Rolph Nicol Playground</td>\n",
       "      <td>FY05Q3</td>\n",
       "      <td>0.864</td>\n",
       "    </tr>\n",
       "    <tr>\n",
       "      <th>3</th>\n",
       "      <td>117</td>\n",
       "      <td>2</td>\n",
       "      <td>Alamo Square</td>\n",
       "      <td>FY05Q4</td>\n",
       "      <td>0.857</td>\n",
       "    </tr>\n",
       "    <tr>\n",
       "      <th>4</th>\n",
       "      <td>60</td>\n",
       "      <td>6</td>\n",
       "      <td>Jose Coronado Playground</td>\n",
       "      <td>FY05Q4</td>\n",
       "      <td>0.859</td>\n",
       "    </tr>\n",
       "  </tbody>\n",
       "</table>\n",
       "</div>"
      ],
      "text/plain": [
       "   ParkID  PSA                       Park      FQ  Score\n",
       "0      86    4           Carl Larsen Park  FY05Q3  0.795\n",
       "1      13    4  Junipero Serra Playground  FY05Q3  0.957\n",
       "2       9    4     Rolph Nicol Playground  FY05Q3  0.864\n",
       "3     117    2               Alamo Square  FY05Q4  0.857\n",
       "4      60    6   Jose Coronado Playground  FY05Q4  0.859"
      ]
     },
     "execution_count": 83,
     "metadata": {},
     "output_type": "execute_result"
    }
   ],
   "source": [
    "dfp.head()"
   ]
  },
  {
   "cell_type": "code",
   "execution_count": 84,
   "metadata": {
    "collapsed": false,
    "deletable": true,
    "editable": true
   },
   "outputs": [
    {
     "data": {
      "text/html": [
       "<div>\n",
       "<table border=\"1\" class=\"dataframe\">\n",
       "  <thead>\n",
       "    <tr style=\"text-align: right;\">\n",
       "      <th></th>\n",
       "      <th>ParkName</th>\n",
       "      <th>ParkType</th>\n",
       "      <th>ParkServiceArea</th>\n",
       "      <th>PSAManager</th>\n",
       "      <th>email</th>\n",
       "      <th>Number</th>\n",
       "      <th>Zipcode</th>\n",
       "      <th>Acreage</th>\n",
       "      <th>SupDist</th>\n",
       "      <th>ParkID</th>\n",
       "      <th>Location 1</th>\n",
       "      <th>Lat</th>\n",
       "    </tr>\n",
       "  </thead>\n",
       "  <tbody>\n",
       "    <tr>\n",
       "      <th>0</th>\n",
       "      <td>ParkName</td>\n",
       "      <td>ParkType</td>\n",
       "      <td>ParkServiceArea</td>\n",
       "      <td>PSAManager</td>\n",
       "      <td>email</td>\n",
       "      <td>Number</td>\n",
       "      <td>NaN</td>\n",
       "      <td>NaN</td>\n",
       "      <td>NaN</td>\n",
       "      <td>NaN</td>\n",
       "      <td>NaN</td>\n",
       "      <td>NaN</td>\n",
       "    </tr>\n",
       "  </tbody>\n",
       "</table>\n",
       "</div>"
      ],
      "text/plain": [
       "   ParkName  ParkType  ParkServiceArea  PSAManager  email  Number  Zipcode  \\\n",
       "0  ParkName  ParkType  ParkServiceArea  PSAManager  email  Number      NaN   \n",
       "\n",
       "   Acreage  SupDist  ParkID Location 1  Lat  \n",
       "0      NaN      NaN     NaN        NaN  NaN  "
      ]
     },
     "execution_count": 84,
     "metadata": {},
     "output_type": "execute_result"
    }
   ],
   "source": [
    "dfi.head(1)"
   ]
  },
  {
   "cell_type": "code",
   "execution_count": 85,
   "metadata": {
    "collapsed": false,
    "deletable": true,
    "editable": true
   },
   "outputs": [],
   "source": [
    "dfi.drop(labels=0, axis=0, inplace=True)"
   ]
  },
  {
   "cell_type": "code",
   "execution_count": 86,
   "metadata": {
    "collapsed": false,
    "deletable": true,
    "editable": true
   },
   "outputs": [
    {
     "data": {
      "text/plain": [
       "(229, 12)"
      ]
     },
     "execution_count": 86,
     "metadata": {},
     "output_type": "execute_result"
    }
   ],
   "source": [
    "dfi.shape"
   ]
  },
  {
   "cell_type": "code",
   "execution_count": 87,
   "metadata": {
    "collapsed": false,
    "deletable": true,
    "editable": true
   },
   "outputs": [
    {
     "data": {
      "text/html": [
       "<div>\n",
       "<table border=\"1\" class=\"dataframe\">\n",
       "  <thead>\n",
       "    <tr style=\"text-align: right;\">\n",
       "      <th></th>\n",
       "      <th>ParkName</th>\n",
       "      <th>ParkType</th>\n",
       "      <th>ParkServiceArea</th>\n",
       "      <th>PSAManager</th>\n",
       "      <th>email</th>\n",
       "      <th>Number</th>\n",
       "      <th>Zipcode</th>\n",
       "      <th>Acreage</th>\n",
       "      <th>SupDist</th>\n",
       "      <th>ParkID</th>\n",
       "      <th>Location 1</th>\n",
       "      <th>Lat</th>\n",
       "    </tr>\n",
       "  </thead>\n",
       "  <tbody>\n",
       "    <tr>\n",
       "      <th>1</th>\n",
       "      <td>10TH AVE/CLEMENT MINI PARK</td>\n",
       "      <td>Mini Park</td>\n",
       "      <td>PSA 1</td>\n",
       "      <td>Elder, Steve</td>\n",
       "      <td>steven.elder@sfgov.org</td>\n",
       "      <td>(415) 601-6501</td>\n",
       "      <td>94118.0</td>\n",
       "      <td>0.66</td>\n",
       "      <td>1.0</td>\n",
       "      <td>156.0</td>\n",
       "      <td>351 9th Ave\\nSan Francisco, CA\\n(37.78184397, ...</td>\n",
       "      <td>NaN</td>\n",
       "    </tr>\n",
       "  </tbody>\n",
       "</table>\n",
       "</div>"
      ],
      "text/plain": [
       "                     ParkName   ParkType ParkServiceArea    PSAManager  \\\n",
       "1  10TH AVE/CLEMENT MINI PARK  Mini Park           PSA 1  Elder, Steve   \n",
       "\n",
       "                    email          Number  Zipcode  Acreage  SupDist  ParkID  \\\n",
       "1  steven.elder@sfgov.org  (415) 601-6501  94118.0     0.66      1.0   156.0   \n",
       "\n",
       "                                          Location 1  Lat  \n",
       "1  351 9th Ave\\nSan Francisco, CA\\n(37.78184397, ...  NaN  "
      ]
     },
     "execution_count": 87,
     "metadata": {},
     "output_type": "execute_result"
    }
   ],
   "source": [
    "dfi.head(1)"
   ]
  },
  {
   "cell_type": "code",
   "execution_count": 88,
   "metadata": {
    "collapsed": false,
    "deletable": true,
    "editable": true
   },
   "outputs": [
    {
     "data": {
      "text/plain": [
       "ParkName             0\n",
       "ParkType             0\n",
       "ParkServiceArea      0\n",
       "PSAManager           0\n",
       "email                0\n",
       "Number               0\n",
       "Zipcode              6\n",
       "Acreage              0\n",
       "SupDist              2\n",
       "ParkID               0\n",
       "Location 1          27\n",
       "Lat                229\n",
       "dtype: int64"
      ]
     },
     "execution_count": 88,
     "metadata": {},
     "output_type": "execute_result"
    }
   ],
   "source": [
    "dfi.isnull().sum()"
   ]
  },
  {
   "cell_type": "code",
   "execution_count": 89,
   "metadata": {
    "collapsed": false,
    "deletable": true,
    "editable": true
   },
   "outputs": [],
   "source": [
    "dfi.drop(labels=['ParkName','PSAManager','email','Number','Zipcode','Location 1', 'Lat'], axis=1, inplace=True)"
   ]
  },
  {
   "cell_type": "code",
   "execution_count": 90,
   "metadata": {
    "collapsed": false,
    "deletable": true,
    "editable": true
   },
   "outputs": [
    {
     "data": {
      "text/html": [
       "<div>\n",
       "<table border=\"1\" class=\"dataframe\">\n",
       "  <thead>\n",
       "    <tr style=\"text-align: right;\">\n",
       "      <th></th>\n",
       "      <th>ParkType</th>\n",
       "      <th>ParkServiceArea</th>\n",
       "      <th>Acreage</th>\n",
       "      <th>SupDist</th>\n",
       "      <th>ParkID</th>\n",
       "    </tr>\n",
       "  </thead>\n",
       "  <tbody>\n",
       "    <tr>\n",
       "      <th>1</th>\n",
       "      <td>Mini Park</td>\n",
       "      <td>PSA 1</td>\n",
       "      <td>0.66</td>\n",
       "      <td>1.0</td>\n",
       "      <td>156.0</td>\n",
       "    </tr>\n",
       "  </tbody>\n",
       "</table>\n",
       "</div>"
      ],
      "text/plain": [
       "    ParkType ParkServiceArea  Acreage  SupDist  ParkID\n",
       "1  Mini Park           PSA 1     0.66      1.0   156.0"
      ]
     },
     "execution_count": 90,
     "metadata": {},
     "output_type": "execute_result"
    }
   ],
   "source": [
    "dfi.head(1)"
   ]
  },
  {
   "cell_type": "code",
   "execution_count": 91,
   "metadata": {
    "collapsed": false,
    "deletable": true,
    "editable": true
   },
   "outputs": [],
   "source": [
    "dfi['ParkID'] = dfi['ParkID'].astype(int)"
   ]
  },
  {
   "cell_type": "code",
   "execution_count": 92,
   "metadata": {
    "collapsed": false,
    "deletable": true,
    "editable": true
   },
   "outputs": [
    {
     "data": {
      "text/html": [
       "<div>\n",
       "<table border=\"1\" class=\"dataframe\">\n",
       "  <thead>\n",
       "    <tr style=\"text-align: right;\">\n",
       "      <th></th>\n",
       "      <th>ParkType</th>\n",
       "      <th>ParkServiceArea</th>\n",
       "      <th>Acreage</th>\n",
       "      <th>SupDist</th>\n",
       "      <th>ParkID</th>\n",
       "    </tr>\n",
       "  </thead>\n",
       "  <tbody>\n",
       "    <tr>\n",
       "      <th>1</th>\n",
       "      <td>Mini Park</td>\n",
       "      <td>PSA 1</td>\n",
       "      <td>0.66</td>\n",
       "      <td>1.0</td>\n",
       "      <td>156</td>\n",
       "    </tr>\n",
       "  </tbody>\n",
       "</table>\n",
       "</div>"
      ],
      "text/plain": [
       "    ParkType ParkServiceArea  Acreage  SupDist  ParkID\n",
       "1  Mini Park           PSA 1     0.66      1.0     156"
      ]
     },
     "execution_count": 92,
     "metadata": {},
     "output_type": "execute_result"
    }
   ],
   "source": [
    "dfi.head(1)"
   ]
  },
  {
   "cell_type": "code",
   "execution_count": 93,
   "metadata": {
    "collapsed": false,
    "deletable": true,
    "editable": true
   },
   "outputs": [
    {
     "data": {
      "text/plain": [
       "PSA 1                       50\n",
       "PSA 5                       39\n",
       "PSA 2                       38\n",
       "PSA 4                       34\n",
       "PSA 6                       30\n",
       "PSA 3                       27\n",
       "Golden Gate Park             8\n",
       "Outside SF                   2\n",
       "Candlestick Park Stadium     1\n",
       "Name: ParkServiceArea, dtype: int64"
      ]
     },
     "execution_count": 93,
     "metadata": {},
     "output_type": "execute_result"
    }
   ],
   "source": [
    "dfi['ParkServiceArea'].value_counts()"
   ]
  },
  {
   "cell_type": "code",
   "execution_count": 94,
   "metadata": {
    "collapsed": false,
    "deletable": true,
    "editable": true
   },
   "outputs": [],
   "source": [
    "dfi = dfi[dfi['ParkServiceArea']!='Outside SF']\n",
    "dfi = dfi[dfi['ParkServiceArea']!='Candlestick Park Stadium']"
   ]
  },
  {
   "cell_type": "code",
   "execution_count": 95,
   "metadata": {
    "collapsed": false,
    "deletable": true,
    "editable": true
   },
   "outputs": [
    {
     "data": {
      "text/plain": [
       "PSA 1               50\n",
       "PSA 5               39\n",
       "PSA 2               38\n",
       "PSA 4               34\n",
       "PSA 6               30\n",
       "PSA 3               27\n",
       "Golden Gate Park     8\n",
       "Name: ParkServiceArea, dtype: int64"
      ]
     },
     "execution_count": 95,
     "metadata": {},
     "output_type": "execute_result"
    }
   ],
   "source": [
    "dfi['ParkServiceArea'].value_counts()"
   ]
  },
  {
   "cell_type": "code",
   "execution_count": 96,
   "metadata": {
    "collapsed": false,
    "deletable": true,
    "editable": true
   },
   "outputs": [],
   "source": [
    "dfi['ParkServiceArea'].replace(['PSA 1','PSA 2','PSA 3','PSA 4','PSA 5','PSA 6','Golden Gate Park'], [1,2,3,4,5,6,7], inplace=True)"
   ]
  },
  {
   "cell_type": "code",
   "execution_count": 97,
   "metadata": {
    "collapsed": false,
    "deletable": true,
    "editable": true
   },
   "outputs": [
    {
     "data": {
      "text/plain": [
       "1    50\n",
       "5    39\n",
       "2    38\n",
       "4    34\n",
       "6    30\n",
       "3    27\n",
       "7     8\n",
       "Name: ParkServiceArea, dtype: int64"
      ]
     },
     "execution_count": 97,
     "metadata": {},
     "output_type": "execute_result"
    }
   ],
   "source": [
    "dfi['ParkServiceArea'].value_counts()"
   ]
  },
  {
   "cell_type": "code",
   "execution_count": 98,
   "metadata": {
    "collapsed": false,
    "deletable": true,
    "editable": true
   },
   "outputs": [],
   "source": [
    "dfi.rename(columns={'ParkServiceArea':'PSA'}, inplace=True)"
   ]
  },
  {
   "cell_type": "code",
   "execution_count": 99,
   "metadata": {
    "collapsed": false,
    "deletable": true,
    "editable": true
   },
   "outputs": [],
   "source": [
    "dfp.drop(labels='FQ', axis=1, inplace=True)"
   ]
  },
  {
   "cell_type": "code",
   "execution_count": 100,
   "metadata": {
    "collapsed": false,
    "deletable": true,
    "editable": true
   },
   "outputs": [
    {
     "data": {
      "text/html": [
       "<div>\n",
       "<table border=\"1\" class=\"dataframe\">\n",
       "  <thead>\n",
       "    <tr style=\"text-align: right;\">\n",
       "      <th></th>\n",
       "      <th>ParkType</th>\n",
       "      <th>PSA</th>\n",
       "      <th>Acreage</th>\n",
       "      <th>SupDist</th>\n",
       "      <th>ParkID</th>\n",
       "    </tr>\n",
       "  </thead>\n",
       "  <tbody>\n",
       "    <tr>\n",
       "      <th>1</th>\n",
       "      <td>Mini Park</td>\n",
       "      <td>1</td>\n",
       "      <td>0.66</td>\n",
       "      <td>1.0</td>\n",
       "      <td>156</td>\n",
       "    </tr>\n",
       "  </tbody>\n",
       "</table>\n",
       "</div>"
      ],
      "text/plain": [
       "    ParkType  PSA  Acreage  SupDist  ParkID\n",
       "1  Mini Park    1     0.66      1.0     156"
      ]
     },
     "execution_count": 100,
     "metadata": {},
     "output_type": "execute_result"
    }
   ],
   "source": [
    "dfi.head(1)"
   ]
  },
  {
   "cell_type": "code",
   "execution_count": 101,
   "metadata": {
    "collapsed": false,
    "deletable": true,
    "editable": true
   },
   "outputs": [
    {
     "data": {
      "text/html": [
       "<div>\n",
       "<table border=\"1\" class=\"dataframe\">\n",
       "  <thead>\n",
       "    <tr style=\"text-align: right;\">\n",
       "      <th></th>\n",
       "      <th>ParkID</th>\n",
       "      <th>PSA</th>\n",
       "      <th>Park</th>\n",
       "      <th>Score</th>\n",
       "    </tr>\n",
       "  </thead>\n",
       "  <tbody>\n",
       "    <tr>\n",
       "      <th>0</th>\n",
       "      <td>86</td>\n",
       "      <td>4</td>\n",
       "      <td>Carl Larsen Park</td>\n",
       "      <td>0.795</td>\n",
       "    </tr>\n",
       "  </tbody>\n",
       "</table>\n",
       "</div>"
      ],
      "text/plain": [
       "   ParkID  PSA              Park  Score\n",
       "0      86    4  Carl Larsen Park  0.795"
      ]
     },
     "execution_count": 101,
     "metadata": {},
     "output_type": "execute_result"
    }
   ],
   "source": [
    "dfp.head(1)"
   ]
  },
  {
   "cell_type": "code",
   "execution_count": 102,
   "metadata": {
    "collapsed": false,
    "deletable": true,
    "editable": true
   },
   "outputs": [],
   "source": [
    "dfp.dropna(axis=0, inplace=True)"
   ]
  },
  {
   "cell_type": "code",
   "execution_count": 103,
   "metadata": {
    "collapsed": false,
    "deletable": true,
    "editable": true
   },
   "outputs": [
    {
     "data": {
      "text/plain": [
       "ParkID    0\n",
       "PSA       0\n",
       "Park      0\n",
       "Score     0\n",
       "dtype: int64"
      ]
     },
     "execution_count": 103,
     "metadata": {},
     "output_type": "execute_result"
    }
   ],
   "source": [
    "dfp.isnull().sum()"
   ]
  },
  {
   "cell_type": "code",
   "execution_count": 104,
   "metadata": {
    "collapsed": false,
    "deletable": true,
    "editable": true
   },
   "outputs": [
    {
     "data": {
      "text/plain": [
       "ParkType    0\n",
       "PSA         0\n",
       "Acreage     0\n",
       "SupDist     0\n",
       "ParkID      0\n",
       "dtype: int64"
      ]
     },
     "execution_count": 104,
     "metadata": {},
     "output_type": "execute_result"
    }
   ],
   "source": [
    "dfi.isnull().sum()"
   ]
  },
  {
   "cell_type": "code",
   "execution_count": 105,
   "metadata": {
    "collapsed": false,
    "deletable": true,
    "editable": true
   },
   "outputs": [],
   "source": [
    "dfi = dfi[['ParkID','ParkType','PSA','Acreage','SupDist']]"
   ]
  },
  {
   "cell_type": "code",
   "execution_count": 106,
   "metadata": {
    "collapsed": true,
    "deletable": true,
    "editable": true
   },
   "outputs": [],
   "source": [
    "df = pd.merge(left=dfi, right=dfp, how='inner', on='ParkID')"
   ]
  },
  {
   "cell_type": "code",
   "execution_count": 107,
   "metadata": {
    "collapsed": false,
    "deletable": true,
    "editable": true
   },
   "outputs": [],
   "source": [
    "df.drop(labels='PSA_y', axis=1, inplace=True)"
   ]
  },
  {
   "cell_type": "code",
   "execution_count": 108,
   "metadata": {
    "collapsed": false,
    "deletable": true,
    "editable": true,
    "scrolled": false
   },
   "outputs": [],
   "source": [
    "grouped = df.groupby(by='ParkID').mean()"
   ]
  },
  {
   "cell_type": "code",
   "execution_count": 109,
   "metadata": {
    "collapsed": false,
    "deletable": true,
    "editable": true
   },
   "outputs": [],
   "source": [
    "grouped.reset_index(inplace=True)"
   ]
  },
  {
   "cell_type": "code",
   "execution_count": 110,
   "metadata": {
    "collapsed": false,
    "deletable": true,
    "editable": true
   },
   "outputs": [
    {
     "data": {
      "text/html": [
       "<div>\n",
       "<table border=\"1\" class=\"dataframe\">\n",
       "  <thead>\n",
       "    <tr style=\"text-align: right;\">\n",
       "      <th></th>\n",
       "      <th>ParkID</th>\n",
       "      <th>PSA_x</th>\n",
       "      <th>Acreage</th>\n",
       "      <th>SupDist</th>\n",
       "      <th>Score</th>\n",
       "    </tr>\n",
       "  </thead>\n",
       "  <tbody>\n",
       "    <tr>\n",
       "      <th>0</th>\n",
       "      <td>1</td>\n",
       "      <td>5</td>\n",
       "      <td>77.94</td>\n",
       "      <td>8.0</td>\n",
       "      <td>0.915485</td>\n",
       "    </tr>\n",
       "    <tr>\n",
       "      <th>1</th>\n",
       "      <td>2</td>\n",
       "      <td>5</td>\n",
       "      <td>0.83</td>\n",
       "      <td>8.0</td>\n",
       "      <td>1.000000</td>\n",
       "    </tr>\n",
       "    <tr>\n",
       "      <th>2</th>\n",
       "      <td>4</td>\n",
       "      <td>5</td>\n",
       "      <td>4.40</td>\n",
       "      <td>8.0</td>\n",
       "      <td>0.925576</td>\n",
       "    </tr>\n",
       "    <tr>\n",
       "      <th>3</th>\n",
       "      <td>6</td>\n",
       "      <td>5</td>\n",
       "      <td>1.20</td>\n",
       "      <td>8.0</td>\n",
       "      <td>0.954545</td>\n",
       "    </tr>\n",
       "    <tr>\n",
       "      <th>4</th>\n",
       "      <td>7</td>\n",
       "      <td>5</td>\n",
       "      <td>6.80</td>\n",
       "      <td>8.0</td>\n",
       "      <td>0.914758</td>\n",
       "    </tr>\n",
       "  </tbody>\n",
       "</table>\n",
       "</div>"
      ],
      "text/plain": [
       "   ParkID  PSA_x  Acreage  SupDist     Score\n",
       "0       1      5    77.94      8.0  0.915485\n",
       "1       2      5     0.83      8.0  1.000000\n",
       "2       4      5     4.40      8.0  0.925576\n",
       "3       6      5     1.20      8.0  0.954545\n",
       "4       7      5     6.80      8.0  0.914758"
      ]
     },
     "execution_count": 110,
     "metadata": {},
     "output_type": "execute_result"
    }
   ],
   "source": [
    "grouped.head()"
   ]
  },
  {
   "cell_type": "code",
   "execution_count": 115,
   "metadata": {
    "collapsed": true,
    "deletable": true,
    "editable": true
   },
   "outputs": [],
   "source": [
    "X = grouped.iloc[:, 1:-1]"
   ]
  },
  {
   "cell_type": "code",
   "execution_count": 119,
   "metadata": {
    "collapsed": false,
    "deletable": true,
    "editable": true
   },
   "outputs": [],
   "source": [
    "X = X.values"
   ]
  },
  {
   "cell_type": "markdown",
   "metadata": {
    "deletable": true,
    "editable": true
   },
   "source": [
    "## EDA\n",
    "---"
   ]
  },
  {
   "cell_type": "code",
   "execution_count": 120,
   "metadata": {
    "collapsed": false,
    "deletable": true,
    "editable": true
   },
   "outputs": [
    {
     "data": {
      "text/plain": [
       "<matplotlib.axes._subplots.AxesSubplot at 0x151078d50>"
      ]
     },
     "execution_count": 120,
     "metadata": {},
     "output_type": "execute_result"
    },
    {
     "data": {
      "image/png": "[encoded data removed]",
      "text/plain": [
       "<matplotlib.figure.Figure at 0x151078750>"
      ]
     },
     "metadata": {},
     "output_type": "display_data"
    }
   ],
   "source": [
    "sns.distplot(a=X[:,0])"
   ]
  },
  {
   "cell_type": "code",
   "execution_count": 122,
   "metadata": {
    "collapsed": false,
    "deletable": true,
    "editable": true
   },
   "outputs": [
    {
     "data": {
      "text/plain": [
       "<matplotlib.axes._subplots.AxesSubplot at 0x1572d9690>"
      ]
     },
     "execution_count": 122,
     "metadata": {},
     "output_type": "execute_result"
    },
    {
     "data": {
      "image/png": "[encoded data removed]",
      "text/plain": [
       "<matplotlib.figure.Figure at 0x1572fb590>"
      ]
     },
     "metadata": {},
     "output_type": "display_data"
    }
   ],
   "source": [
    "sns.distplot(a=X[:,1])"
   ]
  },
  {
   "cell_type": "code",
   "execution_count": 123,
   "metadata": {
    "collapsed": false,
    "deletable": true,
    "editable": true
   },
   "outputs": [
    {
     "data": {
      "text/plain": [
       "<matplotlib.axes._subplots.AxesSubplot at 0x12e8fa990>"
      ]
     },
     "execution_count": 123,
     "metadata": {},
     "output_type": "execute_result"
    },
    {
     "data": {
      "image/png": "[encoded data removed]",
      "text/plain": [
       "<matplotlib.figure.Figure at 0x136926b50>"
      ]
     },
     "metadata": {},
     "output_type": "display_data"
    }
   ],
   "source": [
    "sns.distplot(a=X[:,2])"
   ]
  },
  {
   "cell_type": "code",
   "execution_count": 124,
   "metadata": {
    "collapsed": false,
    "deletable": true,
    "editable": true
   },
   "outputs": [
    {
     "data": {
      "text/plain": [
       "<matplotlib.axes._subplots.AxesSubplot at 0x120fd43d0>"
      ]
     },
     "execution_count": 124,
     "metadata": {},
     "output_type": "execute_result"
    },
    {
     "data": {
      "image/png": "[encoded data removed]",
      "text/plain": [
       "<matplotlib.figure.Figure at 0x15654fb90>"
      ]
     },
     "metadata": {},
     "output_type": "display_data"
    }
   ],
   "source": [
    "sns.distplot(a=y)"
   ]
  },
  {
   "cell_type": "code",
   "execution_count": 125,
   "metadata": {
    "collapsed": false,
    "deletable": true,
    "editable": true
   },
   "outputs": [
    {
     "data": {
      "text/plain": [
       "(0.8, 1)"
      ]
     },
     "execution_count": 125,
     "metadata": {},
     "output_type": "execute_result"
    },
    {
     "data": {
      "image/png": "[encoded data removed]",
      "text/plain": [
       "<matplotlib.figure.Figure at 0x14f9fa950>"
      ]
     },
     "metadata": {},
     "output_type": "display_data"
    }
   ],
   "source": [
    "ax = sns.regplot(x=grouped['PSA_x'], y=grouped['Score'])\n",
    "plt.ylim(0.8, 1)"
   ]
  },
  {
   "cell_type": "code",
   "execution_count": 126,
   "metadata": {
    "collapsed": false,
    "deletable": true,
    "editable": true
   },
   "outputs": [
    {
     "data": {
      "text/plain": [
       "<matplotlib.axes._subplots.AxesSubplot at 0x1307efb10>"
      ]
     },
     "execution_count": 126,
     "metadata": {},
     "output_type": "execute_result"
    },
    {
     "data": {
      "image/png": "[encoded data removed]",
      "text/plain": [
       "<matplotlib.figure.Figure at 0x128c9f410>"
      ]
     },
     "metadata": {},
     "output_type": "display_data"
    }
   ],
   "source": [
    "sns.boxplot(x=grouped['PSA_x'], y=grouped['Score'], showfliers=False)"
   ]
  },
  {
   "cell_type": "markdown",
   "metadata": {
    "deletable": true,
    "editable": true
   },
   "source": [
    "PSA_X MIGHT be useful if we had a more flexible model."
   ]
  },
  {
   "cell_type": "code",
   "execution_count": 127,
   "metadata": {
    "collapsed": false,
    "deletable": true,
    "editable": true
   },
   "outputs": [
    {
     "data": {
      "image/png": "[encoded data removed]",
      "text/plain": [
       "<matplotlib.figure.Figure at 0x128c956d0>"
      ]
     },
     "metadata": {},
     "output_type": "display_data"
    }
   ],
   "source": [
    "ax = sns.regplot(x=grouped['Acreage'], y=grouped['Score'])\n",
    "# plt.ylim(0.8, 1)"
   ]
  },
  {
   "cell_type": "markdown",
   "metadata": {
    "deletable": true,
    "editable": true
   },
   "source": [
    "Acreage is useless."
   ]
  },
  {
   "cell_type": "code",
   "execution_count": 128,
   "metadata": {
    "collapsed": false,
    "deletable": true,
    "editable": true
   },
   "outputs": [
    {
     "data": {
      "text/plain": [
       "(0.7, 1)"
      ]
     },
     "execution_count": 128,
     "metadata": {},
     "output_type": "execute_result"
    },
    {
     "data": {
      "image/png": "[encoded data removed]",
      "text/plain": [
       "<matplotlib.figure.Figure at 0x1576e0a90>"
      ]
     },
     "metadata": {},
     "output_type": "display_data"
    }
   ],
   "source": [
    "sns.regplot(x=grouped['SupDist'], y=grouped['Score'])\n",
    "plt.ylim(0.7, 1)"
   ]
  },
  {
   "cell_type": "code",
   "execution_count": 129,
   "metadata": {
    "collapsed": false,
    "deletable": true,
    "editable": true
   },
   "outputs": [
    {
     "data": {
      "text/plain": [
       "<seaborn.axisgrid.PairGrid at 0x13c165a10>"
      ]
     },
     "execution_count": 129,
     "metadata": {},
     "output_type": "execute_result"
    },
    {
     "data": {
      "image/png": "[encoded data removed]",
      "text/plain": [
       "<matplotlib.figure.Figure at 0x14f4a4e10>"
      ]
     },
     "metadata": {},
     "output_type": "display_data"
    }
   ],
   "source": [
    "sns.pairplot(data=grouped[['PSA_x','Acreage','SupDist','Score']])"
   ]
  },
  {
   "cell_type": "markdown",
   "metadata": {
    "deletable": true,
    "editable": true
   },
   "source": [
    "## Modeling\n",
    "---"
   ]
  },
  {
   "cell_type": "markdown",
   "metadata": {
    "deletable": true,
    "editable": true
   },
   "source": [
    "We found out that the only likely significant predictor is SupDist, so let's use that. "
   ]
  },
  {
   "cell_type": "code",
   "execution_count": 130,
   "metadata": {
    "collapsed": true,
    "deletable": true,
    "editable": true
   },
   "outputs": [],
   "source": [
    "predictors = ['SupDist']\n",
    "target = ['Score']\n",
    "\n",
    "X = grouped[predictors].values\n",
    "y = np.ravel(grouped[target].values)\n",
    "\n",
    "# normalize \n",
    "from sklearn.preprocessing import StandardScaler\n",
    "sc = StandardScaler()\n",
    "X_norm = sc.fit_transform(X=X)"
   ]
  },
  {
   "cell_type": "code",
   "execution_count": 131,
   "metadata": {
    "collapsed": false,
    "deletable": true,
    "editable": true
   },
   "outputs": [
    {
     "data": {
      "text/plain": [
       "-0.078414465292953928"
      ]
     },
     "execution_count": 131,
     "metadata": {},
     "output_type": "execute_result"
    }
   ],
   "source": [
    "X_train, X_test, y_train, y_test = train_test_split(X_norm, y, test_size = 0.3, random_state = 1) \n",
    "\n",
    "lr_parks_1 = LinearRegression()\n",
    "lr_parks_1.fit(X_train, y_train)\n",
    "lr_parks_1.score(X_test, y_test)"
   ]
  },
  {
   "cell_type": "markdown",
   "metadata": {
    "deletable": true,
    "editable": true
   },
   "source": [
    "R^2 is less than 0, and so we can conclude that this model performs worse than a horizontal line would. "
   ]
  },
  {
   "cell_type": "markdown",
   "metadata": {
    "deletable": true,
    "editable": true
   },
   "source": [
    "<img src=\"http://imgur.com/GCAf1UX.png\" style=\"float: left; margin: 25px 15px 0px 0px; height: 25px\">\n",
    "\n",
    "## 5. Bias-variance tradeoff\n",
    "\n",
    "---\n",
    "\n",
    "1. Use a model from any of the previous questions above of your choice and construct a regularized regression model . Ideally the model should actually improve across regularization strengths...\n",
    "- Gridsearch the regularization parameters to find the optimal.\n",
    "- Plot the regularization parameter against the cross-validated $R^2$.\n",
    "- Explain how regularization and regularization strength is related to the bias-variance tradeoff.\n"
   ]
  },
  {
   "cell_type": "code",
   "execution_count": null,
   "metadata": {
    "collapsed": true,
    "deletable": true,
    "editable": true
   },
   "outputs": [],
   "source": []
  },
  {
   "cell_type": "code",
   "execution_count": 132,
   "metadata": {
    "collapsed": true,
    "deletable": true,
    "editable": true
   },
   "outputs": [],
   "source": [
    "from sklearn.model_selection import train_test_split\n",
    "X = dfa[predictor_cols].values\n",
    "y = np.ravel(dfa[target_col].values)\n",
    "\n",
    "X_train, X_test, y_train, y_test = train_test_split(X, y, test_size=0.3, random_state=1) "
   ]
  },
  {
   "cell_type": "code",
   "execution_count": 133,
   "metadata": {
    "collapsed": false,
    "deletable": true,
    "editable": true
   },
   "outputs": [
    {
     "data": {
      "text/plain": [
       "0.11580065517684657"
      ]
     },
     "execution_count": 133,
     "metadata": {},
     "output_type": "execute_result"
    }
   ],
   "source": [
    "# Use ridge Regression\n",
    "from sklearn.linear_model import Ridge\n",
    "rr = Ridge(alpha=1.0)\n",
    "rr.fit(X=X_train, y=y_train)\n",
    "rr.score(X=X_test, y=y_test)"
   ]
  },
  {
   "cell_type": "markdown",
   "metadata": {
    "deletable": true,
    "editable": true
   },
   "source": [
    "THat didn't improve much so let's use grid search to find the best hyperparameters for our Ridge regression."
   ]
  },
  {
   "cell_type": "code",
   "execution_count": 134,
   "metadata": {
    "collapsed": false,
    "deletable": true,
    "editable": true
   },
   "outputs": [
    {
     "name": "stdout",
     "output_type": "stream",
     "text": [
      "Fitting 3 folds for each of 4 candidates, totalling 12 fits\n",
      "0.115961358428 {'alpha': 1}\n"
     ]
    },
    {
     "name": "stderr",
     "output_type": "stream",
     "text": [
      "[Parallel(n_jobs=1)]: Done  12 out of  12 | elapsed:    0.7s finished\n"
     ]
    }
   ],
   "source": [
    "from sklearn.model_selection import GridSearchCV\n",
    "X_train, X_test, y_train, y_test = train_test_split(X, y, test_size=0.3)\n",
    "params = {\n",
    "    'alpha':[1,10,100,1000]\n",
    "}\n",
    "# create grid search CV \n",
    "gs = GridSearchCV(estimator=Ridge(), param_grid=params, cv=3, verbose=1)\n",
    "# fit model \n",
    "gs.fit(X_train, y_train)\n",
    "# gs.cv_results_\n",
    "print gs.best_score_, gs.best_params_\n",
    "# score \n",
    "# gs.score(X_test, y_test)"
   ]
  },
  {
   "cell_type": "markdown",
   "metadata": {
    "deletable": true,
    "editable": true
   },
   "source": [
    "Well that didn't make a difference. "
   ]
  },
  {
   "cell_type": "markdown",
   "metadata": {
    "deletable": true,
    "editable": true
   },
   "source": [
    "<img src=\"http://imgur.com/xDpSobf.png\" style=\"float: left; margin: 25px 15px 0px 0px; height: 25px\">\n",
    "\n",
    "### 5.1 Calculate the approximated $\\text{bias}^2$ and variance across regularization strengths.\n",
    "\n",
    "---\n",
    "\n",
    "You can obviously use my code from the bias-variance lab to do this. \n",
    "\n",
    "Plot the bias and variance change _with_ the cross-validated $R^2$. \n",
    "\n",
    "You'll need to scale these values somehow to put them on the same chart (I recommend (MinMaxScaler)[http://scikit-learn.org/stable/modules/generated/sklearn.preprocessing.MinMaxScaler.html] to put $\\text{bias}^2$ and variance on the same scale as cross-validated $R^2$."
   ]
  },
  {
   "cell_type": "code",
   "execution_count": null,
   "metadata": {
    "collapsed": true,
    "deletable": true,
    "editable": true
   },
   "outputs": [],
   "source": []
  },
  {
   "cell_type": "markdown",
   "metadata": {
    "deletable": true,
    "editable": true
   },
   "source": [
    "<img src=\"http://imgur.com/HNPKfE8.png\" style=\"float: left; margin: 25px 15px 0px 0px; height: 25px\">\n",
    "\n",
    "## 6. Custom regularized regression penalties\n",
    "\n",
    "---\n",
    "\n",
    "The $\\lambda1$ and $\\lambda2$ norm regularization penalties (Lasso and Ridge) are the most commonly used regularization penalties. They have a solid foundation in statistics and evidence of effectiveness. However, these are not the only possible penalties for regression – sometimes new, customized penalties give additional performance and predictive power to models depending on the context.\n",
    "\n",
    "\n",
    "**Devise of and implement a penalized regression for San Francisco Crime data.** What is your rationale – why would this be useful? How does it perform compared to the standard Ridge, Lasso, and Elastic Net penalties?"
   ]
  },
  {
   "cell_type": "code",
   "execution_count": null,
   "metadata": {
    "collapsed": true,
    "deletable": true,
    "editable": true
   },
   "outputs": [],
   "source": []
  },
  {
   "cell_type": "markdown",
   "metadata": {
    "deletable": true,
    "editable": true
   },
   "source": [
    "----"
   ]
  },
  {
   "cell_type": "markdown",
   "metadata": {
    "collapsed": true,
    "deletable": true,
    "editable": true
   },
   "source": [
    "## Statistics, Biases, and Hypothesis Testing"
   ]
  },
  {
   "cell_type": "markdown",
   "metadata": {
    "deletable": true,
    "editable": true
   },
   "source": [
    "<img src=\"http://imgur.com/l5NasQj.png\" style=\"float: left; margin: 25px 15px 0px 0px; height: 25px\">\n",
    "\n",
    "## 7. Biases \n",
    "\n",
    "---\n",
    "A new food ordering smartphone app incentivizes its users to invite their friends by offering them free orders for each friend that signs up\n",
    "- What biases are being caused here?\n",
    " \n",
    "- How would you measure the success of such a program?\n",
    "  \n",
    "- Rephrase this question to be unbiased:\n",
    "    ** Many people have said that there is a need for stricter laws on dangerous weapons. Do you agree? ** \n",
    "   \n"
   ]
  },
  {
   "cell_type": "markdown",
   "metadata": {
    "deletable": true,
    "editable": true
   },
   "source": [
    "**ANSWER**\n",
    "\n",
    "1. The user is being biased torwards cheating the system by just inviting themselves under alias emails. The incentive is not rewarding them for using the app themselves, only rewarding them for inviting other people to use the app. \n",
    "<br>\n",
    "2. Well the program is rewarding a user not by how much they spend or use the app, but by the number of friends they invite, so it seems that the company is mainly interested in getting more people to use the app, not necessarily making devoted users from a select group of people. In short, they are more interested in quality than quantity. With that in mind, I would measure the success of this program by how many new users were signing up each day/week. \n",
    "<br>\n",
    "3. Many people have expressed opinions on current gun laws, do you believe that they should be more, or less strict than they are, or are you happy with how strict they currently are?"
   ]
  },
  {
   "cell_type": "markdown",
   "metadata": {
    "deletable": true,
    "editable": true
   },
   "source": [
    "<img src=\"http://imgur.com/l5NasQj.png\" style=\"float: left; margin: 25px 15px 0px 0px; height: 25px\">\n",
    "\n",
    "## 8. Hypothesis Testing \n",
    "\n",
    "---\n",
    "\n",
    "For the health/mortality data from the following website: \n",
    "http://assets.datacamp.com/blog_assets/chol.txt'\n",
    "\n",
    "\n",
    "- Generate summary statistics, histogram plots, cdf plots, and confidence intervals for two columns of your choice and a correlation matrix across all\n",
    "- Using what you generated, provide short summaries of each column describing the data\n",
    "- Is there a difference in mortality between smokers, nonsmokers?\n",
    "- If national average weight is 85 pounds, is our weight average significantly different?\n",
    "- Until now, we’ve only asked is it different. This is called a two sided test. \n",
    "    - What if we want to know if its less than or greater than? This is called a one sided test. We can calculate this from the result of a two sided. You divide your p value in half and check if your t statistic is positive or negative Greater than: p/2 < confidence level and t > 0 and Less-than: p/2 < confidence level and t < 0.\n",
    "    \n",
    "    - If national average weight is 85 pounds, is our weight average statistical significantly less?"
   ]
  },
  {
   "cell_type": "code",
   "execution_count": 155,
   "metadata": {
    "collapsed": false,
    "deletable": true,
    "editable": true
   },
   "outputs": [],
   "source": [
    "mort = pd.read_csv('/Users/Naekid/Desktop/DSI-SF-5-fork/DSI-SF-5/datasets/mortality.txt', sep=' ')"
   ]
  },
  {
   "cell_type": "code",
   "execution_count": 156,
   "metadata": {
    "collapsed": false,
    "deletable": true,
    "editable": true
   },
   "outputs": [
    {
     "data": {
      "text/html": [
       "<div>\n",
       "<table border=\"1\" class=\"dataframe\">\n",
       "  <thead>\n",
       "    <tr style=\"text-align: right;\">\n",
       "      <th></th>\n",
       "      <th>AGE</th>\n",
       "      <th>HEIGHT</th>\n",
       "      <th>WEIGHT</th>\n",
       "      <th>CHOL</th>\n",
       "      <th>SMOKE</th>\n",
       "      <th>BLOOD</th>\n",
       "      <th>MORT</th>\n",
       "    </tr>\n",
       "  </thead>\n",
       "  <tbody>\n",
       "    <tr>\n",
       "      <th>0</th>\n",
       "      <td>20</td>\n",
       "      <td>176</td>\n",
       "      <td>77</td>\n",
       "      <td>195</td>\n",
       "      <td>nonsmo</td>\n",
       "      <td>b</td>\n",
       "      <td>alive</td>\n",
       "    </tr>\n",
       "    <tr>\n",
       "      <th>1</th>\n",
       "      <td>53</td>\n",
       "      <td>167</td>\n",
       "      <td>56</td>\n",
       "      <td>250</td>\n",
       "      <td>sigare</td>\n",
       "      <td>o</td>\n",
       "      <td>dead</td>\n",
       "    </tr>\n",
       "    <tr>\n",
       "      <th>2</th>\n",
       "      <td>44</td>\n",
       "      <td>170</td>\n",
       "      <td>80</td>\n",
       "      <td>304</td>\n",
       "      <td>sigare</td>\n",
       "      <td>a</td>\n",
       "      <td>dead</td>\n",
       "    </tr>\n",
       "    <tr>\n",
       "      <th>3</th>\n",
       "      <td>37</td>\n",
       "      <td>173</td>\n",
       "      <td>89</td>\n",
       "      <td>178</td>\n",
       "      <td>nonsmo</td>\n",
       "      <td>o</td>\n",
       "      <td>alive</td>\n",
       "    </tr>\n",
       "    <tr>\n",
       "      <th>4</th>\n",
       "      <td>26</td>\n",
       "      <td>170</td>\n",
       "      <td>71</td>\n",
       "      <td>206</td>\n",
       "      <td>sigare</td>\n",
       "      <td>o</td>\n",
       "      <td>alive</td>\n",
       "    </tr>\n",
       "  </tbody>\n",
       "</table>\n",
       "</div>"
      ],
      "text/plain": [
       "   AGE  HEIGHT  WEIGHT  CHOL   SMOKE BLOOD   MORT\n",
       "0   20     176      77   195  nonsmo     b  alive\n",
       "1   53     167      56   250  sigare     o   dead\n",
       "2   44     170      80   304  sigare     a   dead\n",
       "3   37     173      89   178  nonsmo     o  alive\n",
       "4   26     170      71   206  sigare     o  alive"
      ]
     },
     "execution_count": 156,
     "metadata": {},
     "output_type": "execute_result"
    }
   ],
   "source": [
    "mort.head()"
   ]
  },
  {
   "cell_type": "code",
   "execution_count": 157,
   "metadata": {
    "collapsed": false,
    "deletable": true,
    "editable": true
   },
   "outputs": [
    {
     "data": {
      "text/plain": [
       "o     91\n",
       "a     82\n",
       "b     22\n",
       "ab     5\n",
       "Name: BLOOD, dtype: int64"
      ]
     },
     "execution_count": 157,
     "metadata": {},
     "output_type": "execute_result"
    }
   ],
   "source": [
    "mort.BLOOD.value_counts()"
   ]
  },
  {
   "cell_type": "code",
   "execution_count": 158,
   "metadata": {
    "collapsed": false,
    "deletable": true,
    "editable": true
   },
   "outputs": [
    {
     "data": {
      "text/plain": [
       "sigare    109\n",
       "nonsmo     49\n",
       "pipe       42\n",
       "Name: SMOKE, dtype: int64"
      ]
     },
     "execution_count": 158,
     "metadata": {},
     "output_type": "execute_result"
    }
   ],
   "source": [
    "mort.SMOKE.value_counts()"
   ]
  },
  {
   "cell_type": "code",
   "execution_count": 159,
   "metadata": {
    "collapsed": false,
    "deletable": true,
    "editable": true
   },
   "outputs": [],
   "source": [
    "mort['MORT'] = mort['MORT'].map(lambda x: 1 if x=='alive' else 0)"
   ]
  },
  {
   "cell_type": "code",
   "execution_count": 160,
   "metadata": {
    "collapsed": true,
    "deletable": true,
    "editable": true
   },
   "outputs": [],
   "source": [
    "def convert_blood(x):\n",
    "    if x == 'o':\n",
    "        return 0\n",
    "    elif x == 'a':\n",
    "        return 1\n",
    "    elif x== 'b':\n",
    "        return 2\n",
    "    else:\n",
    "        return 3"
   ]
  },
  {
   "cell_type": "code",
   "execution_count": 161,
   "metadata": {
    "collapsed": false,
    "deletable": true,
    "editable": true
   },
   "outputs": [],
   "source": [
    "mort['BLOOD'] = mort['BLOOD'].map(convert_blood)"
   ]
  },
  {
   "cell_type": "code",
   "execution_count": 162,
   "metadata": {
    "collapsed": false,
    "deletable": true,
    "editable": true
   },
   "outputs": [
    {
     "data": {
      "text/html": [
       "<div>\n",
       "<table border=\"1\" class=\"dataframe\">\n",
       "  <thead>\n",
       "    <tr style=\"text-align: right;\">\n",
       "      <th></th>\n",
       "      <th>AGE</th>\n",
       "      <th>HEIGHT</th>\n",
       "      <th>WEIGHT</th>\n",
       "      <th>CHOL</th>\n",
       "      <th>BLOOD</th>\n",
       "      <th>MORT</th>\n",
       "    </tr>\n",
       "  </thead>\n",
       "  <tbody>\n",
       "    <tr>\n",
       "      <th>count</th>\n",
       "      <td>200.000000</td>\n",
       "      <td>200.00000</td>\n",
       "      <td>200.000000</td>\n",
       "      <td>200.000000</td>\n",
       "      <td>200.000000</td>\n",
       "      <td>200.000000</td>\n",
       "    </tr>\n",
       "    <tr>\n",
       "      <th>mean</th>\n",
       "      <td>35.715000</td>\n",
       "      <td>172.35000</td>\n",
       "      <td>75.885000</td>\n",
       "      <td>233.600000</td>\n",
       "      <td>0.705000</td>\n",
       "      <td>0.880000</td>\n",
       "    </tr>\n",
       "    <tr>\n",
       "      <th>std</th>\n",
       "      <td>9.604426</td>\n",
       "      <td>6.77399</td>\n",
       "      <td>10.442076</td>\n",
       "      <td>44.766732</td>\n",
       "      <td>0.762154</td>\n",
       "      <td>0.325777</td>\n",
       "    </tr>\n",
       "    <tr>\n",
       "      <th>min</th>\n",
       "      <td>18.000000</td>\n",
       "      <td>156.00000</td>\n",
       "      <td>53.000000</td>\n",
       "      <td>107.000000</td>\n",
       "      <td>0.000000</td>\n",
       "      <td>0.000000</td>\n",
       "    </tr>\n",
       "    <tr>\n",
       "      <th>25%</th>\n",
       "      <td>28.750000</td>\n",
       "      <td>168.00000</td>\n",
       "      <td>68.750000</td>\n",
       "      <td>204.000000</td>\n",
       "      <td>0.000000</td>\n",
       "      <td>1.000000</td>\n",
       "    </tr>\n",
       "    <tr>\n",
       "      <th>50%</th>\n",
       "      <td>37.000000</td>\n",
       "      <td>172.00000</td>\n",
       "      <td>75.000000</td>\n",
       "      <td>232.000000</td>\n",
       "      <td>1.000000</td>\n",
       "      <td>1.000000</td>\n",
       "    </tr>\n",
       "    <tr>\n",
       "      <th>75%</th>\n",
       "      <td>42.000000</td>\n",
       "      <td>176.00000</td>\n",
       "      <td>82.000000</td>\n",
       "      <td>259.000000</td>\n",
       "      <td>1.000000</td>\n",
       "      <td>1.000000</td>\n",
       "    </tr>\n",
       "    <tr>\n",
       "      <th>max</th>\n",
       "      <td>58.000000</td>\n",
       "      <td>191.00000</td>\n",
       "      <td>110.000000</td>\n",
       "      <td>455.000000</td>\n",
       "      <td>3.000000</td>\n",
       "      <td>1.000000</td>\n",
       "    </tr>\n",
       "  </tbody>\n",
       "</table>\n",
       "</div>"
      ],
      "text/plain": [
       "              AGE     HEIGHT      WEIGHT        CHOL       BLOOD        MORT\n",
       "count  200.000000  200.00000  200.000000  200.000000  200.000000  200.000000\n",
       "mean    35.715000  172.35000   75.885000  233.600000    0.705000    0.880000\n",
       "std      9.604426    6.77399   10.442076   44.766732    0.762154    0.325777\n",
       "min     18.000000  156.00000   53.000000  107.000000    0.000000    0.000000\n",
       "25%     28.750000  168.00000   68.750000  204.000000    0.000000    1.000000\n",
       "50%     37.000000  172.00000   75.000000  232.000000    1.000000    1.000000\n",
       "75%     42.000000  176.00000   82.000000  259.000000    1.000000    1.000000\n",
       "max     58.000000  191.00000  110.000000  455.000000    3.000000    1.000000"
      ]
     },
     "execution_count": 162,
     "metadata": {},
     "output_type": "execute_result"
    }
   ],
   "source": [
    "mort.describe()"
   ]
  },
  {
   "cell_type": "code",
   "execution_count": 163,
   "metadata": {
    "collapsed": false,
    "deletable": true,
    "editable": true
   },
   "outputs": [
    {
     "data": {
      "text/plain": [
       "<matplotlib.axes._subplots.AxesSubplot at 0x11afeb550>"
      ]
     },
     "execution_count": 163,
     "metadata": {},
     "output_type": "execute_result"
    },
    {
     "data": {
      "image/png": "[encoded data removed]",
      "text/plain": [
       "<matplotlib.figure.Figure at 0x13e51c790>"
      ]
     },
     "metadata": {},
     "output_type": "display_data"
    }
   ],
   "source": [
    "sns.distplot(a=mort['AGE'], bins=20)"
   ]
  },
  {
   "cell_type": "code",
   "execution_count": 164,
   "metadata": {
    "collapsed": false,
    "deletable": true,
    "editable": true
   },
   "outputs": [
    {
     "data": {
      "text/plain": [
       "<matplotlib.text.Text at 0x11b473cd0>"
      ]
     },
     "execution_count": 164,
     "metadata": {},
     "output_type": "execute_result"
    },
    {
     "data": {
      "image/png": "[encoded data removed]",
      "text/plain": [
       "<matplotlib.figure.Figure at 0x119214890>"
      ]
     },
     "metadata": {},
     "output_type": "display_data"
    }
   ],
   "source": [
    "ser = mort['AGE']\n",
    "\n",
    "ser = ser.sort_values()\n",
    "\n",
    "ser[len(ser)] = ser.iloc[-1]\n",
    "\n",
    "cum_dist = np.linspace(0.,1.,len(ser))\n",
    "\n",
    "ser_cdf = pd.Series(cum_dist, index=ser)\n",
    "\n",
    "ser_cdf.plot()\n",
    "\n",
    "plt.title('CDF of AGE')\n",
    "plt.ylabel('Cumulative Probability')"
   ]
  },
  {
   "cell_type": "code",
   "execution_count": 165,
   "metadata": {
    "collapsed": true,
    "deletable": true,
    "editable": true
   },
   "outputs": [],
   "source": [
    "# 95% confidence interval for AGE\n"
   ]
  },
  {
   "cell_type": "code",
   "execution_count": 166,
   "metadata": {
    "collapsed": false,
    "deletable": true,
    "editable": true
   },
   "outputs": [
    {
     "data": {
      "text/plain": [
       "<matplotlib.axes._subplots.AxesSubplot at 0x11b390090>"
      ]
     },
     "execution_count": 166,
     "metadata": {},
     "output_type": "execute_result"
    },
    {
     "data": {
      "image/png": "[encoded data removed]",
      "text/plain": [
       "<matplotlib.figure.Figure at 0x11b39b350>"
      ]
     },
     "metadata": {},
     "output_type": "display_data"
    }
   ],
   "source": [
    "sns.distplot(a=mort['CHOL'], bins=20)"
   ]
  },
  {
   "cell_type": "code",
   "execution_count": 167,
   "metadata": {
    "collapsed": false,
    "deletable": true,
    "editable": true
   },
   "outputs": [
    {
     "data": {
      "text/plain": [
       "<matplotlib.text.Text at 0x11d9b0dd0>"
      ]
     },
     "execution_count": 167,
     "metadata": {},
     "output_type": "execute_result"
    },
    {
     "data": {
      "image/png": "[encoded data removed]",
      "text/plain": [
       "<matplotlib.figure.Figure at 0x11afa3950>"
      ]
     },
     "metadata": {},
     "output_type": "display_data"
    }
   ],
   "source": [
    "ser = mort['CHOL']\n",
    "\n",
    "ser = ser.sort_values()\n",
    "\n",
    "ser[len(ser)] = ser.iloc[-1]\n",
    "\n",
    "cum_dist = np.linspace(0.,1.,len(ser))\n",
    "\n",
    "ser_cdf = pd.Series(cum_dist, index=ser)\n",
    "\n",
    "ser_cdf.plot()\n",
    "\n",
    "plt.title('CDF of CHOL')\n",
    "plt.ylabel('Cumulative Probability')"
   ]
  },
  {
   "cell_type": "code",
   "execution_count": 168,
   "metadata": {
    "collapsed": false,
    "deletable": true,
    "editable": true
   },
   "outputs": [
    {
     "data": {
      "text/plain": [
       "<matplotlib.axes._subplots.AxesSubplot at 0x11da4b810>"
      ]
     },
     "execution_count": 168,
     "metadata": {},
     "output_type": "execute_result"
    },
    {
     "data": {
      "image/png": "[encoded data removed]",
      "text/plain": [
       "<matplotlib.figure.Figure at 0x11b3b9890>"
      ]
     },
     "metadata": {},
     "output_type": "display_data"
    }
   ],
   "source": [
    "# Correlation matrix vis\n",
    "corr = mort.corr()\n",
    "\n",
    "# Generate a mask for the upper triangle\n",
    "mask = np.zeros_like(corr, dtype=np.bool)\n",
    "mask[np.triu_indices_from(mask)] = True\n",
    "\n",
    "# Set up the matplotlib figure\n",
    "f, ax = plt.subplots(figsize=(11, 9))\n",
    "\n",
    "# Generate a custom diverging colormap\n",
    "# cmap = sns.diverging_palette(220, 10, as_cmap=True)\n",
    "\n",
    "# Draw the heatmap with the mask and correct aspect ratio\n",
    "sns.heatmap(corr, annot=True, mask=mask)\n"
   ]
  },
  {
   "cell_type": "markdown",
   "metadata": {
    "deletable": true,
    "editable": true
   },
   "source": [
    "CHOL and AGE are correlated, as are wight and height, which makes sense. "
   ]
  },
  {
   "cell_type": "code",
   "execution_count": 169,
   "metadata": {
    "collapsed": false,
    "deletable": true,
    "editable": true
   },
   "outputs": [
    {
     "data": {
      "text/html": [
       "<div>\n",
       "<table border=\"1\" class=\"dataframe\">\n",
       "  <thead>\n",
       "    <tr style=\"text-align: right;\">\n",
       "      <th></th>\n",
       "      <th>AGE</th>\n",
       "      <th>HEIGHT</th>\n",
       "      <th>WEIGHT</th>\n",
       "      <th>CHOL</th>\n",
       "      <th>SMOKE</th>\n",
       "      <th>BLOOD</th>\n",
       "      <th>MORT</th>\n",
       "    </tr>\n",
       "  </thead>\n",
       "  <tbody>\n",
       "    <tr>\n",
       "      <th>0</th>\n",
       "      <td>20</td>\n",
       "      <td>176</td>\n",
       "      <td>77</td>\n",
       "      <td>195</td>\n",
       "      <td>nonsmo</td>\n",
       "      <td>2</td>\n",
       "      <td>1</td>\n",
       "    </tr>\n",
       "    <tr>\n",
       "      <th>1</th>\n",
       "      <td>53</td>\n",
       "      <td>167</td>\n",
       "      <td>56</td>\n",
       "      <td>250</td>\n",
       "      <td>sigare</td>\n",
       "      <td>0</td>\n",
       "      <td>0</td>\n",
       "    </tr>\n",
       "    <tr>\n",
       "      <th>2</th>\n",
       "      <td>44</td>\n",
       "      <td>170</td>\n",
       "      <td>80</td>\n",
       "      <td>304</td>\n",
       "      <td>sigare</td>\n",
       "      <td>1</td>\n",
       "      <td>0</td>\n",
       "    </tr>\n",
       "    <tr>\n",
       "      <th>3</th>\n",
       "      <td>37</td>\n",
       "      <td>173</td>\n",
       "      <td>89</td>\n",
       "      <td>178</td>\n",
       "      <td>nonsmo</td>\n",
       "      <td>0</td>\n",
       "      <td>1</td>\n",
       "    </tr>\n",
       "    <tr>\n",
       "      <th>4</th>\n",
       "      <td>26</td>\n",
       "      <td>170</td>\n",
       "      <td>71</td>\n",
       "      <td>206</td>\n",
       "      <td>sigare</td>\n",
       "      <td>0</td>\n",
       "      <td>1</td>\n",
       "    </tr>\n",
       "  </tbody>\n",
       "</table>\n",
       "</div>"
      ],
      "text/plain": [
       "   AGE  HEIGHT  WEIGHT  CHOL   SMOKE  BLOOD  MORT\n",
       "0   20     176      77   195  nonsmo      2     1\n",
       "1   53     167      56   250  sigare      0     0\n",
       "2   44     170      80   304  sigare      1     0\n",
       "3   37     173      89   178  nonsmo      0     1\n",
       "4   26     170      71   206  sigare      0     1"
      ]
     },
     "execution_count": 169,
     "metadata": {},
     "output_type": "execute_result"
    }
   ],
   "source": [
    "mort.head()"
   ]
  },
  {
   "cell_type": "markdown",
   "metadata": {
    "deletable": true,
    "editable": true
   },
   "source": [
    "Using what you generated, provide short summaries of each column describing the data<BR>"
   ]
  },
  {
   "cell_type": "markdown",
   "metadata": {
    "deletable": true,
    "editable": true
   },
   "source": [
    "AGE = not really normally distributed. \n",
    "CHOL = Normally distributed."
   ]
  },
  {
   "cell_type": "markdown",
   "metadata": {
    "deletable": true,
    "editable": true
   },
   "source": [
    "Is there a difference in mortality between smokers, nonsmokers? <BR>"
   ]
  },
  {
   "cell_type": "code",
   "execution_count": 170,
   "metadata": {
    "collapsed": false,
    "deletable": true,
    "editable": true
   },
   "outputs": [
    {
     "data": {
      "text/html": [
       "<div>\n",
       "<table border=\"1\" class=\"dataframe\">\n",
       "  <thead>\n",
       "    <tr style=\"text-align: right;\">\n",
       "      <th></th>\n",
       "      <th>AGE</th>\n",
       "      <th>HEIGHT</th>\n",
       "      <th>WEIGHT</th>\n",
       "      <th>CHOL</th>\n",
       "      <th>BLOOD</th>\n",
       "      <th>MORT</th>\n",
       "    </tr>\n",
       "    <tr>\n",
       "      <th>SMOKE</th>\n",
       "      <th></th>\n",
       "      <th></th>\n",
       "      <th></th>\n",
       "      <th></th>\n",
       "      <th></th>\n",
       "      <th></th>\n",
       "    </tr>\n",
       "  </thead>\n",
       "  <tbody>\n",
       "    <tr>\n",
       "      <th>nonsmo</th>\n",
       "      <td>34.693878</td>\n",
       "      <td>171.367347</td>\n",
       "      <td>75.612245</td>\n",
       "      <td>225.734694</td>\n",
       "      <td>0.836735</td>\n",
       "      <td>0.918367</td>\n",
       "    </tr>\n",
       "    <tr>\n",
       "      <th>pipe</th>\n",
       "      <td>35.904762</td>\n",
       "      <td>172.785714</td>\n",
       "      <td>78.428571</td>\n",
       "      <td>242.452381</td>\n",
       "      <td>0.666667</td>\n",
       "      <td>0.904762</td>\n",
       "    </tr>\n",
       "    <tr>\n",
       "      <th>sigare</th>\n",
       "      <td>36.100917</td>\n",
       "      <td>172.623853</td>\n",
       "      <td>75.027523</td>\n",
       "      <td>233.724771</td>\n",
       "      <td>0.660550</td>\n",
       "      <td>0.853211</td>\n",
       "    </tr>\n",
       "  </tbody>\n",
       "</table>\n",
       "</div>"
      ],
      "text/plain": [
       "              AGE      HEIGHT     WEIGHT        CHOL     BLOOD      MORT\n",
       "SMOKE                                                                   \n",
       "nonsmo  34.693878  171.367347  75.612245  225.734694  0.836735  0.918367\n",
       "pipe    35.904762  172.785714  78.428571  242.452381  0.666667  0.904762\n",
       "sigare  36.100917  172.623853  75.027523  233.724771  0.660550  0.853211"
      ]
     },
     "execution_count": 170,
     "metadata": {},
     "output_type": "execute_result"
    }
   ],
   "source": [
    "mort.groupby(by='SMOKE').mean()"
   ]
  },
  {
   "cell_type": "markdown",
   "metadata": {
    "deletable": true,
    "editable": true
   },
   "source": [
    "Well, the mean mortality of nonsmokers is greater than the mean mortality of nonsmokers, but we still have to do a t-test. "
   ]
  },
  {
   "cell_type": "code",
   "execution_count": 171,
   "metadata": {
    "collapsed": false,
    "deletable": true,
    "editable": true
   },
   "outputs": [
    {
     "data": {
      "text/plain": [
       "Ttest_indResult(statistic=-1.1367553977022882, pvalue=0.2573836973231875)"
      ]
     },
     "execution_count": 171,
     "metadata": {},
     "output_type": "execute_result"
    }
   ],
   "source": [
    "import scipy.stats\n",
    "nonsmoker_mask = mort['SMOKE']=='nonsmo'\n",
    "smoker_mask = mort['SMOKE']=='sigare'\n",
    "scipy.stats.ttest_ind(a=mort[smoker_mask].MORT, b=mort[nonsmoker_mask].MORT)"
   ]
  },
  {
   "cell_type": "markdown",
   "metadata": {
    "deletable": true,
    "editable": true
   },
   "source": [
    "p > 0.05, so we are confident there isn't a significant difference between the two samples. "
   ]
  },
  {
   "cell_type": "markdown",
   "metadata": {
    "deletable": true,
    "editable": true
   },
   "source": [
    "If national average weight is 85 pounds, is our weight average significantly different?<BR>"
   ]
  },
  {
   "cell_type": "code",
   "execution_count": 172,
   "metadata": {
    "collapsed": false,
    "deletable": true,
    "editable": true
   },
   "outputs": [
    {
     "data": {
      "text/plain": [
       "75.885000000000005"
      ]
     },
     "execution_count": 172,
     "metadata": {},
     "output_type": "execute_result"
    }
   ],
   "source": [
    "mort.WEIGHT.mean()"
   ]
  },
  {
   "cell_type": "code",
   "execution_count": 173,
   "metadata": {
    "collapsed": false,
    "deletable": true,
    "editable": true
   },
   "outputs": [
    {
     "data": {
      "text/plain": [
       "Ttest_1sampResult(statistic=-12.344821194685455, pvalue=2.2901936138582111e-26)"
      ]
     },
     "execution_count": 173,
     "metadata": {},
     "output_type": "execute_result"
    }
   ],
   "source": [
    "scipy.stats.ttest_1samp(a=mort.WEIGHT, popmean=85)"
   ]
  },
  {
   "cell_type": "markdown",
   "metadata": {
    "deletable": true,
    "editable": true
   },
   "source": [
    "P value is much lower than 0.05 so we can safely reject the null hypothesis that this sample is from the same population as the sample used to calculate the national average. "
   ]
  },
  {
   "cell_type": "markdown",
   "metadata": {
    "deletable": true,
    "editable": true
   },
   "source": [
    "Until now, we’ve only asked is it different. This is called a two sided test.\n",
    "What if we want to know if its less than or greater than?<BR> This is called a one sided test. We can calculate this from the result of a two sided. You divide your p value in half and check if your t statistic is positive or negative.<BR> Greater than: p/2 < confidence level and t > 0 and Less-than: p/2 < confidence level and t < 0.\n",
    "If national average weight is 85 pounds, is our weight average statistical significantly less?"
   ]
  },
  {
   "cell_type": "markdown",
   "metadata": {
    "deletable": true,
    "editable": true
   },
   "source": [
    "I think yes, because if we device our p value in half, we get an extremeley low value, so we can still be very confident that this sample is significantly different than the national average."
   ]
  }
 ],
 "metadata": {
  "anaconda-cloud": {},
  "kernelspec": {
   "display_name": "Python 2",
   "language": "python",
   "name": "python2"
  },
  "language_info": {
   "codemirror_mode": {
    "name": "ipython",
    "version": 2
   },
   "file_extension": ".py",
   "mimetype": "text/x-python",
   "name": "python",
   "nbconvert_exporter": "python",
   "pygments_lexer": "ipython2",
   "version": "2.7.13"
  }
 },
 "nbformat": 4,
 "nbformat_minor": 0
}
