{
 "cells": [
  {
   "cell_type": "markdown",
   "metadata": {},
   "source": [
    "\n",
    "\n",
    "# Recursion and Statistics\n",
    "\n",
    "### Enter the Contest!\n",
    "\n",
    "### [Week 3 Hackerrank Contest ](https://www.hackerrank.com/week-3-contest)\n",
    "\n",
    "---\n",
    "\n",
    "### Recursion :\n",
    "\n",
    "#### Review :\n",
    "1. [Recursion - Khan academy](https://www.khanacademy.org/computing/computer-science/algorithms/recursive-algorithms/a/recursion)\n",
    "2. [Intro to Recursion](https://www.youtube.com/watch?v=t4MSwiqfLaY&t=172s)\n",
    "3. [Recursion tutorial](https://www.cs.umd.edu/class/fall2002/cmsc214/Tutorial/recursion.html)\n",
    "4. [Recursive Functions](http://www.python-course.eu/recursive_functions.php)\n",
    "5. [Interactive programming](https://interactivepython.org/runestone/static/pythonds/Recursion/toctree.html)\n",
    "\n",
    "Additional Practice Questions :\n",
    "1. [Longest absolute file](https://leetcode.com/problems/longest-absolute-file-path/?tab=Description) *This requires an account on Leetcode.com\n",
    "\n",
    "2. [Valid Palindrome](https://leetcode.com/problems/valid-palindrome/?tab=Description) * This requires an account on Leetcode.com\n",
    "\n",
    "---\n",
    "\n",
    "\n",
    "### Probability & Statistics :\n",
    "#### Review : \n",
    "\n",
    "1. [Probability](https://github.com/GitPaulM/DSI-SF-2-GitPaulM/blob/master/GA%20Project/%201%20Probability%20-%20Getting%20Started.ipynb)\n",
    "2. [Khan acamedy videos on Stats](https://www.khanacademy.org/math/probability)\n",
    "\n",
    "\n",
    "\n"
   ]
  },
  {
   "cell_type": "markdown",
   "metadata": {
    "collapsed": true
   },
   "source": [
    "### Day 1: Standard Deviation Puzzles #1"
   ]
  },
  {
   "cell_type": "code",
   "execution_count": 1,
   "metadata": {
    "collapsed": true
   },
   "outputs": [],
   "source": [
    "import numpy as np"
   ]
  },
  {
   "cell_type": "code",
   "execution_count": 72,
   "metadata": {
    "collapsed": false
   },
   "outputs": [],
   "source": [
    "std = round(np.std([1,2,3]),2)\n",
    "# print std\n",
    "\n",
    "N = 0\n",
    "for N in np.linspace(0,5,50):\n",
    "    N_std = round(np.std([1,2,3,N]), 2)\n",
    "    if N_std == std:\n",
    "        N_largest = N"
   ]
  },
  {
   "cell_type": "code",
   "execution_count": 73,
   "metadata": {
    "collapsed": false
   },
   "outputs": [
    {
     "name": "stdout",
     "output_type": "stream",
     "text": [
      "0.82 0.82 2.95918367347\n"
     ]
    }
   ],
   "source": [
    "print std, round(np.std([1,2,3,N_largest]), 2), N_largest"
   ]
  },
  {
   "cell_type": "code",
   "execution_count": 69,
   "metadata": {
    "collapsed": false
   },
   "outputs": [
    {
     "data": {
      "text/plain": [
       "0.82"
      ]
     },
     "execution_count": 69,
     "metadata": {},
     "output_type": "execute_result"
    }
   ],
   "source": [
    "round(np.std([1,2,3,N_largest]), 2)"
   ]
  },
  {
   "cell_type": "markdown",
   "metadata": {},
   "source": [
    "### Time Series: Predict the Web Traffic"
   ]
  },
  {
   "cell_type": "code",
   "execution_count": null,
   "metadata": {
    "collapsed": true
   },
   "outputs": [],
   "source": []
  },
  {
   "cell_type": "markdown",
   "metadata": {},
   "source": [
    "### Simplified Chess Engine"
   ]
  },
  {
   "cell_type": "code",
   "execution_count": null,
   "metadata": {
    "collapsed": true
   },
   "outputs": [],
   "source": []
  }
 ],
 "metadata": {
  "anaconda-cloud": {},
  "kernelspec": {
   "display_name": "Python [conda env:dsi]",
   "language": "python",
   "name": "conda-env-dsi-py"
  },
  "language_info": {
   "codemirror_mode": {
    "name": "ipython",
    "version": 2
   },
   "file_extension": ".py",
   "mimetype": "text/x-python",
   "name": "python",
   "nbconvert_exporter": "python",
   "pygments_lexer": "ipython2",
   "version": "2.7.13"
  }
 },
 "nbformat": 4,
 "nbformat_minor": 0
}
