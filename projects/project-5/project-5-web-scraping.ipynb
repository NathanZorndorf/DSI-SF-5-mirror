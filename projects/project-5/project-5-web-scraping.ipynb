{
 "cells": [
  {
   "cell_type": "markdown",
   "metadata": {
    "deletable": true,
    "editable": true
   },
   "source": [
    "<img src=\"http://imgur.com/1ZcRyrc.png\" style=\"float: left; margin: 15px; height: 80px\">\n",
    "\n",
    "# Project 5:  Web Scraping\n",
    "### Finding Underpriced RVs on Craigslist\n",
    "\n",
    "![](https://snag.gy/WrdUMx.jpg)"
   ]
  },
  {
   "cell_type": "markdown",
   "metadata": {
    "deletable": true,
    "editable": true
   },
   "source": [
    "In this project we will be practicing our web scraping skills.  You can use Scrapy or Python requests in order to complete this project.  It may be helpful to write some prototype code in this notebook to test your assumptions, then move it into a Python file that can be run from the command line.\n",
    "\n",
    "> In order to run code from the command line, instead of the notebook, you just need to save your code to a file (with a .py extension), and run it using the Python interpreter:<br><br>\n",
    "> `python my_file.py`\n",
    "\n",
    "You will be building a process to scrape a single category of search results on Craigslist, that can easily be applied to other categories by changing the search terms.  The main goal is to be able to target and scrape a single page given a set of parameters.\n",
    "\n",
    "**If you use Scrapy, provide your code in a folder.**"
   ]
  },
  {
   "cell_type": "markdown",
   "metadata": {
    "deletable": true,
    "editable": true
   },
   "source": [
    "## Import your libraries for scrapy / requests / pandas / numpy / etc\n",
    "Setup whichever libraries you need. Review past material for reference."
   ]
  },
  {
   "cell_type": "code",
   "execution_count": 25,
   "metadata": {
    "collapsed": false,
    "deletable": true,
    "editable": true
   },
   "outputs": [],
   "source": [
    "# PREPARE REQUIRED LIBRARIES\n",
    "from bs4 import BeautifulSoup\n",
    "import requests\n",
    "\n",
    "from scrapy.selector import Selector\n",
    "from scrapy.http import HtmlResponse\n",
    "import scrapy "
   ]
  },
  {
   "cell_type": "markdown",
   "metadata": {
    "deletable": true,
    "editable": true
   },
   "source": [
    "<img src=\"http://imgur.com/l5NasQj.png\" style=\"float: left; margin: 25px 15px 0px 0px; height: 25px\">\n",
    "\n",
    "## 1.  Scrape for the largest US cities (non-exhaustive list)\n",
    "Search, research, and scrape Wikipedia for a list of the largest US cities.  There are a few sources but find one that is in a nice table.  We don't want all cities, just signifficant cities.  Examine your source.  Look for what can be differentiable.\n",
    "\n",
    "- Use requests\n",
    "- Build XPath query(ies)\n",
    "- Extract to a list\n",
    "- Clean your list"
   ]
  },
  {
   "cell_type": "code",
   "execution_count": 65,
   "metadata": {
    "collapsed": true,
    "deletable": true,
    "editable": true
   },
   "outputs": [],
   "source": [
    "# request HTML from wikipedia\n",
    "url = 'https://en.wikipedia.org/wiki/List_of_United_States_cities_by_population'\n",
    "result = requests.get(url)"
   ]
  },
  {
   "cell_type": "code",
   "execution_count": 66,
   "metadata": {
    "collapsed": false,
    "deletable": true,
    "editable": true
   },
   "outputs": [
    {
     "name": "stdout",
     "output_type": "stream",
     "text": [
      "200\n"
     ]
    }
   ],
   "source": [
    "print result.status_code\n",
    "\n",
    "html = result.content"
   ]
  },
  {
   "cell_type": "code",
   "execution_count": 112,
   "metadata": {
    "collapsed": false
   },
   "outputs": [],
   "source": [
    "result = Selector(text=html).xpath('//table[@class=\"wikitable sortable\"][1]/tr/td[2]//text()').extract()"
   ]
  },
  {
   "cell_type": "code",
   "execution_count": 113,
   "metadata": {
    "collapsed": true
   },
   "outputs": [
    {
     "data": {
      "text/plain": [
       "[u'New York',\n",
       " u'[6]',\n",
       " u'Los Angeles',\n",
       " u'Chicago',\n",
       " u'Houston',\n",
       " u'[7]',\n",
       " u'Philadelphia',\n",
       " u'[8]',\n",
       " u'Phoenix',\n",
       " u'San Antonio',\n",
       " u'San Diego',\n",
       " u'Dallas',\n",
       " u'San Jose',\n",
       " u'Austin',\n",
       " u'Jacksonville',\n",
       " u'[9]',\n",
       " u'San Francisco',\n",
       " u'[10]',\n",
       " u'Indianapolis',\n",
       " u'[11]',\n",
       " u'Columbus',\n",
       " u'Fort Worth',\n",
       " u'Charlotte',\n",
       " u'Seattle',\n",
       " u'Denver',\n",
       " u'[12]',\n",
       " u'El Paso',\n",
       " u'Detroit',\n",
       " u'Washington',\n",
       " u'[13]',\n",
       " u'Boston',\n",
       " u'Memphis',\n",
       " u'Nashville',\n",
       " u'[14]',\n",
       " u'Portland',\n",
       " u'Oklahoma City',\n",
       " u'Las Vegas',\n",
       " u'Baltimore',\n",
       " u'[15]',\n",
       " u'Louisville',\n",
       " u'[16]',\n",
       " u'Milwaukee',\n",
       " u'Albuquerque',\n",
       " u'Tucson',\n",
       " u'Fresno',\n",
       " u'Sacramento',\n",
       " u'Kansas City',\n",
       " u'Long Beach',\n",
       " u'Mesa',\n",
       " u'Atlanta',\n",
       " u'Colorado Springs',\n",
       " u'Virginia Beach',\n",
       " u'[15]',\n",
       " u'Raleigh',\n",
       " u'Omaha',\n",
       " u'Miami',\n",
       " u'Oakland',\n",
       " u'Minneapolis',\n",
       " u'Tulsa',\n",
       " u'Wichita',\n",
       " u'New Orleans',\n",
       " u'[17]',\n",
       " u'Arlington',\n",
       " u'Cleveland',\n",
       " u'Bakersfield',\n",
       " u'Tampa',\n",
       " u'Aurora',\n",
       " u'Honolulu',\n",
       " u'[2]',\n",
       " u'Anaheim',\n",
       " u'Santa Ana',\n",
       " u'Corpus Christi',\n",
       " u'Riverside',\n",
       " u'St. Louis',\n",
       " u'[15]',\n",
       " u'Lexington',\n",
       " u'[18]',\n",
       " u'Stockton',\n",
       " u'Pittsburgh',\n",
       " u'Saint Paul',\n",
       " u'Anchorage',\n",
       " u'[19]',\n",
       " u'Cincinnati',\n",
       " u'Henderson',\n",
       " u'Greensboro',\n",
       " u'Plano',\n",
       " u'Newark',\n",
       " u'Toledo',\n",
       " u'Lincoln',\n",
       " u'Orlando',\n",
       " u'Chula Vista',\n",
       " u'Jersey City',\n",
       " u'Chandler',\n",
       " u'Fort Wayne',\n",
       " u'Buffalo',\n",
       " u'Durham',\n",
       " u'St. Petersburg',\n",
       " u'Irvine',\n",
       " u'Laredo',\n",
       " u'Lubbock',\n",
       " u'Madison',\n",
       " u'Gilbert',\n",
       " u'[20]',\n",
       " u'Norfolk',\n",
       " u'[15]',\n",
       " u'Reno',\n",
       " u'Winston\\u2013Salem',\n",
       " u'Glendale',\n",
       " u'Hialeah',\n",
       " u'Garland',\n",
       " u'Scottsdale',\n",
       " u'Irving',\n",
       " u'Chesapeake',\n",
       " u'[15]',\n",
       " u'North Las Vegas',\n",
       " u'Fremont',\n",
       " u'Baton Rouge',\n",
       " u'[21]',\n",
       " u'Richmond',\n",
       " u'[15]',\n",
       " u'Boise',\n",
       " u'[22]',\n",
       " u'San Bernardino',\n",
       " u'Spokane',\n",
       " u'Birmingham',\n",
       " u'Modesto',\n",
       " u'Des Moines',\n",
       " u'Rochester',\n",
       " u'Tacoma',\n",
       " u'Fontana',\n",
       " u'Oxnard',\n",
       " u'Moreno Valley',\n",
       " u'Fayetteville',\n",
       " u'Huntington Beach',\n",
       " u'Yonkers',\n",
       " u'Glendale',\n",
       " u'Aurora',\n",
       " u'Montgomery',\n",
       " u'Columbus',\n",
       " u'[23]',\n",
       " u'Amarillo',\n",
       " u'Little Rock',\n",
       " u'Akron',\n",
       " u'Shreveport',\n",
       " u'Augusta',\n",
       " u'[24]',\n",
       " u'Grand Rapids',\n",
       " u'Mobile',\n",
       " u'Salt Lake City',\n",
       " u'Huntsville',\n",
       " u'Tallahassee',\n",
       " u'Grand Prairie',\n",
       " u'Overland Park',\n",
       " u'Knoxville',\n",
       " u'Worcester',\n",
       " u'Brownsville',\n",
       " u'Newport News',\n",
       " u'[15]',\n",
       " u'Santa Clarita',\n",
       " u'Port St. Lucie',\n",
       " u'Providence',\n",
       " u'Fort Lauderdale',\n",
       " u'Chattanooga',\n",
       " u'Tempe',\n",
       " u'Oceanside',\n",
       " u'Garden Grove',\n",
       " u'Rancho Cucamonga',\n",
       " u'Cape Coral',\n",
       " u'Santa Rosa',\n",
       " u'Vancouver',\n",
       " u'Sioux Falls',\n",
       " u'Peoria',\n",
       " u'Ontario',\n",
       " u'Jackson',\n",
       " u'Elk Grove',\n",
       " u'Springfield',\n",
       " u'Pembroke Pines',\n",
       " u'Salem',\n",
       " u'Corona',\n",
       " u'Eugene',\n",
       " u'McKinney',\n",
       " u'Fort Collins',\n",
       " u'Lancaster',\n",
       " u'Cary',\n",
       " u'[25]',\n",
       " u'Palmdale',\n",
       " u'Hayward',\n",
       " u'Salinas',\n",
       " u'Frisco',\n",
       " u'Springfield',\n",
       " u'Pasadena',\n",
       " u'Macon',\n",
       " u'[26]',\n",
       " u'Alexandria',\n",
       " u'[15]',\n",
       " u'Pomona',\n",
       " u'Lakewood',\n",
       " u'Sunnyvale',\n",
       " u'Escondido',\n",
       " u'Kansas City',\n",
       " u'[27]',\n",
       " u'Hollywood',\n",
       " u'Clarksville',\n",
       " u'Torrance',\n",
       " u'Rockford',\n",
       " u'Joliet',\n",
       " u'Paterson',\n",
       " u'Bridgeport',\n",
       " u'Naperville',\n",
       " u'Savannah',\n",
       " u'Mesquite',\n",
       " u'Syracuse',\n",
       " u'Pasadena',\n",
       " u'Orange',\n",
       " u'Fullerton',\n",
       " u'Killeen',\n",
       " u'Dayton',\n",
       " u'McAllen',\n",
       " u'Bellevue',\n",
       " u'Miramar',\n",
       " u'Hampton',\n",
       " u'[15]',\n",
       " u'West Valley City',\n",
       " u'Warren',\n",
       " u'Olathe',\n",
       " u'Columbia',\n",
       " u'Thornton',\n",
       " u'Carrollton',\n",
       " u'Midland',\n",
       " u'Charleston',\n",
       " u'Waco',\n",
       " u'Sterling Heights',\n",
       " u'Denton',\n",
       " u'Cedar Rapids',\n",
       " u'New Haven',\n",
       " u'Roseville',\n",
       " u'Gainesville',\n",
       " u'Visalia',\n",
       " u'Coral Springs',\n",
       " u'Thousand Oaks',\n",
       " u'Elizabeth',\n",
       " u'Stamford',\n",
       " u'Concord',\n",
       " u'Surprise',\n",
       " u'Lafayette',\n",
       " u'[28]',\n",
       " u'Topeka',\n",
       " u'Kent',\n",
       " u'Simi Valley',\n",
       " u'Santa Clara',\n",
       " u'Murfreesboro',\n",
       " u'Hartford',\n",
       " u'Athens',\n",
       " u'[29]',\n",
       " u'Victorville',\n",
       " u'Abilene',\n",
       " u'Vallejo',\n",
       " u'Berkeley',\n",
       " u'Norman',\n",
       " u'Allentown',\n",
       " u'Evansville',\n",
       " u'Columbia',\n",
       " u'Odessa',\n",
       " u'Fargo',\n",
       " u'Beaumont',\n",
       " u'Independence',\n",
       " u'Ann Arbor',\n",
       " u'El Monte',\n",
       " u'Springfield',\n",
       " u'Round Rock',\n",
       " u'Wilmington',\n",
       " u'Arvada',\n",
       " u'Provo',\n",
       " u'Peoria',\n",
       " u'Lansing',\n",
       " u'Downey',\n",
       " u'Carlsbad',\n",
       " u'Costa Mesa',\n",
       " u'Miami Gardens',\n",
       " u'Westminster',\n",
       " u'Clearwater',\n",
       " u'Fairfield',\n",
       " u'Rochester',\n",
       " u'Elgin',\n",
       " u'Temecula',\n",
       " u'West Jordan',\n",
       " u'Inglewood',\n",
       " u'Richardson',\n",
       " u'Lowell',\n",
       " u'Gresham',\n",
       " u'Antioch',\n",
       " u'Cambridge',\n",
       " u'High Point',\n",
       " u'Billings',\n",
       " u'Manchester',\n",
       " u'Murrieta',\n",
       " u'Centennial',\n",
       " u'Richmond',\n",
       " u'Ventura',\n",
       " u'[30]',\n",
       " u'Pueblo',\n",
       " u'Pearland',\n",
       " u'Waterbury',\n",
       " u'West Covina',\n",
       " u'North Charleston',\n",
       " u'Everett',\n",
       " u'College Station',\n",
       " u'Palm Bay',\n",
       " u'Pompano Beach',\n",
       " u'Boulder',\n",
       " u'Norwalk',\n",
       " u'West Palm Beach',\n",
       " u'Broken Arrow',\n",
       " u'Daly City',\n",
       " u'Sandy Springs',\n",
       " u'Burbank',\n",
       " u'Green Bay',\n",
       " u'Santa Maria',\n",
       " u'Wichita Falls',\n",
       " u'Lakeland',\n",
       " u'Clovis',\n",
       " u'Lewisville',\n",
       " u'Tyler',\n",
       " u'El Cajon',\n",
       " u'San Mateo',\n",
       " u'Rialto',\n",
       " u'Edison',\n",
       " u'[31]',\n",
       " u'Davenport',\n",
       " u'Hillsboro',\n",
       " u'Woodbridge',\n",
       " u'[31]',\n",
       " u'Las Cruces',\n",
       " u'South Bend',\n",
       " u'Vista',\n",
       " u'Greeley',\n",
       " u'Davie',\n",
       " u'[32]',\n",
       " u'San Angelo',\n",
       " u'Jurupa Valley',\n",
       " u'Renton']"
      ]
     },
     "execution_count": 113,
     "metadata": {},
     "output_type": "execute_result"
    }
   ],
   "source": [
    "result"
   ]
  },
  {
   "cell_type": "code",
   "execution_count": 131,
   "metadata": {
    "collapsed": false
   },
   "outputs": [],
   "source": [
    "cities = []\n",
    "for city in result[:30]:\n",
    "    if '[' in city:\n",
    "        continue\n",
    "    else:\n",
    "        cities.append(city)"
   ]
  },
  {
   "cell_type": "code",
   "execution_count": 132,
   "metadata": {
    "collapsed": true
   },
   "outputs": [
    {
     "data": {
      "text/plain": [
       "[u'New York',\n",
       " u'Los Angeles',\n",
       " u'Chicago',\n",
       " u'Houston',\n",
       " u'Philadelphia',\n",
       " u'Phoenix',\n",
       " u'San Antonio',\n",
       " u'San Diego',\n",
       " u'Dallas',\n",
       " u'San Jose',\n",
       " u'Austin',\n",
       " u'Jacksonville',\n",
       " u'San Francisco',\n",
       " u'Indianapolis',\n",
       " u'Columbus',\n",
       " u'Fort Worth',\n",
       " u'Charlotte',\n",
       " u'Seattle',\n",
       " u'Denver',\n",
       " u'El Paso',\n",
       " u'Detroit',\n",
       " u'Washington']"
      ]
     },
     "execution_count": 132,
     "metadata": {},
     "output_type": "execute_result"
    }
   ],
   "source": [
    "cities"
   ]
  },
  {
   "cell_type": "code",
   "execution_count": 126,
   "metadata": {
    "collapsed": false
   },
   "outputs": [],
   "source": [
    "# string = u'Winston\\u2013Salem'\n",
    "# re.sub(pattern=r'[^\\u0000-\\u9999]+', repl=' ', string=string)"
   ]
  },
  {
   "cell_type": "code",
   "execution_count": 127,
   "metadata": {
    "collapsed": true
   },
   "outputs": [],
   "source": [
    "# import re\n",
    "# cities_list = []\n",
    "# for city in cities[:10]:\n",
    "#     cities_list.append(re.sub(pattern=r'[^\\u0000-\\u9999]+', repl=' ', string=string))"
   ]
  },
  {
   "cell_type": "code",
   "execution_count": 128,
   "metadata": {
    "collapsed": false
   },
   "outputs": [],
   "source": [
    "# cities_list"
   ]
  },
  {
   "cell_type": "markdown",
   "metadata": {
    "deletable": true,
    "editable": true
   },
   "source": [
    "<img src=\"http://imgur.com/xDpSobf.png\" style=\"float: left; margin: 25px 15px 0px 0px; height: 25px\">\n",
    "\n",
    "## 1.2 Only retain cities with properly formed ASCII\n",
    "\n",
    "Optionally, filter out any cities with impropper ASCII characters.  A smaller list will be easier to look at.  However you may not need to filter these if you spend more time scraping a more concise city list.  This list should help you narrow down the list of regional Craigslist sites."
   ]
  },
  {
   "cell_type": "code",
   "execution_count": 2,
   "metadata": {
    "collapsed": true,
    "deletable": true,
    "editable": true
   },
   "outputs": [],
   "source": [
    "# ONLY RETAIN PROPERLY FORMED CITIES WITH FILTERING FUNCTION\n"
   ]
  },
  {
   "cell_type": "markdown",
   "metadata": {
    "deletable": true,
    "editable": true
   },
   "source": [
    "<img src=\"http://imgur.com/l5NasQj.png\" style=\"float: left; margin: 25px 15px 0px 0px; height: 25px\">\n",
    "\n",
    "## 2.  Write a function to capture current pricing information via Craigslist in one city.\n",
    "Choose a city from your scraped data, then go to the cooresponding city section on Craigslist, searching for \"rv\" in the auto section.  Write a method that pulls out the prices."
   ]
  },
  {
   "cell_type": "code",
   "execution_count": 50,
   "metadata": {
    "collapsed": false,
    "deletable": true,
    "editable": true
   },
   "outputs": [],
   "source": [
    "url = 'https://sfbay.craigslist.org/search/sfc/apa'\n",
    "response = requests.get(url)\n",
    "html = response.text \n",
    "soup = BeautifulSoup(html, 'lxml')\n",
    "\n",
    "prices = []\n",
    "for price in soup.find_all(attrs={'class':'result-price'}):\n",
    "    prices.append(int(price.text.strip('$')))"
   ]
  },
  {
   "cell_type": "code",
   "execution_count": 51,
   "metadata": {
    "collapsed": true
   },
   "outputs": [
    {
     "data": {
      "text/plain": [
       "[600,\n",
       " 800,\n",
       " 800,\n",
       " 1250,\n",
       " 1250,\n",
       " 1450,\n",
       " 1450,\n",
       " 1600,\n",
       " 1600,\n",
       " 1600,\n",
       " 1600,\n",
       " 1700,\n",
       " 1700,\n",
       " 1760,\n",
       " 1760,\n",
       " 1775,\n",
       " 1775,\n",
       " 1850,\n",
       " 1850,\n",
       " 1995,\n",
       " 1995,\n",
       " 2150,\n",
       " 2150,\n",
       " 2195,\n",
       " 2195,\n",
       " 2200,\n",
       " 2200,\n",
       " 2200,\n",
       " 2200,\n",
       " 2200,\n",
       " 2327,\n",
       " 2327,\n",
       " 2344,\n",
       " 2344,\n",
       " 2355,\n",
       " 2355,\n",
       " 2375,\n",
       " 2375,\n",
       " 2395,\n",
       " 2395,\n",
       " 2395,\n",
       " 2395,\n",
       " 2400,\n",
       " 2400,\n",
       " 2400,\n",
       " 2400,\n",
       " 2450,\n",
       " 2450,\n",
       " 2495,\n",
       " 2495,\n",
       " 2500,\n",
       " 2500,\n",
       " 2693,\n",
       " 2693,\n",
       " 2700,\n",
       " 2700,\n",
       " 2709,\n",
       " 2709,\n",
       " 2740,\n",
       " 2740,\n",
       " 2750,\n",
       " 2750,\n",
       " 2795,\n",
       " 2795,\n",
       " 2795,\n",
       " 2795,\n",
       " 2850,\n",
       " 2895,\n",
       " 2895,\n",
       " 2995,\n",
       " 2995,\n",
       " 2995,\n",
       " 2995,\n",
       " 2995,\n",
       " 2995,\n",
       " 2995,\n",
       " 3000,\n",
       " 3000,\n",
       " 3040,\n",
       " 3040,\n",
       " 3040,\n",
       " 3040,\n",
       " 3095,\n",
       " 3095,\n",
       " 3100,\n",
       " 3100,\n",
       " 3100,\n",
       " 3100,\n",
       " 3100,\n",
       " 3100,\n",
       " 3100,\n",
       " 3100,\n",
       " 3150,\n",
       " 3150,\n",
       " 3150,\n",
       " 3189,\n",
       " 3189,\n",
       " 3200,\n",
       " 3200,\n",
       " 3200,\n",
       " 3200,\n",
       " 3200,\n",
       " 3250,\n",
       " 3250,\n",
       " 3295,\n",
       " 3295,\n",
       " 3299,\n",
       " 3299,\n",
       " 3300,\n",
       " 3300,\n",
       " 3395,\n",
       " 3395,\n",
       " 3400,\n",
       " 3400,\n",
       " 3403,\n",
       " 3403,\n",
       " 3425,\n",
       " 3425,\n",
       " 3500,\n",
       " 3500,\n",
       " 3545,\n",
       " 3545,\n",
       " 3555,\n",
       " 3555,\n",
       " 3585,\n",
       " 3585,\n",
       " 3695,\n",
       " 3695,\n",
       " 3695,\n",
       " 3695,\n",
       " 3700,\n",
       " 3710,\n",
       " 3710,\n",
       " 3750,\n",
       " 3750,\n",
       " 3750,\n",
       " 3750,\n",
       " 3750,\n",
       " 3750,\n",
       " 3750,\n",
       " 3750,\n",
       " 3750,\n",
       " 3750,\n",
       " 3750,\n",
       " 3750,\n",
       " 3750,\n",
       " 3750,\n",
       " 3750,\n",
       " 3750,\n",
       " 3750,\n",
       " 3750,\n",
       " 3750,\n",
       " 3750,\n",
       " 3785,\n",
       " 3785,\n",
       " 3900,\n",
       " 3900,\n",
       " 3900,\n",
       " 3900,\n",
       " 3950,\n",
       " 3950,\n",
       " 3985,\n",
       " 3985,\n",
       " 3995,\n",
       " 3995,\n",
       " 3995,\n",
       " 3995,\n",
       " 3995,\n",
       " 3995,\n",
       " 3995,\n",
       " 3995,\n",
       " 3995,\n",
       " 3995,\n",
       " 4035,\n",
       " 4035,\n",
       " 4135,\n",
       " 4135,\n",
       " 4150,\n",
       " 4150,\n",
       " 4195,\n",
       " 4195,\n",
       " 4205,\n",
       " 4205,\n",
       " 4243,\n",
       " 4243,\n",
       " 4333,\n",
       " 4333,\n",
       " 4350,\n",
       " 4350,\n",
       " 4390,\n",
       " 4390,\n",
       " 4400,\n",
       " 4400,\n",
       " 4478,\n",
       " 4478,\n",
       " 4500,\n",
       " 4500,\n",
       " 4555,\n",
       " 4555,\n",
       " 4684,\n",
       " 4684,\n",
       " 4715,\n",
       " 4715,\n",
       " 4950,\n",
       " 4950,\n",
       " 4970,\n",
       " 4970,\n",
       " 4975,\n",
       " 4975,\n",
       " 4995,\n",
       " 5145,\n",
       " 5145,\n",
       " 5495,\n",
       " 5495,\n",
       " 5495,\n",
       " 5495,\n",
       " 5875,\n",
       " 5875,\n",
       " 6200,\n",
       " 6200,\n",
       " 6800,\n",
       " 6800,\n",
       " 7000,\n",
       " 7000,\n",
       " 7395,\n",
       " 7395,\n",
       " 14995,\n",
       " 14995,\n",
       " 14995,\n",
       " 14995]"
      ]
     },
     "execution_count": 51,
     "metadata": {},
     "output_type": "execute_result"
    }
   ],
   "source": [
    "sorted(prices)"
   ]
  },
  {
   "cell_type": "markdown",
   "metadata": {
    "deletable": true,
    "editable": true
   },
   "source": [
    "<img src=\"http://imgur.com/l5NasQj.png\" style=\"float: left; margin: 25px 15px 0px 0px; height: 25px\">\n",
    "\n",
    "## 2.1 Create a mapping of cities to cooresponding regional Craigslist URLs\n",
    "\n",
    "Major US cities on Craigslist typically have their own cooresponding section (ie: SFBay Area, NYC, Boston, Miami, Seattle, etc).  Later, you will use these to query search results for various metropolitian regions listed on Craigslist.  Between the major metropolitan Craigslist sites, the only thing that will differ is the URL's that correspond to them.\n",
    "\n",
    "The point of the \"mapping\":  Create a data structure that allows you to iterate with both the name of the city from Wikipedia, with the cooresponding variable that that will allow you to construct each craigslist URL for each region.\n",
    "\n",
    "> For San Francsico (the Bay Area metropolitan area), the url for the RV search result is:\n",
    "> http://sfbay.craigslist.org/search/sss?query=rv\n",
    ">\n",
    "> The convention is http://[region].craigslist.org/search/sss?query=rf\n",
    "> Replacing [region] with the cooresponding city name will allow you to quickly iterate through each regional Craigslist site, and scrape the prices from the search results.  Keep this in mind while you build this \"mapping\".\n"
   ]
  },
  {
   "cell_type": "code",
   "execution_count": 133,
   "metadata": {
    "collapsed": false,
    "deletable": true,
    "editable": true
   },
   "outputs": [],
   "source": [
    "# mapping = {}\n",
    "# for city in cities:\n",
    "#     city = city.replace(' ', '').lower()\n",
    "#     print city"
   ]
  },
  {
   "cell_type": "code",
   "execution_count": 134,
   "metadata": {
    "collapsed": true
   },
   "outputs": [],
   "source": [
    "url_lists = []\n",
    "\n",
    "#build craigslist urls\n",
    "for city in cities:\n",
    "    url_lists.append(\"http://\" + city.replace(\".\", \"\").replace(\" \",\"\").lower() + \".craigslist.org/search/sss?query=rv\")\n",
    "\n",
    "#map them to city\n",
    "city_url_dict = dict(zip(cities, url_lists))\n"
   ]
  },
  {
   "cell_type": "code",
   "execution_count": 152,
   "metadata": {
    "collapsed": false
   },
   "outputs": [
    {
     "data": {
      "text/plain": [
       "u'http://sanjose.craigslist.org/search/sss?query=rv'"
      ]
     },
     "execution_count": 152,
     "metadata": {},
     "output_type": "execute_result"
    }
   ],
   "source": [
    "city_url_dict.pop('San Jose') # remove san jose"
   ]
  },
  {
   "cell_type": "code",
   "execution_count": 157,
   "metadata": {
    "collapsed": false
   },
   "outputs": [
    {
     "data": {
      "text/plain": [
       "u'http://fortworth.craigslist.org/search/sss?query=rv'"
      ]
     },
     "execution_count": 157,
     "metadata": {},
     "output_type": "execute_result"
    }
   ],
   "source": [
    "city_url_dict.pop('Fort Worth') # remove "
   ]
  },
  {
   "cell_type": "code",
   "execution_count": 153,
   "metadata": {
    "collapsed": false
   },
   "outputs": [
    {
     "data": {
      "text/plain": [
       "{u'Austin': u'http://austin.craigslist.org/search/sss?query=rv',\n",
       " u'Charlotte': u'http://charlotte.craigslist.org/search/sss?query=rv',\n",
       " u'Chicago': u'http://chicago.craigslist.org/search/sss?query=rv',\n",
       " u'Columbus': u'http://columbus.craigslist.org/search/sss?query=rv',\n",
       " u'Dallas': u'http://dallas.craigslist.org/search/sss?query=rv',\n",
       " u'Denver': u'http://denver.craigslist.org/search/sss?query=rv',\n",
       " u'Detroit': u'http://detroit.craigslist.org/search/sss?query=rv',\n",
       " u'El Paso': u'http://elpaso.craigslist.org/search/sss?query=rv',\n",
       " u'Fort Worth': u'http://fortworth.craigslist.org/search/sss?query=rv',\n",
       " u'Houston': u'http://houston.craigslist.org/search/sss?query=rv',\n",
       " u'Indianapolis': u'http://indianapolis.craigslist.org/search/sss?query=rv',\n",
       " u'Jacksonville': u'http://jacksonville.craigslist.org/search/sss?query=rv',\n",
       " u'Los Angeles': u'http://losangeles.craigslist.org/search/sss?query=rv',\n",
       " u'New York': u'http://newyork.craigslist.org/search/sss?query=rv',\n",
       " u'Philadelphia': u'http://philadelphia.craigslist.org/search/sss?query=rv',\n",
       " u'Phoenix': u'http://phoenix.craigslist.org/search/sss?query=rv',\n",
       " u'San Antonio': u'http://sanantonio.craigslist.org/search/sss?query=rv',\n",
       " u'San Diego': u'http://sandiego.craigslist.org/search/sss?query=rv',\n",
       " u'San Francisco': u'http://sanfrancisco.craigslist.org/search/sss?query=rv',\n",
       " u'Seattle': u'http://seattle.craigslist.org/search/sss?query=rv',\n",
       " u'Washington': u'http://washington.craigslist.org/search/sss?query=rv'}"
      ]
     },
     "execution_count": 153,
     "metadata": {},
     "output_type": "execute_result"
    }
   ],
   "source": [
    "city_url_dict"
   ]
  },
  {
   "cell_type": "markdown",
   "metadata": {
    "deletable": true,
    "editable": true
   },
   "source": [
    "<img src=\"http://imgur.com/l5NasQj.png\" style=\"float: left; margin: 25px 15px 0px 0px; height: 25px\">\n",
    "\n",
    "## 3. Define a function to caculate mean and median price per city.\n",
    "\n",
    "Now that you've created a list of cities you want to scrape, adapt your solution for grabbing data in one region site, to grab data for all regional sites that you collected, then calculate the mean and median price of RV results from each city.\n",
    "\n",
    "> Look at the URLs from a few different regions (ie: portland, phoenix, sfbay), and find what they have in common.  Determine the area in the URL string that needs to change the least, and figure out how to replace only that portion of the URL in order to iterate through each city."
   ]
  },
  {
   "cell_type": "code",
   "execution_count": 195,
   "metadata": {
    "collapsed": false
   },
   "outputs": [],
   "source": [
    "city_prices = {}\n",
    "mean = {}\n",
    "median = {}"
   ]
  },
  {
   "cell_type": "code",
   "execution_count": 196,
   "metadata": {
    "collapsed": false,
    "deletable": true,
    "editable": true
   },
   "outputs": [],
   "source": [
    "import numpy as np\n",
    "for i in range(len(city_url_dict)):\n",
    "    city = str(city_url_dict.items()[i][0]) \n",
    "    url = str(city_url_dict.items()[i][1])\n",
    "    \n",
    "    response = requests.get(url)\n",
    "    html = response.text \n",
    "    soup = BeautifulSoup(html, 'lxml')\n",
    "\n",
    "    prices = []\n",
    "    for price in soup.find_all(attrs={'class':'result-price'}):\n",
    "        prices.append(int(price.text.strip('$')))\n",
    "    \n",
    "    # add to dict \n",
    "    mean[city] = np.mean(prices)\n",
    "    median[city] = np.median(prices)\n",
    "    "
   ]
  },
  {
   "cell_type": "code",
   "execution_count": 197,
   "metadata": {
    "collapsed": false
   },
   "outputs": [
    {
     "data": {
      "text/plain": [
       "[('Charlotte', 9247.9726775956278),\n",
       " ('Columbus', 13047.014563106795),\n",
       " ('Indianapolis', 21626.484693877552),\n",
       " ('Detroit', 11649.299492385786),\n",
       " ('Phoenix', 20073.58695652174),\n",
       " ('Dallas', 24046.043478260868),\n",
       " ('Seattle', 31654.863636363636),\n",
       " ('Chicago', 8741.1564245810059),\n",
       " ('Washington', 13724.071428571429),\n",
       " ('Philadelphia', 14971.546875),\n",
       " ('Denver', 16940.714285714286),\n",
       " ('San Antonio', 13734.968421052632),\n",
       " ('El Paso', 17407.635294117648),\n",
       " ('Houston', 24713.420634920636),\n",
       " ('San Diego', 20761.81407035176),\n",
       " ('Los Angeles', 14489.810426540284),\n",
       " ('San Francisco', 13648.210843373494),\n",
       " ('New York', 8115.8159203980103),\n",
       " ('Austin', 7954.0373831775705),\n",
       " ('Jacksonville', 16378.351190476191)]"
      ]
     },
     "execution_count": 197,
     "metadata": {},
     "output_type": "execute_result"
    }
   ],
   "source": [
    "mean.items()"
   ]
  },
  {
   "cell_type": "markdown",
   "metadata": {
    "deletable": true,
    "editable": true
   },
   "source": [
    "<img src=\"http://imgur.com/l5NasQj.png\" style=\"float: left; margin: 25px 15px 0px 0px; height: 25px\">\n",
    "\n",
    "## 4. Run your scraping process, and save your results to a CSV file."
   ]
  },
  {
   "cell_type": "code",
   "execution_count": 206,
   "metadata": {
    "collapsed": false,
    "deletable": true,
    "editable": true,
    "scrolled": true
   },
   "outputs": [
    {
     "data": {
      "text/html": [
       "<div>\n",
       "<table border=\"1\" class=\"dataframe\">\n",
       "  <thead>\n",
       "    <tr style=\"text-align: right;\">\n",
       "      <th></th>\n",
       "      <th>Austin</th>\n",
       "      <th>Charlotte</th>\n",
       "      <th>Chicago</th>\n",
       "      <th>Columbus</th>\n",
       "      <th>Dallas</th>\n",
       "      <th>Denver</th>\n",
       "      <th>Detroit</th>\n",
       "      <th>El Paso</th>\n",
       "      <th>Houston</th>\n",
       "      <th>Indianapolis</th>\n",
       "      <th>Jacksonville</th>\n",
       "      <th>Los Angeles</th>\n",
       "      <th>New York</th>\n",
       "      <th>Philadelphia</th>\n",
       "      <th>Phoenix</th>\n",
       "      <th>San Antonio</th>\n",
       "      <th>San Diego</th>\n",
       "      <th>San Francisco</th>\n",
       "      <th>Seattle</th>\n",
       "      <th>Washington</th>\n",
       "    </tr>\n",
       "  </thead>\n",
       "  <tbody>\n",
       "    <tr>\n",
       "      <th>mean</th>\n",
       "      <td>7954.037383</td>\n",
       "      <td>9247.972678</td>\n",
       "      <td>8741.156425</td>\n",
       "      <td>13047.014563</td>\n",
       "      <td>24046.043478</td>\n",
       "      <td>16940.714286</td>\n",
       "      <td>11649.299492</td>\n",
       "      <td>17407.635294</td>\n",
       "      <td>24713.420635</td>\n",
       "      <td>21626.484694</td>\n",
       "      <td>16378.35119</td>\n",
       "      <td>14489.810427</td>\n",
       "      <td>8115.81592</td>\n",
       "      <td>14971.546875</td>\n",
       "      <td>20073.586957</td>\n",
       "      <td>13734.968421</td>\n",
       "      <td>20761.81407</td>\n",
       "      <td>13648.210843</td>\n",
       "      <td>31654.863636</td>\n",
       "      <td>13724.071429</td>\n",
       "    </tr>\n",
       "    <tr>\n",
       "      <th>median</th>\n",
       "      <td>350.000000</td>\n",
       "      <td>400.000000</td>\n",
       "      <td>600.000000</td>\n",
       "      <td>4949.000000</td>\n",
       "      <td>14995.000000</td>\n",
       "      <td>9999.000000</td>\n",
       "      <td>1075.000000</td>\n",
       "      <td>7250.000000</td>\n",
       "      <td>6500.000000</td>\n",
       "      <td>8700.000000</td>\n",
       "      <td>8200.00000</td>\n",
       "      <td>359.000000</td>\n",
       "      <td>1800.00000</td>\n",
       "      <td>8900.000000</td>\n",
       "      <td>6500.000000</td>\n",
       "      <td>5500.000000</td>\n",
       "      <td>3000.00000</td>\n",
       "      <td>7750.000000</td>\n",
       "      <td>24995.000000</td>\n",
       "      <td>600.000000</td>\n",
       "    </tr>\n",
       "  </tbody>\n",
       "</table>\n",
       "</div>"
      ],
      "text/plain": [
       "             Austin    Charlotte      Chicago      Columbus        Dallas  \\\n",
       "mean    7954.037383  9247.972678  8741.156425  13047.014563  24046.043478   \n",
       "median   350.000000   400.000000   600.000000   4949.000000  14995.000000   \n",
       "\n",
       "              Denver       Detroit       El Paso       Houston  Indianapolis  \\\n",
       "mean    16940.714286  11649.299492  17407.635294  24713.420635  21626.484694   \n",
       "median   9999.000000   1075.000000   7250.000000   6500.000000   8700.000000   \n",
       "\n",
       "        Jacksonville   Los Angeles    New York  Philadelphia       Phoenix  \\\n",
       "mean     16378.35119  14489.810427  8115.81592  14971.546875  20073.586957   \n",
       "median    8200.00000    359.000000  1800.00000   8900.000000   6500.000000   \n",
       "\n",
       "         San Antonio    San Diego  San Francisco       Seattle    Washington  \n",
       "mean    13734.968421  20761.81407   13648.210843  31654.863636  13724.071429  \n",
       "median   5500.000000   3000.00000    7750.000000  24995.000000    600.000000  "
      ]
     },
     "execution_count": 206,
     "metadata": {},
     "output_type": "execute_result"
    }
   ],
   "source": [
    "import pandas as pd\n",
    "\n",
    "df = pd.DataFrame(data=[mean, median], index=['mean','median'])\n",
    "df"
   ]
  },
  {
   "cell_type": "markdown",
   "metadata": {
    "deletable": true,
    "editable": true
   },
   "source": [
    "<img src=\"http://imgur.com/l5NasQj.png\" style=\"float: left; margin: 25px 15px 0px 0px; height: 25px\">\n",
    "\n",
    "## 5. Do an analysis of the RV market.\n",
    "\n",
    "Go head we'll wait.  Anything notable about the data?"
   ]
  },
  {
   "cell_type": "code",
   "execution_count": 234,
   "metadata": {
    "collapsed": false,
    "deletable": true,
    "editable": true
   },
   "outputs": [
    {
     "data": {
      "text/plain": [
       "<matplotlib.axes._subplots.AxesSubplot at 0x10a34f290>"
      ]
     },
     "execution_count": 234,
     "metadata": {},
     "output_type": "execute_result"
    },
    {
     "data": {
      "image/png": "[encoded data removed]",
      "text/plain": [
       "<matplotlib.figure.Figure at 0x1139205d0>"
      ]
     },
     "metadata": {},
     "output_type": "display_data"
    }
   ],
   "source": [
    "import matplotlib.pyplot as plt\n",
    "%matplotlib inline \n",
    "import seaborn as sns\n",
    "\n",
    "sns.barplot(x=df.columns, y=df.ix[0, :].values)"
   ]
  },
  {
   "cell_type": "code",
   "execution_count": 233,
   "metadata": {
    "collapsed": false
   },
   "outputs": [
    {
     "data": {
      "text/html": [
       "<div>\n",
       "<table border=\"1\" class=\"dataframe\">\n",
       "  <thead>\n",
       "    <tr style=\"text-align: right;\">\n",
       "      <th></th>\n",
       "      <th>mean</th>\n",
       "      <th>median</th>\n",
       "    </tr>\n",
       "  </thead>\n",
       "  <tbody>\n",
       "    <tr>\n",
       "      <th>Seattle</th>\n",
       "      <td>31654.863636</td>\n",
       "      <td>24995.0</td>\n",
       "    </tr>\n",
       "    <tr>\n",
       "      <th>Dallas</th>\n",
       "      <td>24046.043478</td>\n",
       "      <td>14995.0</td>\n",
       "    </tr>\n",
       "    <tr>\n",
       "      <th>Denver</th>\n",
       "      <td>16940.714286</td>\n",
       "      <td>9999.0</td>\n",
       "    </tr>\n",
       "    <tr>\n",
       "      <th>Philadelphia</th>\n",
       "      <td>14971.546875</td>\n",
       "      <td>8900.0</td>\n",
       "    </tr>\n",
       "    <tr>\n",
       "      <th>Indianapolis</th>\n",
       "      <td>21626.484694</td>\n",
       "      <td>8700.0</td>\n",
       "    </tr>\n",
       "    <tr>\n",
       "      <th>Jacksonville</th>\n",
       "      <td>16378.351190</td>\n",
       "      <td>8200.0</td>\n",
       "    </tr>\n",
       "    <tr>\n",
       "      <th>San Francisco</th>\n",
       "      <td>13648.210843</td>\n",
       "      <td>7750.0</td>\n",
       "    </tr>\n",
       "    <tr>\n",
       "      <th>El Paso</th>\n",
       "      <td>17407.635294</td>\n",
       "      <td>7250.0</td>\n",
       "    </tr>\n",
       "    <tr>\n",
       "      <th>Houston</th>\n",
       "      <td>24713.420635</td>\n",
       "      <td>6500.0</td>\n",
       "    </tr>\n",
       "    <tr>\n",
       "      <th>Phoenix</th>\n",
       "      <td>20073.586957</td>\n",
       "      <td>6500.0</td>\n",
       "    </tr>\n",
       "    <tr>\n",
       "      <th>San Antonio</th>\n",
       "      <td>13734.968421</td>\n",
       "      <td>5500.0</td>\n",
       "    </tr>\n",
       "    <tr>\n",
       "      <th>Columbus</th>\n",
       "      <td>13047.014563</td>\n",
       "      <td>4949.0</td>\n",
       "    </tr>\n",
       "    <tr>\n",
       "      <th>San Diego</th>\n",
       "      <td>20761.814070</td>\n",
       "      <td>3000.0</td>\n",
       "    </tr>\n",
       "    <tr>\n",
       "      <th>New York</th>\n",
       "      <td>8115.815920</td>\n",
       "      <td>1800.0</td>\n",
       "    </tr>\n",
       "    <tr>\n",
       "      <th>Detroit</th>\n",
       "      <td>11649.299492</td>\n",
       "      <td>1075.0</td>\n",
       "    </tr>\n",
       "    <tr>\n",
       "      <th>Washington</th>\n",
       "      <td>13724.071429</td>\n",
       "      <td>600.0</td>\n",
       "    </tr>\n",
       "    <tr>\n",
       "      <th>Chicago</th>\n",
       "      <td>8741.156425</td>\n",
       "      <td>600.0</td>\n",
       "    </tr>\n",
       "    <tr>\n",
       "      <th>Charlotte</th>\n",
       "      <td>9247.972678</td>\n",
       "      <td>400.0</td>\n",
       "    </tr>\n",
       "    <tr>\n",
       "      <th>Los Angeles</th>\n",
       "      <td>14489.810427</td>\n",
       "      <td>359.0</td>\n",
       "    </tr>\n",
       "    <tr>\n",
       "      <th>Austin</th>\n",
       "      <td>7954.037383</td>\n",
       "      <td>350.0</td>\n",
       "    </tr>\n",
       "  </tbody>\n",
       "</table>\n",
       "</div>"
      ],
      "text/plain": [
       "                       mean   median\n",
       "Seattle        31654.863636  24995.0\n",
       "Dallas         24046.043478  14995.0\n",
       "Denver         16940.714286   9999.0\n",
       "Philadelphia   14971.546875   8900.0\n",
       "Indianapolis   21626.484694   8700.0\n",
       "Jacksonville   16378.351190   8200.0\n",
       "San Francisco  13648.210843   7750.0\n",
       "El Paso        17407.635294   7250.0\n",
       "Houston        24713.420635   6500.0\n",
       "Phoenix        20073.586957   6500.0\n",
       "San Antonio    13734.968421   5500.0\n",
       "Columbus       13047.014563   4949.0\n",
       "San Diego      20761.814070   3000.0\n",
       "New York        8115.815920   1800.0\n",
       "Detroit        11649.299492   1075.0\n",
       "Washington     13724.071429    600.0\n",
       "Chicago         8741.156425    600.0\n",
       "Charlotte       9247.972678    400.0\n",
       "Los Angeles    14489.810427    359.0\n",
       "Austin          7954.037383    350.0"
      ]
     },
     "execution_count": 233,
     "metadata": {},
     "output_type": "execute_result"
    }
   ],
   "source": [
    "df.T.sort_values(by='median', ascending=False)"
   ]
  },
  {
   "cell_type": "markdown",
   "metadata": {
    "collapsed": true,
    "deletable": true,
    "editable": true
   },
   "source": [
    "<img src=\"http://imgur.com/l5NasQj.png\" style=\"float: left; margin: 25px 15px 0px 0px; height: 25px\">\n",
    "\n",
    "### 5.1 Does it makes sense to buy RVs in one region and sell them in another?\n",
    "\n",
    "Assuming the cost of shipping or driving from one regional market to another."
   ]
  },
  {
   "cell_type": "markdown",
   "metadata": {
    "collapsed": true,
    "deletable": true,
    "editable": true
   },
   "source": [
    "**ANSWER** Buy In Austin, sell in Seattle!!! "
   ]
  },
  {
   "cell_type": "markdown",
   "metadata": {
    "deletable": true,
    "editable": true
   },
   "source": [
    "<img src=\"http://imgur.com/xDpSobf.png\" style=\"float: left; margin: 25px 15px 0px 0px; height: 25px\">\n",
    "\n",
    "### 5.2 Can you pull out the \"make\" from the markup and include that in your analyis?\n",
    "How reliable is this data and does it make sense?"
   ]
  },
  {
   "cell_type": "code",
   "execution_count": null,
   "metadata": {
    "collapsed": true,
    "deletable": true,
    "editable": true
   },
   "outputs": [],
   "source": []
  },
  {
   "cell_type": "markdown",
   "metadata": {
    "deletable": true,
    "editable": true
   },
   "source": [
    "<img src=\"http://imgur.com/xDpSobf.png\" style=\"float: left; margin: 25px 15px 0px 0px; height: 25px\">\n",
    "\n",
    "### 5.3 Are there any other variables you could pull out of the markup to help describe your dataset?"
   ]
  },
  {
   "cell_type": "code",
   "execution_count": null,
   "metadata": {
    "collapsed": true,
    "deletable": true,
    "editable": true
   },
   "outputs": [],
   "source": []
  },
  {
   "cell_type": "markdown",
   "metadata": {
    "deletable": true,
    "editable": true
   },
   "source": [
    "<img src=\"http://imgur.com/xDpSobf.png\" style=\"float: left; margin: 25px 15px 0px 0px; height: 25px\">\n",
    "\n",
    "## 6. Move your project into scrapy (if you haven't used Scrapy yet)\n",
    "\n",
    ">Start a project by using the command `scrapy startproject [projectname]`\n",
    "> - Update your settings.py (review our past example)\n",
    "> - Update your items.py\n",
    "> - Create a spiders file in your `[project_name]/[project_name]/spiders` directory\n",
    "\n",
    "You can update your spider class with the complete list of craigslist \"start urls\" to effectively scrape all of the regions.  Start with one to test.\n",
    "\n",
    "Updating your parse method with the method you chose should require minimal changes.  It will require you to update your parse method to use the response parameter, and an item model (defined in items.py)."
   ]
  },
  {
   "cell_type": "code",
   "execution_count": null,
   "metadata": {
    "collapsed": true,
    "deletable": true,
    "editable": true
   },
   "outputs": [],
   "source": []
  },
  {
   "cell_type": "markdown",
   "metadata": {
    "deletable": true,
    "editable": true
   },
   "source": [
    "<img src=\"http://imgur.com/GCAf1UX.png\" style=\"float: left; margin: 25px 15px 0px 0px; height: 25px\">\n",
    "\n",
    "## 7.  Chose another area of Craigslist to scrape.\n",
    "\n",
    "**Choose an area having more than a single page of results, then scrape multiple regions, multiple pages of search results and or details pages.**\n",
    "\n",
    "This is the true exercise of being able to understand how to succesffuly plan, develop, and employ a broader scraping strategy.  Even though this seems like a challenging task, a few tweeks of your current code can make this very managable if you've pieced together all the touch points.  If you are still confused as to some of the milestones within this process, this is an excellent opportunity to round out your understanding, or help you build a list of questions to fill in your gaps.\n",
    "\n",
    "_Use Scrapy!  Provide your code in this project directory when you submit this project._"
   ]
  },
  {
   "cell_type": "markdown",
   "metadata": {
    "collapsed": true,
    "deletable": true,
    "editable": true
   },
   "source": [
    "## Optional: Interview Questions\n",
    "\n",
    "---- \n",
    "\n",
    "### SQL Practice\n",
    "\n",
    "1)\n",
    "We have a deliveries table with 3000 rows\n",
    "\n",
    "`SELECT * FROM deliveries; \n",
    "-- 3000 rows in set (0.05 sec) `\n",
    "\n",
    "15 of those orders are from a customer with the customer_id_number=32\n",
    "\n",
    "`SELECT * FROM deliveries WHERE customer_id_number = 32;\n",
    "-- 15 rows in set (0.10 sec)`\n",
    "\n",
    "Yet, when we SELECT the number of orders that are not from customer_id_number = 32, we only get 2960 results:\n",
    "\n",
    "`SELECT * FROM deliveries WHERE customer_id_number <> 32;\n",
    "-- 2960 rows in set (0.11 sec)`\n",
    "\n",
    "**Question: What’s wrong? And why might this be the case? Modify your code to fix this. **\n",
    "\n",
    "2) Construct the following tables:\n",
    "\n",
    "`mysql> SELECT * FROM Employee;\n",
    "+--------+----------+--------+\n",
    "| emp_id | emp_name | salary |\n",
    "+--------+----------+--------+\n",
    "| 1      | James    |   2000 |\n",
    "| 2      | Jack     |   4000 |\n",
    "| 3      | Henry    |   6000 |\n",
    "| 4      | Tom      |   8000 |\n",
    "+--------+----------+--------+\n",
    "4 rows IN SET (0.00 sec)`\n",
    "\n",
    "\n",
    "`mysql> SELECT * FROM Department;\n",
    "+---------+-----------+\n",
    "| dept_id | dept_name |\n",
    "+---------+-----------+\n",
    "| 101     | Sales     |\n",
    "| 102     | Marketing |\n",
    "| 103     | Finance   |\n",
    "| 104     | Accounting   |\n",
    "+---------+-----------+\n",
    "3 rows IN SET (0.00 sec)`\n",
    "\n",
    "\n",
    "`mysql> SELECT * FROM Register;\n",
    "+--------+---------+\n",
    "| emp_id | dept_id |\n",
    "+--------+---------+\n",
    "|      1 |     101 |\n",
    "|      2 |     102 |\n",
    "|      3 |     103 |\n",
    "|      4 |     102 |\n",
    "+--------+---------+\n",
    "4 rows IN SET (0.00 sec)`\n",
    "\n",
    "** Questions: ** \n",
    "- Which employees belong to which department? Show this using one line of code (hint: more than one join) \n",
    "- What is the total marketing salary? \n",
    "- Using a join, can you show that there are no employees in accounting? \n",
    "\n",
    "\n",
    "\n",
    "3) Given an Employee table which has 3 fields – Id (Primary key), Salary and Manager Id, where manager id is the id of the employee that manages the current employee, find all employees that make more than their manager in terms of salary. Create the table and write the code that finds this\n",
    "\n",
    "\n",
    "--- \n",
    "### Predictive Modeling\n",
    "\n",
    "- What are some differences you would expect in a regression model that minimizes squared error, versus a model that minimizes absolute error? In which cases would each error  metric be appropriate?\n",
    "\n",
    "- What error metric would you use to evaluate how good a binary classifier is? What if the classes are imbalanced?  What if there are more than 2 groups?\n",
    "\n",
    "- What are various ways to predict a binary response variable? Can you compare two of them and tell me when one would be more appropriate? What’s the difference logistic regression and SVMs? \n",
    "\n",
    "- What is the difference between the loss functions used by SVMs and Logistic Regression? \n",
    "\n",
    "- What is R-squared? What are some other metrics that could be better than R-squared and why?\n",
    "\n",
    "- You run your regression on different subsets of your data, and find that in each subset, the beta value for a certain variable varies wildly. What could be the issue here?\n",
    "\n",
    "\n",
    "--- \n",
    "### Coding Questions \n",
    "\n",
    "- Given a sorted array and a number x, find a pair in array whose sum is closest to x. What is the time complexity of your algorithm? \n",
    "    \n",
    "    `Examples:`\n",
    "        Input: arr[] = {10, 22, 28, 29, 30, 40}, x = 54\n",
    "        Output: 22 and 30\n",
    "\n",
    "        Input: arr[] = {1, 3, 4, 7, 10}, x = 15\n",
    "        Output: 4 and 10\n",
    "        \n",
    "- Check out this video on Linear Time Algorithm for finding the median: https://www.youtube.com/watch?v=_xntajCBLoE. Implement your version of this algorithm in Python. \n",
    "\n",
    "- Search in an almost sorted array: Given an array which is sorted, but after sorting some elements are moved to either of the adjacent positions, i.e., arr[i] may be present at arr[i+1] or arr[i-1]. Write an efficient function to search an element in this array. Basically the element arr[i] can only be swapped with either arr[i+1] or arr[i-1]. For example consider the array {2, 3, 10, 4, 40}, 4 is moved to next position and 10 is moved to previous position. [Hint: You can do this O(log n) time complexity]\n",
    "\n",
    "    `Examples: `\n",
    "        Input: arr[] =  {10, 3, 40, 20, 50, 80, 70}, key = 40\n",
    "        Output: 2 \n",
    "        Output is index of 40 in given array\n",
    "\n",
    "        Input: arr[] =  {10, 3, 40, 20, 50, 80, 70}, key = 90\n",
    "        Output: -1\n",
    "        -1 is returned to indicate element is not present"
   ]
  },
  {
   "cell_type": "code",
   "execution_count": null,
   "metadata": {
    "collapsed": true,
    "deletable": true,
    "editable": true
   },
   "outputs": [],
   "source": []
  }
 ],
 "metadata": {
  "anaconda-cloud": {},
  "kernelspec": {
   "display_name": "Python 2",
   "language": "python",
   "name": "python2"
  },
  "language_info": {
   "codemirror_mode": {
    "name": "ipython",
    "version": 2
   },
   "file_extension": ".py",
   "mimetype": "text/x-python",
   "name": "python",
   "nbconvert_exporter": "python",
   "pygments_lexer": "ipython2",
   "version": "2.7.13"
  }
 },
 "nbformat": 4,
 "nbformat_minor": 0
}
