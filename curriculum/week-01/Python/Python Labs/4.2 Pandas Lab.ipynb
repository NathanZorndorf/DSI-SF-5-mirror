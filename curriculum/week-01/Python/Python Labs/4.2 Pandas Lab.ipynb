{
 "cells": [
  {
   "cell_type": "markdown",
   "metadata": {},
   "source": [
    "<img src=\"https://ga-dash.s3.amazonaws.com/production/assets/logo-9f88ae6c9c3871690e33280fcf557f33.png\" style=\"float: left; margin: 10px;\"> \n",
    "# Pandas Lab\n",
    "\n",
    "---\n",
    "Week 1 | Lab 1.10"
   ]
  },
  {
   "cell_type": "code",
   "execution_count": 1,
   "metadata": {
    "collapsed": true
   },
   "outputs": [],
   "source": [
    "import pandas as pd\n",
    "import numpy as np"
   ]
  },
  {
   "cell_type": "markdown",
   "metadata": {},
   "source": [
    "#### 1. Load in the SF crimes dataset:"
   ]
  },
  {
   "cell_type": "code",
   "execution_count": 3,
   "metadata": {
    "collapsed": false
   },
   "outputs": [],
   "source": [
    "df = pd.read_csv('../../../datasets/sf_crime/sf_crime_sample.csv')"
   ]
  },
  {
   "cell_type": "markdown",
   "metadata": {},
   "source": [
    "#### 2. Print the head"
   ]
  },
  {
   "cell_type": "code",
   "execution_count": 4,
   "metadata": {
    "collapsed": false
   },
   "outputs": [
    {
     "data": {
      "text/html": [
       "<div>\n",
       "<table border=\"1\" class=\"dataframe\">\n",
       "  <thead>\n",
       "    <tr style=\"text-align: right;\">\n",
       "      <th></th>\n",
       "      <th>Dates</th>\n",
       "      <th>Category</th>\n",
       "      <th>Descript</th>\n",
       "      <th>DayOfWeek</th>\n",
       "      <th>PdDistrict</th>\n",
       "      <th>Resolution</th>\n",
       "      <th>Address</th>\n",
       "      <th>X</th>\n",
       "      <th>Y</th>\n",
       "    </tr>\n",
       "  </thead>\n",
       "  <tbody>\n",
       "    <tr>\n",
       "      <th>0</th>\n",
       "      <td>2003-03-23 23:27:00</td>\n",
       "      <td>ARSON</td>\n",
       "      <td>ARSON OF A VEHICLE</td>\n",
       "      <td>Sunday</td>\n",
       "      <td>BAYVIEW</td>\n",
       "      <td>NONE</td>\n",
       "      <td>0 Block of HUNTERS PT EXPWY EX</td>\n",
       "      <td>-122.376945</td>\n",
       "      <td>37.733018</td>\n",
       "    </tr>\n",
       "    <tr>\n",
       "      <th>1</th>\n",
       "      <td>2006-03-07 06:45:00</td>\n",
       "      <td>LARCENY/THEFT</td>\n",
       "      <td>PETTY THEFT FROM LOCKED AUTO</td>\n",
       "      <td>Tuesday</td>\n",
       "      <td>NORTHERN</td>\n",
       "      <td>NONE</td>\n",
       "      <td>0 Block of MARINA BL</td>\n",
       "      <td>-122.432952</td>\n",
       "      <td>37.805052</td>\n",
       "    </tr>\n",
       "    <tr>\n",
       "      <th>2</th>\n",
       "      <td>2004-03-06 03:00:00</td>\n",
       "      <td>NON-CRIMINAL</td>\n",
       "      <td>LOST PROPERTY</td>\n",
       "      <td>Saturday</td>\n",
       "      <td>SOUTHERN</td>\n",
       "      <td>NONE</td>\n",
       "      <td>800 Block of BRYANT ST</td>\n",
       "      <td>-122.403405</td>\n",
       "      <td>37.775421</td>\n",
       "    </tr>\n",
       "    <tr>\n",
       "      <th>3</th>\n",
       "      <td>2011-12-03 12:10:00</td>\n",
       "      <td>BURGLARY</td>\n",
       "      <td>BURGLARY OF STORE, UNLAWFUL ENTRY</td>\n",
       "      <td>Saturday</td>\n",
       "      <td>TARAVAL</td>\n",
       "      <td>ARREST, BOOKED</td>\n",
       "      <td>3200 Block of 20TH AV</td>\n",
       "      <td>-122.475647</td>\n",
       "      <td>37.728528</td>\n",
       "    </tr>\n",
       "    <tr>\n",
       "      <th>4</th>\n",
       "      <td>2003-01-10 00:15:00</td>\n",
       "      <td>LARCENY/THEFT</td>\n",
       "      <td>PETTY THEFT OF PROPERTY</td>\n",
       "      <td>Friday</td>\n",
       "      <td>NORTHERN</td>\n",
       "      <td>NONE</td>\n",
       "      <td>POLK ST / BROADWAY ST</td>\n",
       "      <td>-122.421772</td>\n",
       "      <td>37.795946</td>\n",
       "    </tr>\n",
       "  </tbody>\n",
       "</table>\n",
       "</div>"
      ],
      "text/plain": [
       "                 Dates       Category                           Descript  \\\n",
       "0  2003-03-23 23:27:00          ARSON                 ARSON OF A VEHICLE   \n",
       "1  2006-03-07 06:45:00  LARCENY/THEFT       PETTY THEFT FROM LOCKED AUTO   \n",
       "2  2004-03-06 03:00:00   NON-CRIMINAL                      LOST PROPERTY   \n",
       "3  2011-12-03 12:10:00       BURGLARY  BURGLARY OF STORE, UNLAWFUL ENTRY   \n",
       "4  2003-01-10 00:15:00  LARCENY/THEFT            PETTY THEFT OF PROPERTY   \n",
       "\n",
       "  DayOfWeek PdDistrict      Resolution                         Address  \\\n",
       "0    Sunday    BAYVIEW            NONE  0 Block of HUNTERS PT EXPWY EX   \n",
       "1   Tuesday   NORTHERN            NONE            0 Block of MARINA BL   \n",
       "2  Saturday   SOUTHERN            NONE          800 Block of BRYANT ST   \n",
       "3  Saturday    TARAVAL  ARREST, BOOKED           3200 Block of 20TH AV   \n",
       "4    Friday   NORTHERN            NONE           POLK ST / BROADWAY ST   \n",
       "\n",
       "            X          Y  \n",
       "0 -122.376945  37.733018  \n",
       "1 -122.432952  37.805052  \n",
       "2 -122.403405  37.775421  \n",
       "3 -122.475647  37.728528  \n",
       "4 -122.421772  37.795946  "
      ]
     },
     "execution_count": 4,
     "metadata": {},
     "output_type": "execute_result"
    }
   ],
   "source": [
    "df.head()"
   ]
  },
  {
   "cell_type": "markdown",
   "metadata": {},
   "source": [
    "#### 3. Print the unique categories and how many there are"
   ]
  },
  {
   "cell_type": "code",
   "execution_count": 7,
   "metadata": {
    "collapsed": false
   },
   "outputs": [
    {
     "data": {
      "text/plain": [
       "array(['Dates', 'Category', 'Descript', 'DayOfWeek', 'PdDistrict',\n",
       "       'Resolution', 'Address', 'X', 'Y'], dtype=object)"
      ]
     },
     "execution_count": 7,
     "metadata": {},
     "output_type": "execute_result"
    }
   ],
   "source": [
    "df.columns.values"
   ]
  },
  {
   "cell_type": "markdown",
   "metadata": {},
   "source": [
    "#### 4. Print the unique districts and how many there are"
   ]
  },
  {
   "cell_type": "code",
   "execution_count": 22,
   "metadata": {
    "collapsed": false
   },
   "outputs": [
    {
     "data": {
      "text/plain": [
       "{'BAYVIEW',\n",
       " 'CENTRAL',\n",
       " 'INGLESIDE',\n",
       " 'MISSION',\n",
       " 'NORTHERN',\n",
       " 'PARK',\n",
       " 'RICHMOND',\n",
       " 'SOUTHERN',\n",
       " 'TARAVAL',\n",
       " 'TENDERLOIN'}"
      ]
     },
     "execution_count": 22,
     "metadata": {},
     "output_type": "execute_result"
    }
   ],
   "source": [
    "set(df['PdDistrict'])"
   ]
  },
  {
   "cell_type": "code",
   "execution_count": 23,
   "metadata": {
    "collapsed": false
   },
   "outputs": [
    {
     "data": {
      "text/plain": [
       "10"
      ]
     },
     "execution_count": 23,
     "metadata": {},
     "output_type": "execute_result"
    }
   ],
   "source": [
    "len(set(df['PdDistrict']))"
   ]
  },
  {
   "cell_type": "markdown",
   "metadata": {},
   "source": [
    "#### 5. Make a DataFrame of the crime categories and the number of crimes per category"
   ]
  },
  {
   "cell_type": "code",
   "execution_count": 16,
   "metadata": {
    "collapsed": true
   },
   "outputs": [],
   "source": [
    "df_crime = pd.value_counts(df['Category'])"
   ]
  },
  {
   "cell_type": "code",
   "execution_count": 17,
   "metadata": {
    "collapsed": true
   },
   "outputs": [
    {
     "data": {
      "text/plain": [
       "LARCENY/THEFT                  4934\n",
       "OTHER OFFENSES                 3656\n",
       "NON-CRIMINAL                   2601\n",
       "ASSAULT                        2164\n",
       "DRUG/NARCOTIC                  1533\n",
       "VEHICLE THEFT                  1506\n",
       "VANDALISM                      1280\n",
       "WARRANTS                       1239\n",
       "BURGLARY                       1023\n",
       "SUSPICIOUS OCC                  891\n",
       "MISSING PERSON                  771\n",
       "ROBBERY                         630\n",
       "FRAUD                           537\n",
       "SECONDARY CODES                 283\n",
       "FORGERY/COUNTERFEITING          281\n",
       "WEAPON LAWS                     255\n",
       "PROSTITUTION                    223\n",
       "TRESPASS                        209\n",
       "STOLEN PROPERTY                 137\n",
       "SEX OFFENSES FORCIBLE           120\n",
       "DRUNKENNESS                     105\n",
       "DISORDERLY CONDUCT              105\n",
       "RECOVERED VEHICLE                80\n",
       "DRIVING UNDER THE INFLUENCE      75\n",
       "KIDNAPPING                       71\n",
       "RUNAWAY                          58\n",
       "ARSON                            52\n",
       "LIQUOR LAWS                      51\n",
       "LOITERING                        37\n",
       "EMBEZZLEMENT                     28\n",
       "BAD CHECKS                       14\n",
       "FAMILY OFFENSES                  14\n",
       "SUICIDE                          12\n",
       "EXTORTION                         9\n",
       "BRIBERY                           8\n",
       "GAMBLING                          5\n",
       "SEX OFFENSES NON FORCIBLE         2\n",
       "TREA                              1\n",
       "Name: Category, dtype: int64"
      ]
     },
     "execution_count": 17,
     "metadata": {},
     "output_type": "execute_result"
    }
   ],
   "source": [
    "df_crime"
   ]
  },
  {
   "cell_type": "markdown",
   "metadata": {},
   "source": [
    "#### 6. Make a DataFrame of the districts and crime counts per district"
   ]
  },
  {
   "cell_type": "code",
   "execution_count": 25,
   "metadata": {
    "collapsed": false
   },
   "outputs": [
    {
     "data": {
      "text/plain": [
       "SOUTHERN      4413\n",
       "MISSION       3416\n",
       "NORTHERN      3076\n",
       "BAYVIEW       2555\n",
       "CENTRAL       2424\n",
       "TENDERLOIN    2336\n",
       "INGLESIDE     2256\n",
       "TARAVAL       1804\n",
       "PARK          1438\n",
       "RICHMOND      1282\n",
       "Name: PdDistrict, dtype: int64"
      ]
     },
     "execution_count": 25,
     "metadata": {},
     "output_type": "execute_result"
    }
   ],
   "source": [
    "pd.value_counts(df['PdDistrict'])"
   ]
  },
  {
   "cell_type": "markdown",
   "metadata": {},
   "source": [
    "#### 7. Make a DataFrame of the day of week and crime counts per day"
   ]
  },
  {
   "cell_type": "code",
   "execution_count": 24,
   "metadata": {
    "collapsed": false
   },
   "outputs": [
    {
     "data": {
      "text/plain": [
       "Friday       3883\n",
       "Wednesday    3657\n",
       "Thursday     3579\n",
       "Tuesday      3548\n",
       "Monday       3524\n",
       "Saturday     3496\n",
       "Sunday       3313\n",
       "Name: DayOfWeek, dtype: int64"
      ]
     },
     "execution_count": 24,
     "metadata": {},
     "output_type": "execute_result"
    }
   ],
   "source": [
    "pd.value_counts(df['DayOfWeek'])"
   ]
  },
  {
   "cell_type": "markdown",
   "metadata": {},
   "source": [
    "#### 8. Describe one of the dataframes"
   ]
  },
  {
   "cell_type": "code",
   "execution_count": 29,
   "metadata": {
    "collapsed": false
   },
   "outputs": [
    {
     "data": {
      "text/html": [
       "<div>\n",
       "<table border=\"1\" class=\"dataframe\">\n",
       "  <thead>\n",
       "    <tr style=\"text-align: right;\">\n",
       "      <th></th>\n",
       "      <th>X</th>\n",
       "      <th>Y</th>\n",
       "    </tr>\n",
       "  </thead>\n",
       "  <tbody>\n",
       "    <tr>\n",
       "      <th>count</th>\n",
       "      <td>25000.000000</td>\n",
       "      <td>25000.000000</td>\n",
       "    </tr>\n",
       "    <tr>\n",
       "      <th>mean</th>\n",
       "      <td>-122.422454</td>\n",
       "      <td>37.773486</td>\n",
       "    </tr>\n",
       "    <tr>\n",
       "      <th>std</th>\n",
       "      <td>0.032753</td>\n",
       "      <td>0.572667</td>\n",
       "    </tr>\n",
       "    <tr>\n",
       "      <th>min</th>\n",
       "      <td>-122.513642</td>\n",
       "      <td>37.708003</td>\n",
       "    </tr>\n",
       "    <tr>\n",
       "      <th>25%</th>\n",
       "      <td>-122.432797</td>\n",
       "      <td>37.752874</td>\n",
       "    </tr>\n",
       "    <tr>\n",
       "      <th>50%</th>\n",
       "      <td>-122.416469</td>\n",
       "      <td>37.775421</td>\n",
       "    </tr>\n",
       "    <tr>\n",
       "      <th>75%</th>\n",
       "      <td>-122.406953</td>\n",
       "      <td>37.784401</td>\n",
       "    </tr>\n",
       "    <tr>\n",
       "      <th>max</th>\n",
       "      <td>-120.500000</td>\n",
       "      <td>90.000000</td>\n",
       "    </tr>\n",
       "  </tbody>\n",
       "</table>\n",
       "</div>"
      ],
      "text/plain": [
       "                  X             Y\n",
       "count  25000.000000  25000.000000\n",
       "mean    -122.422454     37.773486\n",
       "std        0.032753      0.572667\n",
       "min     -122.513642     37.708003\n",
       "25%     -122.432797     37.752874\n",
       "50%     -122.416469     37.775421\n",
       "75%     -122.406953     37.784401\n",
       "max     -120.500000     90.000000"
      ]
     },
     "execution_count": 29,
     "metadata": {},
     "output_type": "execute_result"
    }
   ],
   "source": [
    "df.describe()"
   ]
  },
  {
   "cell_type": "code",
   "execution_count": null,
   "metadata": {
    "collapsed": true
   },
   "outputs": [],
   "source": []
  }
 ],
 "metadata": {
  "anaconda-cloud": {},
  "kernelspec": {
   "display_name": "Python 2",
   "language": "python",
   "name": "python2"
  },
  "language_info": {
   "codemirror_mode": {
    "name": "ipython",
    "version": 2
   },
   "file_extension": ".py",
   "mimetype": "text/x-python",
   "name": "python",
   "nbconvert_exporter": "python",
   "pygments_lexer": "ipython2",
   "version": "2.7.12"
  }
 },
 "nbformat": 4,
 "nbformat_minor": 1
}
