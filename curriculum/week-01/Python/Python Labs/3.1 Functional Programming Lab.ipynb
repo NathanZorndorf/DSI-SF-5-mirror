{
 "cells": [
  {
   "cell_type": "markdown",
   "metadata": {},
   "source": [
    "### Functional Programming in Python\n",
    "In class, we briefly explored the Functional Programming in Python through lambda functions, map, filter, iterators, generators, and deocrators. This note will review those ideas. "
   ]
  },
  {
   "cell_type": "markdown",
   "metadata": {},
   "source": [
    "#### Lambda Functions \n",
    "The `lambda` keyword creates anonymous functions within Python. Programmers usually use `lambda` out of convenience because they don't require explicitly defining a new function. This is especially useful when the function you are writing won't be used again outside a particular context. `lambda`s usually serve as an input function to higher order functions (that require functional input), i.e. `map`, `filter`, `pandas.apply`, and others alike."
   ]
  },
  {
   "cell_type": "code",
   "execution_count": 5,
   "metadata": {
    "collapsed": false
   },
   "outputs": [
    {
     "data": {
      "text/plain": [
       "'Specific Assembly'"
      ]
     },
     "execution_count": 5,
     "metadata": {},
     "output_type": "execute_result"
    }
   ],
   "source": [
    "# Before compiling the following code snippets, write down what\n",
    "# each individual lambda function will return in an inline comment. \n",
    "# If you think it returns an error, why would it be the case. \n",
    " \n",
    "    \n",
    "(lambda val: val** 2)(2)\n",
    "# 4\n",
    "(lambda x, y: x + y)(2, 3)\n",
    "# 5\n",
    "#(lambda x, y: x + y)((2, 3))\n",
    "# error\n",
    "ga = (lambda s: s if 'General' in s else 'Specific ' + s)\n",
    "ga('General Assembly') # General Assembly\n",
    "ga('Assembly') # Specific ASsembly "
   ]
  },
  {
   "cell_type": "markdown",
   "metadata": {},
   "source": [
    "### Comprehensions \n",
    "\n",
    "In Python, you can build sequences using list comprehensions or generator expressions. Such expressions make your code more readable and often faster to execute. \n",
    "\n",
    "**Exercise**: Transform the following piece of code into a list comprehension.\n",
    "\n",
    "    letters = string.ascii_uppercase\n",
    "    letters_idx = []\n",
    "    for letter in letters:\n",
    "        letters_idx.append(letters.index(letter))\n",
    "    print letters_idx\n",
    "    \n",
    "\n",
    "**Exercise**: Create a Cartesian product of t-shirt colors/sizes using a list comprehension. \n",
    "    \n",
    "    Inputs: \n",
    "    colors = ['black', 'white']\n",
    "    sizes = ['S', 'M', 'L']\n",
    "    \n",
    "    Output: \n",
    "    [('black', 'S'), ('black', 'M'), ('black', 'L'), \n",
    "     ('white', 'S'), ('white', 'M'), ('white', 'L')]\n",
    "     \n",
    "     \n",
    "**Exercise:** In the output above, change the 'S' size to 'Small' and 'M' and 'L' to be 'Large'. \n",
    "\n",
    "**Exercise:** What are the other types of comprehensions and how are they different from list comprehensions?\n",
    "\n",
    "While `for loop` can be general and do things beyond just outputting a list, list comprehensions are designed to build a new list. Don’t use that syntax if you are not doing something with the produced list. Additionally, if the list comprehension spans more than two lines, it is probably best to break it apart or rewrite as a plain old `for loop`."
   ]
  },
  {
   "cell_type": "code",
   "execution_count": null,
   "metadata": {
    "collapsed": true
   },
   "outputs": [],
   "source": []
  },
  {
   "cell_type": "code",
   "execution_count": 2,
   "metadata": {
    "collapsed": false
   },
   "outputs": [],
   "source": [
    "import string\n",
    "letters = string.ascii_uppercase"
   ]
  },
  {
   "cell_type": "code",
   "execution_count": 3,
   "metadata": {
    "collapsed": true
   },
   "outputs": [
    {
     "data": {
      "text/plain": [
       "[0,\n",
       " 1,\n",
       " 2,\n",
       " 3,\n",
       " 4,\n",
       " 5,\n",
       " 6,\n",
       " 7,\n",
       " 8,\n",
       " 9,\n",
       " 10,\n",
       " 11,\n",
       " 12,\n",
       " 13,\n",
       " 14,\n",
       " 15,\n",
       " 16,\n",
       " 17,\n",
       " 18,\n",
       " 19,\n",
       " 20,\n",
       " 21,\n",
       " 22,\n",
       " 23,\n",
       " 24,\n",
       " 25]"
      ]
     },
     "execution_count": 3,
     "metadata": {},
     "output_type": "execute_result"
    }
   ],
   "source": [
    "[letters.index(letter) for letter in letters]"
   ]
  },
  {
   "cell_type": "code",
   "execution_count": 7,
   "metadata": {
    "collapsed": true
   },
   "outputs": [
    {
     "data": {
      "text/plain": [
       "[0,\n",
       " 1,\n",
       " 2,\n",
       " 3,\n",
       " 4,\n",
       " 5,\n",
       " 6,\n",
       " 7,\n",
       " 8,\n",
       " 9,\n",
       " 10,\n",
       " 11,\n",
       " 12,\n",
       " 13,\n",
       " 14,\n",
       " 15,\n",
       " 16,\n",
       " 17,\n",
       " 18,\n",
       " 19,\n",
       " 20,\n",
       " 21,\n",
       " 22,\n",
       " 23,\n",
       " 24,\n",
       " 25]"
      ]
     },
     "execution_count": 7,
     "metadata": {},
     "output_type": "execute_result"
    }
   ],
   "source": [
    "[i for i,val in enumerate(letters)]"
   ]
  },
  {
   "cell_type": "code",
   "execution_count": 11,
   "metadata": {
    "collapsed": true
   },
   "outputs": [
    {
     "data": {
      "text/plain": [
       "[(0, 'A'),\n",
       " (1, 'B'),\n",
       " (2, 'C'),\n",
       " (3, 'D'),\n",
       " (4, 'E'),\n",
       " (5, 'F'),\n",
       " (6, 'G'),\n",
       " (7, 'H'),\n",
       " (8, 'I'),\n",
       " (9, 'J'),\n",
       " (10, 'K'),\n",
       " (11, 'L'),\n",
       " (12, 'M'),\n",
       " (13, 'N'),\n",
       " (14, 'O'),\n",
       " (15, 'P'),\n",
       " (16, 'Q'),\n",
       " (17, 'R'),\n",
       " (18, 'S'),\n",
       " (19, 'T'),\n",
       " (20, 'U'),\n",
       " (21, 'V'),\n",
       " (22, 'W'),\n",
       " (23, 'X'),\n",
       " (24, 'Y'),\n",
       " (25, 'Z')]"
      ]
     },
     "execution_count": 11,
     "metadata": {},
     "output_type": "execute_result"
    }
   ],
   "source": [
    "list(enumerate(letters))"
   ]
  },
  {
   "cell_type": "code",
   "execution_count": 12,
   "metadata": {
    "collapsed": true
   },
   "outputs": [
    {
     "data": {
      "text/plain": [
       "{0: 'A',\n",
       " 1: 'B',\n",
       " 2: 'C',\n",
       " 3: 'D',\n",
       " 4: 'E',\n",
       " 5: 'F',\n",
       " 6: 'G',\n",
       " 7: 'H',\n",
       " 8: 'I',\n",
       " 9: 'J',\n",
       " 10: 'K',\n",
       " 11: 'L',\n",
       " 12: 'M',\n",
       " 13: 'N',\n",
       " 14: 'O',\n",
       " 15: 'P',\n",
       " 16: 'Q',\n",
       " 17: 'R',\n",
       " 18: 'S',\n",
       " 19: 'T',\n",
       " 20: 'U',\n",
       " 21: 'V',\n",
       " 22: 'W',\n",
       " 23: 'X',\n",
       " 24: 'Y',\n",
       " 25: 'Z'}"
      ]
     },
     "execution_count": 12,
     "metadata": {},
     "output_type": "execute_result"
    }
   ],
   "source": [
    "dict(list(enumerate(letters)))"
   ]
  },
  {
   "cell_type": "code",
   "execution_count": 14,
   "metadata": {
    "collapsed": false
   },
   "outputs": [
    {
     "data": {
      "text/plain": [
       "{'A': 0,\n",
       " 'B': 1,\n",
       " 'C': 2,\n",
       " 'D': 3,\n",
       " 'E': 4,\n",
       " 'F': 5,\n",
       " 'G': 6,\n",
       " 'H': 7,\n",
       " 'I': 8,\n",
       " 'J': 9,\n",
       " 'K': 10,\n",
       " 'L': 11,\n",
       " 'M': 12,\n",
       " 'N': 13,\n",
       " 'O': 14,\n",
       " 'P': 15,\n",
       " 'Q': 16,\n",
       " 'R': 17,\n",
       " 'S': 18,\n",
       " 'T': 19,\n",
       " 'U': 20,\n",
       " 'V': 21,\n",
       " 'W': 22,\n",
       " 'X': 23,\n",
       " 'Y': 24,\n",
       " 'Z': 25}"
      ]
     },
     "execution_count": 14,
     "metadata": {},
     "output_type": "execute_result"
    }
   ],
   "source": [
    "dict([(val,i) for i,val in enumerate(letters)])"
   ]
  },
  {
   "cell_type": "code",
   "execution_count": 16,
   "metadata": {
    "collapsed": false
   },
   "outputs": [],
   "source": [
    "colors = ['black', 'white']\n",
    "sizes = ['S', 'M', 'L']\n",
    "result = [(color,size) for color in colors for size in sizes]"
   ]
  },
  {
   "cell_type": "code",
   "execution_count": 19,
   "metadata": {
    "collapsed": false
   },
   "outputs": [
    {
     "data": {
      "text/plain": [
       "[('black', 'Small'),\n",
       " ('black', 'Medium'),\n",
       " ('black', 'Large'),\n",
       " ('white', 'Small'),\n",
       " ('white', 'Medium'),\n",
       " ('white', 'Large')]"
      ]
     },
     "execution_count": 19,
     "metadata": {},
     "output_type": "execute_result"
    }
   ],
   "source": [
    "def size_map(tup):\n",
    "    color = tup[0]\n",
    "    size = tup[1]\n",
    "    if  size == 'S':\n",
    "        size = 'Small'\n",
    "    elif size == 'M':\n",
    "        size = 'Medium'\n",
    "    else:\n",
    "        size =  'Large'\n",
    "    return (color, size)\n",
    "    \n",
    "map(size_map,result)"
   ]
  },
  {
   "cell_type": "code",
   "execution_count": null,
   "metadata": {
    "collapsed": true
   },
   "outputs": [],
   "source": []
  },
  {
   "cell_type": "markdown",
   "metadata": {},
   "source": [
    "### Higher Order functions\n",
    "Higher order functions take in function as an argument OR returns a function as result is a higher order\n",
    "function. Some of the examples we have discussed so far are `map`, `sorted`, `filter`. \n",
    "\n",
    "`map(func, iterable)` applies the function over elements of an iterable. If you have multiple iterables, then `map(func, zip(iterA, iterB, iterC))` where your function takes in as many arguments \n",
    "\n",
    "From module: `functools`, recall the function `reduce`. `functools.reduce(function, iterable[, initializer])`. \n",
    "\n",
    "**Exercise**: Read through the Blog Post on MapReduce (http://michaelnielsen.org/blog/write-your-first-mapreduce-program-in-20-minutes/) [no need to implement] and explain how it's related to the `map` and `reduce` functions we have covered. \n",
    "\n",
    "`filter(pred, iterable)` applies a function that returns a bool value to each item in the iterable and returns only the items for which this is true. \n",
    "\n",
    "\n",
    "\n",
    "`sorted(iterable, key=func)` takes in an optional key argument that allows you to provide a function to be applied to each item for sorting. \n",
    "\n",
    "Beyond `sorted`, `max(seq)`, `min(seq)`, and `seq.sort()` also use keys to determine the values used for ordering elements in a sequence.\n",
    "\n",
    "\n",
    "**Exercise**: What do the following uses of `sorted` return?\n",
    "    \n",
    "    # first example \n",
    "    fruits = ['strawberry','fig','apple','cherry','raspberry','banana']\n",
    "    sorted(fruits, key=len)\n",
    "    \n",
    "    # second example\n",
    "    sorted(fruits, key=lambda word: word[::-1])\n",
    "    \n",
    "   \n",
    "    \n",
    "**Exercise**: Write a function to return the two words with the highest alphanumeric score of uppercase letters:\n",
    "\n",
    "    def alpha_score(upper_letters):\n",
    "         \"\"\"\n",
    "         Computers the alphanumeric sum of letters in a\n",
    "         string. Prerequisite: upper_letters is composed\n",
    "         entirely of capital letters.\n",
    "         \n",
    "         \"\"\"\n",
    "        return sum(map(lambda l: 1 + ord(l) - ord('A'), upper_letters))\n",
    "\n",
    "    \n",
    "    alpha_score('ABC')  # => 6 = 1 ('A') + 2 ('B') + 3 ('C')\n",
    "\n",
    "    \n",
    "    def two_best(words):\n",
    "        pass  # Your implementation here\n",
    "\n",
    "    two_best(['hEllO', 'wOrLD', 'i', 'aM', 'PyThOn'])\n",
    "  "
   ]
  },
  {
   "cell_type": "code",
   "execution_count": 59,
   "metadata": {
    "collapsed": false
   },
   "outputs": [
    {
     "data": {
      "text/plain": [
       "['banana', 'apple', 'fig', 'raspberry', 'strawberry', 'cherry']"
      ]
     },
     "execution_count": 59,
     "metadata": {},
     "output_type": "execute_result"
    }
   ],
   "source": [
    "fruits = ['strawberry','fig','apple','cherry','raspberry','banana']\n",
    "sorted(fruits, key=lambda word: word[::-1])"
   ]
  },
  {
   "cell_type": "markdown",
   "metadata": {},
   "source": [
    "## V1"
   ]
  },
  {
   "cell_type": "code",
   "execution_count": 55,
   "metadata": {
    "collapsed": false
   },
   "outputs": [],
   "source": [
    "def alpha_score(upper_letters):\n",
    "    return sum(map(lambda l: 1 + ord(l) - ord('A'), upper_letters))\n",
    "\n",
    "\n",
    "#alpha_score('ABC')  # => 6 = 1 ('A') + 2 ('B') + 3 ('C')\n",
    "\n",
    "\n",
    "def two_best(words):\n",
    "    #words = map(string.upper,words) # convert to upper case\n",
    "    words = [''.join([x for x in upper_letters if x.isupper()==True])]\n",
    "    scores = map(alpha_score, words)\n",
    "    return sorted(words, key=alpha_score, reverse=True)[0:2]\n"
   ]
  },
  {
   "cell_type": "markdown",
   "metadata": {},
   "source": [
    "## V2"
   ]
  },
  {
   "cell_type": "code",
   "execution_count": 18,
   "metadata": {
    "collapsed": true
   },
   "outputs": [],
   "source": [
    "word_list = ['hEllO', 'wOrLD', 'i', 'aM', 'PyThOn']"
   ]
  },
  {
   "cell_type": "code",
   "execution_count": 40,
   "metadata": {
    "collapsed": true
   },
   "outputs": [],
   "source": [
    "def two_best(word_list):\n",
    "    words = [filter(lambda char: char.isupper(), word) for word in word_list] # make a list of filtered strings that contain only uppercase characters\n",
    "    sort = sorted(word_list, key=lambda word: alpha_score(word), reverse=True)\n",
    "    return sort[:2]"
   ]
  },
  {
   "cell_type": "code",
   "execution_count": 41,
   "metadata": {
    "collapsed": false
   },
   "outputs": [
    {
     "data": {
      "text/plain": [
       "['PyThOn', 'hEllO']"
      ]
     },
     "execution_count": 41,
     "metadata": {},
     "output_type": "execute_result"
    }
   ],
   "source": [
    "two_best(word_list)"
   ]
  },
  {
   "cell_type": "markdown",
   "metadata": {},
   "source": [
    "### Iterables vs. Generators \n",
    "\n",
    "Iterator object represents a stream of data returned one value at a time. Meanwhile, generators lazily compute the values on the fly without holding the contents of the list in place in memory. \n",
    "\n",
    "\n",
    "[Expert] **Exercise**: For each of the following scenarios, discuss whether it would be more appropriate to use a generator expression or a list comprehension:\n",
    "- Searching for a given entity in the entries of a 1TB database.\n",
    "    - Generator, because you don't want to keep the contents of the 1 TB database in memory. \n",
    "- Calculate cheap airfare using origin-to-destination flight information.\n",
    "    - List comprehension, because you need to calculate all the options before you can compare them to each other.\n",
    "- Finding the first palindromic Fibonacci number greater than 1,000,000.\n",
    "    - Generator, because you only want to calculate each iteration until you reach one that satisfies the condition. So you want to calculate as few iterations as possible (in other words you want to be \"lazy\")\n",
    "- Determine all multi-word anagrams of user-supplied 1000-character-or-more strings (very expensive to do).\n",
    "    - Not sure. Generator?? \n",
    "- Return a list of all startups within 50 miles of San Francisco. \n",
    "    - Iterator, because we need a list of ALL the startups, so no point in getting them one at a time with a generator. \n",
    "\n"
   ]
  },
  {
   "cell_type": "markdown",
   "metadata": {},
   "source": []
  },
  {
   "cell_type": "markdown",
   "metadata": {},
   "source": [
    "[Challenge] **Exercise**: In class, we dicussed how to generate primes using the following function. \n",
    "\n",
    "    def primes_under(n):\n",
    "    tests = []\n",
    "    for i in range(2, n):\n",
    "        if not any(map(lambda test: test(i), tests)):\n",
    "            tests.append(make_divisibility_test(i))\n",
    "            yield i\n",
    "\n",
    "Change this function to generate composites. What is the 1000th composite number?"
   ]
  },
  {
   "cell_type": "code",
   "execution_count": 46,
   "metadata": {
    "collapsed": false
   },
   "outputs": [
    {
     "data": {
      "text/plain": [
       "True"
      ]
     },
     "execution_count": 46,
     "metadata": {},
     "output_type": "execute_result"
    }
   ],
   "source": [
    "def make_divisibility_test(n):\n",
    "    def divisible_by_n(m):\n",
    "        return m % n == 0\n",
    "    return divisible_by_n\n",
    "\n",
    "div_by_3 = make_divisibility_test(3)\n",
    "filter(div_by_3, range(10)) # generates 0, 3, 6, 9\n",
    "make_divisibility_test(5)(10) # => True"
   ]
  },
  {
   "cell_type": "code",
   "execution_count": 47,
   "metadata": {
    "collapsed": true
   },
   "outputs": [],
   "source": [
    "def composites_under(num):\n",
    "    tests = []\n",
    "    for i in range(2, num):\n",
    "        if any(map(lambda test: test(i), tests)):\n",
    "            tests.append(make_divisibility_test(i))\n",
    "            yield i"
   ]
  },
  {
   "cell_type": "code",
   "execution_count": null,
   "metadata": {
    "collapsed": true
   },
   "outputs": [],
   "source": []
  },
  {
   "cell_type": "markdown",
   "metadata": {},
   "source": [
    "### Decorators \n",
    "\n",
    "Functional decorators are essentially syntactic sugar that help you anotate and simplify your code. While decorators may seem abstract right now, they pop up all over the place when reading large codebases. Thus, it's important to have an understanding of what they do and why they could be useful. \n",
    "\n",
    "As mentioned in class, decorators take another function as an argument. They may perform some processing with the decorated function and return it or replace it with another function. More concretely, the following two snippets of code return the same output: \n",
    "\n",
    "    @decorate\n",
    "    def target():\n",
    "        print 'running target()'\n",
    "     \n",
    "    def target():\n",
    "        print running target()\n",
    "    \n",
    "    target = decorate(target)\n",
    "\n",
    "\n",
    "Deocrators help reduce the repetition in your code. While repetition may seem harmless, it can introduce subtle bugs into your system. Take the use case of an e-commerce app that keeps track of the promos/coupons being offered on the site. As the company introduces new types of promotional deals, it will probably write new functions to calculate the discount % for that customer associated with the promo. However, we also want to maintain a master list of all of the promos to keep track of the `best_promo`."
   ]
  },
  {
   "cell_type": "code",
   "execution_count": 34,
   "metadata": {
    "collapsed": false
   },
   "outputs": [],
   "source": [
    "# in the snippet below \n",
    "promos = []\n",
    "def promotion(promo_func):\n",
    "    promos.append(promo_func)\n",
    "    return promo_func\n",
    "\n",
    "@promotion\n",
    "def fidelity(order):\n",
    "    \"\"\"5% discount for customers with 1000 or more fidelity points\"\"\"\n",
    "    return order.total() * .05 if order.customer.fidelity >= 1000 else 0\n",
    "\n",
    "@promotion\n",
    "def bulk_item(order):\n",
    "    \"\"\"10% discount for each LineItem with 20 or more units\"\"\"\n",
    "    discount = 0\n",
    "    for item in order.cart:\n",
    "        if item.quantity >= 20:\n",
    "            discount += item.total() * .1\n",
    "    return discount\n",
    "\n",
    "\n",
    "@promotion\n",
    "def large_order(order):\n",
    "    \"\"\" 7% discount for orders with 10 or more distinct items\"\"\"\n",
    "    distinct_items = {item.product for item in order.cart}\n",
    "    if len(distinct_items) >= 10:\n",
    "        return order.total() * .07\n",
    "    return 0\n",
    "\n",
    "def best_promo(order):\n",
    "    \"\"\"\n",
    "    Select best discount available\n",
    "\n",
    "    \"\"\"\n",
    "    return max(promo(order) for promo in promos)"
   ]
  },
  {
   "cell_type": "markdown",
   "metadata": {},
   "source": [
    "In the code above, `promos` list starts out empty. `promotion` decorator returns `promo_func` unchanged but appends it to the `promos` list. Any function decorated by @promotion will be added to promos. This thus becomes an easy way to add items to the master promos list as new promotions are going live. "
   ]
  },
  {
   "cell_type": "markdown",
   "metadata": {},
   "source": [
    "**Exercise**: Familiarize yourself with the ipyparallel (http://people.duke.edu/~ccc14/sta-663-2016/19C_IPyParallel.html). Elaborate on why @remote and @parallel are useful decorators and specifically why could they come in handy when you are implementing ML algorithms that are easily parallelizable. "
   ]
  },
  {
   "cell_type": "markdown",
   "metadata": {},
   "source": [
    "[Expert] **Exercise**: Explore how decorators are used in Flask through these bloog posts (http://flask.pocoo.org/docs/0.11/quickstart/; http://flask.pocoo.org/docs/0.11/patterns/viewdecorators/). Describe your findings."
   ]
  },
  {
   "cell_type": "markdown",
   "metadata": {},
   "source": [
    "[Challenge] **Exercise**: Automatic Caching\n",
    "\n",
    "Write the `cache`  decorator that automatically caches any calls to the decorated function. You can assume that all arguments passed to the decorated function will always be hashable types. Can you think of reasons why such a decorator would be useful?\n",
    "\n",
    "Note: This is functionality is implemented as a decorator with functools.lru_cache"
   ]
  },
  {
   "cell_type": "code",
   "execution_count": 42,
   "metadata": {
    "collapsed": false
   },
   "outputs": [
    {
     "ename": "TypeError",
     "evalue": "'NoneType' object is not callable",
     "output_type": "error",
     "traceback": [
      "\u001b[0;31m---------------------------------------------------------------------------\u001b[0m",
      "\u001b[0;31mTypeError\u001b[0m                                 Traceback (most recent call last)",
      "\u001b[0;32m<ipython-input-42-e7b62230122b>\u001b[0m in \u001b[0;36m<module>\u001b[0;34m()\u001b[0m\n\u001b[1;32m      6\u001b[0m     \u001b[0;32mreturn\u001b[0m \u001b[0mfib\u001b[0m\u001b[0;34m(\u001b[0m\u001b[0mn\u001b[0m\u001b[0;34m-\u001b[0m\u001b[0;36m1\u001b[0m\u001b[0;34m)\u001b[0m \u001b[0;34m+\u001b[0m \u001b[0mfib\u001b[0m\u001b[0;34m(\u001b[0m\u001b[0mn\u001b[0m\u001b[0;34m-\u001b[0m\u001b[0;36m2\u001b[0m\u001b[0;34m)\u001b[0m \u001b[0;32mif\u001b[0m \u001b[0mn\u001b[0m \u001b[0;34m>\u001b[0m \u001b[0;36m2\u001b[0m \u001b[0;32melse\u001b[0m \u001b[0;36m1\u001b[0m\u001b[0;34m\u001b[0m\u001b[0m\n\u001b[1;32m      7\u001b[0m \u001b[0;34m\u001b[0m\u001b[0m\n\u001b[0;32m----> 8\u001b[0;31m \u001b[0mfib\u001b[0m\u001b[0;34m(\u001b[0m\u001b[0;36m10\u001b[0m\u001b[0;34m)\u001b[0m  \u001b[0;31m# 55 (takes a moment to execute)\u001b[0m\u001b[0;34m\u001b[0m\u001b[0m\n\u001b[0m\u001b[1;32m      9\u001b[0m \u001b[0mfib\u001b[0m\u001b[0;34m(\u001b[0m\u001b[0;36m10\u001b[0m\u001b[0;34m)\u001b[0m  \u001b[0;31m# 55 (returns immediately)\u001b[0m\u001b[0;34m\u001b[0m\u001b[0m\n\u001b[1;32m     10\u001b[0m \u001b[0mfib\u001b[0m\u001b[0;34m(\u001b[0m\u001b[0;36m100\u001b[0m\u001b[0;34m)\u001b[0m \u001b[0;31m# doesn't take forever\u001b[0m\u001b[0;34m\u001b[0m\u001b[0m\n",
      "\u001b[0;31mTypeError\u001b[0m: 'NoneType' object is not callable"
     ]
    }
   ],
   "source": [
    "def cache(function):\n",
    "    pass  # Your implementation here\n",
    "\n",
    "@cache\n",
    "def fib(n):\n",
    "    return fib(n-1) + fib(n-2) if n > 2 else 1\n",
    "\n",
    "fib(10)  # 55 (takes a moment to execute)\n",
    "fib(10)  # 55 (returns immediately)\n",
    "fib(100) # doesn't take forever\n",
    "fib(400) # doesn't raise RuntimeError"
   ]
  },
  {
   "cell_type": "code",
   "execution_count": 65,
   "metadata": {
    "collapsed": false
   },
   "outputs": [],
   "source": [
    "cache_dict = {}\n",
    "    \n",
    "def cache(function):\n",
    "    \n",
    "    def wrapper(*args):\n",
    "        \n",
    "        n = args[0]\n",
    "        \n",
    "        if n not in cache_dict:\n",
    "            cache_dict[n] = function(n)\n",
    "        return cache_dict[n]\n",
    "    \n",
    "    return wrapper\n",
    "        \n",
    "@cache\n",
    "def fib(n):\n",
    "    return fib(n-1) + fib(n-2) if n > 2 else 1\n",
    "\n",
    "# decorator allows us to replace this...\n",
    "# fib = cache(fib)\n",
    "# this this...\n",
    "# fib\n",
    "cache_dict = fib(10)\n",
    "\n",
    "\n"
   ]
  },
  {
   "cell_type": "code",
   "execution_count": 67,
   "metadata": {
    "collapsed": false
   },
   "outputs": [
    {
     "data": {
      "text/plain": [
       "55"
      ]
     },
     "execution_count": 67,
     "metadata": {},
     "output_type": "execute_result"
    }
   ],
   "source": [
    "cache_dict"
   ]
  },
  {
   "cell_type": "code",
   "execution_count": null,
   "metadata": {
    "collapsed": true
   },
   "outputs": [],
   "source": []
  }
 ],
 "metadata": {
  "anaconda-cloud": {},
  "kernelspec": {
   "display_name": "Python [conda env:dsi]",
   "language": "python",
   "name": "conda-env-dsi-py"
  },
  "language_info": {
   "codemirror_mode": {
    "name": "ipython",
    "version": 2
   },
   "file_extension": ".py",
   "mimetype": "text/x-python",
   "name": "python",
   "nbconvert_exporter": "python",
   "pygments_lexer": "ipython2",
   "version": "2.7.12"
  }
 },
 "nbformat": 4,
 "nbformat_minor": 1
}
