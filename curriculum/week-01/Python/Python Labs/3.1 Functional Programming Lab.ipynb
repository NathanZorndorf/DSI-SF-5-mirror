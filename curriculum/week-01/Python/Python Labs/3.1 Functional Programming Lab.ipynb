{
 "cells": [
  {
   "cell_type": "markdown",
   "metadata": {},
   "source": [
    "### Functional Programming in Python\n",
    "In class, we briefly explored the Functional Programming in Python through lambda functions, map, filter, iterators, generators, and deocrators. This note will review those ideas. "
   ]
  },
  {
   "cell_type": "markdown",
   "metadata": {},
   "source": [
    "#### Lambda Functions \n",
    "The `lambda` keyword creates anonymous functions within Python. Programmers usually use `lambda` out of convenience because they don't require explicitly defining a new function. This is especially useful when the function you are writing won't be used again outside a particular context. `lambda`s usually serve as an input function to higher order functions (that require functional input), i.e. `map`, `filter`, `pandas.apply`, and others alike."
   ]
  },
  {
   "cell_type": "code",
   "execution_count": 5,
   "metadata": {
    "collapsed": false
   },
   "outputs": [
    {
     "data": {
      "text/plain": [
       "'Specific Assembly'"
      ]
     },
     "execution_count": 5,
     "metadata": {},
     "output_type": "execute_result"
    }
   ],
   "source": [
    "# Before compiling the following code snippets, write down what\n",
    "# each individual lambda function will return in an inline comment. \n",
    "# If you think it returns an error, why would it be the case. \n",
    " \n",
    "    \n",
    "(lambda val: val** 2)(2)\n",
    "# 4\n",
    "(lambda x, y: x + y)(2, 3)\n",
    "# 5\n",
    "#(lambda x, y: x + y)((2, 3))\n",
    "# error\n",
    "ga = (lambda s: s if 'General' in s else 'Specific ' + s)\n",
    "ga('General Assembly') # General Assembly\n",
    "ga('Assembly') # Specific ASsembly "
   ]
  },
  {
   "cell_type": "markdown",
   "metadata": {},
   "source": [
    "### Comprehensions \n",
    "\n",
    "In Python, you can build sequences using list comprehensions or generator expressions. Such expressions make your code more readable and often faster to execute. \n",
    "\n",
    "**Exercise**: Transform the following piece of code into a list comprehension.\n",
    "\n",
    "    letters = string.ascii_uppercase\n",
    "    letters_idx = []\n",
    "    for letter in letters:\n",
    "        letters_idx.append(letters.index(letter))\n",
    "    print letters_idx\n",
    "    \n",
    "\n",
    "**Exercise**: Create a Cartesian product of t-shirt colors/sizes using a list comprehension. \n",
    "    \n",
    "    Inputs: \n",
    "    colors = ['black', 'white']\n",
    "    sizes = ['S', 'M', 'L']\n",
    "    \n",
    "    Output: \n",
    "    [('black', 'S'), ('black', 'M'), ('black', 'L'), \n",
    "     ('white', 'S'), ('white', 'M'), ('white', 'L')]\n",
    "     \n",
    "     \n",
    "**Exercise:** In the output above, change the 'S' size to 'Small' and 'M' and 'L' to be 'Large'. \n",
    "\n",
    "**Exercise:** What are the other types of comprehensions and how are they different from list comprehensions?\n",
    "\n",
    "While `for loop` can be general and do things beyond just outputting a list, list comprehensions are designed to build a new list. Don’t use that syntax if you are not doing something with the produced list. Additionally, if the list comprehension spans more than two lines, it is probably best to break it apart or rewrite as a plain old `for loop`."
   ]
  },
  {
   "cell_type": "code",
   "execution_count": 7,
   "metadata": {
    "collapsed": false
   },
   "outputs": [],
   "source": [
    "import string\n",
    "letters = string.ascii_uppercase"
   ]
  },
  {
   "cell_type": "code",
   "execution_count": 12,
   "metadata": {
    "collapsed": true
   },
   "outputs": [
    {
     "data": {
      "text/plain": [
       "[0,\n",
       " 1,\n",
       " 2,\n",
       " 3,\n",
       " 4,\n",
       " 5,\n",
       " 6,\n",
       " 7,\n",
       " 8,\n",
       " 9,\n",
       " 10,\n",
       " 11,\n",
       " 12,\n",
       " 13,\n",
       " 14,\n",
       " 15,\n",
       " 16,\n",
       " 17,\n",
       " 18,\n",
       " 19,\n",
       " 20,\n",
       " 21,\n",
       " 22,\n",
       " 23,\n",
       " 24,\n",
       " 25]"
      ]
     },
     "execution_count": 12,
     "metadata": {},
     "output_type": "execute_result"
    }
   ],
   "source": [
    "[letters.index(letter) for letter in letters]"
   ]
  },
  {
   "cell_type": "code",
   "execution_count": 16,
   "metadata": {
    "collapsed": false
   },
   "outputs": [],
   "source": [
    "colors = ['black', 'white']\n",
    "sizes = ['S', 'M', 'L']\n",
    "result = [(color,size) for color in colors for size in sizes]"
   ]
  },
  {
   "cell_type": "code",
   "execution_count": 19,
   "metadata": {
    "collapsed": false
   },
   "outputs": [
    {
     "data": {
      "text/plain": [
       "[('black', 'Small'),\n",
       " ('black', 'Medium'),\n",
       " ('black', 'Large'),\n",
       " ('white', 'Small'),\n",
       " ('white', 'Medium'),\n",
       " ('white', 'Large')]"
      ]
     },
     "execution_count": 19,
     "metadata": {},
     "output_type": "execute_result"
    }
   ],
   "source": [
    "def size_map(tup):\n",
    "    color = tup[0]\n",
    "    size = tup[1]\n",
    "    if  size == 'S':\n",
    "        size = 'Small'\n",
    "    elif size == 'M':\n",
    "        size = 'Medium'\n",
    "    else:\n",
    "        size =  'Large'\n",
    "    return (color, size)\n",
    "    \n",
    "map(size_map,result)"
   ]
  },
  {
   "cell_type": "code",
   "execution_count": null,
   "metadata": {
    "collapsed": true
   },
   "outputs": [],
   "source": []
  },
  {
   "cell_type": "markdown",
   "metadata": {},
   "source": [
    "### Higher Order functions\n",
    "Higher order functions take in function as an argument OR returns a function as result is a higher order\n",
    "function. Some of the examples we have discussed so far are `map`, `sorted`, `filter`. \n",
    "\n",
    "`map(func, iterable)` applies the function over elements of an iterable. If you have multiple iterables, then `map(func, zip(iterA, iterB, iterC))` where your function takes in as many arguments \n",
    "\n",
    "From module: `functools`, recall the function `reduce`. `functools.reduce(function, iterable[, initializer])`. \n",
    "\n",
    "**Exercise**: Read through the Blog Post on MapReduce (http://michaelnielsen.org/blog/write-your-first-mapreduce-program-in-20-minutes/) [no need to implement] and explain how it's related to the `map` and `reduce` functions we have covered. \n",
    "\n",
    "`filter(pred, iterable)` applies a function that returns a bool value to each item in the iterable and returns only the items for which this is true. \n",
    "\n",
    "\n",
    "\n",
    "`sorted(iterable, key=func)` takes in an optional key argument that allows you to provide a function to be applied to each item for sorting. \n",
    "\n",
    "Beyond `sorted`, `max(seq)`, `min(seq)`, and `seq.sort()` also use keys to determine the values used for ordering elements in a sequence.\n",
    "\n",
    "\n",
    "**Exercise**: What do the following uses of `sorted` return?\n",
    "    \n",
    "    # first example \n",
    "    fruits = ['strawberry','fig','apple','cherry','raspberry','banana']\n",
    "    sorted(fruits, key=len)\n",
    "    \n",
    "    # second example\n",
    "    sorted(fruits, key=lambda word: word[::-1])\n",
    "    \n",
    "   \n",
    "    \n",
    "**Exercise**: Write a function to return the two words with the highest alphanumeric score of uppercase letters:\n",
    "\n",
    "    def alpha_score(upper_letters):\n",
    "         \"\"\"\n",
    "         Computers the alphanumeric sum of letters in a\n",
    "         string. Prerequisite: upper_letters is composed\n",
    "         entirely of capital letters.\n",
    "         \n",
    "         \"\"\"\n",
    "        return sum(map(lambda l: 1 + ord(l) - ord('A'), upper_letters))\n",
    "\n",
    "    \n",
    "    alpha_score('ABC')  # => 6 = 1 ('A') + 2 ('B') + 3 ('C')\n",
    "\n",
    "    \n",
    "    def two_best(words):\n",
    "        pass  # Your implementation here\n",
    "\n",
    "    two_best(['hEllO', 'wOrLD', 'i', 'aM', 'PyThOn'])\n",
    "  "
   ]
  },
  {
   "cell_type": "code",
   "execution_count": 59,
   "metadata": {
    "collapsed": false
   },
   "outputs": [
    {
     "data": {
      "text/plain": [
       "['banana', 'apple', 'fig', 'raspberry', 'strawberry', 'cherry']"
      ]
     },
     "execution_count": 59,
     "metadata": {},
     "output_type": "execute_result"
    }
   ],
   "source": [
    "fruits = ['strawberry','fig','apple','cherry','raspberry','banana']\n",
    "sorted(fruits, key=lambda word: word[::-1])"
   ]
  },
  {
   "cell_type": "code",
   "execution_count": 55,
   "metadata": {
    "collapsed": false
   },
   "outputs": [],
   "source": [
    "def alpha_score(upper_letters):\n",
    "    return sum(map(lambda l: 1 + ord(l) - ord('A'), upper_letters))\n",
    "\n",
    "\n",
    "#alpha_score('ABC')  # => 6 = 1 ('A') + 2 ('B') + 3 ('C')\n",
    "\n",
    "\n",
    "def two_best(words):\n",
    "    words = map(string.upper,words) # convert to upper case\n",
    "    scores = map(alpha_score, words)\n",
    "    return sorted(words, key=alpha_score, reverse=True)[0:2]\n"
   ]
  },
  {
   "cell_type": "code",
   "execution_count": 56,
   "metadata": {
    "collapsed": false
   },
   "outputs": [
    {
     "data": {
      "text/plain": [
       "['PYTHON', 'WORLD']"
      ]
     },
     "execution_count": 56,
     "metadata": {},
     "output_type": "execute_result"
    }
   ],
   "source": [
    "two_best(['hEllO', 'wOrLD', 'i', 'aM', 'PyThOn'])"
   ]
  },
  {
   "cell_type": "markdown",
   "metadata": {},
   "source": [
    "### Iterables vs. Generators \n",
    "\n",
    "Iterator object represents a stream of data returned one value at a time. Meanwhile, generators lazily compute the values on the fly without holding the contents of the list in place in memory. \n",
    "\n",
    "\n",
    "[Expert] **Exercise**: For each of the following scenarios, discuss whether it would be more appropriate to use a generator expression or a list comprehension:\n",
    "- Searching for a given entity in the entries of a 1TB database.\n",
    "    - Generator, because you don't want to keep the contents of the 1 TB database in memory. \n",
    "- Calculate cheap airfare using origin-to-destination flight information.\n",
    "    - List comprehension, because you need to calculate all the options before you can compare them to each other.\n",
    "- Finding the first palindromic Fibonacci number greater than 1,000,000.\n",
    "    - Generator, because you only want to calculate each iteration until you reach one that satisfies the condition. So you want to calculate as few iterations as possible (in other words you want to be \"lazy\")\n",
    "- Determine all multi-word anagrams of user-supplied 1000-character-or-more strings (very expensive to do).\n",
    "    - Not sure. Generator?? \n",
    "- Return a list of all startups within 50 miles of San Francisco. \n",
    "    - Iterator, because we need a list of ALL the startups, so no point in getting them one at a time with a generator. \n",
    "\n"
   ]
  },
  {
   "cell_type": "markdown",
   "metadata": {},
   "source": []
  },
  {
   "cell_type": "markdown",
   "metadata": {},
   "source": [
    "[Challenge] **Exercise**: In class, we dicussed how to generate primes using the following function. \n",
    "\n",
    "    def primes_under(n):\n",
    "    tests = []\n",
    "    for i in range(2, n):\n",
    "        if not any(map(lambda test: test(i), tests)):\n",
    "            tests.append(make_divisibility_test(i))\n",
    "            yield i\n",
    "\n",
    "Change this function to generate composites. What is the 1000th composite number?"
   ]
  },
  {
   "cell_type": "code",
   "execution_count": 4,
   "metadata": {
    "collapsed": false
   },
   "outputs": [
    {
     "data": {
      "text/plain": [
       "True"
      ]
     },
     "execution_count": 4,
     "metadata": {},
     "output_type": "execute_result"
    }
   ],
   "source": [
    "def make_divisibility_test(n):\n",
    "    def divisible_by_n(m):\n",
    "        return m % n == 0\n",
    "    return divisible_by_n\n",
    "\n",
    "div_by_3 = make_divisibility_test(3)\n",
    "filter(div_by_3, range(10)) # generates 0, 3, 6, 9\n",
    "make_divisibility_test(5)(10) # => True"
   ]
  },
  {
   "cell_type": "code",
   "execution_count": 48,
   "metadata": {
    "collapsed": false
   },
   "outputs": [],
   "source": [
    "def composites_under(num):\n",
    "    tests = []\n",
    "    for i in range(2, num):\n",
    "        tests.append(make_divisibility_test(i))\n",
    "        if any(map(lambda test: test(i), tests[:len(tests)-1])):\n",
    "            yield i"
   ]
  },
  {
   "cell_type": "code",
   "execution_count": 49,
   "metadata": {
    "collapsed": true
   },
   "outputs": [],
   "source": [
    "composites_under_10000 = composites_under(10000)"
   ]
  },
  {
   "cell_type": "code",
   "execution_count": 44,
   "metadata": {
    "collapsed": true
   },
   "outputs": [
    {
     "data": {
      "text/plain": [
       "14"
      ]
     },
     "execution_count": 44,
     "metadata": {},
     "output_type": "execute_result"
    }
   ],
   "source": [
    "next(composites_under_10000)"
   ]
  },
  {
   "cell_type": "code",
   "execution_count": 50,
   "metadata": {
    "collapsed": false
   },
   "outputs": [
    {
     "name": "stdout",
     "output_type": "stream",
     "text": [
      "1197\n"
     ]
    }
   ],
   "source": [
    "for i,num in enumerate(range(1000)):\n",
    "    result = next(composites_under_10000)\n",
    "    #print(str(i) + 'th composite: ' + str(next(composites_under)))\n",
    "print result"
   ]
  },
  {
   "cell_type": "markdown",
   "metadata": {},
   "source": [
    "**Answer** = 1197"
   ]
  },
  {
   "cell_type": "markdown",
   "metadata": {},
   "source": [
    "### Decorators \n",
    "\n",
    "Functional decorators are essentially syntactic sugar that help you anotate and simplify your code. While decorators may seem abstract right now, they pop up all over the place when reading large codebases. Thus, it's important to have an understanding of what they do and why they could be useful. \n",
    "\n",
    "As mentioned in class, decorators take another function as an argument. They may perform some processing with the decorated function and return it or replace it with another function. More concretely, the following two snippets of code return the same output: \n",
    "\n",
    "    @decorate\n",
    "    def target():\n",
    "        print 'running target()'\n",
    "     \n",
    "    def target():\n",
    "        print running target()\n",
    "    \n",
    "    target = decorate(target)\n",
    "\n",
    "\n",
    "Deocrators help reduce the repetition in your code. While repetition may seem harmless, it can introduce subtle bugs into your system. Take the use case of an e-commerce app that keeps track of the promos/coupons being offered on the site. As the company introduces new types of promotional deals, it will probably write new functions to calculate the discount % for that customer associated with the promo. However, we also want to maintain a master list of all of the promos to keep track of the `best_promo`."
   ]
  },
  {
   "cell_type": "code",
   "execution_count": 34,
   "metadata": {
    "collapsed": false
   },
   "outputs": [],
   "source": [
    "# in the snippet below \n",
    "promos = []\n",
    "def promotion(promo_func):\n",
    "    promos.append(promo_func)\n",
    "    return promo_func\n",
    "\n",
    "@promotion\n",
    "def fidelity(order):\n",
    "    \"\"\"5% discount for customers with 1000 or more fidelity points\"\"\"\n",
    "    return order.total() * .05 if order.customer.fidelity >= 1000 else 0\n",
    "\n",
    "@promotion\n",
    "def bulk_item(order):\n",
    "    \"\"\"10% discount for each LineItem with 20 or more units\"\"\"\n",
    "    discount = 0\n",
    "    for item in order.cart:\n",
    "        if item.quantity >= 20:\n",
    "            discount += item.total() * .1\n",
    "    return discount\n",
    "\n",
    "\n",
    "@promotion\n",
    "def large_order(order):\n",
    "    \"\"\" 7% discount for orders with 10 or more distinct items\"\"\"\n",
    "    distinct_items = {item.product for item in order.cart}\n",
    "    if len(distinct_items) >= 10:\n",
    "        return order.total() * .07\n",
    "    return 0\n",
    "\n",
    "def best_promo(order):\n",
    "    \"\"\"\n",
    "    Select best discount available\n",
    "\n",
    "    \"\"\"\n",
    "    return max(promo(order) for promo in promos)"
   ]
  },
  {
   "cell_type": "markdown",
   "metadata": {},
   "source": [
    "In the code above, `promos` list starts out empty. `promotion` decorator returns `promo_func` unchanged but appends it to the `promos` list. Any function decorated by @promotion will be added to promos. This thus becomes an easy way to add items to the master promos list as new promotions are going live. "
   ]
  },
  {
   "cell_type": "markdown",
   "metadata": {},
   "source": [
    "**Exercise**: Familiarize yourself with the ipyparallel (http://people.duke.edu/~ccc14/sta-663-2016/19C_IPyParallel.html). Elaborate on why @remote and @parallel are useful decorators and specifically why could they come in handy when you are implementing ML algorithms that are easily parallelizable. "
   ]
  },
  {
   "cell_type": "markdown",
   "metadata": {},
   "source": [
    "[Expert] **Exercise**: Explore how decorators are used in Flask through these bloog posts (http://flask.pocoo.org/docs/0.11/quickstart/; http://flask.pocoo.org/docs/0.11/patterns/viewdecorators/). Describe your findings."
   ]
  },
  {
   "cell_type": "markdown",
   "metadata": {},
   "source": [
    "[Challenge] **Exercise**: Automatic Caching\n",
    "\n",
    "Write the `cache`  decorator that automatically caches any calls to the decorated function. You can assume that all arguments passed to the decorated function will always be hashable types. Can you think of reasons why such a decorator would be useful?\n",
    "\n",
    "Note: This is functionality is implemented as a decorator with functools.lru_cache"
   ]
  },
  {
   "cell_type": "code",
   "execution_count": 53,
   "metadata": {
    "collapsed": false
   },
   "outputs": [],
   "source": [
    "results = []\n",
    "def cache(function):\n",
    "    results.append(function)\n",
    "    return function\n",
    "\n",
    "@cache\n",
    "def add_one(n):\n",
    "    return n + 1\n"
   ]
  },
  {
   "cell_type": "code",
   "execution_count": 57,
   "metadata": {
    "collapsed": false
   },
   "outputs": [
    {
     "data": {
      "text/plain": [
       "11"
      ]
     },
     "execution_count": 57,
     "metadata": {},
     "output_type": "execute_result"
    }
   ],
   "source": [
    "add_one(10)"
   ]
  },
  {
   "cell_type": "code",
   "execution_count": 55,
   "metadata": {
    "collapsed": false
   },
   "outputs": [
    {
     "data": {
      "text/plain": [
       "[<function __main__.add_one>]"
      ]
     },
     "execution_count": 55,
     "metadata": {},
     "output_type": "execute_result"
    }
   ],
   "source": [
    "results"
   ]
  },
  {
   "cell_type": "code",
   "execution_count": 4,
   "metadata": {
    "collapsed": false
   },
   "outputs": [
    {
     "ename": "IndentationError",
     "evalue": "expected an indented block (<ipython-input-4-cb3f3d525b5a>, line 5)",
     "output_type": "error",
     "traceback": [
      "\u001b[0;36m  File \u001b[0;32m\"<ipython-input-4-cb3f3d525b5a>\"\u001b[0;36m, line \u001b[0;32m5\u001b[0m\n\u001b[0;31m    @cache\u001b[0m\n\u001b[0m    ^\u001b[0m\n\u001b[0;31mIndentationError\u001b[0m\u001b[0;31m:\u001b[0m expected an indented block\n"
     ]
    }
   ],
   "source": [
    "def cache(function):\n",
    "    #results.append(function)\n",
    "#     pass  # Your implementation here\n",
    "\n",
    "@cache\n",
    "def fib(n):\n",
    "    return fib(n-1) + fib(n-2) if n > 2 else 1\n",
    "\n",
    "fib(10)  # 55 (takes a moment to execute)\n",
    "fib(10)  # 55 (returns immediately)\n",
    "fib(100) # doesn't take forever\n",
    "fib(400) # doesn't raise RuntimeError"
   ]
  },
  {
   "cell_type": "markdown",
   "metadata": {},
   "source": [
    "Notes from:\n",
    "https://realpython.com/blog/python/primer-on-python-decorators/"
   ]
  },
  {
   "cell_type": "code",
   "execution_count": 2,
   "metadata": {
    "collapsed": true
   },
   "outputs": [],
   "source": [
    "def parent():\n",
    "    print(\"Printing from the parent() function.\")\n",
    "\n",
    "    def first_child():\n",
    "        return \"Printing from the first_child() function.\"\n",
    "\n",
    "    def second_child():\n",
    "        return \"Printing from the second_child() function.\"\n",
    "\n",
    "    print(first_child())\n",
    "    print(second_child())"
   ]
  },
  {
   "cell_type": "code",
   "execution_count": 3,
   "metadata": {
    "collapsed": false
   },
   "outputs": [
    {
     "name": "stdout",
     "output_type": "stream",
     "text": [
      "Printing from the parent() function.\n",
      "Printing from the first_child() function.\n",
      "Printing from the second_child() function.\n"
     ]
    }
   ],
   "source": [
    "parent()"
   ]
  },
  {
   "cell_type": "code",
   "execution_count": 10,
   "metadata": {
    "collapsed": false
   },
   "outputs": [
    {
     "name": "stdout",
     "output_type": "stream",
     "text": [
      "\n",
      "Sum of all the numbers: 49995000\n"
     ]
    },
    {
     "data": {
      "text/plain": [
       "'Time it took to run the function: 0.00416994094849\\n'"
      ]
     },
     "execution_count": 10,
     "metadata": {},
     "output_type": "execute_result"
    }
   ],
   "source": [
    "import time\n",
    "\n",
    "\n",
    "def timing_function(some_function):\n",
    "\n",
    "    \"\"\"\n",
    "    Outputs the time a function takes\n",
    "    to execute.\n",
    "    \"\"\"\n",
    "\n",
    "    def wrapper():\n",
    "        t1 = time.time()\n",
    "        some_function()\n",
    "        t2 = time.time()\n",
    "        return \"Time it took to run the function: \" + str((t2 - t1)) + \"\\n\"\n",
    "    return wrapper\n",
    "\n",
    "@timing_function\n",
    "def num_list():\n",
    "    num_list = []\n",
    "    for num in (range(0, 10000)):\n",
    "        num_list.append(num)\n",
    "    print(\"\\nSum of all the numbers: \" + str((sum(num_list))))\n",
    "    \n",
    "# replace this...\n",
    "# num_list = timing_function(num_list)\n",
    "\n",
    "# with this...\n",
    "num_list() # you're actually calling the wrapper() function, with some_function = num_list()\n",
    "# we say that @timing_function decorates num_list"
   ]
  },
  {
   "cell_type": "code",
   "execution_count": 9,
   "metadata": {
    "collapsed": false
   },
   "outputs": [
    {
     "name": "stdout",
     "output_type": "stream",
     "text": [
      "\n",
      "Sum of all the numbers: 49995000\n"
     ]
    },
    {
     "data": {
      "text/plain": [
       "'Time it took to run the function: 0.006432056427\\n'"
      ]
     },
     "execution_count": 9,
     "metadata": {},
     "output_type": "execute_result"
    }
   ],
   "source": [
    "wrapped_num_list()"
   ]
  },
  {
   "cell_type": "code",
   "execution_count": 11,
   "metadata": {
    "collapsed": false
   },
   "outputs": [
    {
     "name": "stdout",
     "output_type": "stream",
     "text": [
      "222\n",
      "1\n",
      "2\n",
      "3\n",
      "4\n",
      "5\n"
     ]
    }
   ],
   "source": [
    "from time import sleep\n",
    "\n",
    "\n",
    "def sleep_decorator(function):\n",
    "\n",
    "    \"\"\"\n",
    "    Limits how fast the function is\n",
    "    called.\n",
    "    \"\"\"\n",
    "\n",
    "    def wrapper(*args, **kwargs):\n",
    "        sleep(2)\n",
    "        return function(*args, **kwargs)\n",
    "    return wrapper\n",
    "\n",
    "\n",
    "@sleep_decorator\n",
    "def print_number(num):\n",
    "    return num\n",
    "\n",
    "print(print_number(222))\n",
    "\n",
    "for num in range(1, 6):\n",
    "    print(print_number(num))"
   ]
  },
  {
   "cell_type": "code",
   "execution_count": null,
   "metadata": {
    "collapsed": true
   },
   "outputs": [],
   "source": []
  }
 ],
 "metadata": {
  "anaconda-cloud": {},
  "kernelspec": {
   "display_name": "Python [conda env:dsi]",
   "language": "python",
   "name": "conda-env-dsi-py"
  },
  "language_info": {
   "codemirror_mode": {
    "name": "ipython",
    "version": 2
   },
   "file_extension": ".py",
   "mimetype": "text/x-python",
   "name": "python",
   "nbconvert_exporter": "python",
   "pygments_lexer": "ipython2",
   "version": "2.7.12"
  }
 },
 "nbformat": 4,
 "nbformat_minor": 1
}
