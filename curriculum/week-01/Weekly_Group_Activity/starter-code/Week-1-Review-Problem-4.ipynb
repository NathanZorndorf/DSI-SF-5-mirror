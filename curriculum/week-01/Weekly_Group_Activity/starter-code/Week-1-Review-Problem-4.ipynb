{
 "cells": [
  {
   "cell_type": "markdown",
   "metadata": {},
   "source": [
    "### Review Problem 4\n",
    "\n",
    "For this problem you will be writing 4 functions that each accepts a string and operates on it.\n",
    "\n",
    "1. Function 1 : \n",
    "        Define a function that:\n",
    "        - Accept 1 arugment, which is a string.\n",
    "        - Iterates through the string to find duplicate letters. \n",
    "        - Prints each duplicate letter and it's corresponding count.\n",
    "            - For example : Input : spoon\n",
    "                            Output : o : 2 \n",
    "    \n",
    "2. Function 2 :\n",
    "        Define a function that:\n",
    "        - Accepts 1 arugment, which is a string.\n",
    "        - Prints the string.\n",
    "        - Iterates though the string to count number of vowels & consonants.\n",
    "        - Prints the number of consonants & vowels.\n",
    "             - For example : Input : java\n",
    "                             Output : This string has 2 consonants and 2 vowels\n",
    "        \n",
    "3. Function 3:\n",
    "        Define a function that :\n",
    "        - Accepts 1 arugment, which is a string.\n",
    "        - Prints the string.\n",
    "        - Iterates though the string to count number of occurences of each letter and print it.\n",
    "            - For example : Input : dog\n",
    "                            Output : d : 1 \n",
    "                                     o : 1\n",
    "                                     g : 1\n",
    "        \n",
    "4. Function 4 :\n",
    "        Define a function that :\n",
    "        - Accepts 1 arugment, which is a list of strings.\n",
    "        - Checks if each string in the list is a Palindrome.\n",
    "        - Prints True/False for each string respectively.\n",
    "            - For example : Input : ['radar','java','madam']\n",
    "                            Output : [True, False, True]\n",
    "                            \n",
    "Notes/Hints :\n",
    "1. Explore the python collections to see if there are any data structures you could leverage to perform counting.\n",
    "        "
   ]
  },
  {
   "cell_type": "code",
   "execution_count": 32,
   "metadata": {
    "collapsed": true
   },
   "outputs": [],
   "source": [
    "from collections import Counter, defaultdict\n",
    "from string import ascii_lowercase\n"
   ]
  },
  {
   "cell_type": "code",
   "execution_count": 20,
   "metadata": {
    "collapsed": false
   },
   "outputs": [],
   "source": [
    "# 1. Find duplicates in a string with a function:\n",
    "# ----------------------------------------------------\n",
    "# dups(\"programming\")\n",
    "# g : 2\n",
    "# r : 2\n",
    "# m : 2\n",
    "\n",
    "'''\n",
    " Define a function that:\n",
    " - Accept 1 arugment, which is a string.\n",
    " - Iterates through the string to find duplicate letters. \n",
    " - Prints each duplicate letter and it's corresponding count.\n",
    "     - For example : Input : spoon\n",
    "                     Output : o : 2 \n",
    "'''                    \n",
    "\n",
    "def dups(user_string):\n",
    "    cnt = Counter()\n",
    "    \n",
    "    for char in user_string:\n",
    "        cnt[char] += 1\n",
    "        \n",
    "    cnt = filter(lambda (key,val): val >= 2, cnt.iteritems())\n",
    "    \n",
    "    for tup in cnt:\n",
    "        print tup"
   ]
  },
  {
   "cell_type": "code",
   "execution_count": 21,
   "metadata": {
    "collapsed": false
   },
   "outputs": [
    {
     "name": "stdout",
     "output_type": "stream",
     "text": [
      "('g', 2)\n",
      "('m', 2)\n",
      "('r', 2)\n"
     ]
    }
   ],
   "source": [
    "dups('programming')"
   ]
  },
  {
   "cell_type": "code",
   "execution_count": 37,
   "metadata": {
    "collapsed": false
   },
   "outputs": [],
   "source": [
    "# 2. Count vowels and consonants in a string:\n",
    "# ----------------------------------------------------\n",
    "# countTypes('java')\n",
    "# this has 2 vowels and 2 consonants\n",
    "\n",
    "'''\n",
    "Define a function that:\n",
    " - Accepts 1 arugment, which is a string.\n",
    " - Prints the string.\n",
    " - Iterates though the string to count number of vowels & consonants.\n",
    " - Prints the number of consonants & vowels.\n",
    "      - For example : Input : java\n",
    "                      Output : This string has 2 consonants and 2 vowels\n",
    "'''\n",
    "\n",
    "def counterTypes(user_string):\n",
    "    # prep\n",
    "    alphabet = string.ascii_lowercase\n",
    "    vowels = 'aeiou'\n",
    "    consonants = filter(lambda char: char not in vowels, alphabet)\n",
    "    \n",
    "    print user_string\n",
    "    \n",
    "    d = defaultdict(int)\n",
    "    \n",
    "    for char in user_string:\n",
    "        if char in vowels:\n",
    "            d['vowels'] += 1\n",
    "        elif char in consonants:\n",
    "            d['consonants'] += 1\n",
    "            \n",
    "    print 'This string has {} consonants and {} vowels'.format(d['consonants'],d['vowels']) "
   ]
  },
  {
   "cell_type": "code",
   "execution_count": 39,
   "metadata": {
    "collapsed": false
   },
   "outputs": [
    {
     "name": "stdout",
     "output_type": "stream",
     "text": [
      "nathan\n",
      "This string has 4 consonants and 2 vowels\n"
     ]
    }
   ],
   "source": [
    "counterTypes('nathan')"
   ]
  },
  {
   "cell_type": "code",
   "execution_count": 5,
   "metadata": {
    "collapsed": false
   },
   "outputs": [],
   "source": [
    "# 3. Count number of occurances in a string\n",
    "# ----------------------------------------------------\n",
    "# occurances('java'), also return and note the maximum\n",
    "# a : 2\n",
    "# v : 1\n",
    "# j : 1\n",
    "# the maximum is a @ 2 chars\n",
    "'''\n",
    "Define a function that :\n",
    " - Accepts 1 arugment, which is a string.\n",
    " - Prints the string.\n",
    " - Iterates though the string to count number of occurences of each letter and print it.\n",
    "     - For example : Input : dog\n",
    "                     Output : d : 1 \n",
    "                              o : 1\n",
    "                              g : 1\n",
    "'''\n",
    "\n",
    "def occurances(user_string):\n",
    "    from collections import Counter\n",
    "    \n",
    "    print user_string\n",
    "    \n",
    "    print Counter(user_string).most_common()"
   ]
  },
  {
   "cell_type": "code",
   "execution_count": 4,
   "metadata": {
    "collapsed": false
   },
   "outputs": [],
   "source": [
    "from collections import Counter\n",
    "cnt = Counter()\n",
    "cnt.most_common()"
   ]
  },
  {
   "cell_type": "code",
   "execution_count": null,
   "metadata": {
    "collapsed": true
   },
   "outputs": [],
   "source": [
    "c"
   ]
  },
  {
   "cell_type": "code",
   "execution_count": 6,
   "metadata": {
    "collapsed": false
   },
   "outputs": [
    {
     "name": "stdout",
     "output_type": "stream",
     "text": [
      "nathan\n",
      "[('a', 2), ('n', 2), ('h', 1), ('t', 1)]\n"
     ]
    }
   ],
   "source": [
    "occurances('nathan')"
   ]
  },
  {
   "cell_type": "code",
   "execution_count": 1,
   "metadata": {
    "collapsed": false
   },
   "outputs": [],
   "source": [
    "# 4. Check to see if a word is a palidrome\n",
    "# ----------------------------------------------------\n",
    "# phrases = ['radar','madam','java']\n",
    "# ---- > True, True, False\n",
    "\n",
    "\n",
    "def pal_check(user_list):\n",
    "#     print filter(lambda x: x[::-1]==x, user_list)\n",
    "    print map(lambda x: x[::-1]==x, user_list)"
   ]
  },
  {
   "cell_type": "code",
   "execution_count": 2,
   "metadata": {
    "collapsed": false
   },
   "outputs": [
    {
     "name": "stdout",
     "output_type": "stream",
     "text": [
      "[True, True, False]\n"
     ]
    }
   ],
   "source": [
    "pal_check(['radar','madam','java'])"
   ]
  },
  {
   "cell_type": "code",
   "execution_count": null,
   "metadata": {
    "collapsed": true
   },
   "outputs": [],
   "source": []
  }
 ],
 "metadata": {
  "anaconda-cloud": {},
  "kernelspec": {
   "display_name": "Python 2",
   "language": "python",
   "name": "python2"
  },
  "language_info": {
   "codemirror_mode": {
    "name": "ipython",
    "version": 2
   },
   "file_extension": ".py",
   "mimetype": "text/x-python",
   "name": "python",
   "nbconvert_exporter": "python",
   "pygments_lexer": "ipython2",
   "version": "2.7.12"
  }
 },
 "nbformat": 4,
 "nbformat_minor": 0
}
