{
 "cells": [
  {
   "cell_type": "markdown",
   "metadata": {},
   "source": [
    "### Review problem 5\n",
    "\n",
    "For this problem you will define three functions to \"clean up\" two dictionaries and merge them together.\n",
    "\n",
    "Your first function, called ```string_intlist_cleaner``` should:\n",
    "\n",
    "- Accept one argument which will be a dictionary.\n",
    "- Iterate through the key:value pairs in the dictionary:\n",
    "    - If the key is not a **string**, remove the key:value pair from the dictionary.\n",
    "    - If the value is not a **list**, remove the key:value pair from the dictionary.\n",
    "- Return the \"cleaned\" dictionary.\n",
    "\n",
    "Your second function, called ```int_string_cleaner``` should:\n",
    "\n",
    "- Accept one argument which will be a dictionary.\n",
    "- Iterate through the key:value pairs in the dictionary:\n",
    "    - If the key is not an **integer**, remove the key:value pair from the dictionary.\n",
    "    - If the value is not a **string**, remove the key:value pair from the dictionary.\n",
    "- Return the \"cleaned\" dictionary.\n",
    "\n",
    "Your third function, called ```dict_cleaner``` should:\n",
    "\n",
    "- Accept two arguments which will be dictionaries.\n",
    "- Print the first dictionary.\n",
    "- Print the second dictionary.\n",
    "- Assign the cleaned version of the first dictionary to a variable, calling your function ```string_intlist_cleaner()``` with the first dictionary as an argument.\n",
    "- Assign the cleaned version of the second dictionary to a variable, calling your function ```int_string_cleaner()``` with the second dictionary as an argument.\n",
    "- Combine the two cleaned dictionaries.\n",
    "- Print the combined and cleaned dictionary.\n",
    "- Return the combined and cleaned dictionary.\n",
    "\n",
    "Notes/Hints:\n",
    "\n",
    "- You can use the ```type()``` function to check the type of an object in python. Type names are defined without quotes:\n",
    "    ```python\n",
    "    type(7) == int\n",
    "    type('st') == str\n",
    "    type([1]) == list\n",
    "    type((1,2)) == tuple\n",
    "    type({1:'a'}) == dict\n",
    "    ```"
   ]
  },
  {
   "cell_type": "code",
   "execution_count": 2,
   "metadata": {
    "collapsed": true
   },
   "outputs": [],
   "source": [
    "first_dict = {'A':(1,2), 'B':[1,2,3,4,4], 'C':[0,9], 1:(1,1,1), 12:None, 'D':None, 'E':12.777}\n",
    "second_dict = {'1':('a','b'), 2:{1:23.3}, 3:'four', 4:'five', 'five':['six', 'seven'], 8:'nine'}"
   ]
  },
  {
   "cell_type": "code",
   "execution_count": 4,
   "metadata": {
    "collapsed": true
   },
   "outputs": [],
   "source": [
    "def merge_two_dicts(x, y):\n",
    "    \"\"\"Given two dicts, merge them into a new dict as a shallow copy.\"\"\"\n",
    "    z = x.copy()\n",
    "    z.update(y)\n",
    "    return z"
   ]
  },
  {
   "cell_type": "code",
   "execution_count": 6,
   "metadata": {
    "collapsed": false
   },
   "outputs": [
    {
     "data": {
      "text/plain": [
       "{1: (1, 1, 1),\n",
       " 2: {1: 23.3},\n",
       " 3: 'four',\n",
       " 4: 'five',\n",
       " 8: 'nine',\n",
       " 12: None,\n",
       " '1': ('a', 'b'),\n",
       " 'A': (1, 2),\n",
       " 'B': [1, 2, 3, 4, 4],\n",
       " 'C': [0, 9],\n",
       " 'D': None,\n",
       " 'E': 12.777,\n",
       " 'five': ['six', 'seven']}"
      ]
     },
     "execution_count": 6,
     "metadata": {},
     "output_type": "execute_result"
    }
   ],
   "source": [
    "merge_two_dicts(first_dict, second_dict)"
   ]
  },
  {
   "cell_type": "code",
   "execution_count": 15,
   "metadata": {
    "collapsed": false
   },
   "outputs": [
    {
     "data": {
      "text/plain": [
       "NoneType"
      ]
     },
     "execution_count": 15,
     "metadata": {},
     "output_type": "execute_result"
    }
   ],
   "source": [
    "type(None)"
   ]
  },
  {
   "cell_type": "code",
   "execution_count": 24,
   "metadata": {
    "collapsed": true
   },
   "outputs": [],
   "source": [
    "# Define your three functions here:\n",
    "'''\n",
    "Accept one argument which will be a dictionary.\n",
    "Iterate through the key:value pairs in the dictionary:\n",
    "If the key is not a string, remove the key:value pair from the dictionary.\n",
    "If the value is not a list, remove the key:value pair from the dictionary.\n",
    "Return the \"cleaned\" dictionary.\n",
    "'''\n",
    "def string_intlist_cleaner(d):\n",
    "    for key, value in d.items():\n",
    "        if (not isinstance(key, str)) or (not isinstance(value, list)):\n",
    "            #d.pop(key, None)\n",
    "            del d[key]\n",
    "    return d\n",
    "            "
   ]
  },
  {
   "cell_type": "code",
   "execution_count": 25,
   "metadata": {
    "collapsed": false
   },
   "outputs": [
    {
     "data": {
      "text/plain": [
       "{'B': [1, 2, 3, 4, 4], 'C': [0, 9]}"
      ]
     },
     "execution_count": 25,
     "metadata": {},
     "output_type": "execute_result"
    }
   ],
   "source": [
    "string_intlist_cleaner(first_dict)"
   ]
  },
  {
   "cell_type": "code",
   "execution_count": 12,
   "metadata": {
    "collapsed": true
   },
   "outputs": [],
   "source": [
    "'''Accept one argument which will be a dictionary.\n",
    "Iterate through the key:value pairs in the dictionary:\n",
    "If the key is not an integer, remove the key:value pair from the dictionary.\n",
    "If the value is not a string, remove the key:value pair from the dictionary.\n",
    "Return the \"cleaned\" dictionary.'''\n",
    "def int_string_cleaner(d):\n",
    "    for key, value in d.items():\n",
    "        if (isinstance(key, int) == False) and (isinstance(value, str) == False):\n",
    "            d.pop(key, None)\n",
    "    return d"
   ]
  },
  {
   "cell_type": "code",
   "execution_count": 13,
   "metadata": {
    "collapsed": true
   },
   "outputs": [],
   "source": [
    "'''Accept two arguments which will be dictionaries.\n",
    "Print the first dictionary.\n",
    "Print the second dictionary.\n",
    "Assign the cleaned version of the first dictionary to a variable, calling your function string_intlist_cleaner() with the first dictionary as an argument.\n",
    "Assign the cleaned version of the second dictionary to a variable, calling your function int_string_cleaner() with the second dictionary as an argument.\n",
    "Combine the two cleaned dictionaries.\n",
    "Print the combined and cleaned dictionary.\n",
    "Return the combined and cleaned dictionary.\n",
    "'''\n",
    "def dict_cleaner(d1, d2):\n",
    "    print d1, d2\n",
    "    d1_clean = string_intlist_cleaner(d1)\n",
    "    d2_clean = int_string_cleaner(d2)\n",
    "    d3 = d1_clean.copy()\n",
    "    d3.update(d2_clean)\n",
    "    return d3\n",
    "\n",
    "\n",
    "\n"
   ]
  },
  {
   "cell_type": "code",
   "execution_count": 14,
   "metadata": {
    "collapsed": false
   },
   "outputs": [
    {
     "name": "stdout",
     "output_type": "stream",
     "text": [
      "{'A': (1, 2), 'C': [0, 9], 'B': [1, 2, 3, 4, 4], 'E': 12.777, 'D': None} {2: {1: 23.3}, 3: 'four', 4: 'five', 8: 'nine', '1': ('a', 'b'), 'five': ['six', 'seven']}\n"
     ]
    },
    {
     "data": {
      "text/plain": [
       "{2: {1: 23.3},\n",
       " 3: 'four',\n",
       " 4: 'five',\n",
       " 8: 'nine',\n",
       " 'A': (1, 2),\n",
       " 'B': [1, 2, 3, 4, 4],\n",
       " 'C': [0, 9],\n",
       " 'D': None,\n",
       " 'E': 12.777}"
      ]
     },
     "execution_count": 14,
     "metadata": {},
     "output_type": "execute_result"
    }
   ],
   "source": [
    "dict_cleaner(first_dict, second_dict)"
   ]
  },
  {
   "cell_type": "code",
   "execution_count": null,
   "metadata": {
    "collapsed": true
   },
   "outputs": [],
   "source": []
  }
 ],
 "metadata": {
  "anaconda-cloud": {},
  "kernelspec": {
   "display_name": "Python 2",
   "language": "python",
   "name": "python2"
  },
  "language_info": {
   "codemirror_mode": {
    "name": "ipython",
    "version": 2
   },
   "file_extension": ".py",
   "mimetype": "text/x-python",
   "name": "python",
   "nbconvert_exporter": "python",
   "pygments_lexer": "ipython2",
   "version": "2.7.12"
  }
 },
 "nbformat": 4,
 "nbformat_minor": 0
}
