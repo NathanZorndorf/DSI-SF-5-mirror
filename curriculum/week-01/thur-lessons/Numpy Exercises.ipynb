{
 "cells": [
  {
   "cell_type": "markdown",
   "metadata": {},
   "source": [
    "# Numpy Exercises\n",
    "# ========================="
   ]
  },
  {
   "cell_type": "code",
   "execution_count": 1,
   "metadata": {
    "collapsed": true
   },
   "outputs": [],
   "source": [
    "import numpy as np"
   ]
  },
  {
   "cell_type": "code",
   "execution_count": 3,
   "metadata": {
    "collapsed": false
   },
   "outputs": [],
   "source": [
    "def one():\n",
    "    return np.array(range(100))"
   ]
  },
  {
   "cell_type": "code",
   "execution_count": 46,
   "metadata": {
    "collapsed": true
   },
   "outputs": [],
   "source": [
    "def two():\n",
    "    '''\n",
    "    INPUT: NONE\n",
    "    OUTPUT: A column vector of 100 sequential floats all between 0 and 50. (matrix)\n",
    "    Create a column vector with numpy (100 x 1).\n",
    "    Example:\n",
    "    >>>\n",
    "    >>> cv = two()\n",
    "    >>> print cv\n",
    "    >>> [[  0.        ]\n",
    "         [  0.50505051]\n",
    "         [  1.01010101]\n",
    "         ...\n",
    "          [ 50.        ]]\n",
    "    '''\n",
    "    return np.linspace(0,50,num=100)\n"
   ]
  },
  {
   "cell_type": "code",
   "execution_count": 57,
   "metadata": {
    "collapsed": true
   },
   "outputs": [],
   "source": [
    "def three():\n",
    "    '''\n",
    "    INPUT: NONE\n",
    "    OUTPUT: A 6 x 6 numpy matrix\n",
    "    Create a square 6 by 6 matrix\n",
    "    Example:\n",
    "    >>>\n",
    "    >>> M = three()\n",
    "    >>> print M\n",
    "    >>> [[ 0  1  2  3  4  5]\n",
    "         [ 6  7  8  9 10 11]\n",
    "         [12 13 14 15 16 17]\n",
    "         [18 19 20 21 22 23]\n",
    "         [24 25 26 27 28 29]\n",
    "         [30 31 32 33 34 35]]\n",
    "    '''\n",
    "    return np.arange(36).reshape(6,6)\n",
    "\n"
   ]
  },
  {
   "cell_type": "code",
   "execution_count": 24,
   "metadata": {
    "collapsed": true
   },
   "outputs": [],
   "source": [
    "def four():\n",
    "    '''\n",
    "    INPUT: NONE\n",
    "    OUTPUT: A random 2 x 3 numpy matrix\n",
    "    Create a random 2 x 3 matrix.\n",
    "    You should be able to do this with one command  (look at the numpy random module).\n",
    "    Example:\n",
    "    >>>\n",
    "    >>> M = four()\n",
    "    >>> print M\n",
    "    >>> [[7 8 2]\n",
    "         [9 4 3]]\n",
    "    '''\n",
    "    return np.random.rand(2,3)\n"
   ]
  },
  {
   "cell_type": "code",
   "execution_count": 25,
   "metadata": {
    "collapsed": true
   },
   "outputs": [],
   "source": [
    "def five():\n",
    "    '''\n",
    "    Create a 6 x 6 identity matrix.\n",
    "    INPUT: NONE\n",
    "    OUTPUT: 6 x 6 identity matrix\n",
    "    Example:\n",
    "    >>> I = five()\n",
    "    >>> print I\n",
    "    >>> [[ 1.  0.  0.  0.  0.  0.]\n",
    "         [ 0.  1.  0.  0.  0.  0.]\n",
    "         [ 0.  0.  1.  0.  0.  0.]\n",
    "         [ 0.  0.  0.  1.  0.  0.]\n",
    "         [ 0.  0.  0.  0.  1.  0.]\n",
    "         [ 0.  0.  0.  0.  0.  1.]]\n",
    "    '''\n",
    "    return np.eye(6)\n"
   ]
  },
  {
   "cell_type": "code",
   "execution_count": 64,
   "metadata": {
    "collapsed": true
   },
   "outputs": [],
   "source": [
    "def six():\n",
    "    '''\n",
    "    Create a (10 x 10) matrix with sequential ints 0 through 99.\n",
    "    Example:\n",
    "    >>> print answer\n",
    "    >>>> [[ 0  1  2  3  4  5  6  7  8  9]\n",
    "          [10 11 12 13 14 15 16 17 18 19]\n",
    "          [20 21 22 23 24 25 26 27 28 29]\n",
    "          [30 31 32 33 34 35 36 37 38 39]\n",
    "          [40 41 42 43 44 45 46 47 48 49]\n",
    "          [50 51 52 53 54 55 56 57 58 59]\n",
    "          [60 61 62 63 64 65 66 67 68 69]\n",
    "          [70 71 72 73 74 75 76 77 78 79]\n",
    "          [80 81 82 83 84 85 86 87 88 89]\n",
    "          [90 91 92 93 94 95 96 97 98 99]]\n",
    "    '''\n",
    "#     lst = range(100)\n",
    "#     return np.array([lst[i*10:i*10+10] for i in range(10)])\n",
    "    return np.arange(100).reshape(10,10)"
   ]
  },
  {
   "cell_type": "code",
   "execution_count": 65,
   "metadata": {
    "collapsed": true
   },
   "outputs": [],
   "source": [
    "def seven():\n",
    "    '''\n",
    "    INPUT: Matrix output from function six.\n",
    "    OUTPUT:  First three columns of Matrix from function six.\n",
    "    Call function six() and save it as M,\n",
    "    Return just the first 3 columns of M\n",
    "    Example:\n",
    "    >>> M = six()\n",
    "    >>> print seven(M)\n",
    "    >>> [[ 0  1  2]\n",
    "         [10 11 12]\n",
    "         [20 21 22]\n",
    "         [30 31 32]\n",
    "         [40 41 42]\n",
    "         [50 51 52]\n",
    "         [60 61 62]\n",
    "         [70 71 72]\n",
    "         [80 81 82]\n",
    "         [90 91 92]]\n",
    "    '''\n",
    "    matrix_six = six()\n",
    "    return matrix_six[:,:3]\n",
    "    "
   ]
  },
  {
   "cell_type": "code",
   "execution_count": 66,
   "metadata": {
    "collapsed": true
   },
   "outputs": [],
   "source": [
    "def eight():\n",
    "    '''\n",
    "    INPUT: Matrix output from function six.\n",
    "    OUTPUT:  Last two ROWS of Matrix from function six.\n",
    "    Example:\n",
    "    >>> M = six()\n",
    "    >>> print eight(M)\n",
    "    >>> [[80 81 82 83 84 85 86 87 88 89]\n",
    "         [90 91 92 93 94 95 96 97 98 99]]\n",
    "    '''\n",
    "    matrix_six = six()\n",
    "    return matrix_six[-2: , :]"
   ]
  },
  {
   "cell_type": "markdown",
   "metadata": {},
   "source": [
    "# PART 2: SCALAR OPERATIONS\n",
    "# =========================\n"
   ]
  },
  {
   "cell_type": "code",
   "execution_count": 61,
   "metadata": {
    "collapsed": true
   },
   "outputs": [],
   "source": [
    "def nine():\n",
    "    '''\n",
    "    INPUT: None\n",
    "    OUTPUT: A numpy array with values [ [0,1,2,3,4,5,6,7,8,9] ]\n",
    "    Create this numpy array (called V): [ [0,1,2,3,4,5,6,7,8,9] ]\n",
    "    '''\n",
    "    V = np.array(range(10))\n",
    "    return V\n",
    "    "
   ]
  },
  {
   "cell_type": "code",
   "execution_count": 69,
   "metadata": {
    "collapsed": true
   },
   "outputs": [],
   "source": [
    "def ten(V):\n",
    "    '''\n",
    "    INPUT: V ( matrix from nine() )\n",
    "    OUTPUT: [[ 0.5  1.5  2.5  3.5  4.5  5.5  6.5  7.5  8.5  9.5]]\n",
    "    Do a scalar addition by 0.5 to V.\n",
    "    '''\n",
    "    return V + 0.5\n",
    "    "
   ]
  },
  {
   "cell_type": "code",
   "execution_count": 72,
   "metadata": {
    "collapsed": true
   },
   "outputs": [],
   "source": [
    "def eleven(V):\n",
    "    '''\n",
    "    INPUT: V (matrix from nine() )\n",
    "    Do a scalar multiple by -2.\n",
    "    OUTPUT:  [[  0  -2  -4  -6  -8 -10 -12 -14 -16 -18]]\n",
    "    '''\n",
    "    return V * -2"
   ]
  },
  {
   "cell_type": "code",
   "execution_count": null,
   "metadata": {
    "collapsed": true
   },
   "outputs": [],
   "source": [
    "def twelve(V):\n",
    "    '''\n",
    "    INPUT: V ( matrix from nine() )\n",
    "    OUTPUT: answer = V+B\n",
    "    Create a 1 by 10 vector 'B',\n",
    "    that when added to V,  will yeild the same results as function ten\n",
    "    V + B = [[ 0.5  1.5  2.5  3.5  4.5  5.5  6.5  7.5  8.5  9.5]]\n",
    "    Return your answer\n",
    "    '''\n",
    "     return np.full((1,10),0.5)"
   ]
  },
  {
   "cell_type": "code",
   "execution_count": 67,
   "metadata": {
    "collapsed": true
   },
   "outputs": [],
   "source": [
    "V = np.array(range(10))"
   ]
  },
  {
   "cell_type": "code",
   "execution_count": 70,
   "metadata": {
    "collapsed": false
   },
   "outputs": [
    {
     "data": {
      "text/plain": [
       "array([ -0.,  -2.,  -4.,  -6.,  -8., -10., -12., -14., -16., -18.])"
      ]
     },
     "execution_count": 70,
     "metadata": {},
     "output_type": "execute_result"
    }
   ],
   "source": [
    "V * -2."
   ]
  },
  {
   "cell_type": "code",
   "execution_count": 76,
   "metadata": {
    "collapsed": false
   },
   "outputs": [
    {
     "data": {
      "text/plain": [
       "array([[ 0.5,  0.5,  0.5,  0.5,  0.5,  0.5,  0.5,  0.5,  0.5,  0.5]])"
      ]
     },
     "execution_count": 76,
     "metadata": {},
     "output_type": "execute_result"
    }
   ],
   "source": [
    "np.ones((1,10))/2"
   ]
  },
  {
   "cell_type": "code",
   "execution_count": 78,
   "metadata": {
    "collapsed": false
   },
   "outputs": [
    {
     "data": {
      "text/plain": [
       "array([ 0.5,  0.5,  0.5,  0.5,  0.5,  0.5,  0.5,  0.5,  0.5,  0.5])"
      ]
     },
     "execution_count": 78,
     "metadata": {},
     "output_type": "execute_result"
    }
   ],
   "source": [
    "np.linspace(0.5,0.5,10)"
   ]
  },
  {
   "cell_type": "code",
   "execution_count": 79,
   "metadata": {
    "collapsed": false
   },
   "outputs": [
    {
     "data": {
      "text/plain": [
       "array([[ 0.5,  0.5,  0.5,  0.5,  0.5,  0.5,  0.5,  0.5,  0.5,  0.5]])"
      ]
     },
     "execution_count": 79,
     "metadata": {},
     "output_type": "execute_result"
    }
   ],
   "source": [
    "np.full((1,10),0.5)"
   ]
  },
  {
   "cell_type": "markdown",
   "metadata": {},
   "source": [
    "# PART 3: MATRIX / VECTOR Multiplication\n",
    "# ======================================"
   ]
  },
  {
   "cell_type": "code",
   "execution_count": 106,
   "metadata": {
    "collapsed": true
   },
   "outputs": [],
   "source": [
    "def thirteen():\n",
    "    '''\n",
    "    Create column vector with 3 ints, called as column_vector.\n",
    "    Create a row vector with 3 ints, called as row_vector.\n",
    "    Create 3 x 3 square matrix called and square_matrix:\n",
    "    Return as column_vector, row_vector, square_matrix (IN THAT ORDER)\n",
    "    '''\n",
    "    column_vector = np.reshape(np.arange(0,3) , (3,1))\n",
    "    row_vector = np.arange(10,13)\n",
    "    square_matrix = np.reshape(np.arange(9) , (3,3))\n",
    "    return column_vector, row_vector, square_matrix"
   ]
  },
  {
   "cell_type": "code",
   "execution_count": 107,
   "metadata": {
    "collapsed": true
   },
   "outputs": [],
   "source": [
    "square_matrix = np.reshape(np.arange(9) , (3,3))"
   ]
  },
  {
   "cell_type": "code",
   "execution_count": 108,
   "metadata": {
    "collapsed": false
   },
   "outputs": [
    {
     "data": {
      "text/plain": [
       "array([[0, 1, 2],\n",
       "       [3, 4, 5],\n",
       "       [6, 7, 8]])"
      ]
     },
     "execution_count": 108,
     "metadata": {},
     "output_type": "execute_result"
    }
   ],
   "source": [
    "square_matrix\n"
   ]
  },
  {
   "cell_type": "code",
   "execution_count": 102,
   "metadata": {
    "collapsed": true
   },
   "outputs": [],
   "source": [
    "column_vector = np.reshape(np.arange(0,3) , (1,3))"
   ]
  },
  {
   "cell_type": "code",
   "execution_count": 105,
   "metadata": {
    "collapsed": false
   },
   "outputs": [
    {
     "data": {
      "text/plain": [
       "array([[0],\n",
       "       [1],\n",
       "       [2]])"
      ]
     },
     "execution_count": 105,
     "metadata": {},
     "output_type": "execute_result"
    }
   ],
   "source": [
    "np.reshape(column_vector, (3,1))"
   ]
  },
  {
   "cell_type": "code",
   "execution_count": 98,
   "metadata": {
    "collapsed": false
   },
   "outputs": [],
   "source": [
    "column_vector, row_vector, square_matrix = thirteen()"
   ]
  },
  {
   "cell_type": "code",
   "execution_count": 114,
   "metadata": {
    "collapsed": false
   },
   "outputs": [],
   "source": [
    "row_vector = np.arange(10,13)\n"
   ]
  },
  {
   "cell_type": "code",
   "execution_count": 115,
   "metadata": {
    "collapsed": false
   },
   "outputs": [
    {
     "data": {
      "text/plain": [
       "array([10, 11, 12])"
      ]
     },
     "execution_count": 115,
     "metadata": {},
     "output_type": "execute_result"
    }
   ],
   "source": [
    "row_vector"
   ]
  },
  {
   "cell_type": "code",
   "execution_count": 129,
   "metadata": {
    "collapsed": true
   },
   "outputs": [],
   "source": [
    "\n",
    "def fourteen(column_vector, row_vector):\n",
    "    '''\n",
    "    INPUT: Using column_vector and row_vector from thirteen() as the inputs\n",
    "    OUTPUT:  n x m shaped vector where n is number of rows in row_vector and m is number of cols in col_vec\n",
    "    Perform a vector vector multiply on column_vector and row_vector.\n",
    "    This should output a n x m matrix where n is the number of rows in row_vector and m is the number of columns in column_vector.\n",
    "    Say column_vector is a 2 x 1 and row_vector is a 1 x 3, output will be a 2 x 3 matrix.\n",
    "    '''\n",
    "    column_vector * row_vector\n",
    "    "
   ]
  },
  {
   "cell_type": "code",
   "execution_count": 121,
   "metadata": {
    "collapsed": false
   },
   "outputs": [],
   "source": [
    "column_vector, row_vector, square_matrix = thirteen()\n",
    "n = row_vector.shape[0]\n",
    "m = column_vector.shape[1]"
   ]
  },
  {
   "cell_type": "code",
   "execution_count": 122,
   "metadata": {
    "collapsed": false
   },
   "outputs": [
    {
     "data": {
      "text/plain": [
       "3"
      ]
     },
     "execution_count": 122,
     "metadata": {},
     "output_type": "execute_result"
    }
   ],
   "source": [
    "n"
   ]
  },
  {
   "cell_type": "code",
   "execution_count": 125,
   "metadata": {
    "collapsed": false
   },
   "outputs": [
    {
     "data": {
      "text/plain": [
       "1"
      ]
     },
     "execution_count": 125,
     "metadata": {},
     "output_type": "execute_result"
    }
   ],
   "source": [
    "m"
   ]
  },
  {
   "cell_type": "code",
   "execution_count": 126,
   "metadata": {
    "collapsed": false
   },
   "outputs": [
    {
     "data": {
      "text/plain": [
       "array([[0],\n",
       "       [1],\n",
       "       [2]])"
      ]
     },
     "execution_count": 126,
     "metadata": {},
     "output_type": "execute_result"
    }
   ],
   "source": [
    "column_vector"
   ]
  },
  {
   "cell_type": "code",
   "execution_count": 128,
   "metadata": {
    "collapsed": false
   },
   "outputs": [
    {
     "data": {
      "text/plain": [
       "array([10, 11, 12])"
      ]
     },
     "execution_count": 128,
     "metadata": {},
     "output_type": "execute_result"
    }
   ],
   "source": [
    "row_vector"
   ]
  },
  {
   "cell_type": "code",
   "execution_count": 124,
   "metadata": {
    "collapsed": false
   },
   "outputs": [
    {
     "data": {
      "text/plain": [
       "array([[ 0,  0,  0],\n",
       "       [10, 11, 12],\n",
       "       [20, 22, 24]])"
      ]
     },
     "execution_count": 124,
     "metadata": {},
     "output_type": "execute_result"
    }
   ],
   "source": [
    "column_vector * row_vector"
   ]
  },
  {
   "cell_type": "code",
   "execution_count": 130,
   "metadata": {
    "collapsed": true
   },
   "outputs": [],
   "source": [
    "def fifteen(column_vector, row_vector, square_matrix):\n",
    "    '''\n",
    "    INPUT: Using column_vector and row_vector from thirteen() as the inputs\n",
    "    OUTPUT:  return c_answer, r_answer\n",
    "    c_answer is the matrix multiplication of column_vector and square_matrix\n",
    "    r_answer is the matrix multiplication of row_vector and square_matrix\n",
    "    For both column_vector and row_vector, matrix multiply by square_matrix.\n",
    "    One will have to go on the left and one will have to go on the right.\n",
    "    If it lets you do both directions,\n",
    "        you probably are doing elementwise multiplication instead of matrix multiplication!\n",
    "    Make sure you return c_answer first\n",
    "    return c_answer, r_answer\n",
    "    '''\n",
    "    \n"
   ]
  },
  {
   "cell_type": "code",
   "execution_count": null,
   "metadata": {
    "collapsed": true
   },
   "outputs": [],
   "source": []
  }
 ],
 "metadata": {
  "anaconda-cloud": {},
  "kernelspec": {
   "display_name": "Python [conda env:dsi]",
   "language": "python",
   "name": "conda-env-dsi-py"
  },
  "language_info": {
   "codemirror_mode": {
    "name": "ipython",
    "version": 2
   },
   "file_extension": ".py",
   "mimetype": "text/x-python",
   "name": "python",
   "nbconvert_exporter": "python",
   "pygments_lexer": "ipython2",
   "version": "2.7.12"
  }
 },
 "nbformat": 4,
 "nbformat_minor": 2
}
